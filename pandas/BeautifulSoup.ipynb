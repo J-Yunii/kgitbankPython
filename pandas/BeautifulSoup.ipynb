{
 "cells": [
  {
   "cell_type": "code",
   "execution_count": 16,
   "metadata": {},
   "outputs": [],
   "source": [
    "html_doc  =  \"\"\" \n",
    "<html> <head> 안녕 <title> \n",
    "도마 우스 이야기 </ title> </ head> <body> \n",
    "<p class =\"title \"> <b> 도마뱀 이야기 </ b> </ p>\n",
    "\n",
    "<p class = \"story\"> 한 번에 세 명의 여동생이있었습니다. 이름은 \n",
    "<a href=\"http://example.com/elsie\" class=\"sister\" id=\"link1\"> 엘리 </a>, \n",
    "<a href = \"http://example.com/lacie \"class =\"sister \"id =\"link2 \"> Lacie </a> 및 \n",
    "<a href=\"http://example.com/tillie\" class=\"sister\" id=\"link3\"> 틸리 </a>; \n",
    "우물 바닥에서 살았습니다. </ p>\n",
    "\n",
    "<p class = \"story\"> ... </ p>\n",
    "\"\"\""
   ]
  },
  {
   "cell_type": "code",
   "execution_count": 2,
   "metadata": {},
   "outputs": [],
   "source": [
    "from bs4 import BeautifulSoup"
   ]
  },
  {
   "cell_type": "code",
   "execution_count": 22,
   "metadata": {},
   "outputs": [
    {
     "name": "stdout",
     "output_type": "stream",
     "text": [
      " \n",
      "<html> <head> 안녕 <title> \n",
      "도마 우스 이야기 </ title> </ head> <body> \n",
      "<p class =\"title \"> <b> 도마뱀 이야기 </ b> </ p>\n",
      "\n",
      "<p class = \"story\"> 한 번에 세 명의 여동생이있었습니다. 이름은 \n",
      "<a href=\"http://example.com/elsie\" class=\"sister\" id=\"link1\"> 엘리 </a>, \n",
      "<a href = \"http://example.com/lacie \"class =\"sister \"id =\"link2 \"> Lacie </a> 및 \n",
      "<a href=\"http://example.com/tillie\" class=\"sister\" id=\"link3\"> 틸리 </a>; \n",
      "우물 바닥에서 살았습니다. </ p>\n",
      "\n",
      "<p class = \"story\"> ... </ p>\n",
      "\n"
     ]
    }
   ],
   "source": [
    "print(html_doc)"
   ]
  },
  {
   "cell_type": "code",
   "execution_count": 23,
   "metadata": {},
   "outputs": [],
   "source": [
    "# 두번쨰 인자는 파서\n",
    "# html_doc문자열을 'html.parser'로 구조화시키겠다\n",
    "soup = BeautifulSoup(html_doc, 'html.parser')"
   ]
  },
  {
   "cell_type": "code",
   "execution_count": 5,
   "metadata": {},
   "outputs": [
    {
     "name": "stdout",
     "output_type": "stream",
     "text": [
      "<html>\n",
      " <head>\n",
      "  <title>\n",
      "   도마 우스 이야기\n",
      "  </title>\n",
      " </head>\n",
      " <body>\n",
      "  <p class=\"title\">\n",
      "   <b>\n",
      "    도마뱀 이야기\n",
      "   </b>\n",
      "  </p>\n",
      "  <p class=\"story\">\n",
      "   한 번에 세 명의 여동생이있었습니다. 이름은\n",
      "   <a class=\"sister\" href=\"http://example.com/elsie\" id=\"link1\">\n",
      "    엘리\n",
      "   </a>\n",
      "   ,\n",
      "   <a class=\"sister\" href=\"http://example.com/lacie \" id=\"link2 \">\n",
      "    Lacie\n",
      "   </a>\n",
      "   및\n",
      "   <a class=\"sister\" href=\"http://example.com/tillie\" id=\"link3\">\n",
      "    틸리\n",
      "   </a>\n",
      "   ; \n",
      "우물 바닥에서 살았습니다.\n",
      "  </p>\n",
      "  <p class=\"story\">\n",
      "   ...\n",
      "  </p>\n",
      " </body>\n",
      "</html>\n"
     ]
    }
   ],
   "source": [
    "# html 태그 보기좋게 정렬해줌\n",
    "print(soup.prettify())"
   ]
  },
  {
   "cell_type": "code",
   "execution_count": 7,
   "metadata": {},
   "outputs": [
    {
     "data": {
      "text/plain": [
       "<title> \n",
       "도마 우스 이야기 </title>"
      ]
     },
     "execution_count": 7,
     "metadata": {},
     "output_type": "execute_result"
    }
   ],
   "source": [
    "# title tag의 element를 찾아줌\n",
    "soup.title"
   ]
  },
  {
   "cell_type": "code",
   "execution_count": 8,
   "metadata": {},
   "outputs": [
    {
     "data": {
      "text/plain": [
       "'title'"
      ]
     },
     "execution_count": 8,
     "metadata": {},
     "output_type": "execute_result"
    }
   ],
   "source": [
    "# soup.title은 엘리먼트\n",
    "# 엘리먼트.name=> 엘리먼트의 tag이름을 알려줌\n",
    "soup.title.name"
   ]
  },
  {
   "cell_type": "code",
   "execution_count": 9,
   "metadata": {},
   "outputs": [
    {
     "data": {
      "text/plain": [
       "' \\n도마 우스 이야기 '"
      ]
     },
     "execution_count": 9,
     "metadata": {},
     "output_type": "execute_result"
    }
   ],
   "source": [
    "# soup.title은 엘리먼트\n",
    "# 엘리먼트.string은 내용\n",
    "soup.title.string"
   ]
  },
  {
   "cell_type": "code",
   "execution_count": 12,
   "metadata": {},
   "outputs": [
    {
     "data": {
      "text/plain": [
       "<head> <title> \n",
       "도마 우스 이야기 </title> </head>"
      ]
     },
     "execution_count": 12,
     "metadata": {},
     "output_type": "execute_result"
    }
   ],
   "source": [
    "# 해당 tag 바로 위의 tag 같이 출력\n",
    "soup.title.parent"
   ]
  },
  {
   "cell_type": "code",
   "execution_count": 25,
   "metadata": {},
   "outputs": [],
   "source": [
    "# parent의 string을 뽑아냄\n",
    "soup.title.parent.string"
   ]
  },
  {
   "cell_type": "code",
   "execution_count": 18,
   "metadata": {},
   "outputs": [
    {
     "data": {
      "text/plain": [
       "<p class=\"title\"> <b> 도마뱀 이야기 </b> </p>"
      ]
     },
     "execution_count": 18,
     "metadata": {},
     "output_type": "execute_result"
    }
   ],
   "source": [
    "# p tag가져옴\n",
    "soup.p"
   ]
  },
  {
   "cell_type": "code",
   "execution_count": 19,
   "metadata": {},
   "outputs": [
    {
     "data": {
      "text/plain": [
       "<body>\n",
       "<p class=\"title\"> <b> 도마뱀 이야기 </b> </p>\n",
       "<p class=\"story\"> 한 번에 세 명의 여동생이있었습니다. 이름은 \n",
       "<a class=\"sister\" href=\"http://example.com/elsie\" id=\"link1\"> 엘리 </a>, \n",
       "<a class=\"sister\" href=\"http://example.com/lacie \" id=\"link2 \"> Lacie </a> 및 \n",
       "<a class=\"sister\" href=\"http://example.com/tillie\" id=\"link3\"> 틸리 </a>; \n",
       "우물 바닥에서 살았습니다. </p>\n",
       "<p class=\"story\"> ... </p>\n",
       "</body>"
      ]
     },
     "execution_count": 19,
     "metadata": {},
     "output_type": "execute_result"
    }
   ],
   "source": [
    "soup.body"
   ]
  },
  {
   "cell_type": "code",
   "execution_count": 24,
   "metadata": {},
   "outputs": [
    {
     "data": {
      "text/plain": [
       "<head> 안녕 <title> \n",
       "도마 우스 이야기 </title> </head>"
      ]
     },
     "execution_count": 24,
     "metadata": {},
     "output_type": "execute_result"
    }
   ],
   "source": [
    "soup.head"
   ]
  },
  {
   "cell_type": "code",
   "execution_count": 21,
   "metadata": {},
   "outputs": [
    {
     "data": {
      "text/plain": [
       "<a class=\"sister\" href=\"http://example.com/elsie\" id=\"link1\"> 엘리 </a>"
      ]
     },
     "execution_count": 21,
     "metadata": {},
     "output_type": "execute_result"
    }
   ],
   "source": [
    "soup.a"
   ]
  },
  {
   "cell_type": "code",
   "execution_count": 26,
   "metadata": {},
   "outputs": [
    {
     "data": {
      "text/plain": [
       "['title']"
      ]
     },
     "execution_count": 26,
     "metadata": {},
     "output_type": "execute_result"
    }
   ],
   "source": [
    "# 대괄호 안에 속성값을 적어준다.\n",
    "soup.p['class']"
   ]
  },
  {
   "cell_type": "code",
   "execution_count": 29,
   "metadata": {},
   "outputs": [
    {
     "data": {
      "text/plain": [
       "'link1'"
      ]
     },
     "execution_count": 29,
     "metadata": {},
     "output_type": "execute_result"
    }
   ],
   "source": [
    "soup.a['id']"
   ]
  },
  {
   "cell_type": "code",
   "execution_count": 27,
   "metadata": {},
   "outputs": [
    {
     "data": {
      "text/plain": [
       "'http://example.com/elsie'"
      ]
     },
     "execution_count": 27,
     "metadata": {},
     "output_type": "execute_result"
    }
   ],
   "source": [
    "soup.a['href']"
   ]
  },
  {
   "cell_type": "code",
   "execution_count": 30,
   "metadata": {},
   "outputs": [
    {
     "data": {
      "text/plain": [
       "[<a class=\"sister\" href=\"http://example.com/elsie\" id=\"link1\"> 엘리 </a>,\n",
       " <a class=\"sister\" href=\"http://example.com/lacie \" id=\"link2 \"> Lacie </a>,\n",
       " <a class=\"sister\" href=\"http://example.com/tillie\" id=\"link3\"> 틸리 </a>]"
      ]
     },
     "execution_count": 30,
     "metadata": {},
     "output_type": "execute_result"
    }
   ],
   "source": [
    "soup.find_all('a')"
   ]
  },
  {
   "cell_type": "code",
   "execution_count": 39,
   "metadata": {},
   "outputs": [
    {
     "ename": "TypeError",
     "evalue": "'NoneType' object is not callable",
     "output_type": "error",
     "traceback": [
      "\u001b[0;31m\u001b[0m",
      "\u001b[0;31mTypeError\u001b[0mTraceback (most recent call last)",
      "\u001b[0;32m<ipython-input-39-0d93eacdefab>\u001b[0m in \u001b[0;36m<module>\u001b[0;34m\u001b[0m\n\u001b[0;32m----> 1\u001b[0;31m \u001b[0msoup\u001b[0m\u001b[0;34m.\u001b[0m\u001b[0mfinde_all\u001b[0m\u001b[0;34m(\u001b[0m\u001b[0;34m'title'\u001b[0m\u001b[0;34m)\u001b[0m\u001b[0;34m\u001b[0m\u001b[0;34m\u001b[0m\u001b[0m\n\u001b[0m",
      "\u001b[0;31mTypeError\u001b[0m: 'NoneType' object is not callable"
     ]
    }
   ],
   "source": [
    "soup.finde_all('title')"
   ]
  },
  {
   "cell_type": "code",
   "execution_count": 32,
   "metadata": {},
   "outputs": [
    {
     "data": {
      "text/plain": [
       "<a class=\"sister\" href=\"http://example.com/tillie\" id=\"link3\"> 틸리 </a>"
      ]
     },
     "execution_count": 32,
     "metadata": {},
     "output_type": "execute_result"
    }
   ],
   "source": [
    "soup.find(id='link3')"
   ]
  },
  {
   "cell_type": "code",
   "execution_count": 47,
   "metadata": {},
   "outputs": [
    {
     "name": "stdout",
     "output_type": "stream",
     "text": [
      "link1\n",
      "None\n",
      "엘리\n",
      "a\n",
      "link2 \n",
      "None\n",
      "Lacie\n",
      "a\n",
      "link3\n",
      "None\n",
      "틸리\n",
      "a\n"
     ]
    }
   ],
   "source": [
    "# link는 element가 됨\n",
    "# 대괄호나 get함수로 원하는 값 꺼냄: 딕셔너리 문법\n",
    "for link in soup.find_all('a'):\n",
    "    # 찾는 key가 없으면 오류\n",
    "    print(link['id'])\n",
    "    # 찾는 key가 없으면 none값 리턴\n",
    "    print(link.get('href'))\n",
    "    # strip(): 공백 없앰\n",
    "    print(link.string.strip())\n",
    "    # 태그 이름\n",
    "    print(link.name)"
   ]
  },
  {
   "cell_type": "code",
   "execution_count": 48,
   "metadata": {},
   "outputs": [
    {
     "name": "stdout",
     "output_type": "stream",
     "text": [
      "\n",
      "  안녕  \n",
      "도마 우스 이야기   \n",
      "  도마뱀 이야기  \n",
      " 한 번에 세 명의 여동생이있었습니다. 이름은 \n",
      " 엘리 , \n",
      " Lacie  및 \n",
      " 틸리 ; \n",
      "우물 바닥에서 살았습니다. \n",
      " ... \n",
      "\n"
     ]
    }
   ],
   "source": [
    "# 태그 안의 글자들만 가져온다.\n",
    "print(soup.get_text())"
   ]
  },
  {
   "cell_type": "code",
   "execution_count": 50,
   "metadata": {},
   "outputs": [
    {
     "data": {
      "text/plain": [
       "{'href': 'http://example.com/elsie', 'class': ['sister'], 'id': 'link1'}"
      ]
     },
     "execution_count": 50,
     "metadata": {},
     "output_type": "execute_result"
    }
   ],
   "source": [
    "# 딕셔너리로 리턴\n",
    "# 속성값들 리턴\n",
    "soup.a.attrs"
   ]
  },
  {
   "cell_type": "code",
   "execution_count": 57,
   "metadata": {},
   "outputs": [
    {
     "data": {
      "text/plain": [
       "<a class=\"sister\" href=\"http://example.com/elsie\"> 엘리 </a>"
      ]
     },
     "execution_count": 57,
     "metadata": {},
     "output_type": "execute_result"
    }
   ],
   "source": [
    "# tag's attributes add, remove, modify 가능\n",
    "del soup.a['id']\n",
    "soup.a"
   ]
  },
  {
   "cell_type": "code",
   "execution_count": 59,
   "metadata": {},
   "outputs": [
    {
     "data": {
      "text/plain": [
       "<a class=\"sister\" href=\"http://example.com/elsie\" id=\"link1\"> 엘리 </a>"
      ]
     },
     "execution_count": 59,
     "metadata": {},
     "output_type": "execute_result"
    }
   ],
   "source": [
    "soup.a['id']='link1'\n",
    "soup.a"
   ]
  },
  {
   "cell_type": "code",
   "execution_count": 65,
   "metadata": {},
   "outputs": [
    {
     "data": {
      "text/plain": [
       "[<a class=\"sister body\" href=\"http://example.com/elsie\" id=\"link1\"> 엘리 </a>,\n",
       " <a class=\"sister\" href=\"http://example.com/lacie \" id=\"link2 \"> Lacie </a>,\n",
       " <a class=\"sister\" href=\"http://example.com/tillie\" id=\"link3\"> 틸리 </a>]"
      ]
     },
     "execution_count": 65,
     "metadata": {},
     "output_type": "execute_result"
    }
   ],
   "source": [
    "soup.find_all('a')"
   ]
  },
  {
   "cell_type": "code",
   "execution_count": 61,
   "metadata": {},
   "outputs": [
    {
     "data": {
      "text/plain": [
       "{'class': ['title']}"
      ]
     },
     "execution_count": 61,
     "metadata": {},
     "output_type": "execute_result"
    }
   ],
   "source": [
    "soup.p.attrs"
   ]
  },
  {
   "cell_type": "code",
   "execution_count": 63,
   "metadata": {},
   "outputs": [
    {
     "data": {
      "text/plain": [
       "{'href': 'http://example.com/elsie',\n",
       " 'class': ['sister', 'body'],\n",
       " 'id': 'link1'}"
      ]
     },
     "execution_count": 63,
     "metadata": {},
     "output_type": "execute_result"
    }
   ],
   "source": [
    "soup.a['class'] = ['sister','body']\n",
    "soup.a.attrs"
   ]
  },
  {
   "cell_type": "code",
   "execution_count": 64,
   "metadata": {},
   "outputs": [
    {
     "data": {
      "text/plain": [
       "['sister', 'body']"
      ]
     },
     "execution_count": 64,
     "metadata": {},
     "output_type": "execute_result"
    }
   ],
   "source": [
    "soup.a['class']"
   ]
  },
  {
   "cell_type": "code",
   "execution_count": 67,
   "metadata": {},
   "outputs": [
    {
     "data": {
      "text/plain": [
       "'body strikeout'"
      ]
     },
     "execution_count": 67,
     "metadata": {},
     "output_type": "execute_result"
    }
   ],
   "source": [
    "# beaoutifulsoup 개체 생성 strikeout\n",
    "no_list_soup = BeautifulSoup('<p class=\"body strikeout\"></p>', 'html', multi_valued_attributes=None)\n",
    "no_list_soup.p['class']"
   ]
  },
  {
   "cell_type": "code",
   "execution_count": 70,
   "metadata": {},
   "outputs": [
    {
     "data": {
      "text/plain": [
       "['sister', 'body']"
      ]
     },
     "execution_count": 70,
     "metadata": {},
     "output_type": "execute_result"
    }
   ],
   "source": [
    "soup.a.get_attribute_list('class')"
   ]
  },
  {
   "cell_type": "code",
   "execution_count": 72,
   "metadata": {},
   "outputs": [
    {
     "data": {
      "text/plain": [
       "['body strikeout']"
      ]
     },
     "execution_count": 72,
     "metadata": {},
     "output_type": "execute_result"
    }
   ],
   "source": [
    "no_list_soup.p.get_attribute_list('class')"
   ]
  },
  {
   "cell_type": "code",
   "execution_count": 80,
   "metadata": {},
   "outputs": [
    {
     "data": {
      "text/plain": [
       "['body', 'strikeout']"
      ]
     },
     "execution_count": 80,
     "metadata": {},
     "output_type": "execute_result"
    }
   ],
   "source": [
    "# 파서 종류마다 다르게 처리하는 것 감안하기.\n",
    "# If you parse a document as XML, there are no multi-valued attributes:\n",
    "class_is_multi= { '*' : 'class'}\n",
    "xml_soup = BeautifulSoup('<p class=\"body strikeout\"></p>', 'xml', multi_valued_attributes=class_is_multi)\n",
    "xml_soup.p['class']"
   ]
  },
  {
   "cell_type": "code",
   "execution_count": 82,
   "metadata": {},
   "outputs": [
    {
     "data": {
      "text/plain": [
       "True"
      ]
     },
     "execution_count": 82,
     "metadata": {},
     "output_type": "execute_result"
    }
   ],
   "source": [
    "xml_soup.is_xml"
   ]
  },
  {
   "cell_type": "code",
   "execution_count": 78,
   "metadata": {},
   "outputs": [
    {
     "data": {
      "text/plain": [
       "False"
      ]
     },
     "execution_count": 78,
     "metadata": {},
     "output_type": "execute_result"
    }
   ],
   "source": [
    "soup.is_xml"
   ]
  },
  {
   "cell_type": "code",
   "execution_count": 85,
   "metadata": {},
   "outputs": [
    {
     "name": "stdout",
     "output_type": "stream",
     "text": [
      "<?xml version=\"1.0\" encoding=\"utf-8\"?>\n",
      "<document><content/><footer>Here's the footer</footer></document>\n"
     ]
    }
   ],
   "source": [
    "# html 파서는오류뜸\n",
    "doc = BeautifulSoup(\"<document><content/>INSERT FOOTER HERE</document\", \"html.parser\")\n",
    "# 얘는 xml html 문법 둘 다 만족\n",
    "footer = BeautifulSoup(\"<footer>Here's the footer</footer>\", \"html.parser\")\n",
    "doc.find(text=\"INSERT FOOTER HERE\").replace_with(footer)\n",
    "# u'INSERT FOOTER HERE'\n",
    "print(doc)\n",
    "# <?xml version=\"1.0\" encoding=\"utf-8\"?>\n",
    "# <document><content/><footer>Here's the footer</footer></document>"
   ]
  },
  {
   "cell_type": "code",
   "execution_count": 91,
   "metadata": {},
   "outputs": [
    {
     "data": {
      "text/plain": [
       "'Hey, buddy. Want to buy a used parser?'"
      ]
     },
     "execution_count": 91,
     "metadata": {},
     "output_type": "execute_result"
    }
   ],
   "source": [
    "markup = \"<b><!--Hey, buddy. Want to buy a used parser?--></b>\"\n",
    "soup = BeautifulSoup(markup)\n",
    "# string이 없으면 comment 전달\n",
    "# string이 있으면 nonetype 던달\n",
    "comment = soup.b.string\n",
    "comment"
   ]
  },
  {
   "cell_type": "code",
   "execution_count": 92,
   "metadata": {},
   "outputs": [
    {
     "data": {
      "text/plain": [
       "bs4.element.Comment"
      ]
     },
     "execution_count": 92,
     "metadata": {},
     "output_type": "execute_result"
    }
   ],
   "source": [
    "type(comment)"
   ]
  },
  {
   "cell_type": "code",
   "execution_count": 94,
   "metadata": {},
   "outputs": [
    {
     "data": {
      "text/plain": [
       "1"
      ]
     },
     "execution_count": 94,
     "metadata": {},
     "output_type": "execute_result"
    }
   ],
   "source": [
    "len(soup.contents)"
   ]
  },
  {
   "cell_type": "code",
   "execution_count": 133,
   "metadata": {},
   "outputs": [],
   "source": [
    "html_doc = \"\"\"\n",
    "<html><head><title>The Dormouse's story</title></head>\n",
    "<body>\n",
    "<p class=\"title\"><b>The Dormouse's story</b></p>\n",
    "\n",
    "<p class=\"story\"> Once upon a time there were three little sisters; and their names were\n",
    "<a href=\"http://example.com/elsie\" class=\"sister\" id=\"link1\">Elsie</a>,\n",
    "<a href=\"http://example.com/lacie\" class=\"sister\" id=\"link2\">Lacie</a> and\n",
    "<a href=\"http://example.com/tillie\" class=\"sister\" id=\"link3\">Tillie</a>;\n",
    "and they lived at the bottom of a well.</p>\n",
    "\n",
    "<p class=\"story\">...</p>\n",
    "\"\"\"\n",
    "\n",
    "from bs4 import BeautifulSoup\n",
    "soup = BeautifulSoup(html_doc, 'html.parser')"
   ]
  },
  {
   "cell_type": "code",
   "execution_count": 134,
   "metadata": {},
   "outputs": [
    {
     "data": {
      "text/plain": [
       "[\"The Dormouse's story\"]"
      ]
     },
     "execution_count": 134,
     "metadata": {},
     "output_type": "execute_result"
    }
   ],
   "source": [
    "head_tag = soup.head\n",
    "head_tag\n",
    "# <head><title>The Dormouse's story</title></head>\n",
    "\n",
    "head_tag.contents\n",
    "#[<title>The Dormouse's story</title>]\n",
    "\n",
    "title_tag = head_tag.contents[0]\n",
    "title_tag\n",
    "# <title>The Dormouse's story</title>\n",
    "title_tag.contents\n",
    "# [u'The Dormouse's story'"
   ]
  },
  {
   "cell_type": "code",
   "execution_count": 100,
   "metadata": {},
   "outputs": [],
   "source": [
    "body_tag = soup.body\n",
    "body_tag"
   ]
  },
  {
   "cell_type": "code",
   "execution_count": 101,
   "metadata": {},
   "outputs": [
    {
     "data": {
      "text/plain": [
       "7"
      ]
     },
     "execution_count": 101,
     "metadata": {},
     "output_type": "execute_result"
    }
   ],
   "source": [
    "# tag 갯수\n",
    "len(body_tag)"
   ]
  },
  {
   "cell_type": "code",
   "execution_count": 103,
   "metadata": {},
   "outputs": [
    {
     "data": {
      "text/plain": [
       "\"The Dormouse's story\""
      ]
     },
     "execution_count": 103,
     "metadata": {},
     "output_type": "execute_result"
    }
   ],
   "source": [
    "# 인덱스로 접근\n",
    "body_tag.contents[1].string"
   ]
  },
  {
   "cell_type": "code",
   "execution_count": 105,
   "metadata": {},
   "outputs": [
    {
     "data": {
      "text/plain": [
       "list"
      ]
     },
     "execution_count": 105,
     "metadata": {},
     "output_type": "execute_result"
    }
   ],
   "source": [
    "type(body_tag.contents)"
   ]
  },
  {
   "cell_type": "code",
   "execution_count": 106,
   "metadata": {},
   "outputs": [
    {
     "data": {
      "text/plain": [
       "bs4.element.Tag"
      ]
     },
     "execution_count": 106,
     "metadata": {},
     "output_type": "execute_result"
    }
   ],
   "source": [
    "type(body_tag)"
   ]
  },
  {
   "cell_type": "code",
   "execution_count": 116,
   "metadata": {},
   "outputs": [
    {
     "name": "stdout",
     "output_type": "stream",
     "text": [
      "<list_iterator object at 0x7fa9cc7e2c50>\n"
     ]
    }
   ],
   "source": [
    "print(body_tag.children)"
   ]
  },
  {
   "cell_type": "code",
   "execution_count": 107,
   "metadata": {},
   "outputs": [
    {
     "data": {
      "text/plain": [
       "<list_iterator at 0x7fa9c7c8ea90>"
      ]
     },
     "execution_count": 107,
     "metadata": {},
     "output_type": "execute_result"
    }
   ],
   "source": [
    "body_tag.children"
   ]
  },
  {
   "cell_type": "code",
   "execution_count": 117,
   "metadata": {},
   "outputs": [
    {
     "data": {
      "text/plain": [
       "['\\n',\n",
       " <p class=\"title\"><b>The Dormouse's story</b></p>,\n",
       " '\\n',\n",
       " <p class=\"story\">Once upon a time there were three little sisters; and their names were\n",
       " <a class=\"sister\" href=\"http://example.com/elsie\" id=\"link1\">Elsie</a>,\n",
       " <a class=\"sister\" href=\"http://example.com/lacie\" id=\"link2\">Lacie</a> and\n",
       " <a class=\"sister\" href=\"http://example.com/tillie\" id=\"link3\">Tillie</a>;\n",
       " and they lived at the bottom of a well.</p>,\n",
       " '\\n',\n",
       " <p class=\"story\">...</p>,\n",
       " '\\n']"
      ]
     },
     "execution_count": 117,
     "metadata": {},
     "output_type": "execute_result"
    }
   ],
   "source": [
    "# iterator != list\n",
    "list(body_tag.children)"
   ]
  },
  {
   "cell_type": "code",
   "execution_count": 115,
   "metadata": {},
   "outputs": [
    {
     "name": "stdout",
     "output_type": "stream",
     "text": [
      "<class 'bs4.element.NavigableString'>\n",
      "\n",
      "\n",
      "------------------------------\n",
      "<class 'bs4.element.Tag'>\n",
      "<p class=\"title\"><b>The Dormouse's story</b></p>\n",
      "------------------------------\n",
      "<class 'bs4.element.NavigableString'>\n",
      "\n",
      "\n",
      "------------------------------\n",
      "<class 'bs4.element.Tag'>\n",
      "<p class=\"story\">Once upon a time there were three little sisters; and their names were\n",
      "<a class=\"sister\" href=\"http://example.com/elsie\" id=\"link1\">Elsie</a>,\n",
      "<a class=\"sister\" href=\"http://example.com/lacie\" id=\"link2\">Lacie</a> and\n",
      "<a class=\"sister\" href=\"http://example.com/tillie\" id=\"link3\">Tillie</a>;\n",
      "and they lived at the bottom of a well.</p>\n",
      "------------------------------\n",
      "<class 'bs4.element.NavigableString'>\n",
      "\n",
      "\n",
      "------------------------------\n",
      "<class 'bs4.element.Tag'>\n",
      "<p class=\"story\">...</p>\n",
      "------------------------------\n",
      "<class 'bs4.element.NavigableString'>\n",
      "\n",
      "\n",
      "------------------------------\n"
     ]
    }
   ],
   "source": [
    "# 자식노드들을 하나씩 출력\n",
    "# children은 반복문으로 하나씩 빼냄\n",
    "# contents랑 비슷함\n",
    "for child in body_tag.children:\n",
    "    print(type(child))\n",
    "    print(child)\n",
    "    print('-'*30)"
   ]
  },
  {
   "cell_type": "code",
   "execution_count": 114,
   "metadata": {},
   "outputs": [
    {
     "name": "stdout",
     "output_type": "stream",
     "text": [
      "<class 'bs4.element.NavigableString'>\n",
      "\n",
      "\n",
      "------------------------------\n",
      "<class 'bs4.element.Tag'>\n",
      "<p class=\"title\"><b>The Dormouse's story</b></p>\n",
      "------------------------------\n",
      "<class 'bs4.element.Tag'>\n",
      "<b>The Dormouse's story</b>\n",
      "------------------------------\n",
      "<class 'bs4.element.NavigableString'>\n",
      "The Dormouse's story\n",
      "------------------------------\n",
      "<class 'bs4.element.NavigableString'>\n",
      "\n",
      "\n",
      "------------------------------\n",
      "<class 'bs4.element.Tag'>\n",
      "<p class=\"story\">Once upon a time there were three little sisters; and their names were\n",
      "<a class=\"sister\" href=\"http://example.com/elsie\" id=\"link1\">Elsie</a>,\n",
      "<a class=\"sister\" href=\"http://example.com/lacie\" id=\"link2\">Lacie</a> and\n",
      "<a class=\"sister\" href=\"http://example.com/tillie\" id=\"link3\">Tillie</a>;\n",
      "and they lived at the bottom of a well.</p>\n",
      "------------------------------\n",
      "<class 'bs4.element.NavigableString'>\n",
      "Once upon a time there were three little sisters; and their names were\n",
      "\n",
      "------------------------------\n",
      "<class 'bs4.element.Tag'>\n",
      "<a class=\"sister\" href=\"http://example.com/elsie\" id=\"link1\">Elsie</a>\n",
      "------------------------------\n",
      "<class 'bs4.element.NavigableString'>\n",
      "Elsie\n",
      "------------------------------\n",
      "<class 'bs4.element.NavigableString'>\n",
      ",\n",
      "\n",
      "------------------------------\n",
      "<class 'bs4.element.Tag'>\n",
      "<a class=\"sister\" href=\"http://example.com/lacie\" id=\"link2\">Lacie</a>\n",
      "------------------------------\n",
      "<class 'bs4.element.NavigableString'>\n",
      "Lacie\n",
      "------------------------------\n",
      "<class 'bs4.element.NavigableString'>\n",
      " and\n",
      "\n",
      "------------------------------\n",
      "<class 'bs4.element.Tag'>\n",
      "<a class=\"sister\" href=\"http://example.com/tillie\" id=\"link3\">Tillie</a>\n",
      "------------------------------\n",
      "<class 'bs4.element.NavigableString'>\n",
      "Tillie\n",
      "------------------------------\n",
      "<class 'bs4.element.NavigableString'>\n",
      ";\n",
      "and they lived at the bottom of a well.\n",
      "------------------------------\n",
      "<class 'bs4.element.NavigableString'>\n",
      "\n",
      "\n",
      "------------------------------\n",
      "<class 'bs4.element.Tag'>\n",
      "<p class=\"story\">...</p>\n",
      "------------------------------\n",
      "<class 'bs4.element.NavigableString'>\n",
      "...\n",
      "------------------------------\n",
      "<class 'bs4.element.NavigableString'>\n",
      "\n",
      "\n",
      "------------------------------\n"
     ]
    }
   ],
   "source": [
    "# 쌓여진 안의 tag들을 모두 찾아서 반영\n",
    "# children은 한 단계만\n",
    "for child in body_tag.descendants:\n",
    "    print(type(child))\n",
    "    print(child)\n",
    "    print('-'*30)"
   ]
  },
  {
   "cell_type": "code",
   "execution_count": 119,
   "metadata": {},
   "outputs": [
    {
     "data": {
      "text/plain": [
       "<title>The Dormouse's story</title>"
      ]
     },
     "execution_count": 119,
     "metadata": {},
     "output_type": "execute_result"
    }
   ],
   "source": [
    "title_tag = soup.title\n",
    "title_tag"
   ]
  },
  {
   "cell_type": "code",
   "execution_count": 120,
   "metadata": {},
   "outputs": [
    {
     "data": {
      "text/plain": [
       "\"The Dormouse's story\""
      ]
     },
     "execution_count": 120,
     "metadata": {},
     "output_type": "execute_result"
    }
   ],
   "source": [
    "title_tag.string"
   ]
  },
  {
   "cell_type": "code",
   "execution_count": 122,
   "metadata": {},
   "outputs": [
    {
     "data": {
      "text/plain": [
       "<body>\n",
       "<p class=\"title\"><b>The Dormouse's story</b></p>\n",
       "<p class=\"story\">Once upon a time there were three little sisters; and their names were\n",
       "<a class=\"sister\" href=\"http://example.com/elsie\" id=\"link1\">Elsie</a>,\n",
       "<a class=\"sister\" href=\"http://example.com/lacie\" id=\"link2\">Lacie</a> and\n",
       "<a class=\"sister\" href=\"http://example.com/tillie\" id=\"link3\">Tillie</a>;\n",
       "and they lived at the bottom of a well.</p>\n",
       "<p class=\"story\">...</p>\n",
       "</body>"
      ]
     },
     "execution_count": 122,
     "metadata": {},
     "output_type": "execute_result"
    }
   ],
   "source": [
    "body_tag = soup.body\n",
    "body_tag"
   ]
  },
  {
   "cell_type": "code",
   "execution_count": 123,
   "metadata": {},
   "outputs": [],
   "source": [
    "# 태그들과 섞여있으면 출력 안됨\n",
    "body_tag.string"
   ]
  },
  {
   "cell_type": "code",
   "execution_count": 124,
   "metadata": {},
   "outputs": [
    {
     "data": {
      "text/plain": [
       "<generator object Tag._all_strings at 0x7fa9c7a7d150>"
      ]
     },
     "execution_count": 124,
     "metadata": {},
     "output_type": "execute_result"
    }
   ],
   "source": [
    "title_tag.strings"
   ]
  },
  {
   "cell_type": "code",
   "execution_count": 130,
   "metadata": {},
   "outputs": [
    {
     "data": {
      "text/plain": [
       "[\"The Dormouse's story\"]"
      ]
     },
     "execution_count": 130,
     "metadata": {},
     "output_type": "execute_result"
    }
   ],
   "source": [
    "list(title_tag.strings)"
   ]
  },
  {
   "cell_type": "code",
   "execution_count": 135,
   "metadata": {},
   "outputs": [
    {
     "data": {
      "text/plain": [
       "['\\n',\n",
       " \"The Dormouse's story\",\n",
       " '\\n',\n",
       " 'Once upon a time there were three little sisters; and their names were\\n',\n",
       " 'Elsie',\n",
       " ',\\n',\n",
       " 'Lacie',\n",
       " ' and\\n',\n",
       " 'Tillie',\n",
       " ';\\nand they lived at the bottom of a well.',\n",
       " '\\n',\n",
       " '...',\n",
       " '\\n']"
      ]
     },
     "execution_count": 135,
     "metadata": {},
     "output_type": "execute_result"
    }
   ],
   "source": [
    "# contents는 element와 글자 모두 가져옴\n",
    "# strings는 글자만\n",
    "list(body_tag.strings)"
   ]
  },
  {
   "cell_type": "code",
   "execution_count": 136,
   "metadata": {},
   "outputs": [
    {
     "data": {
      "text/plain": [
       "[\"The Dormouse's story\",\n",
       " 'Once upon a time there were three little sisters; and their names were',\n",
       " 'Elsie',\n",
       " ',',\n",
       " 'Lacie',\n",
       " 'and',\n",
       " 'Tillie',\n",
       " ';\\nand they lived at the bottom of a well.',\n",
       " '...']"
      ]
     },
     "execution_count": 136,
     "metadata": {},
     "output_type": "execute_result"
    }
   ],
   "source": [
    "# 개행문자 제거\n",
    "list(body_tag.stripped_strings)"
   ]
  },
  {
   "cell_type": "code",
   "execution_count": 137,
   "metadata": {},
   "outputs": [
    {
     "data": {
      "text/plain": [
       "<a class=\"sister\" href=\"http://example.com/elsie\" id=\"link1\">Elsie</a>"
      ]
     },
     "execution_count": 137,
     "metadata": {},
     "output_type": "execute_result"
    }
   ],
   "source": [
    "link=soup.a\n",
    "link"
   ]
  },
  {
   "cell_type": "code",
   "execution_count": 138,
   "metadata": {},
   "outputs": [
    {
     "data": {
      "text/plain": [
       "[<p class=\"story\"> Once upon a time there were three little sisters; and their names were\n",
       " <a class=\"sister\" href=\"http://example.com/elsie\" id=\"link1\">Elsie</a>,\n",
       " <a class=\"sister\" href=\"http://example.com/lacie\" id=\"link2\">Lacie</a> and\n",
       " <a class=\"sister\" href=\"http://example.com/tillie\" id=\"link3\">Tillie</a>;\n",
       " and they lived at the bottom of a well.</p>, <body>\n",
       " <p class=\"title\"><b>The Dormouse's story</b></p>\n",
       " <p class=\"story\"> Once upon a time there were three little sisters; and their names were\n",
       " <a class=\"sister\" href=\"http://example.com/elsie\" id=\"link1\">Elsie</a>,\n",
       " <a class=\"sister\" href=\"http://example.com/lacie\" id=\"link2\">Lacie</a> and\n",
       " <a class=\"sister\" href=\"http://example.com/tillie\" id=\"link3\">Tillie</a>;\n",
       " and they lived at the bottom of a well.</p>\n",
       " <p class=\"story\">...</p>\n",
       " </body>, <html><head><title>The Dormouse's story</title></head>\n",
       " <body>\n",
       " <p class=\"title\"><b>The Dormouse's story</b></p>\n",
       " <p class=\"story\"> Once upon a time there were three little sisters; and their names were\n",
       " <a class=\"sister\" href=\"http://example.com/elsie\" id=\"link1\">Elsie</a>,\n",
       " <a class=\"sister\" href=\"http://example.com/lacie\" id=\"link2\">Lacie</a> and\n",
       " <a class=\"sister\" href=\"http://example.com/tillie\" id=\"link3\">Tillie</a>;\n",
       " and they lived at the bottom of a well.</p>\n",
       " <p class=\"story\">...</p>\n",
       " </body></html>, \n",
       " <html><head><title>The Dormouse's story</title></head>\n",
       " <body>\n",
       " <p class=\"title\"><b>The Dormouse's story</b></p>\n",
       " <p class=\"story\"> Once upon a time there were three little sisters; and their names were\n",
       " <a class=\"sister\" href=\"http://example.com/elsie\" id=\"link1\">Elsie</a>,\n",
       " <a class=\"sister\" href=\"http://example.com/lacie\" id=\"link2\">Lacie</a> and\n",
       " <a class=\"sister\" href=\"http://example.com/tillie\" id=\"link3\">Tillie</a>;\n",
       " and they lived at the bottom of a well.</p>\n",
       " <p class=\"story\">...</p>\n",
       " </body></html>]"
      ]
     },
     "execution_count": 138,
     "metadata": {},
     "output_type": "execute_result"
    }
   ],
   "source": [
    "# link = soup.a\n",
    "list(link.parents)"
   ]
  },
  {
   "cell_type": "code",
   "execution_count": 143,
   "metadata": {},
   "outputs": [
    {
     "name": "stdout",
     "output_type": "stream",
     "text": [
      "<p class=\"story\"> Once upon a time there were three little sisters; and their names were\n",
      "<a class=\"sister\" href=\"http://example.com/elsie\" id=\"link1\">Elsie</a>,\n",
      "<a class=\"sister\" href=\"http://example.com/lacie\" id=\"link2\">Lacie</a> and\n",
      "<a class=\"sister\" href=\"http://example.com/tillie\" id=\"link3\">Tillie</a>;\n",
      "and they lived at the bottom of a well.</p>\n",
      "부모태그 이름은 p\n",
      "------------------------------\n",
      "<body>\n",
      "<p class=\"title\"><b>The Dormouse's story</b></p>\n",
      "<p class=\"story\"> Once upon a time there were three little sisters; and their names were\n",
      "<a class=\"sister\" href=\"http://example.com/elsie\" id=\"link1\">Elsie</a>,\n",
      "<a class=\"sister\" href=\"http://example.com/lacie\" id=\"link2\">Lacie</a> and\n",
      "<a class=\"sister\" href=\"http://example.com/tillie\" id=\"link3\">Tillie</a>;\n",
      "and they lived at the bottom of a well.</p>\n",
      "<p class=\"story\">...</p>\n",
      "</body>\n",
      "부모태그 이름은 body\n",
      "------------------------------\n",
      "<html><head><title>The Dormouse's story</title></head>\n",
      "<body>\n",
      "<p class=\"title\"><b>The Dormouse's story</b></p>\n",
      "<p class=\"story\"> Once upon a time there were three little sisters; and their names were\n",
      "<a class=\"sister\" href=\"http://example.com/elsie\" id=\"link1\">Elsie</a>,\n",
      "<a class=\"sister\" href=\"http://example.com/lacie\" id=\"link2\">Lacie</a> and\n",
      "<a class=\"sister\" href=\"http://example.com/tillie\" id=\"link3\">Tillie</a>;\n",
      "and they lived at the bottom of a well.</p>\n",
      "<p class=\"story\">...</p>\n",
      "</body></html>\n",
      "부모태그 이름은 html\n",
      "------------------------------\n",
      "\n",
      "<html><head><title>The Dormouse's story</title></head>\n",
      "<body>\n",
      "<p class=\"title\"><b>The Dormouse's story</b></p>\n",
      "<p class=\"story\"> Once upon a time there were three little sisters; and their names were\n",
      "<a class=\"sister\" href=\"http://example.com/elsie\" id=\"link1\">Elsie</a>,\n",
      "<a class=\"sister\" href=\"http://example.com/lacie\" id=\"link2\">Lacie</a> and\n",
      "<a class=\"sister\" href=\"http://example.com/tillie\" id=\"link3\">Tillie</a>;\n",
      "and they lived at the bottom of a well.</p>\n",
      "<p class=\"story\">...</p>\n",
      "</body></html>\n",
      "부모태그 이름은 [document]\n",
      "------------------------------\n"
     ]
    }
   ],
   "source": [
    "# link = soup.a\n",
    "# link의 부모 태그들 모두 나옴\n",
    "for parent in link.parents:\n",
    "    print(parent)\n",
    "    if parent is None:\n",
    "        print(parent)\n",
    "        print('*'*30)\n",
    "    else:\n",
    "        print('부모태그 이름은 '+ parent.name)\n",
    "        print('-'*30)"
   ]
  },
  {
   "cell_type": "code",
   "execution_count": 144,
   "metadata": {},
   "outputs": [
    {
     "name": "stdout",
     "output_type": "stream",
     "text": [
      "<html>\n",
      " <body>\n",
      "  <a>\n",
      "   <b>\n",
      "    text1\n",
      "   </b>\n",
      "   <c>\n",
      "    text2\n",
      "   </c>\n",
      "  </a>\n",
      " </body>\n",
      "</html>\n"
     ]
    }
   ],
   "source": [
    "sibling_soup = BeautifulSoup(\"<a><b>text1</b><c>text2</c></b></a>\")\n",
    "print(sibling_soup.prettify())"
   ]
  },
  {
   "cell_type": "code",
   "execution_count": 145,
   "metadata": {},
   "outputs": [
    {
     "data": {
      "text/plain": [
       "<c>text2</c>"
      ]
     },
     "execution_count": 145,
     "metadata": {},
     "output_type": "execute_result"
    }
   ],
   "source": [
    "# You can use .next_sibling/.previous_sibling to navigate between page elements\n",
    "# that are on the same level of the parse tree:\n",
    "sibling_soup.b.next_sibling"
   ]
  },
  {
   "cell_type": "code",
   "execution_count": 146,
   "metadata": {},
   "outputs": [
    {
     "data": {
      "text/plain": [
       "<b>text1</b>"
      ]
     },
     "execution_count": 146,
     "metadata": {},
     "output_type": "execute_result"
    }
   ],
   "source": [
    "sibling_soup.c.previous_sibling"
   ]
  },
  {
   "cell_type": "code",
   "execution_count": 148,
   "metadata": {},
   "outputs": [
    {
     "data": {
      "text/plain": [
       "<p class=\"title\"><b>The Dormouse's story</b></p>"
      ]
     },
     "execution_count": 148,
     "metadata": {},
     "output_type": "execute_result"
    }
   ],
   "source": [
    "tag = soup.p\n",
    "tag"
   ]
  },
  {
   "cell_type": "code",
   "execution_count": 150,
   "metadata": {},
   "outputs": [
    {
     "data": {
      "text/plain": [
       "'\\n'"
      ]
     },
     "execution_count": 150,
     "metadata": {},
     "output_type": "execute_result"
    }
   ],
   "source": [
    "tag.next_sibling"
   ]
  },
  {
   "cell_type": "code",
   "execution_count": 151,
   "metadata": {},
   "outputs": [
    {
     "data": {
      "text/plain": [
       "<a class=\"sister\" href=\"http://example.com/elsie\" id=\"link1\">Elsie</a>"
      ]
     },
     "execution_count": 151,
     "metadata": {},
     "output_type": "execute_result"
    }
   ],
   "source": [
    "tag = soup.a\n",
    "tag"
   ]
  },
  {
   "cell_type": "code",
   "execution_count": 152,
   "metadata": {},
   "outputs": [
    {
     "data": {
      "text/plain": [
       "',\\n'"
      ]
     },
     "execution_count": 152,
     "metadata": {},
     "output_type": "execute_result"
    }
   ],
   "source": [
    "tag.next_sibling"
   ]
  },
  {
   "cell_type": "code",
   "execution_count": 156,
   "metadata": {},
   "outputs": [],
   "source": [
    "tag=BeautifulSoup(\"\"\"<a href=\"http://example.com/elsie\" class=\"sister\" id=\"link1\">Elsie</a><a href=\"http://example.com/lacie\" class=\"sister\" id=\"link2\">Lacie</a><a href=\"http://example.com/tillie\" class=\"sister\" id=\"link3\">Tillie</a>\"\"\")"
   ]
  },
  {
   "cell_type": "code",
   "execution_count": 157,
   "metadata": {},
   "outputs": [
    {
     "data": {
      "text/plain": [
       "<a class=\"sister\" href=\"http://example.com/lacie\" id=\"link2\">Lacie</a>"
      ]
     },
     "execution_count": 157,
     "metadata": {},
     "output_type": "execute_result"
    }
   ],
   "source": [
    "tag.a.next_sibling"
   ]
  },
  {
   "cell_type": "code",
   "execution_count": 216,
   "metadata": {},
   "outputs": [],
   "source": [
    "def has_class_but_no_id(tag):\n",
    "    return tag.has_attr('class') and not tag.has_attr('id')"
   ]
  },
  {
   "cell_type": "code",
   "execution_count": 166,
   "metadata": {},
   "outputs": [
    {
     "data": {
      "text/plain": [
       "4"
      ]
     },
     "execution_count": 166,
     "metadata": {},
     "output_type": "execute_result"
    }
   ],
   "source": [
    "len(soup.find_all(has_class_but_no_id))"
   ]
  },
  {
   "cell_type": "code",
   "execution_count": 165,
   "metadata": {},
   "outputs": [
    {
     "data": {
      "text/plain": [
       "[<p class=\"title\"><b>The Dormouse's story</b></p>,\n",
       " <p class=\"story\"> Once upon a time there were three little sisters; and their names were\n",
       " <a class=\"sister\" href=\"http://example.com/elsie\">Elsie</a>,\n",
       " <a class=\"sister\" href=\"http://example.com/lacie\" id=\"link2\">Lacie</a> and\n",
       " <a class=\"sister\" href=\"http://example.com/tillie\" id=\"link3\">Tillie</a>;\n",
       " and they lived at the bottom of a well.</p>,\n",
       " <a class=\"sister\" href=\"http://example.com/elsie\">Elsie</a>,\n",
       " <p class=\"story\">...</p>]"
      ]
     },
     "execution_count": 165,
     "metadata": {},
     "output_type": "execute_result"
    }
   ],
   "source": [
    "soup.find_all(has_class_but_no_id)"
   ]
  },
  {
   "cell_type": "code",
   "execution_count": 164,
   "metadata": {},
   "outputs": [],
   "source": [
    "del soup.a['id']"
   ]
  },
  {
   "cell_type": "code",
   "execution_count": 171,
   "metadata": {},
   "outputs": [
    {
     "ename": "TypeError",
     "evalue": "not_lacie() missing 1 required positional argument: 'href'",
     "output_type": "error",
     "traceback": [
      "\u001b[0;31m\u001b[0m",
      "\u001b[0;31mTypeError\u001b[0mTraceback (most recent call last)",
      "\u001b[0;32m<ipython-input-171-698fb1d5142e>\u001b[0m in \u001b[0;36m<module>\u001b[0;34m\u001b[0m\n\u001b[1;32m      1\u001b[0m \u001b[0;32mdef\u001b[0m \u001b[0mnot_lacie\u001b[0m\u001b[0;34m(\u001b[0m\u001b[0mhref\u001b[0m\u001b[0;34m)\u001b[0m\u001b[0;34m:\u001b[0m\u001b[0;34m\u001b[0m\u001b[0;34m\u001b[0m\u001b[0m\n\u001b[1;32m      2\u001b[0m     \u001b[0;32mreturn\u001b[0m \u001b[0mhref\u001b[0m \u001b[0;32mand\u001b[0m \u001b[0;32mnot\u001b[0m \u001b[0mre\u001b[0m\u001b[0;34m.\u001b[0m\u001b[0mcompile\u001b[0m\u001b[0;34m(\u001b[0m\u001b[0;34m\"lacie\"\u001b[0m\u001b[0;34m)\u001b[0m\u001b[0;34m.\u001b[0m\u001b[0msearch\u001b[0m\u001b[0;34m(\u001b[0m\u001b[0mhref\u001b[0m\u001b[0;34m)\u001b[0m\u001b[0;34m\u001b[0m\u001b[0;34m\u001b[0m\u001b[0m\n\u001b[0;32m----> 3\u001b[0;31m \u001b[0msoup\u001b[0m\u001b[0;34m.\u001b[0m\u001b[0mfind_all\u001b[0m\u001b[0;34m(\u001b[0m\u001b[0mhref\u001b[0m\u001b[0;34m=\u001b[0m\u001b[0mnot_lacie\u001b[0m\u001b[0;34m(\u001b[0m\u001b[0;34m)\u001b[0m\u001b[0;34m)\u001b[0m\u001b[0;34m\u001b[0m\u001b[0;34m\u001b[0m\u001b[0m\n\u001b[0m",
      "\u001b[0;31mTypeError\u001b[0m: not_lacie() missing 1 required positional argument: 'href'"
     ]
    }
   ],
   "source": [
    "def not_lacie(href):\n",
    "    return href and not re.compile(\"lacie\").search(href)\n",
    "soup.find_all(href=not_lacie())"
   ]
  },
  {
   "cell_type": "code",
   "execution_count": 179,
   "metadata": {},
   "outputs": [
    {
     "name": "stdout",
     "output_type": "stream",
     "text": [
      "<body>\n",
      "<p class=\"title\"><b>The Dormouse's story</b></p>\n",
      "<p class=\"story\"> Once upon a time there were three little sisters; and their names were\n",
      "<a class=\"sister\" href=\"http://example.com/elsie\">Elsie</a>,\n",
      "<a class=\"sister\" href=\"http://example.com/lacie\" id=\"link2\">Lacie</a> and\n",
      "<a class=\"sister\" href=\"http://example.com/tillie\" id=\"link3\">Tillie</a>;\n",
      "and they lived at the bottom of a well.</p>\n",
      "<p class=\"story\">...</p>\n",
      "</body>\n",
      "body\n",
      "--------------------------------------------------\n",
      "<p class=\"story\"> Once upon a time there were three little sisters; and their names were\n",
      "<a class=\"sister\" href=\"http://example.com/elsie\">Elsie</a>,\n",
      "<a class=\"sister\" href=\"http://example.com/lacie\" id=\"link2\">Lacie</a> and\n",
      "<a class=\"sister\" href=\"http://example.com/tillie\" id=\"link3\">Tillie</a>;\n",
      "and they lived at the bottom of a well.</p>\n",
      "p\n",
      "--------------------------------------------------\n",
      "<a class=\"sister\" href=\"http://example.com/elsie\">Elsie</a>\n",
      "a\n",
      "--------------------------------------------------\n",
      "<a class=\"sister\" href=\"http://example.com/lacie\" id=\"link2\">Lacie</a>\n",
      "a\n",
      "--------------------------------------------------\n",
      "<a class=\"sister\" href=\"http://example.com/tillie\" id=\"link3\">Tillie</a>\n",
      "a\n",
      "--------------------------------------------------\n",
      "<p class=\"story\">...</p>\n",
      "p\n",
      "--------------------------------------------------\n"
     ]
    },
    {
     "data": {
      "text/plain": [
       "6"
      ]
     },
     "execution_count": 179,
     "metadata": {},
     "output_type": "execute_result"
    }
   ],
   "source": [
    "# 같은데서 온 instance인지 체크\n",
    "from bs4 import NavigableString\n",
    "def surrounded_by_strings(tag):\n",
    "    # 다음 엘리먼트가 글자인지 물어봄\n",
    "    return (isinstance(tag.next_element, NavigableString) and isinstance(tag.previous_element, NavigableString))\n",
    "\n",
    "for tag in soup.find_all(surrounded_by_strings):\n",
    "    print(tag)\n",
    "    print(tag.name)\n",
    "    print('-'*50)\n",
    "\n",
    "len(soup.find_all(surrounded_by_strings))"
   ]
  },
  {
   "cell_type": "code",
   "execution_count": 181,
   "metadata": {},
   "outputs": [
    {
     "data": {
      "text/plain": [
       "[]"
      ]
     },
     "execution_count": 181,
     "metadata": {},
     "output_type": "execute_result"
    }
   ],
   "source": [
    "def tag_strings(tag):\n",
    "    return (isinstance(tag, NavigableString))\n",
    "\n",
    "len(soup.find_all(tag_strings))\n",
    "soup.find_all(tag_strings)\n"
   ]
  },
  {
   "cell_type": "code",
   "execution_count": 182,
   "metadata": {},
   "outputs": [],
   "source": [
    "for tag in soup.find_all(tag_strings):\n",
    "    print(tag)\n",
    "    print(type(tag))\n",
    "    print('='*30)"
   ]
  },
  {
   "cell_type": "code",
   "execution_count": 183,
   "metadata": {},
   "outputs": [
    {
     "data": {
      "text/plain": [
       "'Elsie'"
      ]
     },
     "execution_count": 183,
     "metadata": {},
     "output_type": "execute_result"
    }
   ],
   "source": [
    "soup.a.string"
   ]
  },
  {
   "cell_type": "code",
   "execution_count": 184,
   "metadata": {},
   "outputs": [
    {
     "data": {
      "text/plain": [
       "bs4.element.NavigableString"
      ]
     },
     "execution_count": 184,
     "metadata": {},
     "output_type": "execute_result"
    }
   ],
   "source": [
    "type(soup.a.string)"
   ]
  },
  {
   "cell_type": "code",
   "execution_count": 185,
   "metadata": {},
   "outputs": [
    {
     "data": {
      "text/plain": [
       "True"
      ]
     },
     "execution_count": 185,
     "metadata": {},
     "output_type": "execute_result"
    }
   ],
   "source": [
    "tag_strings(soup.a.string)"
   ]
  },
  {
   "cell_type": "code",
   "execution_count": 186,
   "metadata": {},
   "outputs": [
    {
     "data": {
      "text/plain": [
       "[<p class=\"title\"><b>The Dormouse's story</b></p>,\n",
       " <p class=\"story\"> Once upon a time there were three little sisters; and their names were\n",
       " <a class=\"sister\" href=\"http://example.com/elsie\">Elsie</a>,\n",
       " <a class=\"sister\" href=\"http://example.com/lacie\" id=\"link2\">Lacie</a> and\n",
       " <a class=\"sister\" href=\"http://example.com/tillie\" id=\"link3\">Tillie</a>;\n",
       " and they lived at the bottom of a well.</p>,\n",
       " <p class=\"story\">...</p>]"
      ]
     },
     "execution_count": 186,
     "metadata": {},
     "output_type": "execute_result"
    }
   ],
   "source": [
    "soup.find_all('p')"
   ]
  },
  {
   "cell_type": "code",
   "execution_count": 187,
   "metadata": {},
   "outputs": [
    {
     "data": {
      "text/plain": [
       "[<p class=\"story\"> Once upon a time there were three little sisters; and their names were\n",
       " <a class=\"sister\" href=\"http://example.com/elsie\">Elsie</a>,\n",
       " <a class=\"sister\" href=\"http://example.com/lacie\" id=\"link2\">Lacie</a> and\n",
       " <a class=\"sister\" href=\"http://example.com/tillie\" id=\"link3\">Tillie</a>;\n",
       " and they lived at the bottom of a well.</p>, <p class=\"story\">...</p>]"
      ]
     },
     "execution_count": 187,
     "metadata": {},
     "output_type": "execute_result"
    }
   ],
   "source": [
    "soup.find_all('p','story')"
   ]
  },
  {
   "cell_type": "code",
   "execution_count": 188,
   "metadata": {},
   "outputs": [
    {
     "data": {
      "text/plain": [
       "' Once upon a time there were three little sisters; and their names were\\n'"
      ]
     },
     "execution_count": 188,
     "metadata": {},
     "output_type": "execute_result"
    }
   ],
   "source": [
    "# 정규패턴을 이용하여 글자찾기\n",
    "import re\n",
    "soup.find(string=re.compile(\"sisters\"))"
   ]
  },
  {
   "cell_type": "code",
   "execution_count": 189,
   "metadata": {},
   "outputs": [],
   "source": [
    "# select: 모두 선택 selectone:하나만\n",
    "# 띄어쓰기는 다이렉트x\n",
    "# >는 다이렉트: 바로 아래에 있는 태그만 선택"
   ]
  },
  {
   "cell_type": "code",
   "execution_count": 190,
   "metadata": {},
   "outputs": [
    {
     "data": {
      "text/plain": [
       "\n",
       "<html><head><title>The Dormouse's story</title></head>\n",
       "<body>\n",
       "<p class=\"title\"><b>The Dormouse's story</b></p>\n",
       "<p class=\"story\"> Once upon a time there were three little sisters; and their names were\n",
       "<a class=\"sister\" href=\"http://example.com/elsie\">Elsie</a>,\n",
       "<a class=\"sister\" href=\"http://example.com/lacie\" id=\"link2\">Lacie</a> and\n",
       "<a class=\"sister\" href=\"http://example.com/tillie\" id=\"link3\">Tillie</a>;\n",
       "and they lived at the bottom of a well.</p>\n",
       "<p class=\"story\">...</p>\n",
       "</body></html>"
      ]
     },
     "execution_count": 190,
     "metadata": {},
     "output_type": "execute_result"
    }
   ],
   "source": [
    "soup"
   ]
  },
  {
   "cell_type": "code",
   "execution_count": 191,
   "metadata": {},
   "outputs": [
    {
     "data": {
      "text/plain": [
       "[<a class=\"sister\" href=\"http://example.com/elsie\">Elsie</a>,\n",
       " <a class=\"sister\" href=\"http://example.com/lacie\" id=\"link2\">Lacie</a>,\n",
       " <a class=\"sister\" href=\"http://example.com/tillie\" id=\"link3\">Tillie</a>]"
      ]
     },
     "execution_count": 191,
     "metadata": {},
     "output_type": "execute_result"
    }
   ],
   "source": [
    "# p 태그 안에 있는 a태그들(바로 아래에 있는 것들만)\n",
    "soup.select('p>a')"
   ]
  },
  {
   "cell_type": "code",
   "execution_count": 193,
   "metadata": {},
   "outputs": [
    {
     "data": {
      "text/plain": [
       "[<a class=\"sister\" href=\"http://example.com/lacie\" id=\"link2\">Lacie</a>]"
      ]
     },
     "execution_count": 193,
     "metadata": {},
     "output_type": "execute_result"
    }
   ],
   "source": [
    "# a태그들 중 첫(n)번쨰 것\n",
    "soup.select('p>a:nth-of-type(1)')"
   ]
  },
  {
   "cell_type": "code",
   "execution_count": 196,
   "metadata": {},
   "outputs": [
    {
     "data": {
      "text/plain": [
       "[<a class=\"sister\" href=\"http://example.com/lacie\" id=\"link2\">Lacie</a>]"
      ]
     },
     "execution_count": 196,
     "metadata": {},
     "output_type": "execute_result"
    }
   ],
   "source": [
    "# p태그 바로 아래있는 태그들 중 id가 link2인것\n",
    "soup.select('p>#link2')"
   ]
  },
  {
   "cell_type": "code",
   "execution_count": 204,
   "metadata": {},
   "outputs": [
    {
     "data": {
      "text/plain": [
       "[<a class=\"sister\" href=\"http://example.com/elsie\" id=\"link1\">Elsie</a>,\n",
       " <a class=\"sister\" href=\"http://example.com/lacie\" id=\"link2\">Lacie</a>,\n",
       " <a class=\"sister\" href=\"http://example.com/tillie\" id=\"link3\">Tillie</a>]"
      ]
     },
     "execution_count": 204,
     "metadata": {},
     "output_type": "execute_result"
    }
   ],
   "source": [
    "# class: .\n",
    "soup.select('p>.sister')"
   ]
  },
  {
   "cell_type": "code",
   "execution_count": 198,
   "metadata": {},
   "outputs": [
    {
     "data": {
      "text/plain": [
       "[]"
      ]
     },
     "execution_count": 198,
     "metadata": {},
     "output_type": "execute_result"
    }
   ],
   "source": [
    "soup.select('body>a')"
   ]
  },
  {
   "cell_type": "code",
   "execution_count": 203,
   "metadata": {},
   "outputs": [],
   "source": [
    "soup.a['id']='link1'"
   ]
  },
  {
   "cell_type": "code",
   "execution_count": 205,
   "metadata": {},
   "outputs": [
    {
     "data": {
      "text/plain": [
       "[<a class=\"sister\" href=\"http://example.com/elsie\" id=\"link1\">Elsie</a>,\n",
       " <a class=\"sister\" href=\"http://example.com/lacie\" id=\"link2\">Lacie</a>,\n",
       " <a class=\"sister\" href=\"http://example.com/tillie\" id=\"link3\">Tillie</a>]"
      ]
     },
     "execution_count": 205,
     "metadata": {},
     "output_type": "execute_result"
    }
   ],
   "source": [
    "# ^: ~로 시작하는\n",
    "soup.select('a[href^=\"http://example.com/\"]')"
   ]
  },
  {
   "cell_type": "code",
   "execution_count": 206,
   "metadata": {},
   "outputs": [
    {
     "data": {
      "text/plain": [
       "[<a class=\"sister\" href=\"http://example.com/tillie\" id=\"link3\">Tillie</a>]"
      ]
     },
     "execution_count": 206,
     "metadata": {},
     "output_type": "execute_result"
    }
   ],
   "source": [
    "# $: ~로 끝나는\n",
    "soup.select('a[href$=\"tillie\"]')"
   ]
  },
  {
   "cell_type": "code",
   "execution_count": 207,
   "metadata": {},
   "outputs": [
    {
     "data": {
      "text/plain": [
       "[<a class=\"sister\" href=\"http://example.com/elsie\" id=\"link1\">Elsie</a>]"
      ]
     },
     "execution_count": 207,
     "metadata": {},
     "output_type": "execute_result"
    }
   ],
   "source": [
    "# *: ~가 있는\n",
    "soup.select('a[href*=\".com/el\"]')"
   ]
  },
  {
   "cell_type": "code",
   "execution_count": 208,
   "metadata": {},
   "outputs": [
    {
     "data": {
      "text/plain": [
       "\n",
       "<html><head><title>The Dormouse's story</title></head>\n",
       "<body>\n",
       "<p class=\"title\"><b>The Dormouse's story</b></p>\n",
       "<p class=\"story\"> Once upon a time there were three little sisters; and their names were\n",
       "<a class=\"sister\" href=\"http://example.com/elsie\" id=\"link1\">Elsie</a>,\n",
       "<a class=\"sister\" href=\"http://example.com/lacie\" id=\"link2\">Lacie</a> and\n",
       "<a class=\"sister\" href=\"http://example.com/tillie\" id=\"link3\">Tillie</a>;\n",
       "and they lived at the bottom of a well.</p>\n",
       "<p class=\"story\">...</p>\n",
       "</body></html>"
      ]
     },
     "execution_count": 208,
     "metadata": {},
     "output_type": "execute_result"
    }
   ],
   "source": [
    "soup"
   ]
  },
  {
   "cell_type": "code",
   "execution_count": 210,
   "metadata": {},
   "outputs": [
    {
     "data": {
      "text/plain": [
       "'b'"
      ]
     },
     "execution_count": 210,
     "metadata": {},
     "output_type": "execute_result"
    }
   ],
   "source": [
    "tag_b=soup.b\n",
    "# 태그 이름\n",
    "tag_b.name"
   ]
  },
  {
   "cell_type": "code",
   "execution_count": 211,
   "metadata": {},
   "outputs": [],
   "source": [
    "# 태그 변경!!\n",
    "tag_b.name='h1'"
   ]
  },
  {
   "cell_type": "code",
   "execution_count": 212,
   "metadata": {},
   "outputs": [
    {
     "data": {
      "text/plain": [
       "<h1>The Dormouse's story</h1>"
      ]
     },
     "execution_count": 212,
     "metadata": {},
     "output_type": "execute_result"
    }
   ],
   "source": [
    "tag_b"
   ]
  },
  {
   "cell_type": "code",
   "execution_count": 213,
   "metadata": {},
   "outputs": [
    {
     "data": {
      "text/plain": [
       "\n",
       "<html><head><title>The Dormouse's story</title></head>\n",
       "<body>\n",
       "<p class=\"title\"><h1>The Dormouse's story</h1></p>\n",
       "<p class=\"story\"> Once upon a time there were three little sisters; and their names were\n",
       "<a class=\"sister\" href=\"http://example.com/elsie\" id=\"link1\">Elsie</a>,\n",
       "<a class=\"sister\" href=\"http://example.com/lacie\" id=\"link2\">Lacie</a> and\n",
       "<a class=\"sister\" href=\"http://example.com/tillie\" id=\"link3\">Tillie</a>;\n",
       "and they lived at the bottom of a well.</p>\n",
       "<p class=\"story\">...</p>\n",
       "</body></html>"
      ]
     },
     "execution_count": 213,
     "metadata": {},
     "output_type": "execute_result"
    }
   ],
   "source": [
    "# soup에서의 태그도 같이 바뀜!!\n",
    "soup"
   ]
  },
  {
   "cell_type": "code",
   "execution_count": 215,
   "metadata": {},
   "outputs": [
    {
     "name": "stdout",
     "output_type": "stream",
     "text": [
      "<!doctype html> <html lang=\"ko\"> <head> <meta charset=\"utf-8\"> <meta name=\"referrer\" content=\"always\">  <meta name=\"format-detection\" content=\"telephone=no,address=no,email=no\"> <meta name=\"viewport\" content=\"width=device-width,initial-scale=1.0,maximum-scale=2.0\"> <meta property=\"og:title\" content=\"환율 : 네이버 통합검색\"/> <meta property=\"og:image\" content=\"https://ssl.pstatic.net/sstatic/search/common/og_v3.png\"> <meta property=\"og:description\" content=\"'환율'의 네이버 통합검색 결과입니다.\"> <meta name=\"description\" lang=\"ko\" content=\"'환율'의 네이버 통합검색 결과입니다.\"> <title>환율 : 네이버 통합검색</title> <link rel=\"shortcut icon\" href=\"https://ssl.pstatic.net/sstatic/search/favicon/favicon_191118_pc.ico\">  <link rel=\"search\" type=\"application/opensearchdescription+xml\" href=\"https://ssl.pstatic.net/sstatic/search/opensearch-description.https.xml\" title=\"Naver\" /><link rel=\"stylesheet\" type=\"text/css\" href=\"https://ssl.pstatic.net/sstatic/search/pc/css/search1_200326.css\"> <link rel=\"stylesheet\" type=\"text/css\" href=\"https://ssl.pstatic.net/sstatic/search/pc/css/search2_200326.css\"> <link rel=\"stylesheet\" type=\"text/css\" href=\"https://ssl.pstatic.net/sstatic/search/pc/css/api_atcmp_200326.css\"><script type=\"text/javascript\"> if (!String.prototype.trim) { String.prototype.trim = function () { return this.replace(/^[\\s\\uFEFF\\xA0]+|[\\s\\uFEFF\\xA0]+$/g, ''); }; } if (!Array.prototype.indexOf) { Array.prototype.indexOf = function(searchElement, fromIndex) { var k; if (this == null) { throw new TypeError('\"this\" is null or not defined'); } var o = Object(this); var len = o.length >>> 0; if (len === 0) { return -1; } var n = fromIndex | 0; if (n >= len) { return -1; } k = Math.max(n >= 0 ? n : len - Math.abs(n), 0); while (k < len) { if (k in o && o[k] === searchElement) { return k; } k++; } return -1; }; } if (typeof(encodeURIComponent) != \"function\") { encodeURIComponent = function (s) { function toHex (n) { var hexchars = \"0123456789ABCDEF\" ; return \"%%\" + hexchars.charAt(n>>4) + hexchars.charAt(n&0xF) ; } var es = \"\" ; for (var i = 0; i < s.length;) { var c = s.charCodeAt(i++) ; if ((c&0xF800) == 0xD800) { var sc = s.charCodeAt(i++) ; c = ((c-0xD800)<<10) + (sc-0xDC00) + 0x10000 ; } if (!(c&~0x7F)) { if ((c>=65&&c<=90) || (c>=97&&c<=122) || (c>=48&&c<=57) || (c>=45&&c<=46) || c==95 || c==33 || c==126 || (c>=39&&c<=42)) es += String.fromCharCode(c) ; else es += toHex(c) ; } else if (!(c&~0x7FF)) es += toHex(0xC0+(c>>6)) + toHex(c&0x3F) ; else if (!(c&~0xFFFF)) es += toHex(0xE0+(c>>12)) + toHex(0x80+(c>>6&0x3F)) + toHex(0x80+(c&0x3F)) ; else es += toHex(0xF0+(c>>18)) + toHex(0x80+(c>>12&0x3F)) + toHex(0x80+(c>>6&0x3F)) + toHex(0x80+(c&0x3F)) ; } return es ; } } naver = window.naver || {}; naver.search = naver.search || {}; var g_D = 0 ; naver.search.error = (function () { var errorList = Array() ; return { add : function (s) { errorList.push(s) ; }, clear : function () { delete errorList ; }, get : function (s) { return errorList ; }, getString : function (d) { if (typeof d === 'undefined') d = '|' ; return errorList.join(d) ; } } })(); naver.search.cookie = (function () { return { set : function (key, value, expire, domain) { var cookie = key + \"=\" + escape(value); if (typeof expire !== 'undefined') { if (expire instanceof Date) { cookie = cookie + \"; expires=\" + expire.toUTCString(); } else { var exdate = new Date((new Date()).getTime() + expire*1000); cookie = cookie + \"; expires=\" + exdate.toUTCString(); } } cookie = cookie + \"; path=/\"; if (domain != null) { cookie = cookie + \"; domain=\" + domain; } document.cookie = cookie; }, get : function (key) { var cookie_list = document.cookie.split(/\\s*;\\s*/); for (var i = 0; i < cookie_list.length; i++) { var tmp_list = cookie_list[i].split(\"=\"); var c_key = tmp_list[0].trim(); var c_value = tmp_list[1]; if (key == c_key) { return unescape(c_value); } } return null; } } })(); naver.search.https = window.location.protocol == \"https:\"; naver.search.meta_referrer = 0; var _nx_js_load = (function () { var scrs = {} ; return function (script, callback) { scrs[script] = {} ; scrs[script].domscript = document.createElement('script'); scrs[script].domscript.src = script ; if (callback) scrs[script].callback = (callback instanceof Array) ? callback : [callback]; scrs[script].domscript.onloadDone = false; scrs[script].domscript.onload = function() { scrs[script].domscript.onloadDone = true; if (scrs[script].callback) { for (var i = 0; i < scrs[script].callback.length; i++) { scrs[script].callback[i]() ; } } scrs[script].domscript.onload = scrs[script].domscript.onreadystatechange = null; } ; scrs[script].domscript.onreadystatechange = function() { if ( (\"loaded\" === scrs[script].domscript.readyState || \"complete\" === scrs[script].domscript.readyState) && !scrs[script].domscript.onloadDone ) { scrs[script].domscript.onload(); } } ; document.getElementsByTagName('head')[0].appendChild(scrs[script].domscript); }; })() ; var nx_js_defer_load = (function() { var info = {} ; return function(scrname, callback, t) { var nx_load_once = (function() { return function(scrname) { if (info[scrname].t > 0) setTimeout(function() { _nx_js_load(scrname, info[scrname].callback) ; }, t) ; else _nx_js_load(scrname, info[scrname].callback) ; } ; })(); if (t < 0) t = 0 ; if (info[scrname]) { n = info[scrname].length; for (var i = 0; i < n; i++) { if (info[scrname][i] == callback) return ; } if (t < info[scrname].t) info[scrname].t = t ; } else { info[scrname] = {} ; info[scrname].callback = [] ; info[scrname].t = t ; jindo.$Fn(function() { nx_load_once(scrname) ; }).attach(window, \"load\") ; } info[scrname].callback.push(callback) ; }; })(); function nx_js_lazyload(scripts, onload, is_serial) { if (!(scripts instanceof Array)) { scripts = [scripts]; } if (is_serial) { function load_next() { if (scripts.length == 0) { onload(); return; } _nx_js_load( scripts.shift(), load_next ) ; } load_next(); } else { var load_check = function() { var num_js = scripts.length; return function() { num_js--; if (num_js <= 0) { onload(); } } }(); for (var i = 0; i < scripts.length; i++) { _nx_js_load( scripts[i], load_check ) ; } } } function nx_defer_eval (id) { var codeElement = document.getElementById(id), code = codeElement.innerHTML; eval(code.replace(/\\/\\*/, '').replace(/\\*\\//, '')); } </script><script> try { document.execCommand('BackgroundImageCache', false, true); } catch(e) {} if (top.frames.length!=0 || window!=top) window.open(location, \"_top\") ; naver = window.naver || {}; naver.search = naver.search || {}; naver.search.ext = naver.search.ext || {}; naver.search.map_api = { v2 : \"https://ssl.pstatic.net/sstatic.map/openapi/openapi_v23.js\", v3 : \"https://ssl.pstatic.net/sstatic.map/openapi/maps3.js\" } ; var nx_au_cookie_domain = \"search.naver.com\" ; var nx_mobile_agent = 0 ; var headerfooter_query = \"환율\" ; var headerfooter_query_encoded = \"%ED%99%98%EC%9C%A8\" ; var headerfooter_time_year = 2020 ; var headerfooter_time_month = 3 ; var headerfooter_time_day = 29 ; var headerfooter_time_hour = 13 ; var headerfooter_time_minute = 39 ; var headerfooter_time_second = 44 ; var headerfooter_time_wday = 0 ; var headerfooter_time_year_s = \"2020\" ; var headerfooter_time_month_s = \"03\" ; var headerfooter_time_day_s = \"29\" ; var headerfooter_time_hour_s = \"13\" ; var headerfooter_time_minute_s = \"39\" ; var headerfooter_time_second_s = \"44\" ; var headerfooter_time_wday_s = \"0\" ; var g_ssc = \"tab.nx.all\" ; var g_query = \"환율\" ; var g_puid = \"UosECsp0Jy0ssg1Yn2hssssstPR-250994\" ; var g_suid = \"bdq3lZnNQmo7jYOhkJNICg==\" ; var g_tab = \"nexearch\" ; var g_stab = \"nexearch\" ; var g_crt = \"\" ; var g_m_str = \"\" ; var g_tablet_device = 0 ; var g_nx_splugin ; document.domain = \"naver.com\" ; document.documentElement.setAttribute('data-useragent', window.navigator.userAgent.toLowerCase()) ; document.documentElement.setAttribute('data-platform', window.navigator.platform.toLowerCase()) ; var g_er_image, g_er_count = 0 ; function g_er (msg) { if (g_er_count++ > 0) return ; g_er_image = new Image() ; g_er_image.src = \"http://er.search.naver.com/er?f=\"+g_tab+\"&w=\"+g_stab+\"&q=%ED%99%98%EC%9C%A8&u=\"+encodeURIComponent(document.location)+\"&m=\"+encodeURIComponent(msg) ; } function trim_space (q) { var head_re = /^ */; var tail_re = / *$/; q = q.replace(head_re, \"\"); q = q.replace(tail_re, \"\"); return q; } function trim_crlf (q) { var crlf = /[\\r|\\n]/ ; q = q.replace(crlf, \"\") ; return q ; } function include_script (type, defer, src, charset) { var script = document.createElement(\"script\") ; script.type = type, script.defer = defer ; script.src = src ; if (charset) script.charset = charset ; else script.charset = 'utf-8' ; document.getElementsByTagName('head')[0].appendChild(script) ; return script ; } function include_style (src, charset) { var h = document.getElementsByTagName(\"head\")[0] ; var l = document.createElement('link') ; l.type = 'text/css' ; l.rel = 'stylesheet' ; if (charset) l.charset = charset ; else l.charset = 'utf-8' ; l.media = 'screen' ; l.href = src ; h.appendChild(l) ; } function bt (id, after) { document.getElementById(id).src = after ; } function urlencode (q) { return encodeURIComponent(q).replace(/%20/g, \"+\").replace(/[!~'()]/g, function(c) { return '%' + c.charCodeAt(0).toString(16).toUpperCase() ; }); } function urlexpand (url) { var href = document.location.href ; if (url == \"\") return href ; if (url.match(/^[-.A-Za-z]+:/)) return url ; if (url.charAt(0) == '#') return href.split(\"#\")[0] + url ; if (url.charAt(0) == '?') return href.split(\"?\")[0] + url ; if (url.charAt(0) == '/') return href.replace(/([^:\\/])\\/.*$/, \"$1\") + url ; return href.substring(0, href.lastIndexOf(\"/\")+1) + url ; } function tt_sub_disable (o) { if (typeof(o.tt_sub) == \"undefined\") return false ; if ((typeof(o.tt_sub) == \"object\") && (o.tt_sub.length)) { var i ; for (var i=0; i<o.tt_sub.length; i++) o.tt_sub[i].disabled = true ; } else o.tt_sub.disabled = true ; return true ; } function cpip () { var evt, sx = sy = px = py = -1 ; try { evt = window.event ; } catch (e) {} try { sx=evt.clientX-document.body.clientLeft, sy=evt.clientY-document.body.clientTop ; } catch (e) {} try { px=document.body.scrollLeft+(sx<0?0:sx), py=document.documentElement.scrollTop+(sy<0?0:sy) ; } catch (e) {} try { if (evt.pageX) px=evt.pageX ; if (evt.pageY) py=evt.pageY ; } catch (e) {} return \"px=\"+px+\"&py=\"+py+\"&sx=\"+sx+\"&sy=\"+sy ; } function nxGetCommonCRParam () { return \"p=\"+urlencode(g_puid)+\"&q=\"+urlencode(g_query)+\"&ie=utf8&rev=1&ssc=\"+urlencode(g_ssc)+\"&f=\"+urlencode(g_tab)+\"&w=\"+urlencode(g_stab)+\"&s=\"+urlencode(g_suid)+\"&time=\"+urlencode((new Date()).getTime())+g_crt ; } function getCRRankingByParam (p, info) { if (typeof info == 'undefined' || info == null) return 0 ; var cr = 0 ; try { var y, z ; var y = p.split('&') ; for (var i = 0; i < y.length; i++) { if (z = y[i].split('=')) { if (z[0] == 'a') { for (var j = 0; j < info.length; j++) { if (z[1].substr(0, info[j].n.length) == info[j].n) { cr = info[j].r ; break ; } } break ; } } } } catch (e) { } return cr ; } function getCRRanking (p) { var cr = 0 ; if (typeof nx_cr_area_info != 'undefined') cr = getCRRankingByParam(p, nx_cr_area_info) ; if (cr) return cr ; if (typeof nx_cr_right_area_info != 'undefined') cr = getCRRankingByParam(p, nx_cr_right_area_info) ; return cr ; } function isOutlink (u) { if (!u || u.indexOf(\"://\") < 0) return false; var b = (u.search(/^\\w*:\\/\\/([^:/?]*\\.|)*(?!(ad)?cr\\.)[^.:/?]+\\.+naver\\.com(:\\d*)?(\\/|$)/) < 0);  return b; } function nxGetCRURL (m, a, b, c, d, e) { var p = \"\" ; var u ; if (c==undefined && d==undefined && e==undefined) { p = (a==undefined?\"\":\"&\"+a) + (b==undefined || a.indexOf(\"u=\")==0 || a.indexOf(\"&u=\") > 0 ?\"\":\"&u=\"+urlencode(b)) ; u = b ; } else { p = (a==undefined ? \"\" : \"&a=\"+urlencode(a)) + (b==undefined ? \"\" : \"&r=\"+urlencode(b)) + (c==undefined ? \"\" : \"&i=\"+urlencode(c)) + (d==undefined ? \"\" : \"&u=\"+urlencode(d)) + (e==undefined ? \"\" : \"&\"+e) ; u = d ; } if (! p) return null ; var url ; if (naver.search.https) { url = (naver.search.meta_referrer ? \"/p/crd\" : \"/p/cr\") + \"/rd\"; if (m != 0) m = 1; } else { out = isOutlink(u); url = \"http://cr.naver.com\" + (g_D && out ? \"/nr\" : \"/rd\"); if (m != 0) m = g_D && out ? 2 : 1; } url += \"?m=\" + m + \"&\" + cpip() + \"&\" + nxGetCommonCRParam() + p; return url; } function tCR (a, b, c, d, e) { var l = nxGetCRURL(0, a, b, c, d, e) ; var cr = getCRRanking(l) ; if (cr > 0) l = l + \"&cr=\" + cr ; if (document.images) (new Image()).src = l ; else document.location = l ; return false ; } function gCR (u, a, r, i, e, t) { if (u) u = urlexpand(u) ; var l = nxGetCRURL(1, a, r, i, u, e) ; var o = document.createElement(\"a\") ; var cr = getCRRanking(l) ; if (cr > 0) l = l + \"&cr=\" + cr ; if (o.click) { o.href = l ; o.style.display = \"none\" ; document.body.appendChild(o) ; o.click() ; } else document.location = l ; } function goCR (o, p, t) { var u = o.href ; tt_sub_disable(o) ; if (p.indexOf(\"u=javascript\") >= 0) t = true ; var n = (o.ownerDocument==document && o.target && o.target!=\"_self\" && o.target!=\"_parent\" && o.target!=\"_top\") && !(window.location.protocol&&window.location.protocol.indexOf(\"https:\")==0) ; var cr = getCRRanking(p) ; if (cr > 0) p = p + \"&cr=\" + cr ;  if (!(u && u.indexOf(\"http://cr.naver.com/\")==0) && !(o.getAttribute !== undefined && o.getAttribute(\"crurl\"))) { if (0 && u && u.indexOf(\"/search.naver?\") >= 0) { var str = \"\" ;   p = p.replace(/(((?:^|&)u=).*%2Fsearch.naver%3F[^&]*)/, '$1' + str) ; } u = nxGetCRURL(t?0:(n?-1:1), p, u) ; } if (u && !u.match(/m=0&/)) { var a = o.innerHTML ; if (g_D && naver.search.https && naver.search.meta_referrer && o.href && isOutlink(o.href)) o.setAttribute(\"rel\", \"noreferrer\"); o.href = u ; if (o.getAttribute !== undefined) o.setAttribute(\"crurl\", \"1\"); if (o.innerHTML != a) o.innerHTML = a ; } else if (document.images) (new Image()).src = u ; return true ; } function goOtherCR (o, p) { return goCR(o, p, false) ; } function goOtherTCR (o, p) { return goCR(o, p, true) ; } function get_form_url (o) { var url = o.getAttribute(\"action\") ; if (url == null) url = \"\" ; var e, n = 0 ; for (var i=0; i<o.elements.length; i++) { e = o.elements[i] ; if (e.disabled || !e.name) continue ; url += (n++>0?\"&\":url.indexOf(\"?\")<0?\"?\":url.indexOf(\"?\")<url.length-1?\"&\":\"\") + encodeURIComponent(e.name) + \"=\" + encodeURIComponent(e.value) ; } return url ; } function formCR (o, area, rank, id) { if (typeof o == 'string') o = document.getElementById(o) ; var target = o.getAttribute(\"target\") ; if (target && target!=\"_self\" && target!=\"_parent\" && target!=\"_top\" || /^post$/i.test(o.getAttribute(\"method\"))) { tCR(area, rank, id) ; o.submit() ; return false ; } var url = get_form_url(o) ; var a = document.createElement(\"a\") ; a.href = url ; var p = area != undefined ? \"a=\" + area : \"\" ; if (rank != undefined) p += (p?\"&\":\"\") + \"r=\" + encodeURIComponent(rank) ; if (id != undefined) p += (p?\"&\":\"\") + \"i=\" + encodeURIComponent(id) ; if (url != undefined) p += (p?\"&\":\"\") + \"u=\" + encodeURIComponent(urlexpand(url)) ; goCR(a, p) ; if (navigator.userAgent.indexOf('MSIE') > 0) { a.style.display = 'none' ; o.appendChild(a) ; a.click() ; } else document.location = a.href ; return false ; } function goHist (o, a, e) { return true ; } function rank_val (rank, name, sign, number, ad_onair) { this.rank = rank ; this.name = name ; this.sign = sign ; this.number = number ; this.ad_onair = ad_onair ; } function rr_hotquery_val (titleImg, totalLink, ad_onair) { this.titleImg = titleImg ; this.totalLink = totalLink ; this.ad_onair = ad_onair ; } function rr_append () { for (var i=0; i<rr_list.length; i++) if (rr_list[i].qname==hotqry_Name && rr_list[i].dir==hotqry_Dir) return 0 ; var o = { order:hotqry_Order, contid:hotqry_ContID, qname:hotqry_Name, dir:hotqry_Dir, toprank:hotqry_TopRank, rankdown:hotqry_RankDown, clicklog:hotqry_ClickLog, toprank_idx:toprank_idx, lowrank_idx:lowrank_idx, topranklist:toprank, lowranklist:lowrank_idx>=0?lowrank:null } ; rr_list = rr_list.concat(o) ; return 1 ; } function nx_onkeydown (e) { function cancel_event (event) { if (event.preventDefault) { event.preventDefault() ; event.stopPropagation() ; } else event.returnValue = false ; } function ignore_input (e, k, c) { var el = e.target || e.srcElement ; var el_upper = el && el.tagName ? el.tagName.toUpperCase() : \"\" ; if (el_upper == \"INPUT\" || el_upper == \"SELECT\" || el_upper == \"TEXTAREA\" || el_upper == \"EMBED\" || el_upper == \"OBJECT\") return true ; else if (k & m.ALT) return true ; else if (k == m.CTRL && c != 86) return true ; else if (k & m.META || c == 91 || c == 224) return true ; return false ; } try { if (typeof(e) == 'undefined') e = event ; var f = document.getElementsByName(\"search\")[0] ; var k = 0, c = 0 ; var m = { ALT:1, CTRL:2, SHIFT:4, META:8 } ; if ((typeof(e.altKey) != 'undefined') ? e.altKey : (e.modifiers & Event.ALT_MASK > 0)) k |= m.ALT ; if ((typeof(e.ctrlKey) != 'undefined') ? e.ctrlKey : (e.modifiers & Event.CONTROL_MASK > 0)) k |= m.CTRL ; if ((typeof(e.shiftKey) != 'undefined') ? e.shiftKey : (e.modifiers & Event.SHIFT_MASK > 0)) k |= m.SHIFT ; if ((typeof(e.metaKey) != 'undefined') && e.metaKey) k |= m.META ; c = e.keyCode ? e.keyCode : e.which ; if (ignore_input(e, k, c)) return true ; if (((k === 0 || k === m.SHIFT) && (c === 21 || c === 229)) || (k === m.SHIFT && c === 32) || c === 113 || c === 45) { cancel_event(e) ; scrollTo(0, 0) ; f.query.focus() ; f.query.select() ; return false ; } else if (c > 44) { scrollTo(0, 0) ; f.query.value = '' ; f.query.focus() ; f.query.select() ; return true ; } } catch (err) {} return true ; } function Init () { if (document.captureEvents && Event.KEYDOWN) document.captureEvents (Event.KEYDOWN) ; document.onkeydown = nx_onkeydown ; } var msg_hidden_idle=null; function msg (id) { if(msg_hidden_idle) clearInterval(msg_hidden_idle); if(id) { var mid=document.getElementById(id); mid.style.display=''; mid.style.visibility='visible'; } } function msg_hidden (id, f) { if(f) hidden(id); else msg_hidden_idle=setInterval(\"hidden('\"+id+\"')\",100); } function hidden (id) { var mid=document.getElementById(id); mid.style.display='none'; mid.style.visibility='hidden'; } function nx_check_basic () { return ; } function nx_set_cookie (name, value, expire, domain) { var cookie = name + \"=\" + escape(value); if (expire != null) { if (expire instanceof Date) { cookie = cookie + \"; expires=\" + expire.toUTCString(); } else { var exdate = new Date((new Date()).getTime() + expire*1000); cookie = cookie + \"; expires=\" + exdate.toUTCString(); } } cookie = cookie + \"; path=/\"; if (domain != null) { cookie = cookie + \"; domain=\" + domain; } document.cookie = cookie; } function nx_get_cookie (name) { var cookie_list = document.cookie.split(/\\s*;\\s*/); for (var i = 0; i < cookie_list.length; i++) { var tmp_list = cookie_list[i].split(\"=\"); var c_name = trim_space(tmp_list[0]); var c_value = tmp_list[1]; if (name == c_name) { return unescape(c_value); } } return null; } var nx_default_charset = document.charset ; function nx_form_emul_charset (form) { if (/msie/i.test(navigator.userAgent) && !/opera/i.test(navigator.userAgent)) { document.charset = form.acceptCharset ; window.onbeforeunload = function () { document.charset = nx_default_charset ; } ; } return true; } Init() ; (function(exportTarget) { var lcs_options = { nnb: true }; var lcs_version = \"v0.8.3\"; var lcs_add = {}; var lcs_bc = {}; var lcs_perf = {}; var lcs_do_count = 0; var lcs_do_retry_count = 0; var lcs_waiting_pageshow = false; function lcs_do(optional_etc) { var etc = optional_etc || {}; if (lcs_waiting_pageshow) { return; } var retry = function(__etc) { return function() { window.setTimeout(function() { lcs_waiting_pageshow = false; lcs_do(__etc); }, 10); } }(etc); if (document.readyState !== \"complete\") { var eventName = \"onpageshow\" in window ? \"pageshow\" : \"load\"; if (document.addEventListener) { window.addEventListener(eventName, retry, false); } else { window.attachEvent(\"on\"+ eventName, retry); } lcs_do_retry_count++; lcs_waiting_pageshow = true; return; } if (!window.lcs_SerName) { window.lcs_SerName = \"lcs.naver.com\"; } var rs = \"\"; var index; var itarVal; var doc = document; var wlt = window.location; var lcsServerAddr; try { lcsServerAddr = \"https://\" + window.lcs_SerName + \"/m?\"; } catch (e) { return; } try { rs = lcsServerAddr + \"u=\" + encodeURIComponent(wlt.href) + \"&e=\" + (doc.referrer ? encodeURIComponent(doc.referrer) : \"\"); } catch (e) {} try { if (typeof lcs_add.i == \"undefined\") lcs_add.i = \"\"; if (lcs_do_count < 1) { lcs_setBrowserCapa(); if (lcs_options.nnb) { lcs_setNNB(); } lcs_setConnectionType(); lcs_setNavigationTiming(); var loadEventStart = lcs_perf[\"loadEventStart\"] || 0; var loadEventEnd = lcs_perf[\"loadEventEnd\"] || 0; if (loadEventEnd < loadEventStart && lcs_do_retry_count < 3) { lcs_do_retry_count++; lcs_waiting_pageshow = true; retry(); return; } lcs_setPaintTiming(); lcs_setNavigationType(); } for (index in lcs_bc) { if (typeof lcs_bc[index] !== \"function\") rs += \"&\" + index + \"=\" + encodeURIComponent(lcs_bc[index]); } for (index in lcs_add) { itarVal = lcs_add[index]; if (itarVal !== undefined && typeof itarVal !== \"function\") { rs += \"&\" + index + \"=\" + encodeURIComponent(itarVal); } } if (lcs_do_count < 1) { for (index in lcs_perf) { itarVal = lcs_perf[index]; if (itarVal) { rs += \"&\" + index + \"=\" + encodeURIComponent(itarVal); } } } var dni = !!etc.dni ? etc.dni : getCookie(\"NAPP_DI\"); if (!!dni) { etc.dni = dni; } else { delete etc.dni; } for (index in etc) { if ( (index.length >= 3 && typeof etc[index] !== \"function\") || index === \"qy\" ) { rs += \"&\" + index + \"=\" + encodeURIComponent(etc[index]); } } if (!!etc === false || !!etc.pid === false) { var pidFallback; if (window.g_pid) { pidFallback = g_pid; } else { pidFallback = lcs_get_lpid(); } rs += \"&pid=\" + encodeURIComponent(pidFallback); } var timeStr = new Date().getTime(); rs += \"&ts=\" + timeStr; rs += \"&EOU\"; var obj = document.createElement(\"img\"); obj.src = rs; obj.onload = function() { obj.onload = null; return; }; lcs_do_count++; } catch (e) { return; } } function getCookie(name) { var value = document.cookie.match('(^|;) ?' + name + '=([^;]*)(;|$)'); return value? value[2] : \"\"; } function lcs_do_gdid(gdid, etc) { try { if (gdid) { lcs_add[\"i\"] = gdid; if (etc) { lcs_do(etc); } else { lcs_do(); } } } catch (e) {} } function getLocalStorage() { var localStorage = null; try { localStorage = window.localStorage; } catch (e) {} try { if (!localStorage) localStorage = window.sessionStorage; } catch (e) {} return localStorage || null; } function lcs_setNNB() { try { var lsg = getLocalStorage(); if (lsg) { if (lsg.ls) { var lc = lsg.ls; if (lc.length == 13) { lcs_add[\"ls\"] = lc; return; } } var nnb = lcs_getNNBfromCookie(); if (nnb != null && nnb != \"\") { lsg.ls = nnb; lcs_add[\"ls\"] = nnb; } } } catch (e) {} } function lcs_setBrowserCapa() { lcs_bc[\"os\"] = lcs_getOS(); lcs_bc[\"ln\"] = lcs_getlanguage(); lcs_bc[\"sr\"] = lcs_getScreen(); lcs_bc[\"pr\"] = window.devicePixelRatio || 1; var windowSize = lcs_getWindowSize(); lcs_bc[\"bw\"] = windowSize[\"bw\"]; lcs_bc[\"bh\"] = windowSize[\"bh\"]; lcs_bc[\"c\"] = lcs_getColorDepth(); lcs_bc[\"j\"] = lcs_getJavaEnabled(); lcs_bc[\"k\"] = lcs_getCookieEnabled(); } function lcs_getOS() { var lcs_os = \"\"; try { navigator.platform ? (lcs_os = navigator.platform) : \"\"; } catch (e) {} return lcs_os; } function lcs_getlanguage() { var lcs_ln = \"\"; try { navigator.userLanguage ? (lcs_ln = navigator.userLanguage) : navigator.language ? (lcs_ln = navigator.language) : \"\"; } catch (e) {} return lcs_ln; } function lcs_getScreen() { var lcs_sr = \"\"; try { if (window.screen && screen.width && screen.height) { lcs_sr = screen.width + \"x\" + screen.height; } else if (window.java || self.java) { var sr = java.awt.Toolkit.getDefaultToolkit().getScreenSize(); lcs_sr = sr.width + \"x\" + sr.height; } } catch (e) { lcs_sr = \"\"; } return lcs_sr; } function lcs_getWindowSize() { var doc = document; var size = { bw: \"\", bh: \"\" }; try { size[\"bw\"] = doc.documentElement.clientWidth ? doc.documentElement.clientWidth : doc.body.clientWidth; size[\"bh\"] = doc.documentElement.clientHeight ? doc.documentElement.clientHeight : doc.body.clientHeight; } catch (e) {} return size; } function lcs_getColorDepth() { var colorDepth = \"\"; try { if (window.screen) { colorDepth = screen.colorDepth ? screen.colorDepth : screen.pixelDepth; } else if (window.java || self.java) { var c = java.awt.Toolkit.getDefaultToolkit() .getColorModel() .getPixelSize(); colorDepth = c; } } catch (e) { colorDepth = \"\"; } return colorDepth; } function lcs_getJavaEnabled() { var jsEnable = \"\"; try { jsEnable = navigator.javaEnabled() ? \"Y\" : \"N\"; } catch (e) {} return jsEnable; } function lcs_getCookieEnabled() { var cookieEnable = \"\"; try { cookieEnable = navigator.cookieEnabled ? \"Y\" : \"N\"; } catch (e) {} return cookieEnable; } function lcs_getNNBfromCookie() { try { var ck = document.cookie; var k, v, i, ArrCookies = ck.split(\";\"); for (i = 0; i < ArrCookies.length; i++) { k = ArrCookies[i].substr(0, ArrCookies[i].indexOf(\"=\")); v = ArrCookies[i].substr(ArrCookies[i].indexOf(\"=\") + 1); k = k.replace(/^\\s+|\\s+$/g, \"\"); if (k == \"NNB\") { return unescape(v); } } } catch (e) {} } function lcs_setConnectionType() { var connection = navigator.connection; if (connection) { if (connection.type && connection.type.length > 1) { lcs_add[\"ct\"] = connection.type; } if (connection.effectiveType) { lcs_add[\"ect\"] = connection.effectiveType; } } } function lcs_setNavigationTiming() { var performance = window.performance || {}; if (performance.timing) { var pt = performance.timing; for (var key in pt) { var value = pt[key]; if (typeof value === \"number\") { lcs_perf[key] = value; } } } } function lcs_setPaintTiming() { var performance = window.performance || {}; try { if (performance.getEntriesByType) { var performanceEntries = performance.getEntriesByType(\"paint\"); performanceEntries.forEach(function(performanceEntry, i, entries) { var name = performanceEntry.name; switch (name) { case \"first-paint\": case \"first-contentful-paint\": lcs_perf[name] = performanceEntry.startTime; break; default: break; } }); } else { } } catch (e) { console.warn(e); } } function lcs_setNavigationType() { var ngt = getNavigationType(); if (ngt !== undefined) { lcs_perf[\"ngt\"] = ngt; } } function getNavigationType() { var performance = window.performance || {}; if (performance.navigation) { return performance.navigation.type; } return; } var lpid = null; function lcs_create_lpid() { var uaID; var lsg = getLocalStorage(); var nnb = lsg ? lsg.ls : null; if (nnb) { uaID = nnb; } else { var nnbFallback; nnbFallback = navigator.userAgent + Math.random(); uaID = nnbFallback; } var performance = window.performance || {}; var pageURL = location.href; var currentTime; if (performance.now) { currentTime = performance.now(); } else { currentTime = new Date().getTime(); } lpid = hashFunction.md5(uaID + pageURL + currentTime); return lpid; } function lcs_get_lpid() { if (lpid === null) { lpid = lcs_create_lpid(); } return lpid; } function lcs_update_lpid() { lpid = lcs_create_lpid(); return lpid; } var hashFunction = {}; (function(exportTarget) { function safeAdd(x, y) { var lsw = (x & 0xffff) + (y & 0xffff); var msw = (x >> 16) + (y >> 16) + (lsw >> 16); return (msw << 16) | (lsw & 0xffff); } function bitRotateLeft(num, cnt) { return (num << cnt) | (num >>> (32 - cnt)); } function md5cmn(q, a, b, x, s, t) { return safeAdd( bitRotateLeft(safeAdd(safeAdd(a, q), safeAdd(x, t)), s), b ); } function md5ff(a, b, c, d, x, s, t) { return md5cmn((b & c) | (~b & d), a, b, x, s, t); } function md5gg(a, b, c, d, x, s, t) { return md5cmn((b & d) | (c & ~d), a, b, x, s, t); } function md5hh(a, b, c, d, x, s, t) { return md5cmn(b ^ c ^ d, a, b, x, s, t); } function md5ii(a, b, c, d, x, s, t) { return md5cmn(c ^ (b | ~d), a, b, x, s, t); } function binlMD5(x, len) { x[len >> 5] |= 0x80 << len % 32; x[(((len + 64) >>> 9) << 4) + 14] = len; var i; var olda; var oldb; var oldc; var oldd; var a = 1732584193; var b = -271733879; var c = -1732584194; var d = 271733878; for (i = 0; i < x.length; i += 16) { olda = a; oldb = b; oldc = c; oldd = d; a = md5ff(a, b, c, d, x[i], 7, -680876936); d = md5ff(d, a, b, c, x[i + 1], 12, -389564586); c = md5ff(c, d, a, b, x[i + 2], 17, 606105819); b = md5ff(b, c, d, a, x[i + 3], 22, -1044525330); a = md5ff(a, b, c, d, x[i + 4], 7, -176418897); d = md5ff(d, a, b, c, x[i + 5], 12, 1200080426); c = md5ff(c, d, a, b, x[i + 6], 17, -1473231341); b = md5ff(b, c, d, a, x[i + 7], 22, -45705983); a = md5ff(a, b, c, d, x[i + 8], 7, 1770035416); d = md5ff(d, a, b, c, x[i + 9], 12, -1958414417); c = md5ff(c, d, a, b, x[i + 10], 17, -42063); b = md5ff(b, c, d, a, x[i + 11], 22, -1990404162); a = md5ff(a, b, c, d, x[i + 12], 7, 1804603682); d = md5ff(d, a, b, c, x[i + 13], 12, -40341101); c = md5ff(c, d, a, b, x[i + 14], 17, -1502002290); b = md5ff(b, c, d, a, x[i + 15], 22, 1236535329); a = md5gg(a, b, c, d, x[i + 1], 5, -165796510); d = md5gg(d, a, b, c, x[i + 6], 9, -1069501632); c = md5gg(c, d, a, b, x[i + 11], 14, 643717713); b = md5gg(b, c, d, a, x[i], 20, -373897302); a = md5gg(a, b, c, d, x[i + 5], 5, -701558691); d = md5gg(d, a, b, c, x[i + 10], 9, 38016083); c = md5gg(c, d, a, b, x[i + 15], 14, -660478335); b = md5gg(b, c, d, a, x[i + 4], 20, -405537848); a = md5gg(a, b, c, d, x[i + 9], 5, 568446438); d = md5gg(d, a, b, c, x[i + 14], 9, -1019803690); c = md5gg(c, d, a, b, x[i + 3], 14, -187363961); b = md5gg(b, c, d, a, x[i + 8], 20, 1163531501); a = md5gg(a, b, c, d, x[i + 13], 5, -1444681467); d = md5gg(d, a, b, c, x[i + 2], 9, -51403784); c = md5gg(c, d, a, b, x[i + 7], 14, 1735328473); b = md5gg(b, c, d, a, x[i + 12], 20, -1926607734); a = md5hh(a, b, c, d, x[i + 5], 4, -378558); d = md5hh(d, a, b, c, x[i + 8], 11, -2022574463); c = md5hh(c, d, a, b, x[i + 11], 16, 1839030562); b = md5hh(b, c, d, a, x[i + 14], 23, -35309556); a = md5hh(a, b, c, d, x[i + 1], 4, -1530992060); d = md5hh(d, a, b, c, x[i + 4], 11, 1272893353); c = md5hh(c, d, a, b, x[i + 7], 16, -155497632); b = md5hh(b, c, d, a, x[i + 10], 23, -1094730640); a = md5hh(a, b, c, d, x[i + 13], 4, 681279174); d = md5hh(d, a, b, c, x[i], 11, -358537222); c = md5hh(c, d, a, b, x[i + 3], 16, -722521979); b = md5hh(b, c, d, a, x[i + 6], 23, 76029189); a = md5hh(a, b, c, d, x[i + 9], 4, -640364487); d = md5hh(d, a, b, c, x[i + 12], 11, -421815835); c = md5hh(c, d, a, b, x[i + 15], 16, 530742520); b = md5hh(b, c, d, a, x[i + 2], 23, -995338651); a = md5ii(a, b, c, d, x[i], 6, -198630844); d = md5ii(d, a, b, c, x[i + 7], 10, 1126891415); c = md5ii(c, d, a, b, x[i + 14], 15, -1416354905); b = md5ii(b, c, d, a, x[i + 5], 21, -57434055); a = md5ii(a, b, c, d, x[i + 12], 6, 1700485571); d = md5ii(d, a, b, c, x[i + 3], 10, -1894986606); c = md5ii(c, d, a, b, x[i + 10], 15, -1051523); b = md5ii(b, c, d, a, x[i + 1], 21, -2054922799); a = md5ii(a, b, c, d, x[i + 8], 6, 1873313359); d = md5ii(d, a, b, c, x[i + 15], 10, -30611744); c = md5ii(c, d, a, b, x[i + 6], 15, -1560198380); b = md5ii(b, c, d, a, x[i + 13], 21, 1309151649); a = md5ii(a, b, c, d, x[i + 4], 6, -145523070); d = md5ii(d, a, b, c, x[i + 11], 10, -1120210379); c = md5ii(c, d, a, b, x[i + 2], 15, 718787259); b = md5ii(b, c, d, a, x[i + 9], 21, -343485551); a = safeAdd(a, olda); b = safeAdd(b, oldb); c = safeAdd(c, oldc); d = safeAdd(d, oldd); } return [a, b, c, d]; } function binl2rstr(input) { var i; var output = \"\"; var length32 = input.length * 32; for (i = 0; i < length32; i += 8) { output += String.fromCharCode((input[i >> 5] >>> i % 32) & 0xff); } return output; } function rstr2binl(input) { var i; var output = []; output[(input.length >> 2) - 1] = undefined; for (i = 0; i < output.length; i += 1) { output[i] = 0; } var length8 = input.length * 8; for (i = 0; i < length8; i += 8) { output[i >> 5] |= (input.charCodeAt(i / 8) & 0xff) << i % 32; } return output; } function rstrMD5(s) { return binl2rstr(binlMD5(rstr2binl(s), s.length * 8)); } function rstrHMACMD5(key, data) { var i; var bkey = rstr2binl(key); var ipad = []; var opad = []; var hash; ipad[15] = opad[15] = undefined; if (bkey.length > 16) { bkey = binlMD5(bkey, key.length * 8); } for (i = 0; i < 16; i += 1) { ipad[i] = bkey[i] ^ 0x36363636; opad[i] = bkey[i] ^ 0x5c5c5c5c; } hash = binlMD5(ipad.concat(rstr2binl(data)), 512 + data.length * 8); return binl2rstr(binlMD5(opad.concat(hash), 512 + 128)); } function rstr2hex(input) { var hexTab = \"0123456789abcdef\"; var output = \"\"; var x; var i; for (i = 0; i < input.length; i += 1) { x = input.charCodeAt(i); output += hexTab.charAt((x >>> 4) & 0x0f) + hexTab.charAt(x & 0x0f); } return output; } function str2rstrUTF8(input) { return unescape(encodeURIComponent(input)); } function rawMD5(s) { return rstrMD5(str2rstrUTF8(s)); } function hexMD5(s) { return rstr2hex(rawMD5(s)); } function rawHMACMD5(k, d) { return rstrHMACMD5(str2rstrUTF8(k), str2rstrUTF8(d)); } function hexHMACMD5(k, d) { return rstr2hex(rawHMACMD5(k, d)); } function md5(string, key, raw) { if (!key) { if (!raw) { return hexMD5(string); } return rawMD5(string); } if (!raw) { return hexHMACMD5(key, string); } return rawHMACMD5(key, string); } exportTarget.md5 = md5; })(hashFunction); exportTarget.lcs_do = lcs_do; exportTarget.lcs_do_gdid = lcs_do_gdid; exportTarget.lcs_get_lpid = lcs_get_lpid; exportTarget.lcs_update_lpid = lcs_update_lpid; exportTarget.lcs_version = lcs_version; })(window); if (window.addEventListener) window.addEventListener(\"load\", function() { lcs_do({\"pid\": \"UosECsp0Jy0ssg1Yn2hssssstPR-250994\"}) }, false) ; else lcs_do({\"pid\": \"UosECsp0Jy0ssg1Yn2hssssstPR-250994\"}) ; </script> <script type=\"text/javascript\" src=\"https://ssl.pstatic.net/sstatic/sdyn.js?f=/au/pc/_nx/jindo_1.5.3_171116.js+/search/js/nhn.Component.js+/search/js/jindo.Component.1.1.0.js+/search/js/jindo.component.library_120927.js+/search/js/flashObject_121025.js+/au/pc/search_option/app_181122.js+/au/pc/naver_autocomplete/nhn.common.atcmp.naver_web_200326.js+/au/s/pc/_common/jindo/jindo.Rolling_140526.js+/au/pc/_common/nhn.common_181106.js+/au/pc/_nx/2017/nx_jquery_0622b.js+/au/pc/_nx/2019/nhn.common.ScriptErrorLogger.sauPc_190819.js&amp;o=search\" crossorigin=\"anonymous\"></script> <script type=\"text/javascript\"> var displayControlFuncObject ; var displayControlObject = { renderCount : 0, func : function () { if (this.renderCount > 5) return ; var elem = $Element('content') ; if (! elem) return ; var child = elem.child() ; for (var i = 0; i < child.length; i++) { if (child[i].hasClass('section') && !child[i].hasClass('nx_no_control')) { if (!child[i].visible()) child[i].show() ; } } if (this.renderCount++ > 5) displayControlFuncObject.detach(window, 'scroll') ; } } ; displayControlFuncObject = $Fn(displayControlObject.func, displayControlObject) ; displayControlFuncObject.attach(window, 'scroll') ; </script> <script> if (0 && nhn.common.ScriptErrorLogger) { nhn.common.ScriptErrorLogger.sauPcStart(); } function nx_add_event_handler (event, func) { $Fn(func).attach(document, event) ; } </script> <script type=\"text/javascript\"> function nx_form_submit (f) { if (g_D || 0) f.action = \"\" ; if (typeof naver.search.option !== 'undefined' && naver.search.option.mson) naver.search.option.append_params(f) ; return true ; } </script><script type=\"text/javascript\"> var g_site = \"\" ; function document_write (s) { document.write(s) ; } function nx_social_toggle (o) { var l = $Element($(\"social_use\")) ; if (o || l.hasClass('on')) l.removeClass('on') ; else l.addClass('on') ; } $Fn(function() { $Fn(function(e) { var link = $$.getSingle(\"div.social_layer\", document.body); if (link) { var el = e.element; var wel = $Element(el); elLink = $Element(link).$value(); if (!(link && (el == link || wel.isChildOf(link)))) { var l = $Element($(\"social_use\")) ; if (o || l.hasClass('on')) l.removeClass('on') ; } } }).attach(document.body, \"click\"); }).attach(window, \"load\"); nhn.jsLazyLoad = { include: function(a, b, c) { nx_js_lazyload(a, b, 0) ; } } ; nx_js_defer_load(\"https://ssl.pstatic.net/sstatic/au/s/pc/_others/nxtt/search_om.js\", function() {NXTT.div=document.getElementById(\"nxtt_div\");}, 50); </script></head> <body class=''> <div id=nxtt_div style=\"display:none;position:absolute;border-width:0;z-index:11000\"></div> <div id=\"u_skip\"> <a href=\"#lnb\"><span>메뉴 영역으로 바로가기</span></a> <a href=\"#content\"><span>본문 영역으로 바로가기</span></a> </div> <div id=\"wrap\"> <div id=\"header_wrap\" role=\"heading\"> <div class=\"header_group\"> <div class=\"search_area\"> <h1 class=\"special\"> <img src=\"https://ssl.pstatic.net/sstatic/search/nlogo/20200327155355.png\" width=\"330\" height=\"105\" usemap=\"#link_logo\" alt=\"네이버\"> <map id=\"link_logo\" name=\"link_logo\"> <area shape=\"rect\" coords=\"74,38,206,66\" href=\"https://www.naver.com\" onclick=\"return goOtherCR(this, 'a=sta.naver&amp;r=&amp;i=&amp;u='+urlencode(this.href));\"> </map> </h1> <form id=\"nx_search_form\" name=\"search\" action=\"?\" method=\"get\" role=\"search\" onsubmit=\"return nx_form_submit(this)\"> <fieldset class=\"greenwindow\"> <legend>검색</legend> <input type=\"hidden\" name=\"sm\" value=\"tab_hty.top\"> <input type=\"hidden\" name=\"where\" value=\"nexearch\"> <div class=\"greenbox\"> <span class=\"keyword\"> <input type=\"text\" id=\"nx_query\" name=\"query\" class=\"box_window\" maxlength=255 accesskey=\"s\" value=\"환율\" autocomplete=\"off\" title=\"검색어 입력\"> </span> </div> <input type=\"hidden\" name=\"oquery\" value=\"환율\"> <input type=\"hidden\" name=\"tqi\" value=\"UosECsp0Jy0ssg1Yn2hssssstPR-250994\"> <input type=\"hidden\" value=\"\" name=\"acq\" disabled> <input type=\"hidden\" value=\"\" name=\"acr\" disabled> <input type=\"hidden\" value=\"\" name=\"qdt\" disabled> <input type=\"hidden\" value=\"\" name=\"acir\" disabled> <input type=\"hidden\" value=\"\" name=\"os\" disabled> <input type=\"hidden\" value=\"\" name=\"bid\" disabled> <input type=\"hidden\" value=\"\" name=\"pkid\" disabled> <input type=\"hidden\" value=\"\" name=\"eid\" disabled> <input type=\"hidden\" value=\"\" name=\"mra\" disabled>     <div class=\"setkr_area\"> <!-- [D] 레이어 상태에 따라 title값 변화 필요 * 닫힌 경우 : title=\"한글 입력기 열기\" * 열린 경우 : title=\"한글 입력기 닫기\" --> <button id=\"ke_kbd_btn\" type=\"button\" class=\"bt_setkr\" title=\"한글 입력기 열기\" onclick=\"nx_ime_load(this);return tCR('a=sch.ime');\"><span class=\"spnew ico_keyboard\">한글 입력기</span></button> <style type=\"text/css\" id=\"_nx_kbd_style\"></style><div id=\"_nx_kbd\" style=\"display:none;\"></div> </div> <!--@code lang=\"html\" title=\"[JS] 한글입력기 레이지 로딩 하거나 열기/닫기 수행.\"--> <script type=\"text/javascript\"> function nx_ime_load_fail () { alert(\"네트워크 상태가 안 좋아 한영입력기를 불러오지 못했습니다.\\n잠시 후 다시 시도해 주세요.\"); } function nx_ime_load (elBtn) { if (window.nx_kbd_toggle) { nx_kbd_toggle(elBtn); return; } new $Ajax(\"https://ssl.pstatic.net/sstatic/au/pc/ime/ime.contents_170920.js\", { type : \"jsonp\", timeout : 3, callbackid : \"$get_ime\", onload : function (res) { var oData = res.json(); if (oData) { var elStyle = $(\"_nx_kbd_style\"); oData.ime_css += \"#_nx_kbd .setkorhelp a { display:none; }\" ; if (elStyle.styleSheet) { elStyle.styleSheet.cssText = oData.ime_css; } else { elStyle.innerHTML = oData.ime_css; } $(\"_nx_kbd\").innerHTML = oData.ime_html; nx_js_lazyload(\"https://ssl.pstatic.net/sstatic/au/s/pc/_common/ime/nhn.ime_search_140825.js\", function () { nx_kbd_toggle(elBtn); }); } else { nx_ime_load_fail(); } }, ontimeout : nx_ime_load_fail, onerror : nx_ime_load_fail }).request(); } </script> <div id=\"nautocomplete\" class=\"autocomplete\"> <a href=\"#\" class=\"bt_atcp _btn_arw fold\" onclick=\"return false;\"><span class=\"blind _text\">자동완성 펼치기</span><span class=\"ico_arrow spnew\"></span></a> </div> <button type=\"submit\" class=\"bt_search\" onmouseover=\"$Element(this).addClass('over');\" onmouseout=\"$Element(this).removeClass('over down');\" onmousedown=\"$Element(this).removeClass('over');$Element(this).addClass('down');\"><span class=\"spnew ico_search\">검색</span></button> <div class=\"ly_atcmp\" id=\"nx_autoframe_top\" style=\"display:none;\"> <iframe frameborder=\"0\" title=\"빈프레임\" style=\"display:none;display:block\\9;display:block\\0/;position:absolute;top:-1px;left:-1px;z-index:-1;width:100%;height:100%;padding:1px;filter:alpha(opacity=0);opacity:0\"></iframe> <div class=\"api_atcmp_wrap _atcmp\" style=\"display:none;\"> <div class=\"words _words\"> <div class=\"_atcmp_result_wrap\"> <ul class=\"_resultBox\"></ul> <ul class=\"_resultBox\"></ul> <ul class=\"_resultBox\"></ul> <ul class=\"_resultBox\"></ul> </div> <div class=\"add_group _atcmp_answer_wrap\"></div> </div> <div class=\"atcmp_plus _plus\"> <span class=\"desc\"> <span class=\"plus_txt\">시간대와 관심사에 맞춘 <em class='txt'>컨텍스트 자동완성</em></span> <a onclick=\"__atcmpCR(event, this, 'plus.help', '','','');\" href=\"https://help.naver.com/support/alias/search/word/word_16.naver\" target=\"_blank\" class=\"spat ico_info\"><span class=\"blind\">도움말 보기</span></a> </span> <span class=\"switch _plus_btn\"> <a href=\"#\" class=\"btn_turnon active\" onclick=\"__atcmpCR(event, this, 'plus.use', '','','');\">ON<span class=\"blind\">선택됨</span></a> <a href=\"#\" class=\"btn_turnoff\" onclick=\"__atcmpCR(event, this, 'plus.unuse', '','','');\">OFF</a> </span> <div class=\"layer_plus _plusAlert\"> <strong class=\"tit\">컨텍스트 자동완성</strong> <div class=\"_logout\" style=\"display:block;\"> <p class=\"dsc\"><em class=\"txt\">동일한 시간대/연령/남녀별</em> 사용자 그룹의<br>관심사에 맞춰 자동완성을 제공합니다.</p> <div class=\"btn_area\"> <a onclick=\"__atcmpCR(event, this, 'plus.login', '','','');\" href=\"https://nid.naver.com/nidlogin.login?url=https%3A%2F%2Fsearch.naver.com%2Fsearch.naver%3Fsm%3Dtop_hty%26fbm%3D0%26ie%3Dutf8%26query%3D%25ED%2599%2598%25EC%259C%25A8\" class=\"btn btn_login\">로그인</a> <a onclick=\"__atcmpCR(event, this, 'plus.detail', '','','');\" href=\"https://help.naver.com/support/alias/search/word/word_16.naver\" target=\"_blank\" class=\"btn btn_view\">자세히</a> </div> </div> <div class=\"_login\" style=\"display:none;\"> <p class=\"dsc\">ON/OFF설정은<br>해당 기기(브라우저)에 저장됩니다.</p> <div class=\"btn_area\"> <a onclick=\"__atcmpCR(event, this, 'plus.detail', '','','');\" href=\"https://help.naver.com/support/alias/search/word/word_21.naver\" target=\"_blank\" class=\"btn btn_view\">자세히</a> </div> </div> <button type=\"button\" class=\"btn_close _close\" onclick=\"__atcmpCR(event, this, 'plus.close', '','','');\"><i class=\"spat ico_close\">컨텍스트 자동완성 레이어 닫기</i></button> </div> </div> <p class=\"func _atcmpBtnGroup\"><span class=\"fl\"><a class=\"_help\" onclick=\"__atcmpCR(event, this, 'help', '','','');\" href=\"https://help.naver.com/support/alias/search/word/word_17.naver\" target=\"_blank\">도움말</a><span class=\"atcmp_bar\"></span><a onclick=\"__atcmpCR(event, this, 'report', '','','');\" href=\"https://help.naver.com/support/alias/search/word/word_18.naver\" target=\"_blank\" class=\"report\">신고</a></span><span><em><a class=\"hisoff\" href=\"javascript:;\">검색어저장 켜기</a><span class=\"atcmp_bar\"></span></em><a class=\"funoff\" href=\"javascript:;\">자동완성 끄기</a></span></p> <span class=\"atcmp_helper _help_tooltip1\">기능을 다시 켤 때는 <em class=\"ico_search spat\">검색창 오른쪽 화살표 버튼</em>을 클릭하세요</span> </div> <div class=\"api_atcmp_wrap _atcmpIng\" style=\"display:none;\"> <div class=\"words\"><p class=\"info_words\">현재 자동완성 기능을 사용하고 계십니다.</p></div> <p class=\"func _atcmpBtnGroup\"><span class=\"fl\"><a class=\"_help\" onclick=\"__atcmpCR(event, this, 'help', '','','');\" href=\"https://help.naver.com/support/alias/search/word/word_17.naver\" target=\"_blank\">도움말</a><span class=\"atcmp_bar\"></span><a onclick=\"__atcmpCR(event, this, 'report', '','','');\" href=\"https://help.naver.com/support/alias/search/word/word_18.naver\" target=\"_blank\" class=\"report\">신고</a></span><span><em><a class=\"hisoff\" href=\"javascript:;\">검색어저장 켜기</a><span class=\"atcmp_bar\"></span></em><a class=\"funoff\" href=\"javascript:;\">자동완성 끄기</a></span></p> <span class=\"atcmp_helper _help_tooltip2\">기능을 다시 켤 때는 <em class=\"ico_search spat\">검색창 오른쪽 화살표 버튼</em>을 클릭하세요</span> </div> <div class=\"api_atcmp_wrap _atcmpStart\" style=\"display:none;\"> <div class=\"words\"><p class=\"info_words\">자동완성 기능이 활성화되었습니다.</p></div> <p class=\"func _atcmpBtnGroup\"><span class=\"fl\"><a class=\"_help\" onclick=\"__atcmpCR(event, this, 'help', '','','');\" href=\"https://help.naver.com/support/alias/search/word/word_17.naver\" target=\"_blank\">도움말</a><span class=\"atcmp_bar\"></span><a onclick=\"__atcmpCR(event, this, 'report', '','','');\" href=\"https://help.naver.com/support/alias/search/word/word_18.naver\" target=\"_blank\" class=\"report\">신고</a></span><span><em><a class=\"hisoff\" href=\"javascript:;\">검색어저장 켜기</a><span class=\"atcmp_bar\"></span></em><a class=\"funoff\" href=\"javascript:;\">자동완성 끄기</a></span></p> <span class=\"atcmp_helper _help_tooltip3\">기능을 다시 켤 때는 <em class=\"ico_search spat\">검색창 오른쪽 화살표 버튼</em>을 클릭하세요</span> </div> <div class=\"api_atcmp_wrap _atcmpOff\" style=\"display:none;\"> <div class=\"words\"><p class=\"info_words\">자동완성 기능이 꺼져 있습니다.</p></div> <p class=\"func _atcmpBtnGroup\"><span class=\"fl\"><a class=\"_help\" onclick=\"__atcmpCR(event, this, 'help', '','','');\" href=\"https://help.naver.com/support/alias/search/word/word_17.naver\" target=\"_blank\">도움말</a><span class=\"atcmp_bar\"></span><a onclick=\"__atcmpCR(event, this, 'report', '','','');\" href=\"https://help.naver.com/support/alias/search/word/word_18.naver\" target=\"_blank\" class=\"report\">신고</a></span><span><em><a class=\"hisoff\" href=\"javascript:;\">검색어저장 켜기</a><span class=\"atcmp_bar\"></span></em><a class=\"funoff\" href=\"javascript:;\">자동완성 켜기</a></span></p> </div> <div class=\"api_atcmp_wrap _keywords\" style=\"display:none;\"> <div class=\"my_words\"> <div class=\"lst_tab\"> <ul><li class=\"on _recentTab\"><a href=\"javascript:;\">최근검색어</a></li> <li class=\"_myTab\"><a href=\"javascript:;\">내 검색어</a></li></ul> </div> <div class=\"words _recent\"> <ul><li data-rank=\"@rank@\"><a class=\"t@my@ _star _myBtn\" title=\"내 검색어 등록\" href=\"javascript:;\"><em class=\"spat\">내 검색어 등록</em></a><a href=\"javascript:;\" class=\"keyword\">@txt@</a><em class=\"keyword_date\">@date@.</em><a href=\"javascript:;\" class=\"btn_delete spat _del\" title=\"검색어삭제\">삭제</a><span style=\"display:none\">@in_txt@</span></li></ul> <div class=\"info_words _recentNone\" style=\"display:none\">최근검색어 내역이 없습니다.</div> <p class=\"info_words _offMsg\" style=\"display:none\">검색어 저장 기능이 꺼져 있습니다.</p> </div> <div class=\"words _my\" style=\"display:none\"> <ul><li data-rank=\"@rank@\"><a class=\"ton _star _myBtn\" title=\"내 검색어 해제\" href=\"javascript:;\"><em class=\"spat\">내 검색어 해제</em></a><a href=\"javascript:;\" class=\"keyword\">@txt@</a></li></ul> <div class=\"info_words _myNone\" style=\"display:none\">설정된 내 검색어가 없습니다.<br>최근검색어에서 <span class=\"star spat\">내 검색어 등록</span>를 선택하여 자주 찾는 검색어를<br />내 검색어로 저장해 보세요.</div> <p class=\"info_words _offMsg\" style=\"display:none\">검색어 저장 기능이 꺼져 있습니다.</p> </div> <p class=\"noti _noti\" style=\"display:none\"><em class=\"ico_noti spat\"><span class=\"blind\">알림</span></em>공용 PC에서는 개인정보 보호를 위하여 반드시 로그아웃을 해 주세요.</p> <p class=\"func _recentBtnGroup\"><span class=\"fl\"><a class=\"_delMode\" href=\"javascript:;\">기록 삭제</a></span><span><a class=\"_keywordOff\" href=\"javascript:;\">검색어저장 끄기</a><span class=\"atcmp_bar\"></span><a class=\"_acOff\" href=\"javascript:;\">자동완성 끄기</a></span></p> <p class=\"func _recentDelBtnGroup\" style=\"display:none\"><span class=\"fl\"><a class=\"_delAll\" href=\"javascript:;\" title=\"최근 검색어 기록을 모두 삭제합니다.\">기록 전체 삭제</a></span><span><a class=\"_delDone\" href=\"javascript:;\">완료</a></span></p> <p class=\"func _myBtnGroup\" style=\"display:none\"><span class=\"fl\"><a class=\"_delAll\" href=\"javascript:;\" title=\"설정된 내 검색어를 모두 삭제합니다.\">기록 전체 삭제</a></span><span><a class=\"_keywordOff\" href=\"javascript:;\">검색어저장 끄기</a><span class=\"atcmp_bar\"></span><a class=\"_acOff\" href=\"javascript:;\">자동완성 끄기</a></span></p> <span class=\"atcmp_helper _help2\">기능을 다시 켤 때는 <em class=\"ico_search spat\">검색창 오른쪽 화살표 버튼</em>을 클릭하세요</span> <div class=\"ly_noti _maxLayer\" style=\"display:none\"> <span class=\"mask\"></span> <p><span class=\"ico_alert spat\"></span>내 검색어는 <em>최대 10</em>개 까지 저장할 수 있습니다.<br />추가하시려면 기존 내 검색어를 지워주세요. <a href=\"javascript:;\" class=\"btn_close _close\"><i class=\"spat ico_close\">닫기</i></a></p> </div> </div> </div> <div class=\"api_atcmp_wrap _alert\" style=\"display:none;\"> <div class=\"api_atcmp_alert\"> <p class=\"dsc_txt\"> <span class=\"ico_alert spat\"></span><span class=\"_passage\"></span> <span class=\"term\"><span class=\"_term\"></span><a href=\"#\" class=\"link _link\" target=\"_blank\" nocr onclick=\"return goOtherCR(this,'a=sug.vote&r=&i=&u='+urlencode(this.href));\">자세히보기</a></span> </p> </div> </div> </div> </fieldset> </form> </div> <div id=\"gnb\"> <script type=\"text/javascript\"> var gnb_option = { gnb_service : \"search\", gnb_template : \"gnb_utf8\", gnb_logout : encodeURIComponent(location.href), gnb_login : encodeURIComponent(location.href), gnb_brightness : 1 , gnb_item_hide_option : 0 } ; var gnb_url = \"https://ssl.pstatic.net/static.gn/templates/gnb_utf8.nhn\" ; nx_js_defer_load(gnb_url + \"?\" + headerfooter_time_year_s + headerfooter_time_month_s + headerfooter_time_day_s + headerfooter_time_hour_s, function() { getGNB() ; $Fn(function(we) { if (typeof gnbAllLayerClose == \"function\") { var bShowLayer = gnbUserLayer.show || gnbNaverMeLayer.show || gnbMoreLayer.show; var bClickGNBArea = $Element($$.getSingle(\"ul.gnb_lst\")).isEqual(we.element) || $Element($$.getSingle(\"ul.gnb_lst\")).isParentOf(we.element); if (bShowLayer && !bClickGNBArea) { gnbAllLayerClose(); } } }, this).attach(document, \"click\"); }, 0) ; </script> </div> </div><script> var nx_usain_beacon = function() { var sent = 0; var tags = []; (function addUagentInfo() { var nav = jindo.$Agent().navigator(); if (nav.version) { var version = \"\"; var vers = (nav.version + \"\").split('.'); version = vers[0]; if (version > 0) { tags.push('ua.' + nav.getName() + '.' + version); } } })(); var usain_obj = { send: function() { if (sent > 0) { return; } sent = 1; setTimeout(function() { var perf = \"\" ; perf = (function () { function _(t) { return (t?(t-window.performance.timing.navigationStart):0); } ; if (typeof(window.performance) == \"undefined\"){ return \"\"} if (typeof(window.performance.timing) == \"undefined\"){ return \"\"} if (typeof(window.performance.navigation) == \"undefined\"){ return \"\"} var t = window.performance.timing ; var n = window.performance.navigation ; return \"navt=\" + [_(t.navigationStart), _(t.unloadEventStart), _(t.unloadEventEnd), _(t.redirectStart), _(t.redirectEnd), _(t.fetchStart), _(t.domainLookupStart), _(t.domainLookupEnd), _(t.connectStart), _(t.connectEnd), _(t.requestStart), _(t.responseStart), _(t.responseEnd), _(t.domLoading), _(t.domInteractive), _(t.domContentLoadedEventStart), _(t.domContentLoadedEventEnd), _(t.domComplete), _(t.loadEventStart), _(t.loadEventEnd), n.type, n.redirectCount].join(\":\") ; }) () ; if (document.location.protocol === 'https:') { tags.push('_ssl'); } else { tags.push('_nossl'); } var queries = []; if (perf) { queries.push(perf); } queries.push(\"tags=\" + tags.join(\":\") ); var u = new Image() ; u.src = \"https://er.search.naver.com/er?v=2&\" + queries.join(\"&\"); u.onload = function() { u.onload = null ; } }, 250); }, add_tag: function(tag) { tags.push(tag); } }; return usain_obj; }(); </script> <div id=\"lnb\" tabindex=\"0\"> <div class=\"lnb_group\"><div class=\"lnb_menu\"> <ul class=\"base\"> <li class=\"lnb0\"><a href=\"?where=nexearch&amp;sm=tab_jum&amp;query=%ED%99%98%EC%9C%A8\" onclick=\"return goOtherCR(this,'a=tab*N.now&amp;r=1&amp;i=&amp;u='+urlencode(this.href));\" class=\"tab on\"><span class=\"spnew name\">통합검색</span></a></li><li class=\"lnb4\"><a href=\"?where=news&amp;sm=tab_jum&amp;query=%ED%99%98%EC%9C%A8\" onclick=\"return goOtherCR(this,'a=tab*n.jmp&amp;r=2&amp;i=&amp;u='+urlencode(this.href));\" class=\"tab\"><span class=\"spnew name\">뉴스</span></a></li><li class=\"lnb7\"><a href=\"?where=realtime&amp;sm=tab_jum&amp;query=%ED%99%98%EC%9C%A8\" onclick=\"return goOtherCR(this,'a=tab*r.jmp&amp;r=3&amp;i=&amp;u='+urlencode(this.href));\" class=\"tab\"><span class=\"spnew name\">실시간검색</span></a></li><li class=\"lnb8\"><a href=\"https://dict.naver.com/search.nhn?dicQuery=%ED%99%98%EC%9C%A8&amp;query=%ED%99%98%EC%9C%A8&amp;target=dic&amp;query_utf=&amp;isOnlyViewEE=\" onclick=\"return goOtherCR(this,'a=tab*L.jmp&amp;r=4&amp;i=&amp;u='+urlencode(this.href));\" class=\"tab\" target=\"_blank\"><span class=\"spnew name\">어학사전</span><i class=\"spnew ico_window\">새창</i></a></li><li class=\"lnb13\"><a href=\"https://map.naver.com/v5/search/%ED%99%98%EC%9C%A8\" onclick=\"return goOtherCR(this,'a=tab*M.jmp&amp;r=5&amp;i=&amp;u='+urlencode(this.href));\" class=\"tab\" target=\"_blank\"><span class=\"spnew name\">지도</span><i class=\"spnew ico_window\">새창</i></a></li><li class=\"lnb6\"><a href=\"?where=article&amp;sm=tab_jum&amp;query=%ED%99%98%EC%9C%A8\" onclick=\"return goOtherCR(this,'a=tab*c.jmp&amp;r=6&amp;i=&amp;u='+urlencode(this.href));\" class=\"tab\"><span class=\"spnew name\">카페</span></a></li><li class=\"lnb12\"><a href=\"https://search.shopping.naver.com/search/all.nhn?where=all&amp;frm=NVSCTAB&amp;query=%ED%99%98%EC%9C%A8\" onclick=\"return goOtherCR(this,'a=tab*S.jmp&amp;r=7&i=&amp;u='+urlencode(this.href));\" class=\"tab\" target=\"_blank\"><span class=\"spnew name\">쇼핑</span><i class=\"spnew ico_window\">새창</i></a></li><li class=\"lnb10\"><a href=\"?where=kdic&amp;sm=tab_jum&amp;query=%ED%99%98%EC%9C%A8\" onclick=\"return goOtherCR(this,'a=tab*K.jmp&amp;r=8&amp;i=&amp;u='+urlencode(this.href));\" class=\"tab\"><span class=\"spnew name\">지식백과</span></a></li></ul> <div id=\"_nx_lnb_more\" class=\"more_area\"> <a href=\"#\" class=\"lnb_more\" onclick=\"jQuery('#_nx_lnb_more').toggleClass('more_on'); tCR(jQuery('#_nx_lnb_more').hasClass('more_on') ? 'a=tab.more' : 'a=tmr.less'); return false;\"><span class=\"spnew name\">더보기</span></a> <div class=\"addon\"> <iframe frameborder=\"0\" title=\"빈프레임\" style=\"display:none;display:block\\9;display:block\\0/;position:absolute;top:-1px;left:-1px;z-index:-1;width:100%;height:100%;padding:1px;filter:alpha(opacity=0);opacity:0\"></iframe> <ul><li class=\"lnb2\"><a href=\"?where=image&amp;sm=tab_jum&amp;query=%ED%99%98%EC%9C%A8\" onclick=\"return goOtherCR(this,'a=tmr*i.jmp&amp;r=1&amp;i=&amp;u='+urlencode(this.href));\" class=\"tab\"><span class=\"spnew name\">이미지</span></a></li><li class=\"lnb3\"><a href=\"?where=post&amp;sm=tab_jum&amp;query=%ED%99%98%EC%9C%A8\" onclick=\"return goOtherCR(this,'a=tmr*b.jmp&amp;r=2&amp;i=&amp;u='+urlencode(this.href))\" class=\"tab\"><span class=\"spnew name\">블로그</span></a></li><li class=\"lnb5\"><a href=\"?where=kin&amp;sm=tab_jum&amp;query=%ED%99%98%EC%9C%A8\" onclick=\"return goOtherCR(this,'a=tmr*k.jmp&amp;r=3&amp;i=&amp;u='+urlencode(this.href));\" class=\"tab\"><span class=\"spnew name\">지식iN</span></a></li><li class=\"lnb15\"><a href=\"https://book.naver.com/search/search.nhn?query=%ED%99%98%EC%9C%A8\" onclick=\"return goOtherCR(this,'a=tmr*B.jmp&amp;r=4&amp;i=&amp;u='+urlencode(this.href));\" class=\"tab\" target=\"_blank\"><span class=\"spnew name\">책</span><i class=\"spnew ico_window\">새창</i></a></li><li class=\"lnb21\"><a href=\"?where=webkr&amp;sm=tab_jum&amp;query=%ED%99%98%EC%9C%A8\" onclick=\"return goOtherCR(this,'a=tmr*w.jmp&amp;r=5&amp;i=&amp;u='+urlencode(this.href));\" class=\"tab\"><span class=\"spnew name\">웹사이트</span></a></li><li class=\"lnb20\"><a href=\"https://m.post.naver.com/search/post.nhn?keyword=%ED%99%98%EC%9C%A8\" onclick=\"return goOtherCR(this,'a=tmr*p.jmp&amp;r=6&amp;i=&amp;u='+urlencode(this.href));\" class=\"tab\" target=\"_blank\"><span class=\"spnew name\">포스트</span><i class=\"spnew ico_window\">새창</i></a></li><li class=\"lnb1\"><a href=\"?where=video&amp;sm=tab_jum&amp;query=%ED%99%98%EC%9C%A8\" onclick=\"return goOtherCR(this,'a=tmr*v.jmp&amp;r=7&amp;i=&amp;u='+urlencode(this.href));\" class=\"tab\"><span class=\"spnew name\">동영상</span></a></li><li class=\"lnb14\"><a href=\"https://vibe.naver.com/search?query=%ED%99%98%EC%9C%A8\" onclick=\"return goOtherCR(this,'a=tmr*m.jmp&amp;r=8&amp;i=&amp;u='+urlencode(this.href));\" class=\"tab\" target=\"_blank\"><span class=\"spnew name\">뮤직</span><i class=\"spnew ico_window\">새창</i></a></li><li class=\"lnb16\"><a href=\"https://academic.naver.com/search.naver?field=0&amp;query=%ED%99%98%EC%9C%A8\" onclick=\"return goOtherCR(this,'a=tmr*a.jmp&amp;r=9&amp;i=&amp;u='+urlencode(this.href));\" class=\"tab\" target=\"_blank\"><span class=\"spnew name\">학술정보</span><i class=\"spnew ico_window\">새창</i></a></li><li class=\"lnb9\"><a href=\"https://audioclip.naver.com/search/all?keyword=%ED%99%98%EC%9C%A8\" onclick=\"return goOtherCR(this,'a=tmr*A.jmp&amp;r=10&amp;i=&amp;u='+urlencode(this.href));\" class=\"tab\" target=\"_blank\"><span class=\"spnew name\">오디오클립</span><i class=\"spnew ico_window\">새창</i></a></li> </ul> </div> </div> <a href=\"#\" id=\"_search_option_btn\" class=\"bt_option\" onclick=\"return tCR('a=fno.option');\" title=\"검색옵션 열기\">검색옵션<span class=\"spnew ico_arrow\"></span></a> </div><div class=\"lnb_util\"> <ul class=\"list_util\"> <li> <a href=\"https://help.naver.com/support/alias/search/integration/integration_1.naver\" onclick=\"return goOtherCR(this, 'u='+urlencode(this.href)+'&amp;a=fno.help&amp;r=&amp;i='); return false;\" class=\"bt_help\" target=\"_blank\"><span class=\"spnew ico_help\">도움말</span></a> </li> <li> <a href=\"https://help.naver.com/support/alias/search/integration/integration_2.naver\" onclick=\"return goOtherCR(this, 'u='+urlencode(this.href)+'&amp;a=fno.origin&amp;r=&amp;i='); return false;\" class=\"bt_origin\" target=\"_blank\"><span class=\"spnew ico_origin\">원본반영</span></a> </li> <li> <a href=\"#\" id=\"spiButton2\" class=\"bt_share naver-splugin\" onclick=\"return tCR('a=fno.pplugin');\" data-evkey=\"search\" data-service-name=\"통합검색\" data-style=\"unity-v2\" data-use-short-url=\"on\" data-me-display=\"off\" data-mail-display=\"off\" data-option=\"{baseElement:'spiButton2', layerPosition:'outside-bottom', align:'right', top:4, left:0, marginLeft:8, marginTop:10}\" data-blog-url=\"https://search.naver.com/search.naver?fbm=0&amp;ie=utf8&amp;query=%ED%99%98%EC%9C%A8&amp;sm=svc_pin.blog\" data-cafe-url=\"https://search.naver.com/search.naver?fbm=0&amp;ie=utf8&amp;query=%ED%99%98%EC%9C%A8&amp;sm=svc_pin.cafe\" data-cafe-source-form=\"2\" data-memo-url=\"https://search.naver.com/search.naver?fbm=0&amp;ie=utf8&amp;query=%ED%99%98%EC%9C%A8&amp;sm=svc_pin.memo\" data-calendar-url=\"https://search.naver.com/search.naver?fbm=0&amp;ie=utf8&amp;query=%ED%99%98%EC%9C%A8&amp;sm=svc_pin.cal\" data-twitter-url=\"https://search.naver.com/search.naver?fbm=0&amp;ie=utf8&amp;query=%ED%99%98%EC%9C%A8&amp;sm=twp_pin\" data-facebook-url=\"https://search.naver.com/search.naver?fbm=0&amp;ie=utf8&amp;query=%ED%99%98%EC%9C%A8&amp;sm=fbp_pin\" data-band-url=\"https://search.naver.com/search.naver?fbm=0&amp;ie=utf8&amp;query=%ED%99%98%EC%9C%A8&amp;sm=bdp_pin\" title=\"보내기 열기/닫기\"><span class=\"spnew naver-splugin-c ico_share\"></span><span class=\"blind\">보내기</span></a> </li> </ul> </div><script type=\"text/javascript\"> nx_js_defer_load(\"https://ssl.pstatic.net/spi/js/release/ko_KR/splugin.js?\" + headerfooter_time_year_s + headerfooter_time_month_s + headerfooter_time_day_s, function() { g_nx_splugin = SocialPlugIn_Core({ \"evKey\" : \"search\", \"serviceName\" : \"통합검색\" }) ; }, 150) ; function splugin_oninitialize(sTargetId) { var elTarget = document.getElementById(sTargetId) ; var sUrl = $$.getSingle('a._sp_each_url', elTarget ).href ; var sTitle = $Element($$.getSingle('._sp_each_title', elTarget)).text() ; var sSource = $Element($$.getSingle('._sp_each_source', elTarget)) ; if (sSource) sSource = sSource.text() ; return { \"url\" : sUrl, \"title\" : sTitle, \"option\" : {baseElement:sTargetId + '_base', layerPosition:'outside-bottom', align:'right', top:18, left:-28, marginLeft:8, marginTop:10}, \"me\" : { display : \"off\" }, \"mail\" : { display : \"off\" }, \"sourceName\" : sSource } ; } </script><script> nx_js_defer_load(\"//search.like.naver.com/static/js/likeIt.list.js?\" + headerfooter_time_year_s + headerfooter_time_month_s + headerfooter_time_day_s, function() { nhn.LikeIt.list.util.init({ sId : \"SEARCH\", sDomain : \"//search.like.naver.com\", bMobile : false }) ; }, 150) ; </script></div> </div><script type=\"text/javascript\"> naver.search.option = {} ; naver.search.option.mson = 0 ; naver.search.option.params = {} ; naver.search.option.append_params = (function () { return function (f) { for (var k in naver.search.option.params) { var v = naver.search.option.params[k] ; var input = document.createElement(\"input\"); input.type = \"hidden\"; input.name = k ; input.value = v ; f.appendChild(input); } return true ; } ; })() ; naver.search.option.get_params = (function () { return function () { var option_params = \"\" ; if (naver.search.option.mson) { for (var k in naver.search.option.params) { var v = naver.search.option.params[k] ; option_params = option_params.concat(\"&\" + k + \"=\" + urlencode(v)) ; } } return option_params ; } ; })() ; function nx_set_option_switch (on) { var o_on = $Element(\"nx_option_mson\") ; var o_off = $Element(\"nx_option_msoff\") ; var ton ; var toff ; var domain = \"search.naver.com\" ; if (on) { ton = o_on ; toff = o_off ; if (1) naver.search.option.mson = 2 ; else naver.search.option.mson = 1 ; nx_set_cookie(\"nx_mson\", naver.search.option.mson, null, domain) ; } else { ton = o_off ; toff = o_on ; naver.search.option.mson = 0 ; nx_set_cookie(\"nx_mson\", \"\", new Date(new Date().getTime() - 86400), domain) ; } if (!ton.hasClass(\"on\")) { ton.html(ton.text() + '<span class=\"blind\">(선택됨)</span>') ; ton.addClass(\"on\") ; } if (toff.hasClass(\"on\")) { var c = toff.child()[0] ; if (c) toff.remove(c) ; toff.removeClass(\"on\") ; } } </script><div id=\"snb\" style=\"display:none;\"> <div class=\"snb_inner\"> <ul class=\"option_menu\"><li class=\"menu\"> <a href=\"#\" class=\"m\" onclick=\"return tCR('a=fno.sortlink');\" id=\"_nx_search_option_sort_link\">정렬<span class=\"spim\"></span></a> <div class=\"snb_itembox\"> <iframe frameborder=\"0\" title=\"빈프레임\" style=\"display:none;display:block\\9;display:block\\0/;position:absolute;top:-1px;left:-1px;z-index:-1;width:100%;height:100%;padding:1px;filter:alpha(opacity=0);opacity:0\"></iframe> <ul class=\"lst_choice\"> <li id=\"_nx_option_sort_relevance\"><a href=\"#\" onclick=\"nx_searchOptionSelect('so', 'r'); return false;\">관련도순</a></li> <li id=\"_nx_option_sort_date\"><a href=\"#\" onclick=\"nx_searchOptionSelect('so', 'dd'); return false;\">최신순</a></li> </ul> </div> </li> <li class=\"menu\"> <a href=\"#\" class=\"m\" onclick=\"return tCR('a=fno.datelink');\" id=\"_nx_search_option_date_link\">기간<span class=\"spim\"></span></a> <div id=\"_nx_option_date\" class=\"snb_itembox\"> <iframe frameborder=\"0\" title=\"빈프레임\" style=\"display:none;display:block\\9;display:block\\0/;position:absolute;top:-1px;left:-1px;z-index:-1;width:100%;height:100%;padding:1px;filter:alpha(opacity=0);opacity:0\"></iframe> <ul class=\"lst_choice\"> <li id=\"_nx_option_period_all\"><a href=\"#\" onclick=\"nx_searchOptionSelect('p', 'all'); return false;\">전체</a></li> <li id=\"_nx_option_period_1d\"><a href=\"#\" onclick=\"nx_searchOptionSelect('p', '1d'); return false;\">1일</a></li> <li id=\"_nx_option_period_1w\"><a href=\"#\" onclick=\"nx_searchOptionSelect('p', '1w'); return false;\">1주</a></li> <li id=\"_nx_option_period_1m\"><a href=\"#\" onclick=\"nx_searchOptionSelect('p', '1m'); return false;\">1개월</a></li> <li id=\"_nx_option_period_1y\"><a href=\"#\" onclick=\"nx_searchOptionSelect('p', '1y'); return false;\">1년</a></li> </ul> <div class=\"item_option set_calendar\"> <p class=\"tit\">직접입력</p> <div class=\"input_box _input_box_start\"> <input type=\"text\" title=\"검색기간 시작일\" value=\"\" class=\"input_txt _input_start\" id=\"_nx_date_from\"> <a href=\"#\" class=\"spim _btn_start\" onclick=\"return tCR('a=fno.datecalenderopen');\">달력 레이어 호출</a> </div> <div class=\"input_box _input_box_end\"> <input type=\"text\" title=\"검색기간 종료일\" value=\"\" class=\"input_txt _input_end\" id=\"_nx_date_to\"> <a href=\"#\" class=\"spim _btn_end\" onclick=\"return tCR('a=fno.datecalenderopen');\">달력 레이어 호출</a> </div> <div class=\"ly_option_alert _alert_layer\" style=\"top:127px; display:none;\">잘못된 날짜형식입니다.<br> <em>(yyy.mm.dd)</em><span class=\"spim arrow\" style=\"left:101px;\"></span></div> <span class=\"btn_inp\"><button class=\"_btn_submit\" type=\"button\"><span class=\"tx\">적용하기</span></button></span> </div> </div> </li> <li class=\"menu\"> <a href=\"#\" class=\"m\" onclick=\"return tCR('a=fno.alink');\" id=\"_nx_search_option_area_link\">영역<span class=\"spim\"></span></a> <div class=\"snb_itembox\"> <iframe frameborder=\"0\" title=\"빈프레임\" style=\"display:none;display:block\\9;display:block\\0/;position:absolute;top:-1px;left:-1px;z-index:-1;width:100%;height:100%;padding:1px;filter:alpha(opacity=0);opacity:0\"></iframe> <ul class=\"lst_choice\"> <li id=\"_nx_option_area_all\"><a href=\"#\" onclick=\"nx_searchOptionSelect('a', 'all'); return false;\">전체</a></li> <li id=\"_nx_option_area_title\"><a href=\"#\" onclick=\"nx_searchOptionSelect('a', 't'); return false;\">제목</a></li> </ul> </div> </li> <li class=\"option_keep\"> <div class=\"option_choice\"> 옵션유지 <span class=\"option\"> <button id=\"nx_option_msoff\" type=\"button\" onclick=\"nx_set_option_switch(false); return tCR('a=fno.msoff');\">꺼짐</button><button id=\"nx_option_mson\" type=\"button\" onclick=\"nx_set_option_switch(true); return tCR('a=fno.mson');\">켜짐</button> </span> <span class=\"bar\"></span> </div> </li><script type=\"text/javascript\"> nx_set_option_switch(naver.search.option.mson) ; var nx_opt_sort = 'r' ; var nx_opt_period = 'all' ; var nx_opt_area = 'all' ; var nx_opt_sm_def = 'tab_opt' ; function nx_searchOptionSelect (type, value) { var sm = undefined ; var cr_area = \"\" ; if (type == 'so') { sm = 'tab_srt' ; switch (value) { case 'dd' : nx_opt_sort = value ; cr_area = 'fno.sortdate' ; break ; case 'r' : default : nx_opt_sort = 'r' ; cr_area = 'fno.sortsim' ; break ; } }else if (type == 'p') { switch (value) { case '1d' : nx_opt_period = value ; cr_area = 'fno.dateoneday' ; break ; case '1w' : nx_opt_period = value ; cr_area = 'fno.dateoneweek' ; break ; case '1m' : nx_opt_period = value ; cr_area = 'fno.dateonemonth' ; break ; case '1y' : nx_opt_period = value ; cr_area = 'fno.dateoneyear' ; break ; case 'all' : default : nx_opt_period = 'all' ; cr_area = 'fno.dateperiodall' ; break ; case 'direct' : var from = document.getElementById('_nx_date_from') ; var to = document.getElementById('_nx_date_to') ; if (!from.value) { from.value = '1990.01.01' ; } if (!to.value) { var d = new Date(); to.value = d.getFullYear() + '.' + ((d.getMonth()+1) < 10 ? \"0\" : \"\") + (d.getMonth()+1) + '.' + (d.getDate() < 10 ? \"0\" : \"\") + d.getDate() ; } var from_val = from.value.replace(/\\./g, '') ; var to_val = to.value.replace(/\\./g, '') ; if (from_val > to_val) { var tmp_val = from_val ; from_val = to_val ; to_val = tmp_val ; } nx_opt_period='from' + from_val + 'to' + to_val ; cr_area = 'fno.datecustomapply' ; break ; } } else if (type == 'a') { switch (value) { case 't' : nx_opt_area = value ; cr_area = 'fno.areafieldtit' ; break ; case 'all' : default : nx_opt_area = 'all' ; cr_area = 'fno.areafieldall' ; break ; } } else { alert('Invalid option!') ; } nx_searchOptionSubmit(cr_area, sm) ; } function nx_searchOptionSubmit (area, s) { var sm = (s == undefined ? nx_opt_sm_def : s) ; var nso = 'so:' + nx_opt_sort + ',p:' + nx_opt_period + ',a:' + nx_opt_area ; var formElem = document.getElementById('nx_search_form') ; naver.search.option.params[\"nso\"] = nso ; naver.search.option.append_params(formElem) ; formElem.sm.value = urlencode(sm) ; formCR('nx_search_form', area) ; } function nx_searchOptionReset () { var formElem = document.getElementById('nx_search_form') ; formElem.query.value = headerfooter_query ; formElem.sm.value = urlencode(nx_opt_sm_def) ; formCR('nx_search_form', 'opt.default') ; } function nx_searchOptionConvertPeriodFormat (val) { switch (val) { case '1d' : return \"1day\" ; case '1w' : return \"1week\" ; case '1m' : return \"1month\" ; case '1y' : return \"1year\" ; case 'all' : return \"all\" ; default : return \"all\" ; } } var start_year = headerfooter_time_year ; var start_month = headerfooter_time_month ; var start_day = headerfooter_time_day ; var end_year = headerfooter_time_year ; var end_month = headerfooter_time_month ; var end_day = headerfooter_time_day ; function nx_set_strong (elem) { elem.addClass('selected') ; elem.first().appendHTML('<span class=\"blind\">선택됨</span>') ; } function nx_searchOptionInit () { var elem ; if (nx_opt_sort == 'dd') { elem = $Element('_nx_option_sort_date') ; if (elem) $Element('_nx_search_option_sort_link').html(elem.first().text() + '<span class=\"spim\"></span>') ; } else { elem = $Element('_nx_option_sort_relevance') ; } if (elem) nx_set_strong(elem) ; if (nx_opt_area == 't') { elem = $Element('_nx_option_area_title') ; if (elem) $Element('_nx_search_option_area_link').html(elem.first().text() + '<span class=\"spim\"></span>') ; } else { elem = $Element('_nx_option_area_all') ; } if (elem) nx_set_strong(elem) ; if (nx_opt_period == 'all') { elem = $Element('_nx_option_period_all') ; } else if (nx_opt_period.match('^from') == 'from') { var period_start = nx_opt_period.replace(/^from/g, '').replace(/to.*$/g,'') ; var period_end = nx_opt_period.replace(/^from[0-9]*to/g, '') ; period_start = period_start.replace(/(....)(..)(..)/g, '$1-$2-$3') ; period_end = period_end.replace(/(....)(..)(..)/g, '$1-$2-$3') ; $Element('_nx_search_option_date_link').html(period_start + ' -' + period_end + '<span class=\"spim\"></span>') ; } else { elem = $Element('_nx_option_period_' + nx_opt_period) ; if (elem) $Element('_nx_search_option_date_link').html(elem.first().text() + '<span class=\"spim\"></span>') ; } if (elem) nx_set_strong(elem) ; else { result = nx_opt_period.match(/^from(\\d{4})(\\d{2})(\\d{2})to(\\d{4})(\\d{2})(\\d{2})/) ; if (result && result.length >= 6) { start_year = result[1] ; start_month = result[2] ; start_day = result[3] ; end_year = result[4] ; end_month = result[5] ; end_day = result[6] ; } } } nx_searchOptionInit() ; </script><li class=\"menu\"> <a href=\"#\" class=\"m\" onclick=\"return tCR('a=fno.dtslink');\">상세검색<span class=\"spim\"></span></a> <div id=\"_nx_option_detail\" class=\"snb_itembox ly_detailsch\"> <iframe frameborder=\"0\" title=\"빈프레임\" style=\"display:none;display:block\\9;display:block\\0/;position:absolute;top:-1px;left:-1px;z-index:-1;width:100%;height:100%;padding:1px;filter:alpha(opacity=0);opacity:0\"></iframe> <div class=\"sch_inner\"> <div class=\"sctitle_txt scroll _preview\"></div> <div class=\"sch_data\"> <dl class=\"sch_option\"> <dt><label for=\"inpop0\">기본검색</label></dt> <dd> <div class=\"inp_op\"><input type=\"text\" id=\"inpop0\" title=\"기본검색어 입력\" class=\"_base\"></div> <p class=\"rule_check\"><input type=\"checkbox\" id=\"rch\" class=\"incr _or\" onclick=\"tCR('a=fno.dtsors');\"><label for=\"rch\">입력한 단어가 하나이상 포함된 문서 검색</label></p> </dd> </dl> <dl class=\"sch_option more_sch\"> <dt><label for=\"inpop1\">상세검색</label></dt> <dd> <div class=\"inp_op\"><input type=\"text\" id=\"inpop1\" class=\"_exact\"><label for=\"inpop1\" class=\"_placeholder_exact\">정확히 일치하는 단어/문장(\" \")</label></div> <div class=\"inp_op\"><input type=\"text\" id=\"inpop2\" class=\"_include\"><label for=\"inpop2\" class=\"_placeholder_include\">반드시 포함하는 단어(+)</label></div> <div class=\"inp_op\"><input type=\"text\" id=\"inpop3\" class=\"_exclude\"><label for=\"inpop3\" class=\"_placeholder_exclude\">제외하는 단어(-)</label></div> <div class=\"tx_area\"> <p class=\"tx_noti\">기본검색의 결과 범위를 줄이고자 할 때 사용합니다.<br>여러개의 단어를 입력하실 때는<span class=\"tx\">쉼표(,)</span>로 구분해서 입력하세요.</p> </div> </dd> </dl> </div> <div class=\"sch_foot\"> <a href=\"https://help.naver.com/support/alias/search/integration/integration_4.naver\" target=\"_blank\" class=\"btn_help\" onclick=\"return goOtherCR(this, 'u='+urlencode(this.href)+'&amp;a=fno.dtshelp');\">도움말</a> <a href=\"#\" class=\"btn_initial _reset\" onclick=\"return tCR('a=fno.dtsclear');\">초기화</a> <button class=\"btn_ft ty_green _search\" onclick=\"return tCR('a=fno.dtssrch');\"><span>검색</span></button><button class=\"btn_ft _close\" onclick=\"return tCR('a=fno.dtsclose');\"><span>닫기</span></button> </div> </div> </div> </li></ul> </div> </div> <script type=\"text/javascript\"> /* 검색옵션 모듈 생성 */ var oNXSearchOption = new nhn.SearchOption($('_search_option_btn'), $('snb'), {open:false}); </script><script> /* 검색옵션 - 상세검색 - !!상세 옵션이 있는 탭에서만 생성해주세요. */ new nhn.SearchOption.Detail( $(\"_nx_option_detail\"), { s_base: \"환율\", b_or: false, a_exact: [], a_include: [], a_exclude: [] } ); </script><div class=\"op_calendar _date_option_calendar_layer\"> <div class=\"h_cal\"> <strong class=\"calendar-title\">2014.04</strong> <a class=\"bt_pv2 calendar-btn-prev-year\" href=\"#\" onclick=\"return tCR('a=fno.datecalendercheck');\" title=\"이전 년도\"><span>이전 년도</span></a> <a class=\"bt_pv calendar-btn-prev-mon\" href=\"#\" onclick=\"return tCR('a=fno.datecalendercheck');\" title=\"이전 달\"><span>이전 달</span></a> <a class=\"bt_nx calendar-btn-next-mon\" href=\"#\" onclick=\"return tCR('a=fno.datecalendercheck');\" title=\"다음 달\"><span>다음 달</span></a> <a class=\"bt_nx2 calendar-btn-next-year\" href=\"#\" onclick=\"return tCR('a=fno.datecalendercheck');\" title=\"다음 년도\"><span>다음 년도</span></a> </div> <div class=\"cal_date\"> <table cellspacing=\"0\" cellpadding=\"0\"> <caption class=\"blind\">기간 설정 달력</caption> <thead> <tr> <th scope=\"col\">일</th> <th scope=\"col\">월</th> <th scope=\"col\">화</th> <th scope=\"col\">수</th> <th scope=\"col\">목</th> <th scope=\"col\">금</th> <th scope=\"col\">토</th> </tr> </thead> <tbody> <tr class=\"calendar-week\"> <td> <a href=\"#\" class=\"calendar-date\" onclick=\"return tCR('a=fno.datecalendercheck');\"></a> </td> <td> <a href=\"#\" class=\"calendar-date\" onclick=\"return tCR('a=fno.datecalendercheck');\"></a> </td> <td> <a href=\"#\" class=\"calendar-date\" onclick=\"return tCR('a=fno.datecalendercheck');\"></a> </td> <td> <a href=\"#\" class=\"calendar-date\" onclick=\"return tCR('a=fno.datecalendercheck');\"></a> </td> <td> <a href=\"#\" class=\"calendar-date\" onclick=\"return tCR('a=fno.datecalendercheck');\"></a> </td> <td> <a href=\"#\" class=\"calendar-date\" onclick=\"return tCR('a=fno.datecalendercheck');\"></a> </td> <td> <a href=\"#\" class=\"calendar-date\" onclick=\"return tCR('a=fno.datecalendercheck');\"></a> </td> </tr> </tbody> </table> </div> <p class=\"today _footer\"><span>오늘날짜</span><a href=\"#\" class=\"_today\" onclick=\"return tCR('a=fno.datecalendertoday');\"></a> </p> <a class=\"ly_close _close\" href=\"#\" onclick=\"return tCR('a=fno.datecalenderclose');\"> <img src=\"https://ssl.pstatic.net/sstatic/keypage/lifesrch/sports/img2010/bt_ly_close.gif\" width=\"11\" height=\"11\" alt=\"닫기\"> </a> </div><script> /* 검색옵션 - 기간 - !!기간 옵션이 있는 탭에서만 생성해주세요.!! */ $Fn(function () { new nhn.SearchOption.Date( $(\"_nx_option_date\"), { /* 적용 버튼 혹은 enter 키 입력시 호출되는 함수 */ fSubmit: function(p) { if (p) { nx_searchOptionSelect('p', 'direct'); } else { return tCR('a=opt.periodinputapply'); } }, htCalendar: { /* 시작일을 나타내는 캘린더의 초기 설정될 날짜 값 */ htStartDate: {nYear: start_year,nMonth: start_month,nDate: start_day}, /* 종료일을 나타내는 캘린더의 초기 설정될 날짜 값 */ htEndDate: {nYear: end_year,nMonth: end_month,nDate: end_day}, /* 유효한 날짜 범위중 최소 날짜 (예. 1990.1.1) */ htMinDate: {nYear: 1990,nMonth: 1,nDate: 1}, /* 유효한 날짜 범위중 최대 날짜 (예. 오늘날자) */ htMaxDate: {nYear: headerfooter_time_year,nMonth: headerfooter_time_month,nDate: headerfooter_time_day}, /* 오늘날자 */ htTodayDate: {nYear: headerfooter_time_year,nMonth: headerfooter_time_month,nDate: headerfooter_time_day,nDay: headerfooter_time_wday} } } ); }).attach(window, \"load\") ; </script><script type=\"text/javascript\"> $Fn(function (we) { var el = we.element, elLnbMore = $(\"_nx_lnb_more\"); if (el != elLnbMore && !$Element(elLnbMore).isParentOf(el)) { $Element('_nx_lnb_more').removeClass('more_on'); } }).attach(document, \"click\"); </script></div><script type=\"text/javascript\"> var nx_location_rcode = \"08350105\" ; </script><div id=\"container\" role=\"main\"> <div id=\"content\" class=\"pack_group\"> <h1 class=\"blind\">환율 통합검색 결과</h1> <div id=\"main_pack\" class=\"main_pack\"><script type='text/javascript'>var nx_cr_area_info=[{ n:\"nco_x5m\",r:1 },{ n:\"nws_all\",r:2 },{ n:\"rea_doc\",r:3 },{ n:\"caf_bas\",r:4 },{ n:\"blg_1st\",r:5 },{ n:\"kdc_gng\",r:6 },{ n:\"pst_bas\",r:7 },{ n:\"web_all\",r:8 },{ n:\"pwl_nop\",r:9 }];</script><div id=\"nx_related_keywords\" class=\"sp_keyword section\"> <dl class=\"relate_area _related_keyword_area\"> <dt><span class=\"tit_relate  _related_keyword_lis\">연관검색어</span ><a onclick=\"return goOtherCR(this, 'a=rsk_top.guide&r=&i=&u='+urlencode(urlexpand(this.href)));\" href=\"https://help.naver.com/support/alias/search/word/word_1.naver\" target=\"_blank\" class=\"link_help\" ><i class=\"sprenew api_ico_help\">도움말</i></a></dt> <dd class=\"lst_relate _related_keyword_list\" style=\"display: block;\"> <ul class=\"_related_keyword_ul\"> <li> <a href=\"?where=nexearch&query=%EC%BD%94%EC%8A%A4%ED%94%BC&ie=utf8&sm=tab_she&qdt=0\" data-idx=\"1\" data-area=\"*q\">코스피</a> </li> <li> <a href=\"?where=nexearch&query=%EC%82%BC%EC%84%B1%EC%A0%84%EC%9E%90&ie=utf8&sm=tab_she&qdt=0\" data-idx=\"2\" data-area=\"*q\">삼성전자</a> </li> <li> <a href=\"?where=nexearch&query=%EA%B8%88%EC%8B%9C%EC%84%B8&ie=utf8&sm=tab_she&qdt=0\" data-idx=\"3\" data-area=\"*q\">금시세</a> </li> <li> <a href=\"?where=nexearch&query=%EC%A3%BC%EA%B0%80&ie=utf8&sm=tab_she&qdt=0\" data-idx=\"4\" data-area=\"*q\">주가</a> </li> <li> <a href=\"?where=nexearch&query=%EC%9C%A0%EA%B0%80&ie=utf8&sm=tab_she&qdt=0\" data-idx=\"5\" data-area=\"*q\">유가</a> </li> <li> <a href=\"?where=nexearch&query=%EC%A3%BC%EC%8B%9D&ie=utf8&sm=tab_she&qdt=0\" data-idx=\"6\" data-area=\"*q\">주식</a> </li> <li> <a href=\"?where=nexearch&query=%EA%B8%88%EA%B0%92&ie=utf8&sm=tab_she&qdt=0\" data-idx=\"7\" data-area=\"*q\">금값</a> </li> <li> <a href=\"?where=nexearch&query=%ED%99%98%EC%9C%A8%EA%B3%84%EC%82%B0%EA%B8%B0&ie=utf8&sm=tab_she&qdt=0\" data-idx=\"8\" data-area=\"*q\">환율계산기</a> </li> <li> <a href=\"?where=nexearch&query=%EA%B5%AD%EC%A0%9C%EC%9C%A0%EA%B0%80&ie=utf8&sm=tab_she&qdt=0\" data-idx=\"9\" data-area=\"*q\">국제유가</a> </li> <li> <a href=\"?where=nexearch&query=%EC%A6%9D%EC%8B%9C&ie=utf8&sm=tab_she&qdt=0\" data-idx=\"10\" data-area=\"*q\">증시</a> </li> </ul> </dd> <dd class=\"closed _related_keyword_closed\" style=\"display:none\"> 닫기 후 1주일간 유지됩니다. 연관검색어를 다시 보시겠습니까? <a href=\"#\" class=\"open _related_keyword_toggle\" onclick=\"return false;\" role=\"button\">열기</a></dd> </dl> <div class=\"ly_option _related_keyword_option\" style=\"display: block;\"> <a href=\"#\" class=\"btn_more _related_keyword_btn_more\" onclick=\"return false;\" style=\"display: none;\" role=\"button\"><span class=\"unfold\">더보기<span class=\"spkw ico_darr\"></span></span><span class=\"fold\">접기<span class=\"spkw ico_uarr\"></span></span></a><a class=\"btn_report\" href=\"https://help.naver.com/support/alias/search/word/word_2.naver\" target=\"_blank\" onclick=\"return goOtherCR(this, 'a=rsk_top.report&r=&i=&u='+urlencode(urlexpand(this.href)));\">신고</a> <a href=\"#\" class=\"btn_close _related_keyword_toggle\" onclick=\"return false;\" role=\"button\"><span class=\"spkw\">검색어제안 기능 닫기</span></a> </div> </div> <script type=\"text/javascript\"> (function() { jQuery( document ).ready(function() { var elRoot = jQuery(\"#nx_related_keywords\"); var elKs = elRoot.find(\"._related_keyword_list\"); var btnMore = elRoot.find(\"._related_keyword_btn_more\"); var cr = \"rsk_top\"; var ck = \"qre\"; var sectionWidth = document.getElementById(\"nx_related_keywords\").offsetWidth; function init() { elKs.hide(); if (nx_get_cookie(ck)) show_list(false); else show_list(true); } function rearrange_list() { var eD = elRoot.find(\"._related_keyword_area\"); var c = \"relate_area_v1\"; var h1, h2; h1 = elKs.find(\"._related_keyword_ul\"); h2 = h1.find(\"li\").last(); if (h2.offset().top - h1.offset().top < 50) { btnMore.hide(); eD.addClass(c); } else { btnMore.show(); eD.removeClass(c); } } function show_list(doOpen) { var eClose = elRoot.find(\"._related_keyword_closed\"); var eOption = elRoot.find(\"._related_keyword_option\"); if (doOpen) { elKs.show(); eClose.hide(); eOption.show(); } else { elKs.hide(); eClose.show(); eOption.hide(); } } btnMore.on( \"click\", function(e) { var lg = cr + \".list1more\"; if (elRoot.hasClass(\"unfold\")) lg = cr + \".list1close\"; elRoot.toggleClass(\"unfold\"); return tCR(lg, 1, \"\"); }); elRoot.find(\"._related_keyword_toggle\").on( \"click\", function(e) { var lg, d; if (jQuery(e.currentTarget).hasClass(\"open\")) { lg = cr + \".1unfold\"; show_list(true); nx_set_cookie(ck, \"\", -1, nx_au_cookie_domain); } else { lg = cr + \".1fold\"; show_list(false); d = new Date(); d.setDate(d.getDate() + 7); nx_set_cookie(ck, 1, d, nx_au_cookie_domain); } return tCR(lg, 1, \"\"); }); elKs.find(\"> ul > li > a\").on( \"click\", function(e) { var oThis = e.currentTarget; var eT = jQuery(oThis); return goOtherCR(oThis, 'a=' + cr + eT.attr(\"data-area\") + '.list1&r=' + eT.attr(\"data-idx\") + '&i=&u=' + urlencode(oThis.href)); }); init(); rearrange_list(); }); })(); </script> <script type=text/javascript>var g_uad = false; </script><link rel=\"stylesheet\" type=\"text/css\" href=\"https://ssl.pstatic.net/sstatic/keypage/outside/scui/foreigninfo/css/cs_exchangerate_new_200122.css\"> <div class=\"content_search section\" id=\"_cs_foreigninfo\" data-dss-logarea=\"x5m\"> <div class=\"contents03\"> <div id=\"header\"> <h3>해외정보</h3> </div> <div class=\"contents03_sub\"> <div class=\"cs_foreigninfo\"> <ul class=\"lst_tab\"> <li> <a nocr onclick=\"return goOtherCR(this, 'a=nco_x5m*a.map&r=1&i=0800042F_00000028AC42&u=' + urlencode(this.href));\" href=\"?where=nexearch&sm=tab_etc&query=%EC%84%B8%EA%B3%84%EC%A7%80%EB%8F%84\" class=\"tab_map\"> <span class=\"blind\">세계지도</span> </a> </li> <li> <a nocr onclick=\"return goOtherCR(this, 'a=nco_x5m*a.time&r=1&i=0800042F_00000028AC42&u=' + urlencode(this.href));\" href=\"?where=nexearch&sm=tab_etc&query=%EC%84%B8%EA%B3%84%EC%8B%9C%EA%B0%84\" class=\"tab_time\"> <span class=\"blind\">세계시간</span> </a> </li> <li> <a nocr onclick=\"return goOtherCR(this, 'a=nco_x5m*a.code&r=1&i=0800042F_00000028AC42&u=' + urlencode(this.href));\" href=\"?where=nexearch&sm=tab_etc&query=%EA%B5%AD%EA%B0%80%EB%B2%88%ED%98%B8\" class=\"tab_num\"> <span class=\"blind\">국가번호</span> </a> </li> <li class=\"on\"> <a nocr onclick=\"return goOtherCR(this, 'a=nco_x5m*a.exrat&r=1&i=0800042F_00000028AC42&u=' + urlencode(this.href));\" href=\"?where=nexearch&sm=tab_etc&query=%ED%99%98%EC%9C%A8\" class=\"tab_rate\"> <span class=\"blind\">환율</span> </a> </li> </ul> <div class=\"c_rate\"> <div class=\"rate_bx\"> <div class=\"rate_spot _rate_spot\"> <div class=\"rate_tlt\"> <h3> <a nocr onclick=\"return goOtherCR(this, 'a=nco_x5m*a.titlay&r=1&i=0800042F_00000028AC42&u=' + urlencode(this.href));\" href=\"https://finance.naver.com/marketindex/?tabSel=exchange#tab_section\" target=\"_blank\" > <span class=\"title\"><span class=\"rate_nm\">원달러</span><em class=\"t_nm\">미국USD</em></span> <span class=\"spt_con dw\"> <span class=\"blind\">지수</span><strong>1,220.00</strong> <span class=\"price\"> <span class=\"blind\">전일대비</span><span class=\"ico\">하락</span><em>8.00</em> <em>(-0.65%)</em> </span> </span> </a> </h3> </div> <div class=\"cont_grp _graph\"> <div class=\"grp_nav\"> <h4 class=\"blind\">기간별 정보</h4> <ul> <li class=\"on _tab\"><a nocr onclick=\"goOtherTCR(this, 'a=nco_x5m*a.cht3m&r=1&i=0800042F_00000028AC42');return false;\" href=\"#\">3개월</a></li> <li class=\"_tab\"><a nocr onclick=\"goOtherTCR(this, 'a=nco_x5m*a.cht1y&r=1&i=0800042F_00000028AC42');return false;\" href=\"#\">1년</a></li> <li class=\"_tab\"><a nocr onclick=\"goOtherTCR(this, 'a=nco_x5m*a.cht3y&r=1&i=0800042F_00000028AC42');return false;\" href=\"#\">3년</a></li> <li class=\"_tab\"><a nocr onclick=\"goOtherTCR(this, 'a=nco_x5m*a.cht10y&r=1&i=0800042F_00000028AC42');return false;\" href=\"#\">10년</a></li> </ul> </div> <div class=\"grp_img\"> <div class=\"img _panel\"> <a nocr onclick=\"return goOtherCR(this, 'a=nco_x5m*a.cht3m&r=1&i=0800042F_00000028AC42&u=' + urlencode(this.href));\" href=\"https://finance.naver.com/marketindex/?tabSel=exchange#tab_section\" target=\"_blank\"><img src=\"https://ssl.pstatic.net/imgfinance/chart/mobile/marketindex/month3/FX_USDKRW_search.png?sidcode=1476753629698\" width=\"300\" height=\"186\" alt=\"3개월그래프\"></a> </div> <div class=\"img _panel\" style=\"display:none\"> <a nocr onclick=\"return goOtherCR(this, 'a=nco_x5m*a.chut1y&r=1&i=0800042F_00000028AC42&u=' + urlencode(this.href));\" href=\"https://finance.naver.com/marketindex/?tabSel=exchange#tab_section\" target=\"_blank\"><img src=\"https://ssl.pstatic.net/imgfinance/chart/mobile/marketindex/year/FX_USDKRW_search.png?sidcode=1476753629698\" width=\"300\" height=\"186\" alt=\"1년그래프\"></a> </div> <div class=\"img _panel\" style=\"display:none\"> <a nocr onclick=\"return goOtherCR(this, 'a=nco_x5m*a.chut3y&r=1&i=0800042F_00000028AC42&u=' + urlencode(this.href));\" href=\"https://finance.naver.com/marketindex/?tabSel=exchange#tab_section\" target=\"_blank\"><img src=\"https://ssl.pstatic.net/imgfinance/chart/mobile/marketindex/year3/FX_USDKRW_search.png?sidcode=1476753629698\" width=\"300\" height=\"186\" alt=\"3년그래프\"></a> </div> <div class=\"img _panel\" style=\"display:none\"> <a nocr onclick=\"return goOtherCR(this, 'a=nco_x5m*a.chut10y&r=1&i=0800042F_00000028AC42&u=' + urlencode(this.href));\" href=\"https://finance.naver.com/marketindex/?tabSel=exchange#tab_section\" target=\"_blank\"><img src=\"https://ssl.pstatic.net/imgfinance/chart/mobile/marketindex/year10/FX_USDKRW_search.png?sidcode=1476753629698\" width=\"300\" height=\"186\" alt=\"10년그래프\"></a> </div> </div> <p class=\"grp_info\"> <em>2020.03.27 20:00</em> <a nocr onclick=\"return goOtherCR(this, 'a=nco_x5m*a.logo&r=1&i=0800042F_00000028AC42&u=' + urlencode(this.href));\" href=\"https://www.kebhana.com/\" target=\"_blank\"> <img src=\"https://ssl.pstatic.net/sstatic/keypage/outside/scui/foreigninfo/img/img_hana_v2.png\" width=\"51px\" height=\"14px\" alt=\"하나은행 로그이미지\" > </a> </p> </div> </div> <div class=\"rate_compare\"> <div class=\"rate_select_bx\"> <div class=\"rate_select _radio_box\" data-query=\"u1\" data-option-query=\"u8=down&amp;u5=all\"> <div class=\"check_area\"> <ul> <li> <div class=\"radio_check _radioBtn on\" data-value=\"keb\"> <a nocr onclick=\"goOtherTCR(this, 'a=nco_x5m*a.bank&r=1&i=0800042F_00000028AC42');return false;\" href=\"#\"> <div class=\"ico_radio\"></div><span class=\"radio_text\">하나은행</span></a> </div> </li> <li> <div class=\"radio_check _radioBtn \" data-value=\"shb\"> <a nocr onclick=\"goOtherTCR(this, 'a=nco_x5m*a.bank&r=1&i=0800042F_00000028AC42');return false;\" href=\"#\"> <div class=\"ico_radio\"></div><span class=\"radio_text\">신한은행</span></a> </div> </li> </ul> </div> </div> </div> <div class=\"rate_select_bx type2\"> <div class=\"rate_select _select_box\" data-query=\"u6\" data-option-query=\"u8=down&amp;u5=all\"> <a nocr onclick=\"goOtherTCR(this, 'a=nco_x5m*a.deal&r=1&i=0800042F_00000028AC42');return false;\" href=\"#\" class=\"_trigger _text\">매매기준율</a> <div class=\"ch_wrap_ly bank_ly_left _list\" style=\"display: none;\"> <ul class=\"ly_cont _l\"> <li class=\"_i\" data-value=\"buy\"><a onclick='return goOtherCR(this,&quot;a=nco_x5m*a&r=1&i=&quot;+urlencode(&quot;0800042F_00000028AC42&quot;)+&quot;&u=&quot;+urlencode(this.href));' href=\"#\">현찰 살때</a></li> <li class=\"_i\" data-value=\"sell\"><a onclick='return goOtherCR(this,&quot;a=nco_x5m*a&r=1&i=&quot;+urlencode(&quot;0800042F_00000028AC42&quot;)+&quot;&u=&quot;+urlencode(this.href));' href=\"#\">현찰 팔때</a></li> <li class=\"_i\" data-value=\"send\"><a onclick='return goOtherCR(this,&quot;a=nco_x5m*a&r=1&i=&quot;+urlencode(&quot;0800042F_00000028AC42&quot;)+&quot;&u=&quot;+urlencode(this.href));' href=\"#\">송금 보낼때</a></li> <li class=\"_i\" data-value=\"receive\"><a onclick='return goOtherCR(this,&quot;a=nco_x5m*a&r=1&i=&quot;+urlencode(&quot;0800042F_00000028AC42&quot;)+&quot;&u=&quot;+urlencode(this.href));' href=\"#\">송금 받을때</a></li> <li class=\"_i on\" data-value=\"standardUnit\"><a onclick='return goOtherCR(this,&quot;a=nco_x5m*a&r=1&i=&quot;+urlencode(&quot;0800042F_00000028AC42&quot;)+&quot;&u=&quot;+urlencode(this.href));' href=\"#\">매매기준율</a></li> </ul> </div> </div> <div class=\"rate_select _select_box\" data-query=\"u7\" data-option-query=\"u8=down&amp;u5=all\"> <a nocr onclick=\"goOtherTCR(this, 'a=nco_x5m*a.coupon&r=1&i=0800042F_00000028AC42');return false;\" href=\"#\" class=\"_trigger _text\">환율우대없음</a> <div class=\"ch_wrap_ly bank_ly_right _list\" style=\"display: none;\"> <ul class=\"ly_cont _l\"> <li class=\"_i on\" data-value=\"0\"><a onclick='return goOtherCR(this,&quot;a=nco_x5m*a&r=1&i=&quot;+urlencode(&quot;0800042F_00000028AC42&quot;)+&quot;&u=&quot;+urlencode(this.href));' href=\"#\">환율우대없음</a></li> <li class=\"_i\" data-value=\"0.9\"><a onclick='return goOtherCR(this,&quot;a=nco_x5m*a&r=1&i=&quot;+urlencode(&quot;0800042F_00000028AC42&quot;)+&quot;&u=&quot;+urlencode(this.href));' href=\"#\">환율우대 90%</a></li> <li class=\"_i\" data-value=\"0.8\"><a onclick='return goOtherCR(this,&quot;a=nco_x5m*a&r=1&i=&quot;+urlencode(&quot;0800042F_00000028AC42&quot;)+&quot;&u=&quot;+urlencode(this.href));' href=\"#\">환율우대 80%</a></li> <li class=\"_i\" data-value=\"0.7\"><a onclick='return goOtherCR(this,&quot;a=nco_x5m*a&r=1&i=&quot;+urlencode(&quot;0800042F_00000028AC42&quot;)+&quot;&u=&quot;+urlencode(this.href));' href=\"#\">환율우대 70%</a></li> <li class=\"_i\" data-value=\"0.6\"><a onclick='return goOtherCR(this,&quot;a=nco_x5m*a&r=1&i=&quot;+urlencode(&quot;0800042F_00000028AC42&quot;)+&quot;&u=&quot;+urlencode(this.href));' href=\"#\">환율우대 60%</a></li> <li class=\"_i\" data-value=\"0.5\"><a onclick='return goOtherCR(this,&quot;a=nco_x5m*a&r=1&i=&quot;+urlencode(&quot;0800042F_00000028AC42&quot;)+&quot;&u=&quot;+urlencode(this.href));' href=\"#\">환율우대 50%</a></li> <li class=\"_i\" data-value=\"0.4\"><a onclick='return goOtherCR(this,&quot;a=nco_x5m*a&r=1&i=&quot;+urlencode(&quot;0800042F_00000028AC42&quot;)+&quot;&u=&quot;+urlencode(this.href));' href=\"#\">환율우대 40%</a></li> <li class=\"_i\" data-value=\"0.3\"><a onclick='return goOtherCR(this,&quot;a=nco_x5m*a&r=1&i=&quot;+urlencode(&quot;0800042F_00000028AC42&quot;)+&quot;&u=&quot;+urlencode(this.href));' href=\"#\">환율우대 30%</a></li> <li class=\"_i\" data-value=\"0.2\"><a onclick='return goOtherCR(this,&quot;a=nco_x5m*a&r=1&i=&quot;+urlencode(&quot;0800042F_00000028AC42&quot;)+&quot;&u=&quot;+urlencode(this.href));' href=\"#\">환율우대 20%</a></li> <li class=\"_i\" data-value=\"0.1\"><a onclick='return goOtherCR(this,&quot;a=nco_x5m*a&r=1&i=&quot;+urlencode(&quot;0800042F_00000028AC42&quot;)+&quot;&u=&quot;+urlencode(this.href));' href=\"#\">환율우대 10%</a></li> </ul> </div> </div> </div> <div class=\"compare_area\"> <div class=\"compare_section\"> <div class=\"fr_info\"> <div id=\"ds_sel\" class=\"sbox\"> <div class=\"selectbox_box _select_box\" data-query=\"u3\" data-option-query=\"u8=down&amp;u5=all\"> <div class=\"selectbox_label _trigger\"> <span class=\"nation_usd _flag\"> <img src=\"https://ssl.pstatic.net/sstatic/keypage/image/direct/img_blank.gif\" class=\"_img\" alt=\"미국 USD\" width=\"1\" height=\"1\"> </span> <label class=\"_text\">미국 <em>USD</em></label> </div> <div class=\"ch_wrap_ly ly_rate scroll _list\" style=\"display: none;\"> <ul class=\"ly_cont _l\"> <li class=\"_i\" data-value=\"KRW\"><a onclick='return goOtherCR(this,&quot;a=nco_x5m*a&r=1&i=&quot;+urlencode(&quot;0800042F_00000028AC42&quot;)+&quot;&u=&quot;+urlencode(this.href));' href=\"#\">대한민국 KRW</a></li> <li class=\"_i\" data-value=\"ZAR\"><a onclick='return goOtherCR(this,&quot;a=nco_x5m*a&r=1&i=&quot;+urlencode(&quot;0800042F_00000028AC42&quot;)+&quot;&u=&quot;+urlencode(this.href));' href=\"#\">남아프리카 공화국 ZAR</a></li> <li class=\"_i\" data-value=\"NPR\"><a onclick='return goOtherCR(this,&quot;a=nco_x5m*a&r=1&i=&quot;+urlencode(&quot;0800042F_00000028AC42&quot;)+&quot;&u=&quot;+urlencode(this.href));' href=\"#\">네팔 NPR</a></li> <li class=\"_i\" data-value=\"NOK\"><a onclick='return goOtherCR(this,&quot;a=nco_x5m*a&r=1&i=&quot;+urlencode(&quot;0800042F_00000028AC42&quot;)+&quot;&u=&quot;+urlencode(this.href));' href=\"#\">노르웨이 NOK</a></li> <li class=\"_i\" data-value=\"NZD\"><a onclick='return goOtherCR(this,&quot;a=nco_x5m*a&r=1&i=&quot;+urlencode(&quot;0800042F_00000028AC42&quot;)+&quot;&u=&quot;+urlencode(this.href));' href=\"#\">뉴질랜드 NZD</a></li> <li class=\"_i\" data-value=\"TWD\"><a onclick='return goOtherCR(this,&quot;a=nco_x5m*a&r=1&i=&quot;+urlencode(&quot;0800042F_00000028AC42&quot;)+&quot;&u=&quot;+urlencode(this.href));' href=\"#\">대만 TWD</a></li> <li class=\"_i\" data-value=\"DKK\"><a onclick='return goOtherCR(this,&quot;a=nco_x5m*a&r=1&i=&quot;+urlencode(&quot;0800042F_00000028AC42&quot;)+&quot;&u=&quot;+urlencode(this.href));' href=\"#\">덴마크 DKK</a></li> <li class=\"_i\" data-value=\"RUB\"><a onclick='return goOtherCR(this,&quot;a=nco_x5m*a&r=1&i=&quot;+urlencode(&quot;0800042F_00000028AC42&quot;)+&quot;&u=&quot;+urlencode(this.href));' href=\"#\">러시아 RUB</a></li> <li class=\"_i\" data-value=\"MOP\"><a onclick='return goOtherCR(this,&quot;a=nco_x5m*a&r=1&i=&quot;+urlencode(&quot;0800042F_00000028AC42&quot;)+&quot;&u=&quot;+urlencode(this.href));' href=\"#\">마카오 MOP</a></li> <li class=\"_i\" data-value=\"MYR\"><a onclick='return goOtherCR(this,&quot;a=nco_x5m*a&r=1&i=&quot;+urlencode(&quot;0800042F_00000028AC42&quot;)+&quot;&u=&quot;+urlencode(this.href));' href=\"#\">말레이시아 MYR</a></li> <li class=\"_i\" data-value=\"MXN\"><a onclick='return goOtherCR(this,&quot;a=nco_x5m*a&r=1&i=&quot;+urlencode(&quot;0800042F_00000028AC42&quot;)+&quot;&u=&quot;+urlencode(this.href));' href=\"#\">멕시코 MXN</a></li> <li class=\"_i\" data-value=\"MNT\"><a onclick='return goOtherCR(this,&quot;a=nco_x5m*a&r=1&i=&quot;+urlencode(&quot;0800042F_00000028AC42&quot;)+&quot;&u=&quot;+urlencode(this.href));' href=\"#\">몽골 MNT</a></li> <li class=\"_i on\" data-value=\"USD\"><a onclick='return goOtherCR(this,&quot;a=nco_x5m*a&r=1&i=&quot;+urlencode(&quot;0800042F_00000028AC42&quot;)+&quot;&u=&quot;+urlencode(this.href));' href=\"#\">미국 USD</a></li> <li class=\"_i\" data-value=\"BHD\"><a onclick='return goOtherCR(this,&quot;a=nco_x5m*a&r=1&i=&quot;+urlencode(&quot;0800042F_00000028AC42&quot;)+&quot;&u=&quot;+urlencode(this.href));' href=\"#\">바레인 BHD</a></li> <li class=\"_i\" data-value=\"BDT\"><a onclick='return goOtherCR(this,&quot;a=nco_x5m*a&r=1&i=&quot;+urlencode(&quot;0800042F_00000028AC42&quot;)+&quot;&u=&quot;+urlencode(this.href));' href=\"#\">방글라데시 BDT</a></li> <li class=\"_i\" data-value=\"VND\"><a onclick='return goOtherCR(this,&quot;a=nco_x5m*a&r=1&i=&quot;+urlencode(&quot;0800042F_00000028AC42&quot;)+&quot;&u=&quot;+urlencode(this.href));' href=\"#\">베트남 VND</a></li> <li class=\"_i\" data-value=\"BRL\"><a onclick='return goOtherCR(this,&quot;a=nco_x5m*a&r=1&i=&quot;+urlencode(&quot;0800042F_00000028AC42&quot;)+&quot;&u=&quot;+urlencode(this.href));' href=\"#\">브라질 BRL</a></li> <li class=\"_i\" data-value=\"BND\"><a onclick='return goOtherCR(this,&quot;a=nco_x5m*a&r=1&i=&quot;+urlencode(&quot;0800042F_00000028AC42&quot;)+&quot;&u=&quot;+urlencode(this.href));' href=\"#\">브루나이 BND</a></li> <li class=\"_i\" data-value=\"SAR\"><a onclick='return goOtherCR(this,&quot;a=nco_x5m*a&r=1&i=&quot;+urlencode(&quot;0800042F_00000028AC42&quot;)+&quot;&u=&quot;+urlencode(this.href));' href=\"#\">사우디아라비아 SAR</a></li> <li class=\"_i\" data-value=\"SEK\"><a onclick='return goOtherCR(this,&quot;a=nco_x5m*a&r=1&i=&quot;+urlencode(&quot;0800042F_00000028AC42&quot;)+&quot;&u=&quot;+urlencode(this.href));' href=\"#\">스웨덴 SEK</a></li> <li class=\"_i\" data-value=\"CHF\"><a onclick='return goOtherCR(this,&quot;a=nco_x5m*a&r=1&i=&quot;+urlencode(&quot;0800042F_00000028AC42&quot;)+&quot;&u=&quot;+urlencode(this.href));' href=\"#\">스위스 CHF</a></li> <li class=\"_i\" data-value=\"SGD\"><a onclick='return goOtherCR(this,&quot;a=nco_x5m*a&r=1&i=&quot;+urlencode(&quot;0800042F_00000028AC42&quot;)+&quot;&u=&quot;+urlencode(this.href));' href=\"#\">싱가포르 SGD</a></li> <li class=\"_i\" data-value=\"AED\"><a onclick='return goOtherCR(this,&quot;a=nco_x5m*a&r=1&i=&quot;+urlencode(&quot;0800042F_00000028AC42&quot;)+&quot;&u=&quot;+urlencode(this.href));' href=\"#\">아랍에미리트 AED</a></li> <li class=\"_i\" data-value=\"GBP\"><a onclick='return goOtherCR(this,&quot;a=nco_x5m*a&r=1&i=&quot;+urlencode(&quot;0800042F_00000028AC42&quot;)+&quot;&u=&quot;+urlencode(this.href));' href=\"#\">영국 GBP</a></li> <li class=\"_i\" data-value=\"OMR\"><a onclick='return goOtherCR(this,&quot;a=nco_x5m*a&r=1&i=&quot;+urlencode(&quot;0800042F_00000028AC42&quot;)+&quot;&u=&quot;+urlencode(this.href));' href=\"#\">오만 OMR</a></li> <li class=\"_i\" data-value=\"JOD\"><a onclick='return goOtherCR(this,&quot;a=nco_x5m*a&r=1&i=&quot;+urlencode(&quot;0800042F_00000028AC42&quot;)+&quot;&u=&quot;+urlencode(this.href));' href=\"#\">요르단 JOD</a></li> <li class=\"_i\" data-value=\"EUR\"><a onclick='return goOtherCR(this,&quot;a=nco_x5m*a&r=1&i=&quot;+urlencode(&quot;0800042F_00000028AC42&quot;)+&quot;&u=&quot;+urlencode(this.href));' href=\"#\">유럽연합 EUR</a></li> <li class=\"_i\" data-value=\"ILS\"><a onclick='return goOtherCR(this,&quot;a=nco_x5m*a&r=1&i=&quot;+urlencode(&quot;0800042F_00000028AC42&quot;)+&quot;&u=&quot;+urlencode(this.href));' href=\"#\">이스라엘 ILS</a></li> <li class=\"_i\" data-value=\"EGP\"><a onclick='return goOtherCR(this,&quot;a=nco_x5m*a&r=1&i=&quot;+urlencode(&quot;0800042F_00000028AC42&quot;)+&quot;&u=&quot;+urlencode(this.href));' href=\"#\">이집트 EGP</a></li> <li class=\"_i\" data-value=\"INR\"><a onclick='return goOtherCR(this,&quot;a=nco_x5m*a&r=1&i=&quot;+urlencode(&quot;0800042F_00000028AC42&quot;)+&quot;&u=&quot;+urlencode(this.href));' href=\"#\">인도 INR</a></li> <li class=\"_i\" data-value=\"IDR\"><a onclick='return goOtherCR(this,&quot;a=nco_x5m*a&r=1&i=&quot;+urlencode(&quot;0800042F_00000028AC42&quot;)+&quot;&u=&quot;+urlencode(this.href));' href=\"#\">인도네시아 IDR</a></li> <li class=\"_i\" data-value=\"JPY\"><a onclick='return goOtherCR(this,&quot;a=nco_x5m*a&r=1&i=&quot;+urlencode(&quot;0800042F_00000028AC42&quot;)+&quot;&u=&quot;+urlencode(this.href));' href=\"#\">일본 JPY</a></li> <li class=\"_i\" data-value=\"CNY\"><a onclick='return goOtherCR(this,&quot;a=nco_x5m*a&r=1&i=&quot;+urlencode(&quot;0800042F_00000028AC42&quot;)+&quot;&u=&quot;+urlencode(this.href));' href=\"#\">중국 CNY</a></li> <li class=\"_i\" data-value=\"CZK\"><a onclick='return goOtherCR(this,&quot;a=nco_x5m*a&r=1&i=&quot;+urlencode(&quot;0800042F_00000028AC42&quot;)+&quot;&u=&quot;+urlencode(this.href));' href=\"#\">체코 CZK</a></li> <li class=\"_i\" data-value=\"CLP\"><a onclick='return goOtherCR(this,&quot;a=nco_x5m*a&r=1&i=&quot;+urlencode(&quot;0800042F_00000028AC42&quot;)+&quot;&u=&quot;+urlencode(this.href));' href=\"#\">칠레 CLP</a></li> <li class=\"_i\" data-value=\"KZT\"><a onclick='return goOtherCR(this,&quot;a=nco_x5m*a&r=1&i=&quot;+urlencode(&quot;0800042F_00000028AC42&quot;)+&quot;&u=&quot;+urlencode(this.href));' href=\"#\">카자흐스탄 KZT</a></li> <li class=\"_i\" data-value=\"QAR\"><a onclick='return goOtherCR(this,&quot;a=nco_x5m*a&r=1&i=&quot;+urlencode(&quot;0800042F_00000028AC42&quot;)+&quot;&u=&quot;+urlencode(this.href));' href=\"#\">카타르 QAR</a></li> <li class=\"_i\" data-value=\"CAD\"><a onclick='return goOtherCR(this,&quot;a=nco_x5m*a&r=1&i=&quot;+urlencode(&quot;0800042F_00000028AC42&quot;)+&quot;&u=&quot;+urlencode(this.href));' href=\"#\">캐나다 CAD</a></li> <li class=\"_i\" data-value=\"KWD\"><a onclick='return goOtherCR(this,&quot;a=nco_x5m*a&r=1&i=&quot;+urlencode(&quot;0800042F_00000028AC42&quot;)+&quot;&u=&quot;+urlencode(this.href));' href=\"#\">쿠웨이트 KWD</a></li> <li class=\"_i\" data-value=\"THB\"><a onclick='return goOtherCR(this,&quot;a=nco_x5m*a&r=1&i=&quot;+urlencode(&quot;0800042F_00000028AC42&quot;)+&quot;&u=&quot;+urlencode(this.href));' href=\"#\">태국 THB</a></li> <li class=\"_i\" data-value=\"TRY\"><a onclick='return goOtherCR(this,&quot;a=nco_x5m*a&r=1&i=&quot;+urlencode(&quot;0800042F_00000028AC42&quot;)+&quot;&u=&quot;+urlencode(this.href));' href=\"#\">터키 TRY</a></li> <li class=\"_i\" data-value=\"PKR\"><a onclick='return goOtherCR(this,&quot;a=nco_x5m*a&r=1&i=&quot;+urlencode(&quot;0800042F_00000028AC42&quot;)+&quot;&u=&quot;+urlencode(this.href));' href=\"#\">파키스탄 PKR</a></li> <li class=\"_i\" data-value=\"PLN\"><a onclick='return goOtherCR(this,&quot;a=nco_x5m*a&r=1&i=&quot;+urlencode(&quot;0800042F_00000028AC42&quot;)+&quot;&u=&quot;+urlencode(this.href));' href=\"#\">폴란드 PLN</a></li> <li class=\"_i\" data-value=\"PHP\"><a onclick='return goOtherCR(this,&quot;a=nco_x5m*a&r=1&i=&quot;+urlencode(&quot;0800042F_00000028AC42&quot;)+&quot;&u=&quot;+urlencode(this.href));' href=\"#\">필리핀 PHP</a></li> <li class=\"_i\" data-value=\"HUF\"><a onclick='return goOtherCR(this,&quot;a=nco_x5m*a&r=1&i=&quot;+urlencode(&quot;0800042F_00000028AC42&quot;)+&quot;&u=&quot;+urlencode(this.href));' href=\"#\">헝가리 HUF</a></li> <li class=\"_i\" data-value=\"AUD\"><a onclick='return goOtherCR(this,&quot;a=nco_x5m*a&r=1&i=&quot;+urlencode(&quot;0800042F_00000028AC42&quot;)+&quot;&u=&quot;+urlencode(this.href));' href=\"#\">호주 AUD</a></li> <li class=\"_i\" data-value=\"HKD\"><a onclick='return goOtherCR(this,&quot;a=nco_x5m*a&r=1&i=&quot;+urlencode(&quot;0800042F_00000028AC42&quot;)+&quot;&u=&quot;+urlencode(this.href));' href=\"#\">홍콩 HKD</a></li> </ul> </div> </div> </div> <div class=\"input_box _input_box\" data-query=\"u2\" data-option-query=\"u8=down&amp;u5=info\"> <span id=\"drt_from_span\" class=\"input\"> <input id=\"ds_from_money\" maxlength=\"15\" type=\"text\" style=\"ime-mode:disabled;\" value=\"1\" class=\"_input input_text\"> </span> <span class=\"recite _recite\">1 달러</span> </div> </div> <span class=\"ico_same\">=</span> <div class=\"fr_info\"> <div id=\"ds_sel2\" class=\"sbox _select_box\" data-query=\"u4\" data-option-query=\"u8=down&amp;u5=all\"> <div class=\"selectbox_box\"> <div class=\"selectbox_label _trigger\"> <span class=\"nation_krw _flag\"> <img src=\"https://ssl.pstatic.net/sstatic/keypage/image/direct/img_blank.gif\" class=\"_img\" alt=\"대한민국 KRW\" width=\"1\" height=\"1\"> </span> <label for=\"ds_to_money\" class=\"_text\">대한민국 <em>KRW</em></label> </div> <div class=\"ch_wrap_ly ly_rate2 scroll _list\" style=\"display: none\"> <ul class=\"ly_cont _l\"> <li class=\"_i on\" data-value=\"KRW\"><a onclick='return goOtherCR(this,&quot;a=nco_x5m*a&r=1&i=&quot;+urlencode(&quot;0800042F_00000028AC42&quot;)+&quot;&u=&quot;+urlencode(this.href));' href=\"#\">대한민국 KRW</a></li> <li class=\"_i\" data-value=\"ZAR\"><a onclick='return goOtherCR(this,&quot;a=nco_x5m*a&r=1&i=&quot;+urlencode(&quot;0800042F_00000028AC42&quot;)+&quot;&u=&quot;+urlencode(this.href));' href=\"#\">남아프리카 공화국 ZAR</a></li> <li class=\"_i\" data-value=\"NPR\"><a onclick='return goOtherCR(this,&quot;a=nco_x5m*a&r=1&i=&quot;+urlencode(&quot;0800042F_00000028AC42&quot;)+&quot;&u=&quot;+urlencode(this.href));' href=\"#\">네팔 NPR</a></li> <li class=\"_i\" data-value=\"NOK\"><a onclick='return goOtherCR(this,&quot;a=nco_x5m*a&r=1&i=&quot;+urlencode(&quot;0800042F_00000028AC42&quot;)+&quot;&u=&quot;+urlencode(this.href));' href=\"#\">노르웨이 NOK</a></li> <li class=\"_i\" data-value=\"NZD\"><a onclick='return goOtherCR(this,&quot;a=nco_x5m*a&r=1&i=&quot;+urlencode(&quot;0800042F_00000028AC42&quot;)+&quot;&u=&quot;+urlencode(this.href));' href=\"#\">뉴질랜드 NZD</a></li> <li class=\"_i\" data-value=\"TWD\"><a onclick='return goOtherCR(this,&quot;a=nco_x5m*a&r=1&i=&quot;+urlencode(&quot;0800042F_00000028AC42&quot;)+&quot;&u=&quot;+urlencode(this.href));' href=\"#\">대만 TWD</a></li> <li class=\"_i\" data-value=\"DKK\"><a onclick='return goOtherCR(this,&quot;a=nco_x5m*a&r=1&i=&quot;+urlencode(&quot;0800042F_00000028AC42&quot;)+&quot;&u=&quot;+urlencode(this.href));' href=\"#\">덴마크 DKK</a></li> <li class=\"_i\" data-value=\"RUB\"><a onclick='return goOtherCR(this,&quot;a=nco_x5m*a&r=1&i=&quot;+urlencode(&quot;0800042F_00000028AC42&quot;)+&quot;&u=&quot;+urlencode(this.href));' href=\"#\">러시아 RUB</a></li> <li class=\"_i\" data-value=\"MOP\"><a onclick='return goOtherCR(this,&quot;a=nco_x5m*a&r=1&i=&quot;+urlencode(&quot;0800042F_00000028AC42&quot;)+&quot;&u=&quot;+urlencode(this.href));' href=\"#\">마카오 MOP</a></li> <li class=\"_i\" data-value=\"MYR\"><a onclick='return goOtherCR(this,&quot;a=nco_x5m*a&r=1&i=&quot;+urlencode(&quot;0800042F_00000028AC42&quot;)+&quot;&u=&quot;+urlencode(this.href));' href=\"#\">말레이시아 MYR</a></li> <li class=\"_i\" data-value=\"MXN\"><a onclick='return goOtherCR(this,&quot;a=nco_x5m*a&r=1&i=&quot;+urlencode(&quot;0800042F_00000028AC42&quot;)+&quot;&u=&quot;+urlencode(this.href));' href=\"#\">멕시코 MXN</a></li> <li class=\"_i\" data-value=\"MNT\"><a onclick='return goOtherCR(this,&quot;a=nco_x5m*a&r=1&i=&quot;+urlencode(&quot;0800042F_00000028AC42&quot;)+&quot;&u=&quot;+urlencode(this.href));' href=\"#\">몽골 MNT</a></li> <li class=\"_i\" data-value=\"USD\"><a onclick='return goOtherCR(this,&quot;a=nco_x5m*a&r=1&i=&quot;+urlencode(&quot;0800042F_00000028AC42&quot;)+&quot;&u=&quot;+urlencode(this.href));' href=\"#\">미국 USD</a></li> <li class=\"_i\" data-value=\"BHD\"><a onclick='return goOtherCR(this,&quot;a=nco_x5m*a&r=1&i=&quot;+urlencode(&quot;0800042F_00000028AC42&quot;)+&quot;&u=&quot;+urlencode(this.href));' href=\"#\">바레인 BHD</a></li> <li class=\"_i\" data-value=\"BDT\"><a onclick='return goOtherCR(this,&quot;a=nco_x5m*a&r=1&i=&quot;+urlencode(&quot;0800042F_00000028AC42&quot;)+&quot;&u=&quot;+urlencode(this.href));' href=\"#\">방글라데시 BDT</a></li> <li class=\"_i\" data-value=\"VND\"><a onclick='return goOtherCR(this,&quot;a=nco_x5m*a&r=1&i=&quot;+urlencode(&quot;0800042F_00000028AC42&quot;)+&quot;&u=&quot;+urlencode(this.href));' href=\"#\">베트남 VND</a></li> <li class=\"_i\" data-value=\"BRL\"><a onclick='return goOtherCR(this,&quot;a=nco_x5m*a&r=1&i=&quot;+urlencode(&quot;0800042F_00000028AC42&quot;)+&quot;&u=&quot;+urlencode(this.href));' href=\"#\">브라질 BRL</a></li> <li class=\"_i\" data-value=\"BND\"><a onclick='return goOtherCR(this,&quot;a=nco_x5m*a&r=1&i=&quot;+urlencode(&quot;0800042F_00000028AC42&quot;)+&quot;&u=&quot;+urlencode(this.href));' href=\"#\">브루나이 BND</a></li> <li class=\"_i\" data-value=\"SAR\"><a onclick='return goOtherCR(this,&quot;a=nco_x5m*a&r=1&i=&quot;+urlencode(&quot;0800042F_00000028AC42&quot;)+&quot;&u=&quot;+urlencode(this.href));' href=\"#\">사우디아라비아 SAR</a></li> <li class=\"_i\" data-value=\"SEK\"><a onclick='return goOtherCR(this,&quot;a=nco_x5m*a&r=1&i=&quot;+urlencode(&quot;0800042F_00000028AC42&quot;)+&quot;&u=&quot;+urlencode(this.href));' href=\"#\">스웨덴 SEK</a></li> <li class=\"_i\" data-value=\"CHF\"><a onclick='return goOtherCR(this,&quot;a=nco_x5m*a&r=1&i=&quot;+urlencode(&quot;0800042F_00000028AC42&quot;)+&quot;&u=&quot;+urlencode(this.href));' href=\"#\">스위스 CHF</a></li> <li class=\"_i\" data-value=\"SGD\"><a onclick='return goOtherCR(this,&quot;a=nco_x5m*a&r=1&i=&quot;+urlencode(&quot;0800042F_00000028AC42&quot;)+&quot;&u=&quot;+urlencode(this.href));' href=\"#\">싱가포르 SGD</a></li> <li class=\"_i\" data-value=\"AED\"><a onclick='return goOtherCR(this,&quot;a=nco_x5m*a&r=1&i=&quot;+urlencode(&quot;0800042F_00000028AC42&quot;)+&quot;&u=&quot;+urlencode(this.href));' href=\"#\">아랍에미리트 AED</a></li> <li class=\"_i\" data-value=\"GBP\"><a onclick='return goOtherCR(this,&quot;a=nco_x5m*a&r=1&i=&quot;+urlencode(&quot;0800042F_00000028AC42&quot;)+&quot;&u=&quot;+urlencode(this.href));' href=\"#\">영국 GBP</a></li> <li class=\"_i\" data-value=\"OMR\"><a onclick='return goOtherCR(this,&quot;a=nco_x5m*a&r=1&i=&quot;+urlencode(&quot;0800042F_00000028AC42&quot;)+&quot;&u=&quot;+urlencode(this.href));' href=\"#\">오만 OMR</a></li> <li class=\"_i\" data-value=\"JOD\"><a onclick='return goOtherCR(this,&quot;a=nco_x5m*a&r=1&i=&quot;+urlencode(&quot;0800042F_00000028AC42&quot;)+&quot;&u=&quot;+urlencode(this.href));' href=\"#\">요르단 JOD</a></li> <li class=\"_i\" data-value=\"EUR\"><a onclick='return goOtherCR(this,&quot;a=nco_x5m*a&r=1&i=&quot;+urlencode(&quot;0800042F_00000028AC42&quot;)+&quot;&u=&quot;+urlencode(this.href));' href=\"#\">유럽연합 EUR</a></li> <li class=\"_i\" data-value=\"ILS\"><a onclick='return goOtherCR(this,&quot;a=nco_x5m*a&r=1&i=&quot;+urlencode(&quot;0800042F_00000028AC42&quot;)+&quot;&u=&quot;+urlencode(this.href));' href=\"#\">이스라엘 ILS</a></li> <li class=\"_i\" data-value=\"EGP\"><a onclick='return goOtherCR(this,&quot;a=nco_x5m*a&r=1&i=&quot;+urlencode(&quot;0800042F_00000028AC42&quot;)+&quot;&u=&quot;+urlencode(this.href));' href=\"#\">이집트 EGP</a></li> <li class=\"_i\" data-value=\"INR\"><a onclick='return goOtherCR(this,&quot;a=nco_x5m*a&r=1&i=&quot;+urlencode(&quot;0800042F_00000028AC42&quot;)+&quot;&u=&quot;+urlencode(this.href));' href=\"#\">인도 INR</a></li> <li class=\"_i\" data-value=\"IDR\"><a onclick='return goOtherCR(this,&quot;a=nco_x5m*a&r=1&i=&quot;+urlencode(&quot;0800042F_00000028AC42&quot;)+&quot;&u=&quot;+urlencode(this.href));' href=\"#\">인도네시아 IDR</a></li> <li class=\"_i\" data-value=\"JPY\"><a onclick='return goOtherCR(this,&quot;a=nco_x5m*a&r=1&i=&quot;+urlencode(&quot;0800042F_00000028AC42&quot;)+&quot;&u=&quot;+urlencode(this.href));' href=\"#\">일본 JPY</a></li> <li class=\"_i\" data-value=\"CNY\"><a onclick='return goOtherCR(this,&quot;a=nco_x5m*a&r=1&i=&quot;+urlencode(&quot;0800042F_00000028AC42&quot;)+&quot;&u=&quot;+urlencode(this.href));' href=\"#\">중국 CNY</a></li> <li class=\"_i\" data-value=\"CZK\"><a onclick='return goOtherCR(this,&quot;a=nco_x5m*a&r=1&i=&quot;+urlencode(&quot;0800042F_00000028AC42&quot;)+&quot;&u=&quot;+urlencode(this.href));' href=\"#\">체코 CZK</a></li> <li class=\"_i\" data-value=\"CLP\"><a onclick='return goOtherCR(this,&quot;a=nco_x5m*a&r=1&i=&quot;+urlencode(&quot;0800042F_00000028AC42&quot;)+&quot;&u=&quot;+urlencode(this.href));' href=\"#\">칠레 CLP</a></li> <li class=\"_i\" data-value=\"KZT\"><a onclick='return goOtherCR(this,&quot;a=nco_x5m*a&r=1&i=&quot;+urlencode(&quot;0800042F_00000028AC42&quot;)+&quot;&u=&quot;+urlencode(this.href));' href=\"#\">카자흐스탄 KZT</a></li> <li class=\"_i\" data-value=\"QAR\"><a onclick='return goOtherCR(this,&quot;a=nco_x5m*a&r=1&i=&quot;+urlencode(&quot;0800042F_00000028AC42&quot;)+&quot;&u=&quot;+urlencode(this.href));' href=\"#\">카타르 QAR</a></li> <li class=\"_i\" data-value=\"CAD\"><a onclick='return goOtherCR(this,&quot;a=nco_x5m*a&r=1&i=&quot;+urlencode(&quot;0800042F_00000028AC42&quot;)+&quot;&u=&quot;+urlencode(this.href));' href=\"#\">캐나다 CAD</a></li> <li class=\"_i\" data-value=\"KWD\"><a onclick='return goOtherCR(this,&quot;a=nco_x5m*a&r=1&i=&quot;+urlencode(&quot;0800042F_00000028AC42&quot;)+&quot;&u=&quot;+urlencode(this.href));' href=\"#\">쿠웨이트 KWD</a></li> <li class=\"_i\" data-value=\"THB\"><a onclick='return goOtherCR(this,&quot;a=nco_x5m*a&r=1&i=&quot;+urlencode(&quot;0800042F_00000028AC42&quot;)+&quot;&u=&quot;+urlencode(this.href));' href=\"#\">태국 THB</a></li> <li class=\"_i\" data-value=\"TRY\"><a onclick='return goOtherCR(this,&quot;a=nco_x5m*a&r=1&i=&quot;+urlencode(&quot;0800042F_00000028AC42&quot;)+&quot;&u=&quot;+urlencode(this.href));' href=\"#\">터키 TRY</a></li> <li class=\"_i\" data-value=\"PKR\"><a onclick='return goOtherCR(this,&quot;a=nco_x5m*a&r=1&i=&quot;+urlencode(&quot;0800042F_00000028AC42&quot;)+&quot;&u=&quot;+urlencode(this.href));' href=\"#\">파키스탄 PKR</a></li> <li class=\"_i\" data-value=\"PLN\"><a onclick='return goOtherCR(this,&quot;a=nco_x5m*a&r=1&i=&quot;+urlencode(&quot;0800042F_00000028AC42&quot;)+&quot;&u=&quot;+urlencode(this.href));' href=\"#\">폴란드 PLN</a></li> <li class=\"_i\" data-value=\"PHP\"><a onclick='return goOtherCR(this,&quot;a=nco_x5m*a&r=1&i=&quot;+urlencode(&quot;0800042F_00000028AC42&quot;)+&quot;&u=&quot;+urlencode(this.href));' href=\"#\">필리핀 PHP</a></li> <li class=\"_i\" data-value=\"HUF\"><a onclick='return goOtherCR(this,&quot;a=nco_x5m*a&r=1&i=&quot;+urlencode(&quot;0800042F_00000028AC42&quot;)+&quot;&u=&quot;+urlencode(this.href));' href=\"#\">헝가리 HUF</a></li> <li class=\"_i\" data-value=\"AUD\"><a onclick='return goOtherCR(this,&quot;a=nco_x5m*a&r=1&i=&quot;+urlencode(&quot;0800042F_00000028AC42&quot;)+&quot;&u=&quot;+urlencode(this.href));' href=\"#\">호주 AUD</a></li> <li class=\"_i\" data-value=\"HKD\"><a onclick='return goOtherCR(this,&quot;a=nco_x5m*a&r=1&i=&quot;+urlencode(&quot;0800042F_00000028AC42&quot;)+&quot;&u=&quot;+urlencode(this.href));' href=\"#\">홍콩 HKD</a></li> </ul> </div> </div> </div> <div class=\"input_box _input_box\" data-query=\"u2\" data-option-query=\"u8=up&amp;u5=info\"> <span id=\"drt_to_span\" class=\"input\"> <input id=\"ds_to_money\" maxlength=\"15\" type=\"text\" style=\"ime-mode:disabled;\" value=\"1,220.00\" class=\"_input input_text\"> </span> <span class=\"recite _recite result\">1,220 원</span> </div> </div> <p class=\"cal_txt _noservice\"></p> </div> </div> </div> <span class=\"clear_bx\"></span> </div> <div class=\"rate_table_bx _table\"> <table class=\"rate_table_info\"> <caption class=\"blind\">국가별 환율차트</caption> <colgroup> <col width=\"160px\"> <col width=\"100px\"> <col width=\"142px\"> <col width=\"146px\"> </colgroup> <thead> <tr> <th scope=\"col\" class=\"col1\"><span>통화명</span></th> <th scope=\"col\" class=\"col2\"><span>매매기준율</span></th> <th scope=\"col\" class=\"col3\"><span>전일대비</span></th> <th scope=\"col\" class=\"col4\"><span>등락률</span></th> </tr> </thead> <tbody> <tr class=\"dw\"> <th><a nocr onclick=\"return goOtherCR(this, 'a=nco_x5m*a.list&r=1&i=0800042F_00000028AC42&u=' + urlencode(this.href));\" href=\"?where=nexearch&sm=tab_etc&mra=bk01&query=%EB%AF%B8%EA%B5%AD%ED%99%98%EC%9C%A8\"><span>미국 <em>USD</em></span></a></th> <td><span>1,220.00</span></td> <td class=\"flu_nm\"><span class=\"blind\">전일대비</span><span class=\"ico\">하락</span><em>8.00</em></td> <td class=\"flu_pct\"><span>-0.65%</span></td> </tr> <tr class=\"up\"> <th><a nocr onclick=\"return goOtherCR(this, 'a=nco_x5m*a.list&r=1&i=0800042F_00000028AC42&u=' + urlencode(this.href));\" href=\"?where=nexearch&sm=tab_etc&mra=bk01&query=%EC%9D%BC%EB%B3%B8%ED%99%98%EC%9C%A8\"><span>일본 <em>JPY 100</em></span></a></th> <td><span>1,123.03</span></td> <td class=\"flu_nm\"><span class=\"blind\">전일대비</span><span class=\"ico\">상승</span><em>6.31</em></td> <td class=\"flu_pct\"><span>+0.57%</span></td> </tr> <tr class=\"dw\"> <th><a nocr onclick=\"return goOtherCR(this, 'a=nco_x5m*a.list&r=1&i=0800042F_00000028AC42&u=' + urlencode(this.href));\" href=\"?where=nexearch&sm=tab_etc&mra=bk01&query=%EC%9C%A0%EB%9F%BD%EC%97%B0%ED%95%A9%ED%99%98%EC%9C%A8\"><span>유럽연합 <em>EUR</em></span></a></th> <td><span>1,343.71</span></td> <td class=\"flu_nm\"><span class=\"blind\">전일대비</span><span class=\"ico\">하락</span><em>1.56</em></td> <td class=\"flu_pct\"><span>-0.12%</span></td> </tr> <tr class=\"dw\"> <th><a nocr onclick=\"return goOtherCR(this, 'a=nco_x5m*a.list&r=1&i=0800042F_00000028AC42&u=' + urlencode(this.href));\" href=\"?where=nexearch&sm=tab_etc&mra=bk01&query=%EC%A4%91%EA%B5%AD%ED%99%98%EC%9C%A8\"><span>중국 <em>CNY</em></span></a></th> <td><span>171.73</span></td> <td class=\"flu_nm\"><span class=\"blind\">전일대비</span><span class=\"ico\">하락</span><em>1.15</em></td> <td class=\"flu_pct\"><span>-0.67%</span></td> </tr> <tr class=\"up\"> <th><a nocr onclick=\"return goOtherCR(this, 'a=nco_x5m*a.list&r=1&i=0800042F_00000028AC42&u=' + urlencode(this.href));\" href=\"?where=nexearch&sm=tab_etc&mra=bk01&query=%EC%98%81%EA%B5%AD%ED%99%98%EC%9C%A8\"><span>영국 <em>GBP</em></span></a></th> <td><span>1,497.49</span></td> <td class=\"flu_nm\"><span class=\"blind\">전일대비</span><span class=\"ico\">상승</span><em>31.14</em></td> <td class=\"flu_pct\"><span>+2.12%</span></td> </tr> <tr class=\"up\"> <th><a nocr onclick=\"return goOtherCR(this, 'a=nco_x5m*a.list&r=1&i=0800042F_00000028AC42&u=' + urlencode(this.href));\" href=\"?where=nexearch&sm=tab_etc&mra=bk01&query=%ED%98%B8%EC%A3%BC%ED%99%98%EC%9C%A8\"><span>호주 <em>AUD</em></span></a></th> <td><span>742.49</span></td> <td class=\"flu_nm\"><span class=\"blind\">전일대비</span><span class=\"ico\">상승</span><em>8.27</em></td> <td class=\"flu_pct\"><span>+1.13%</span></td> </tr> <tr class=\"dw\"> <th><a nocr onclick=\"return goOtherCR(this, 'a=nco_x5m*a.list&r=1&i=0800042F_00000028AC42&u=' + urlencode(this.href));\" href=\"?where=nexearch&sm=tab_etc&mra=bk01&query=%EC%BA%90%EB%82%98%EB%8B%A4%ED%99%98%EC%9C%A8\"><span>캐나다 <em>CAD</em></span></a></th> <td><span>867.28</span></td> <td class=\"flu_nm\"><span class=\"blind\">전일대비</span><span class=\"ico\">하락</span><em>1.30</em></td> <td class=\"flu_pct\"><span>-0.15%</span></td> </tr> <tr class=\"up\"> <th><a nocr onclick=\"return goOtherCR(this, 'a=nco_x5m*a.list&r=1&i=0800042F_00000028AC42&u=' + urlencode(this.href));\" href=\"?where=nexearch&sm=tab_etc&mra=bk01&query=%EB%89%B4%EC%A7%88%EB%9E%9C%EB%93%9C%ED%99%98%EC%9C%A8\"><span>뉴질랜드 <em>NZD</em></span></a></th> <td><span>727.79</span></td> <td class=\"flu_nm\"><span class=\"blind\">전일대비</span><span class=\"ico\">상승</span><em>7.94</em></td> <td class=\"flu_pct\"><span>+1.10%</span></td> </tr> </tbody> </table> </div> </div> <p class=\"info\">네이버(주)가 제공하는 금융정보는 각 컨텐츠 제공업체로부터 받는 정보로 투자 참고사항이며, 오류가 발생하거나 지연될 수 있습니다. 네이버(주)는 제공된 정보에 의한 투자결과에 법적책임을 지지 않습니다. 게시된 정보는 무단으로 배포할 수 없습니다.</p> <div class=\"section_more\"><a nocr onclick=\"return goOtherCR(this, 'a=nco_x5m*a.more&r=1&i=0800042F_00000028AC42&u=' + urlencode(this.href));\" href=\"https://finance.naver.com/marketindex/?tabSel=exchange#tab_section\" target=\"_blank\" class=\"go_more\">환율 더보기</a></div> <div class=\"exchange_banner\"> <div class=\"inner\"> <div class=\"list_area\"> <ul class=\"evt_list\"> <li class=\"item evt01\"> <span class=\"ico_item\"></span> <span class=\"txt\">영업시간 외<br><em>언제든지</em></span> </li> <li class=\"item evt02\"> <span class=\"ico_item\"></span> <span class=\"txt\"><em>최대 90%<br>우대</em> 효과</span> </li> <li class=\"item evt03\"> <span class=\"ico_item\"></span> <span class=\"txt\">전국 신한은행<br><em>어디서나 수령</em></span> </li> </ul> </div> <div class=\"link_area\"> <a nocr onclick=\"return goOtherCR(this, 'a=nco_x5m*a.exchange&r=1&i=0800042F_00000028AC42&u=' + urlencode(this.href));\" href=\"https://campaign.naver.com/about/npay_exchange/\" target=\"_blank\" class=\"link_txt\"><em>네이버 페이 환전</em> 더보기</a> </div> </div> </div> </div> </div> </div> </div> <script> (function() { var sJavascriptFile = \"https://ssl.pstatic.net/sstatic/au/pc/exchangeRate/nhn.search.exchangeRate_190508.js\"; var fnCallback = function() { new nhn.search.exchangeRate.Controller({ sBaseSelector : \"#_cs_foreigninfo\", htInputBoxOption : { nDelay : 300 }, sAPIUrl : \"https://m.search.naver.com/p/csearch/content/qapirender.nhn\", htApiOption : { _callback : \"a\", pkid : 141, key : \"exchangeApiBasic\", where : \"nexearch\", q : \"환율\" } }); }; nhn.common.load_js(sJavascriptFile, fnCallback, true, 150); }()); </script> <script type=\"text/javascript\"> function news_resize_thumb(o) { var max = 80; if(o.width > max) { o.height = (o.height * max) / o.width; o.width = max; } else { o.width = o.width; o.height = o.height; } if (o.height > max) { o.width = (o.width * max) / o.height; o.height = max; } else { o.width = o.width; o.height = o.height; } } function one_news_del_cookie(name) { var expire_date = new Date(Date()); expire_date.setYear(expire_date.getYear() - 1); document.cookie = name + \"= ; expires=\" + expire_date.toGMTString() + \" ; domain=search.naver.com ;\"; } function one_news_set_cookie(name, value, type) { var expires_string = \"\"; document.cookie = name + \"=\" + escape(value) + expires_string + \" ; domain=search.naver.com ;\"; } function one_news_set_mynews(officeId) { one_news_del_cookie(\"news_my_status\"); one_news_del_cookie(\"news_office_checked\"); one_news_del_cookie(\"news_office_fold\"); one_news_set_cookie(\"news_my_status\", 1, 1); one_news_set_cookie(\"news_office_checked\", officeId, 0); } </script> <div class=\"news section _prs_nws_all\"> <div class=\"section_head\"> <h2>뉴스</h2> <p class=\"title_desc sort\"><strong>관련도순</strong> <span class=\"bar\"></span> <a href=\"?&where=news&query=%ED%99%98%EC%9C%A8&sort=1&sm=tab_smr&nso=so:dd,p:all,a:all\" onclick=\"return goOtherCR(this, 'a=nws_all.sortdate&r=0&i=0&u='+urlencode(this.href));\">최신순</a></p> </div> <h3 class=\"blind\">관련도순</h3> <ul class=\"type01\"> <li id=\"sp_nws_all1\"> <div class=\"thumb\"><a href=\"http://yna.kr/AKR20200327130251002?did=1195m\" target=\"_blank\" class=\"sp_thmb thmb80\" onclick=\"return goOtherCR(this, 'a=nws_all*a.img&r=1&i=880000D8_000000000000000011504469&g=001.0011504469&u='+urlencode(this.href));\"><img src=\"https://search.pstatic.net/common/?src=https%3A%2F%2Fimgnews.pstatic.net%2Fimage%2Forigin%2F001%2F2020%2F03%2F27%2F11504469.jpg&type=ofullfill80_80_q75_re2\" class=\"\" alt=\"미 경기부양책에 원/달\" width=80 height=80 onerror=\"this.parentNode.style.display='none';\"><span class=\"thmb_v\"></span></a></div> <dl> <dt><a href=\"http://yna.kr/AKR20200327130251002?did=1195m\" target=\"_blank\" class=\" _sp_each_title\" onclick=\"return goOtherCR(this, 'a=nws_all*a.tit&r=1&i=880000D8_000000000000000011504469&g=001.0011504469&u='+urlencode(this.href));\" title=\"미 경기부양책에 원/달러 환율 22원 급락…1,210.6원 마감(종합)\">미 경기부양책에 원/달러 <strong class=\"hl\">환율</strong> 22원 급락…1,210.6원 마감(종합)</a></dt> <dd class=\"txt_inline\"><span class=\"_sp_each_source\">연합뉴스</span> <span class=\"bar\"></span> 1일 전 <span class=\"bar\"></span> <a href=\"https://news.naver.com/main/read.nhn?mode=LSD&mid=sec&sid1=101&oid=001&aid=0011504469\" target=\"_blank\" class=\"_sp_each_url\" onclick=\"return goOtherCR(this, 'a=nws_all*a.nav&r=1&i=880000D8_000000000000000011504469&u='+urlencode(this.href));\">네이버뉴스</a> <div class=\"scial\" id=\"sp_nws_all1_base\"> <span class=\"bar\"></span> <a href=\"#\" data-style=\"unity-v2\" class=\"bt_scial2 naver-splugin\" data-oninitialize=\"splugin_oninitialize('sp_nws_all1');\" onclick=\"goOtherTCR(this, 'a=nws_all*a.pplugin&r=1&i=880000D8_000000000000000011504469&u='+urlencode(this.href)); return false;\">보내기</a> </div> </dd> <dd>27일 원/달러 <strong class=\"hl\">환율</strong>이 22원 급락했다. 이날 서울 외환시장에서 원/달러 <strong class=\"hl\">환율</strong>은 전일보다 22.2원 내린 달러당 1,210.6원에 거래를 마쳤다. <strong class=\"hl\">환율</strong>은 18.8원 하락한 1,214.0원에 개장한 후 하락세를 이어갔다. 미국 경기부양책에...</dd> <dd> <ul class=\"relation_lst\"> <li> <span class=\"ico_bu\"></span> <a href=\"http://www.edaily.co.kr/news/newspath.asp?newsid=03437446625707584\" target=\"_blank\" onclick=\"return goOtherCR(this, 'a=nws_all*c.tit&r=2&i=880000E7_000000000000000004607519&g=018.0004607519&u='+urlencode(this.href));\" title=\"원·달러 환율, 22원 급락해 1210원에 마감\">원·달러 <strong class=\"hl\">환율</strong>, 22원 급락해 1210원에 마감</a> <span class=\"txt_sinfo\"> <span class=\"press\" title=\"이데일리\">이데일리</span> <span class=\"bar\"></span> 1일 전 <span class=\"bar\"></span><a href=\"https://news.naver.com/main/read.nhn?mode=LSD&mid=sec&sid1=101&oid=018&aid=0004607519\" target=\"_blank\" class=\"_sp_each_url\" onclick=\"return goOtherCR(this, 'a=nws_all*c.nav&r=2&i=880000E7_000000000000000004607519&u='+urlencode(this.href));\">네이버뉴스</a> </span> </li> <li> <span class=\"ico_bu\"></span> <a href=\"http://yna.kr/AKR20200327130200002?did=1195m\" target=\"_blank\" onclick=\"return goOtherCR(this, 'a=nws_all*c.tit&r=3&i=880000D8_000000000000000011504358&g=001.0011504358&u='+urlencode(this.href));\" title=\"미국 경기부양책에 원/달러 환율 20원 넘게 급락…1,210원대\">미국 경기부양책에 원/달러 <strong class=\"hl\">환율</strong> 20원 넘게 급락…1,210원대</a> <span class=\"txt_sinfo\"> <span class=\"press\" title=\"연합뉴스\">연합뉴스</span> <span class=\"bar\"></span> 1일 전 <span class=\"bar\"></span><a href=\"https://news.naver.com/main/read.nhn?mode=LSD&mid=sec&sid1=101&oid=001&aid=0011504358\" target=\"_blank\" class=\"_sp_each_url\" onclick=\"return goOtherCR(this, 'a=nws_all*c.nav&r=3&i=880000D8_000000000000000011504358&u='+urlencode(this.href));\">네이버뉴스</a> </span> </li> </ul> </dd> </dl> </li> <li id=\"sp_nws_all4\"> <div class=\"thumb\"><a href=\"https://www.nocutnews.co.kr/news/5317076\" target=\"_blank\" class=\"sp_thmb thmb80\" onclick=\"return goOtherCR(this, 'a=nws_all*a.img&r=4&i=88000112_000000000000000003341843&g=079.0003341843&u='+urlencode(this.href));\"><img src=\"https://search.pstatic.net/common/?src=https%3A%2F%2Fimgnews.pstatic.net%2Fimage%2Forigin%2F079%2F2020%2F03%2F27%2F3341843.jpg&type=ofullfill80_80_q75_re2\" class=\"\" alt=\"DGB대구은행, 원하는 \" width=80 height=80 onerror=\"this.parentNode.style.display='none';\"><span class=\"thmb_v\"></span></a></div> <dl> <dt><a href=\"https://www.nocutnews.co.kr/news/5317076\" target=\"_blank\" class=\" _sp_each_title\" onclick=\"return goOtherCR(this, 'a=nws_all*a.tit&r=4&i=88000112_000000000000000003341843&g=079.0003341843&u='+urlencode(this.href));\" title=\"DGB대구은행, 원하는 시간·환율에 외화 매매 서비스 제공\">DGB대구은행, 원하는 시간·<strong class=\"hl\">환율</strong>에 외화 매매 서비스 제공</a></dt> <dd class=\"txt_inline\"><span class=\"_sp_each_source\">노컷뉴스</span> <span class=\"bar\"></span> 1일 전 <span class=\"bar\"></span> <a href=\"https://news.naver.com/main/read.nhn?mode=LSD&mid=sec&sid1=102&oid=079&aid=0003341843\" target=\"_blank\" class=\"_sp_each_url\" onclick=\"return goOtherCR(this, 'a=nws_all*a.nav&r=4&i=88000112_000000000000000003341843&u='+urlencode(this.href));\">네이버뉴스</a> <div class=\"scial\" id=\"sp_nws_all4_base\"> <span class=\"bar\"></span> <a href=\"#\" data-style=\"unity-v2\" class=\"bt_scial2 naver-splugin\" data-oninitialize=\"splugin_oninitialize('sp_nws_all4');\" onclick=\"goOtherTCR(this, 'a=nws_all*a.pplugin&r=4&i=88000112_000000000000000003341843&u='+urlencode(this.href)); return false;\">보내기</a> </div> </dd> <dd>원하는 시간과 원하는 <strong class=\"hl\">환율</strong>에 외화를 사고 팔 수 있는 비대면 전용 외화 매매 서비스로 30일부터 입출금이 자유로운 원화 계좌와 외화 계좌를 소유한 개인 고객에게 제공한다. 실시간 <strong class=\"hl\">환율</strong>에 즉시 거래하는 '실시간...</dd> <dd> <ul class=\"relation_lst\"> <li> <span class=\"ico_bu\"></span> <a href=\"http://www.businesspost.co.kr/BP?command=article_view&num=170744\" target=\"_blank\" onclick=\"return goOtherCR(this, 'a=nws_all*d.tit&r=5&i=88155e5a_000000000000000000156635&g=5374.0000156635&u='+urlencode(this.href));\" title=\"DGB대구은행, 비대면 외화거래서비스 내놓고 환율우대 제공\">DGB대구은행, 비대면 외화거래서비스 내놓고 <strong class=\"hl\">환율</strong>우대 제공</a> <span class=\"txt_sinfo\"> <span class=\"press\" title=\"비즈니스포스트\">비즈니스포스트</span> <span class=\"bar\"></span> 1일 전 </span> </li> <li> <span class=\"ico_bu\"></span> <a href=\"https://www.sedaily.com/NewsView/1Z0D0YTPC8\" target=\"_blank\" onclick=\"return goOtherCR(this, 'a=nws_all*c.tit&r=6&i=88000108_000000000000000003716018&g=011.0003716018&u='+urlencode(this.href));\" title=\"대구은행, 인터넷으로 &#39;원하는 타이밍·원하는 환율&#39;에 외화 사고판다\">대구은행, 인터넷으로 '원하는 타이밍·원하는 <strong class=\"hl\">환율</strong>'에 외화 사고판다</a> <span class=\"txt_sinfo\"> <span class=\"press\" title=\"서울경제\">서울경제</span> <span class=\"bar\"></span> 1일 전 <span class=\"bar\"></span><a href=\"https://news.naver.com/main/read.nhn?mode=LSD&mid=sec&sid1=101&oid=011&aid=0003716018\" target=\"_blank\" class=\"_sp_each_url\" onclick=\"return goOtherCR(this, 'a=nws_all*c.nav&r=6&i=88000108_000000000000000003716018&u='+urlencode(this.href));\">네이버뉴스</a> </span> </li> </ul> </dd> </dl> </li> <li id=\"sp_nws_all7\"> <div class=\"thumb\"><a href=\"https://cnbc.sbs.co.kr/article_hub/10000978002?division=NAVER\" target=\"_blank\" class=\"sp_thmb thmb80\" onclick=\"return goOtherCR(this, 'a=nws_all*j.img&r=7&i=8811AD97_000000000000000000208269&g=374.0000208269&u='+urlencode(this.href));\"><img src=\"https://search.pstatic.net/common/?src=https%3A%2F%2Fimgnews.pstatic.net%2Fimage%2Forigin%2F374%2F2020%2F03%2F27%2F208269.jpg&type=ofullfill80_80_q75_re2\" class=\"\" alt=\"코스피 하루 만에 170\" width=80 height=80 onerror=\"this.parentNode.style.display='none';\"><span class=\"thmb_play\"></span><span class=\"thmb_v\"></span></a></div> <dl> <dt><a href=\"https://cnbc.sbs.co.kr/article_hub/10000978002?division=NAVER\" target=\"_blank\" class=\" _sp_each_title\" onclick=\"return goOtherCR(this, 'a=nws_all*j.tit&r=7&i=8811AD97_000000000000000000208269&g=374.0000208269&u='+urlencode(this.href));\" title=\"코스피 하루 만에 1700선 탈환…환율 1210원대 급락\">코스피 하루 만에 1700선 탈환…<strong class=\"hl\">환율</strong> 1210원대 급락</a></dt> <dd class=\"txt_inline\"><span class=\"_sp_each_source\">SBS CNBC<i class=\"sprenew api_ico_pick\">언론사 선정</i></span> <span class=\"bar\"></span> 1일 전 <span class=\"bar\"></span> <a href=\"https://news.naver.com/main/read.nhn?mode=LSD&mid=sec&sid1=101&oid=374&aid=0000208269\" target=\"_blank\" class=\"_sp_each_url\" onclick=\"return goOtherCR(this, 'a=nws_all*j.nav&r=7&i=8811AD97_000000000000000000208269&u='+urlencode(this.href));\">네이버뉴스</a> <div class=\"scial\" id=\"sp_nws_all7_base\"> <span class=\"bar\"></span> <a href=\"#\" data-style=\"unity-v2\" class=\"bt_scial2 naver-splugin\" data-oninitialize=\"splugin_oninitialize('sp_nws_all7');\" onclick=\"goOtherTCR(this, 'a=nws_all*j.pplugin&r=7&i=8811AD97_000000000000000000208269&u='+urlencode(this.href)); return false;\">보내기</a> </div> </dd> <dd>원달러 <strong class=\"hl\">환율</strong>도 큰 폭으로 떨어지면서 1210원대에 진입했는데요. 조슬기 기자, 자세한 시장 상황... 서울 외환시장에서 원달러 <strong class=\"hl\">환율</strong>은 어제보다 22원 20전 내린 1210원 60전에 거래를 마감했습니다. 원달러 <strong class=\"hl\">환율</strong>이...</dd> </dl> </li> <li id=\"sp_nws_all8\"> <div class=\"thumb\"><a href=\"https://www.news1.kr/photos/view/?4121286\" target=\"_blank\" class=\"sp_thmb thmb80\" onclick=\"return goOtherCR(this, 'a=nws_all*a.img&r=8&i=08138263_000000000000000004547281&g=421.0004547281&u='+urlencode(this.href));\"><img src=\"https://search.pstatic.net/common/?src=https%3A%2F%2Fimgnews.pstatic.net%2Fimage%2Forigin%2F421%2F2020%2F03%2F27%2F4547281.jpg&type=ofullfill80_80_q75_re2\" class=\"\" alt=\"환율 급락 &lsquo;원화 강세\" width=80 height=80 onerror=\"this.parentNode.style.display='none';\"><span class=\"thmb_v\"></span></a></div> <dl> <dt><a href=\"https://www.news1.kr/photos/view/?4121286\" target=\"_blank\" class=\" _sp_each_title\" onclick=\"return goOtherCR(this, 'a=nws_all*a.tit&r=8&i=08138263_000000000000000004547281&g=421.0004547281&u='+urlencode(this.href));\" title=\"환율 급락 &#39;원화 강세&#39;\"><strong class=\"hl\">환율</strong> 급락 '원화 강세'</a></dt> <dd class=\"txt_inline\"><span class=\"_sp_each_source\">뉴스1</span> <span class=\"bar\"></span> 2일 전 <span class=\"bar\"></span> <a href=\"https://news.naver.com/main/read.nhn?mode=LSD&mid=sec&sid1=101&oid=421&aid=0004547281\" target=\"_blank\" class=\"_sp_each_url\" onclick=\"return goOtherCR(this, 'a=nws_all*a.nav&r=8&i=08138263_000000000000000004547281&u='+urlencode(this.href));\">네이버뉴스</a> <div class=\"scial\" id=\"sp_nws_all8_base\"> <span class=\"bar\"></span> <a href=\"#\" data-style=\"unity-v2\" class=\"bt_scial2 naver-splugin\" data-oninitialize=\"splugin_oninitialize('sp_nws_all8');\" onclick=\"goOtherTCR(this, 'a=nws_all*a.pplugin&r=8&i=08138263_000000000000000004547281&u='+urlencode(this.href)); return false;\">보내기</a> </div> </dd> <dd>원·달러 <strong class=\"hl\">환율</strong>이 1210원대로 급락한 27일 오전 서울 중구 하나은행 딜링룸 전광판에 원·달러 <strong class=\"hl\">환율</strong>이 전 거래일보다 17.1원 떨어진 1215.7원을 나타내고 있다. 2020.3.27/뉴스1</dd> <dd> <ul class=\"relation_lst\"> <li> <span class=\"ico_bu\"></span> <a href=\"http://yna.kr/PYH20200327151600013?did=1196m\" target=\"_blank\" onclick=\"return goOtherCR(this, 'a=nws_all*c.tit&r=9&i=880000D8_000000000000000011504446&g=001.0011504446&u='+urlencode(this.href));\" title=\"원/달러 환율 20원 넘게 급락\">원/달러 <strong class=\"hl\">환율</strong> 20원 넘게 급락</a> <span class=\"txt_sinfo\"> <span class=\"press\" title=\"연합뉴스\">연합뉴스</span> <span class=\"bar\"></span> 1일 전 <span class=\"bar\"></span><a href=\"https://news.naver.com/main/read.nhn?mode=LSD&mid=sec&sid1=101&oid=001&aid=0011504446\" target=\"_blank\" class=\"_sp_each_url\" onclick=\"return goOtherCR(this, 'a=nws_all*c.nav&r=9&i=880000D8_000000000000000011504446&u='+urlencode(this.href));\">네이버뉴스</a> </span> </li> </ul> </dd> </dl> </li> </ul> <div class=\"section_more\"> <a href=\"?&where=news&query=%ED%99%98%EC%9C%A8&sm=tab_tmr&frm=mr&nso=so:r,p:all,a:all&sort=0\" class=\"go_more\" onclick=\"return goOtherCR(this, 'a=nws_all.more&r=0&i=0&u='+urlencode(this.href));\">뉴스 더보기</a> <a href=\"#\" class=\"dsc_press\" onclick=\"tCR('a=nws_all*p.pick'); window.open('http://news.naver.com/main/static/channelPromotion.html', '', 'top=0,left=0,resizable=1,scrollbars=1,width=460,height=496'); return false;\"><i class=\"sprenew api_ico_pick2\">언론사 선정</i>해당 언론사가 채널 주요기사로 직접 선정한 기사입니다.</a> </div> </div> <link rel=\"stylesheet\" type=\"text/css\" href=\"https://ssl.pstatic.net/sstatic/search/pc/css/sp_realtime_181011.css\">\n",
      "\n",
      "\n",
      " <script type=\"text/javascript\"> /* thumnail 처리 */ function on_realtime_nxtab_noimage(img, type ) { img.onerror=null; img.src=\"https://ssl.pstatic.net/sstatic/search/img3/img_profile_twitter5.png\"; img.alt=\"이미지 준비중\"; img.width=\"50\"; img.height=\"50\"; } </script> <div class=\"realtime2 section _prs_rea_doc\" id=\"realTimeSearchBody\"> <div class=\"section_head\"> <h2>실시간검색</h2> <a href=\"https://help.naver.com/support/alias/search/integration/integration_7.naver\" target=\"_blank\" class=\"link_help\" onclick=\"return goOtherCR(this, 'a=rea.help&r=0&i=0&u='+urlencode(this.href));\"><i class=\"sprenew api_ico_help\">도움말</i></a> <p class=\"title_desc sort\"> <strong>최신</strong> <span class=\"bar\"></span> <a href=\"?where=realtime&sm=tab_smr&query=%ED%99%98%EC%9C%A8&ie=utf8&best=1\" onclick=\"return goOtherCR(this, 'a=rea.pop&r=0&i=0&u='+urlencode(this.href));\" >인기</a> </p> <div class=\"rt_update\"><span class=\"update_state\"></span></div> </div> <h3 class=\"blind\">최신순</h3> <div class=\"rt_wrap rt_wrap2\"> <div> <ul class=\"type01\"> <li class=\"first_child\"> <div class=\"thumb\"> <a href=\"http://news.naver.com/main/pass.nhn?type=commentList&amp;id=news011,0003716384\" target=\"_blank\" crlink=\"a=rea_doc*n.img&r=&i=9015809d_00000004000000007B41B7CF&ps=&nd=&u=\" ><img src=\"https://ssl.pstatic.net/sstatic/search/pc/2016/img/ico_rt_news.png\" width=\"50\" height=\"50\" alt=\"뉴스 댓글\"> <span class=\"mask\"></span> <span class=\"valign\"></span> </a> </div> <dl> <dd> <a href=\"http://news.naver.com/main/pass.nhn?type=commentList&amp;id=news011,0003716384\" class=\"rt_user\" target=\"_blank\" crlink=\"a=rea_doc*n.id&r=&i=9015809d_00000004000000007B41B7CF&ps=&nd=&u=\" ><span class=\"user_name\">juyo****</span></a> </dd> <dd><a href=\"http://news.naver.com/main/pass.nhn?type=commentList&amp;id=news011,0003716384\" class=\"txt_link\" target=\"_blank\" crlink=\"a=rea_doc*n.comment&r=&i=9015809d_00000004000000007B41B7CF&ps=&nd=&u=\" >팩트는 <strong class=\"hl\">환율</strong>스왑이다....국민을 개돼지로 보네..</a></dd> <dd class=\"rt_sub _rt_time _time_1585456094\"> <div class=\"sub_area\"> <span class=\"sub_time _timeinfo\">11분 전</span> <span class=\"bar\"></span> <span class=\"sub_reply\">답글 0</span> <span class=\"bar\"></span> <span class=\"sub_like \">공감 1</span> <span class=\"bar\"></span> <span class=\"sub_dis\">비공감 0</span> </div> </dd> <dd class=\"rt_org\"> <div class=\"org_area\"> <a href=\"http://news.naver.com/main/pass.nhn?type=commentService&amp;id=news011,0003716384\" class=\"org_thumb\" target=\"_blank\" crlink=\"a=rea_doc*n.source&r=&i=9015809d_00000004000000007B41B7CF&ps=&nd=&u=\" ><img src=\"https://search.pstatic.net/common/?src=https%3A%2F%2Fimgnews.pstatic.net%2Fimage%2Forigin%2F011%2F2020%2F03%2F29%2F3716384.jpg&type=n66_66_re2\" width=\"30\" height=\"30\" alt=\"한은, 한미 통화스와프 자금 120억달러 경쟁입찰방식 대출\" onerror=\"this.parentNode.style.display='none';\"> <span class=\"mask\"></span> <span class=\"valign\"></span></a> <div class=\"org_info\"> <a href=\"http://news.naver.com/main/pass.nhn?type=commentService&amp;id=news011,0003716384\" class=\"info_tit\" target=\"_blank\" crlink=\"a=rea_doc*n.source&r=&i=9015809d_00000004000000007B41B7CF&ps=&nd=&u=\" >한은, 한미 통화스와프 자금 120억달러 경쟁입찰방식 대출</a> <a href=\"http://news.naver.com/main/pass.nhn?type=commentService&amp;id=news011,0003716384\" class=\"info_cite\" target=\"_blank\" crlink=\"a=rea_doc*n.source&r=&i=9015809d_00000004000000007B41B7CF&ps=&nd=&u=\" ><cite>news.naver.com</cite></a> </div> </div> </dd></dl> </li> <li class=\"\"> <div class=\"thumb\"> <a href=\"http://news.naver.com/main/pass.nhn?type=commentList&amp;id=news015,0004314819\" target=\"_blank\" crlink=\"a=rea_doc*n.img&r=&i=9015809d_00000004000000007BCB4174&ps=&nd=&u=\" ><img src=\"https://ssl.pstatic.net/sstatic/search/pc/2016/img/ico_rt_news.png\" width=\"50\" height=\"50\" alt=\"뉴스 댓글\"> <span class=\"mask\"></span> <span class=\"valign\"></span> </a> </div> <dl> <dd> <a href=\"http://news.naver.com/main/pass.nhn?type=commentList&amp;id=news015,0004314819\" class=\"rt_user\" target=\"_blank\" crlink=\"a=rea_doc*n.id&r=&i=9015809d_00000004000000007BCB4174&ps=&nd=&u=\" ><span class=\"user_name\">hyeo****</span></a> </dd> <dd><a href=\"http://news.naver.com/main/pass.nhn?type=commentList&amp;id=news015,0004314819\" class=\"txt_link\" target=\"_blank\" crlink=\"a=rea_doc*n.comment&r=&i=9015809d_00000004000000007BCB4174&ps=&nd=&u=\" >응. 외국인투자자들 낮은 <strong class=\"hl\">환율</strong>로 쉽게 빠져나가라고 하는듯. 주요주국들과 일괄 체결된 미국의 자국보호장치임. 외화 스와프랑 <strong class=\"hl\">환율</strong> 스와프는 전혀 다름. 절대 쩝쩝이 치적 아님.</a></dd> <dd class=\"rt_sub _rt_time _time_1585456089\"> <div class=\"sub_area\"> <span class=\"sub_time _timeinfo\">11분 전</span> <span class=\"bar\"></span> <span class=\"sub_reply\">답글 0</span> <span class=\"bar\"></span> <span class=\"sub_like \">공감 0</span> <span class=\"bar\"></span> <span class=\"sub_dis\">비공감 0</span> </div> </dd> <dd class=\"rt_org\"> <div class=\"org_area\"> <a href=\"http://news.naver.com/main/pass.nhn?type=commentService&amp;id=news015,0004314819\" class=\"org_thumb\" target=\"_blank\" crlink=\"a=rea_doc*n.source&r=&i=9015809d_00000004000000007BCB4174&ps=&nd=&u=\" ><img src=\"https://search.pstatic.net/common/?src=https%3A%2F%2Fimgnews.pstatic.net%2Fimage%2Forigin%2F015%2F2020%2F03%2F29%2F4314819.jpg&type=n66_66_re2\" width=\"30\" height=\"30\" alt=\"한미 통화스와프 자금 1차 120억달러 공급…금융위기 3배 규모\" onerror=\"this.parentNode.style.display='none';\"> <span class=\"mask\"></span> <span class=\"valign\"></span></a> <div class=\"org_info\"> <a href=\"http://news.naver.com/main/pass.nhn?type=commentService&amp;id=news015,0004314819\" class=\"info_tit\" target=\"_blank\" crlink=\"a=rea_doc*n.source&r=&i=9015809d_00000004000000007BCB4174&ps=&nd=&u=\" >한미 통화스와프 자금 1차 120억달러 공급…금융위기 3배 규모</a> <a href=\"http://news.naver.com/main/pass.nhn?type=commentService&amp;id=news015,0004314819\" class=\"info_cite\" target=\"_blank\" crlink=\"a=rea_doc*n.source&r=&i=9015809d_00000004000000007BCB4174&ps=&nd=&u=\" ><cite>news.naver.com</cite></a> </div> </div> </dd></dl> </li> <li class=\"\"> <div class=\"thumb\"> <a href=\"http://news.naver.com/main/pass.nhn?type=commentList&amp;id=news366,0000498235\" target=\"_blank\" crlink=\"a=rea_doc*n.img&r=&i=9015809d_00000004000000007BCB412E&ps=&nd=&u=\" ><img src=\"https://ssl.pstatic.net/sstatic/search/pc/2016/img/ico_rt_news.png\" width=\"50\" height=\"50\" alt=\"뉴스 댓글\"> <span class=\"mask\"></span> <span class=\"valign\"></span> </a> </div> <dl> <dd> <a href=\"http://news.naver.com/main/pass.nhn?type=commentList&amp;id=news366,0000498235\" class=\"rt_user\" target=\"_blank\" crlink=\"a=rea_doc*n.id&r=&i=9015809d_00000004000000007BCB412E&ps=&nd=&u=\" ><span class=\"user_name\">skyh****</span></a> </dd> <dd><a href=\"http://news.naver.com/main/pass.nhn?type=commentList&amp;id=news366,0000498235\" class=\"txt_link\" target=\"_blank\" crlink=\"a=rea_doc*n.comment&r=&i=9015809d_00000004000000007BCB412E&ps=&nd=&u=\" >한미 통화스와프가아니라 <strong class=\"hl\">환율</strong>스와프잖아</a></dd> <dd class=\"rt_sub _rt_time _time_1585456086\"> <div class=\"sub_area\"> <span class=\"sub_time _timeinfo\">11분 전</span> <span class=\"bar\"></span> <span class=\"sub_reply\">답글 0</span> <span class=\"bar\"></span> <span class=\"sub_like \">공감 1</span> <span class=\"bar\"></span> <span class=\"sub_dis\">비공감 0</span> </div> </dd> <dd class=\"rt_org\"> <div class=\"org_area\"> <a href=\"http://news.naver.com/main/pass.nhn?type=commentService&amp;id=news366,0000498235\" class=\"org_thumb\" target=\"_blank\" crlink=\"a=rea_doc*n.source&r=&i=9015809d_00000004000000007BCB412E&ps=&nd=&u=\" ><img src=\"https://search.pstatic.net/common/?src=https%3A%2F%2Fimgnews.pstatic.net%2Fimage%2Forigin%2F366%2F2020%2F03%2F29%2F498235.jpg&type=n66_66_re2\" width=\"30\" height=\"30\" alt=\"통화스와프 자금 120억달러 이번주 풀린다…금융위기 때의 3배\" onerror=\"this.parentNode.style.display='none';\"> <span class=\"mask\"></span> <span class=\"valign\"></span></a> <div class=\"org_info\"> <a href=\"http://news.naver.com/main/pass.nhn?type=commentService&amp;id=news366,0000498235\" class=\"info_tit\" target=\"_blank\" crlink=\"a=rea_doc*n.source&r=&i=9015809d_00000004000000007BCB412E&ps=&nd=&u=\" >통화스와프 자금 120억달러 이번주 풀린다…금융위기 때의 3배</a> <a href=\"http://news.naver.com/main/pass.nhn?type=commentService&amp;id=news366,0000498235\" class=\"info_cite\" target=\"_blank\" crlink=\"a=rea_doc*n.source&r=&i=9015809d_00000004000000007BCB412E&ps=&nd=&u=\" ><cite>news.naver.com</cite></a> </div> </div> </dd></dl> </li> <li class=\"rt_mt \"> <div class=\"thumb\"> <a target=\"_blank\" href=\"https://twitter.com/HW_cos\" crlink=\"a=rea_doc*t.img&r=&i=a00000fa_1947076d389632cc289a4beb&ps=&nd=&u=\" ><img src=\"https://search.pstatic.net/common/?src=https%3A%2F%2Fpbs.twimg.com%2Fprofile_images%2F1242935664259162112%2F2sxTqIM2_bigger.jpg&type=o50_50_re2\" alt=\"HW_cos 썸네일\" width=\"50\" height=\"50\" onError=\"on_realtime_nxtab_noimage(this, 'twitter');\"><span class=\"mask\"></span><span class=\"valign\"></span> </a> </div> <dl> <dd><a href=\"https://twitter.com/HW_cos\" class=\"rt_user\" target=\"_blank\" crlink=\"a=rea_doc*t.id&r=&i=a00000fa_1947076d389632cc289a4beb&ps=&nd=&u=\" ><span class=\"user_name\">😈</span> <span class=\"user_id\">@HW_cos</span></a></dd> <dd> <span class=\"cmmt _twitter\" data-src=\"https://twitter.com/HW_cos/status/1244118795351781376\" crlink=\"a=rea_doc*t.text&r=&i=a00000fa_1947076d389632cc289a4beb&ps=&nd=&u=\">와 타오바오 보다가..<strong class=\"hl\">환율</strong> 내려가기 전에 팍팍 오르던 시절에 캡했던 사진과 좀 떨어져서 캡한 사진 비교하니까 1000원 살짝 넘게 내려감..중국 <strong class=\"hl\">환율</strong> 타오바오에도 영향이 가긴 가구나</span> </dd> <dd class=\"rt_sub _rt_time _time_1585456010\"> <div class=\"sub_area\"> <a target=\"_blank\" href=\"http://twitter.com\" class=\"sub_twtime\" crlink=\"a=rea_doc*t.logo&r=&i=a00000fa_1947076d389632cc289a4beb&ps=&nd=&u=\" ><img src=\"https://ssl.pstatic.net/sstatic/search/img3/ico_twitter2.gif\" width=\"13\" height=\"11\" alt=\"트위터\"></a><a target=\"_blank\" href=\"https://twitter.com/HW_cos/status/1244118795351781376\" class=\"time _timeinfo\" crlink=\"a=rea_doc*t.time&r=&i=a00000fa_1947076d389632cc289a4beb&ps=&nd=&u=\" >12분 전</a> <span class=\"bar\"></span> <span class=\"sub_retweet\">리트윗 0</span> <span class=\"bar\"></span> <span class=\"sub_interest\">관심글 0</span> </div> </dd> </dl> <div class=\"rt_btn_wrap\"> <a href=\"https://twitter.com/intent/tweet?in_reply_to=1244118795351781376\" class=\"rt_btn\" crlink=\"a=rea_doc*t.reply&r=&i=a00000fa_1947076d389632cc289a4beb&ps=&nd=&u=\" target=\"_blank\"><span class=\"sprt ico_reply\"></span>답글</a><a href=\"https://twitter.com/intent/retweet?tweet_id=1244118795351781376\" class=\"rt_btn\" crlink=\"a=rea_doc*t.rt&r=&i=a00000fa_1947076d389632cc289a4beb&ps=&nd=&u=\" target=\"_blank\"><span class=\"sprt ico_rt\"></span>리트윗</a><a href=\"https://twitter.com/intent/favorite?tweet_id=1244118795351781376\" class=\"rt_btn\" crlink=\"a=rea_doc*t.favorite&r=&i=a00000fa_1947076d389632cc289a4beb&ps=&nd=&u=\" target=\"_blank\"><span class=\"sprt ico_interest\"></span>관심글</a> </div> </li> <li class=\"\"> <div class=\"thumb\"> <a href=\"https://cafe.naver.com/vilab/153292\" target=\"_blank\" crlink=\"a=rea_doc*z.img&r=&i=9018b4cf_afdf20256cc3e67d1e&ps=&nd=&u=\" ><img src=\"https://ssl.pstatic.net/sstatic/search/pc/2016/img/ico_rt_cafe.png\" width=\"50\" height=\"50\" alt=\"카페 댓글\"> <span class=\"mask\"></span> <span class=\"valign\"></span> </a> </div> <dl> <dd> <a href=\"https://cafe.naver.com/vilab/153292\" class=\"rt_user\" target=\"_blank\" crlink=\"a=rea_doc*z.id&r=&i=9018b4cf_afdf20256cc3e67d1e&ps=&nd=&u=\" ><span class=\"user_name\">dkrw****</span></a> </dd> <dd> <a href=\"https://cafe.naver.com/vilab/153292\" class=\"txt_link\" target=\"_blank\" crlink=\"a=rea_doc*z.comment&r=&i=9018b4cf_afdf20256cc3e67d1e&ps=&nd=&u=\" >좋은글 감사합니다 읽을책이생겼네요 ㅎㅎ</a> </dd> <dd class=\"rt_sub _rt_time _time_1585455973\"> <div class=\"sub_area\"> <span class=\"sub_time _timeinfo\">13분 전</span> </div> </dd> <dd class=\"rt_org\"> <div class=\"org_area\"> <div class=\"org_info\"> <a href=\"https://cafe.naver.com/vilab/153292\" class=\"info_tit\" target=\"_blank\" crlink=\"a=rea_doc*z.source&r=&i=9018b4cf_afdf20256cc3e67d1e&ps=&nd=&u=\" >이번 주식시장은 <strong class=\"hl\">환율</strong>이 좌우할수도 있다.</a> <a href=\"https://cafe.naver.com/vilab/153292\" class=\"info_cite\" target=\"_blank\" crlink=\"a=rea_doc*z.source&r=&i=9018b4cf_afdf20256cc3e67d1e&ps=&nd=&u=\" ><cite>cafe.naver.com</cite></a> </div> </div> </dd></dl> </li> <li class=\"\"> <div class=\"thumb\"> <a href=\"http://news.naver.com/main/pass.nhn?type=commentList&amp;id=news366,0000498235\" target=\"_blank\" crlink=\"a=rea_doc*n.img&r=&i=9015809d_00000004000000007BCB3706&ps=&nd=&u=\" ><img src=\"https://ssl.pstatic.net/sstatic/search/pc/2016/img/ico_rt_news.png\" width=\"50\" height=\"50\" alt=\"뉴스 댓글\"> <span class=\"mask\"></span> <span class=\"valign\"></span> </a> </div> <dl> <dd> <a href=\"http://news.naver.com/main/pass.nhn?type=commentList&amp;id=news366,0000498235\" class=\"rt_user\" target=\"_blank\" crlink=\"a=rea_doc*n.id&r=&i=9015809d_00000004000000007BCB3706&ps=&nd=&u=\" ><span class=\"user_name\">dydg****</span></a> </dd> <dd><a href=\"http://news.naver.com/main/pass.nhn?type=commentList&amp;id=news366,0000498235\" class=\"txt_link\" target=\"_blank\" crlink=\"a=rea_doc*n.comment&r=&i=9015809d_00000004000000007BCB3706&ps=&nd=&u=\" ><strong class=\"hl\">환율</strong>스와프아님???통화스왑은 공갈인걸로 아는데</a></dd> <dd class=\"rt_sub _rt_time _time_1585455966\"> <div class=\"sub_area\"> <span class=\"sub_time _timeinfo\">13분 전</span> <span class=\"bar\"></span> <span class=\"sub_reply\">답글 0</span> <span class=\"bar\"></span> <span class=\"sub_like \">공감 5</span> <span class=\"bar\"></span> <span class=\"sub_dis\">비공감 2</span> </div> </dd> <dd class=\"rt_org\"> <div class=\"org_area\"> <a href=\"http://news.naver.com/main/pass.nhn?type=commentService&amp;id=news366,0000498235\" class=\"org_thumb\" target=\"_blank\" crlink=\"a=rea_doc*n.source&r=&i=9015809d_00000004000000007BCB3706&ps=&nd=&u=\" ><img src=\"https://search.pstatic.net/common/?src=https%3A%2F%2Fimgnews.pstatic.net%2Fimage%2Forigin%2F366%2F2020%2F03%2F29%2F498235.jpg&type=n66_66_re2\" width=\"30\" height=\"30\" alt=\"통화스와프 자금 120억달러 이번주 풀린다…금융위기 때의 3배\" onerror=\"this.parentNode.style.display='none';\"> <span class=\"mask\"></span> <span class=\"valign\"></span></a> <div class=\"org_info\"> <a href=\"http://news.naver.com/main/pass.nhn?type=commentService&amp;id=news366,0000498235\" class=\"info_tit\" target=\"_blank\" crlink=\"a=rea_doc*n.source&r=&i=9015809d_00000004000000007BCB3706&ps=&nd=&u=\" >통화스와프 자금 120억달러 이번주 풀린다…금융위기 때의 3배</a> <a href=\"http://news.naver.com/main/pass.nhn?type=commentService&amp;id=news366,0000498235\" class=\"info_cite\" target=\"_blank\" crlink=\"a=rea_doc*n.source&r=&i=9015809d_00000004000000007BCB3706&ps=&nd=&u=\" ><cite>news.naver.com</cite></a> </div> </div> </dd></dl> </li> <li class=\"\"> <div class=\"thumb\"> <a href=\"http://news.naver.com/main/pass.nhn?type=commentList&amp;id=news011,0003716384\" target=\"_blank\" crlink=\"a=rea_doc*n.img&r=&i=9015809d_00000004000000007B419C6D&ps=&nd=&u=\" ><img src=\"https://ssl.pstatic.net/sstatic/search/pc/2016/img/ico_rt_news.png\" width=\"50\" height=\"50\" alt=\"뉴스 댓글\"> <span class=\"mask\"></span> <span class=\"valign\"></span> </a> </div> <dl> <dd> <a href=\"http://news.naver.com/main/pass.nhn?type=commentList&amp;id=news011,0003716384\" class=\"rt_user\" target=\"_blank\" crlink=\"a=rea_doc*n.id&r=&i=9015809d_00000004000000007B419C6D&ps=&nd=&u=\" ><span class=\"user_name\">thir****</span></a> </dd> <dd><a href=\"http://news.naver.com/main/pass.nhn?type=commentList&amp;id=news011,0003716384\" class=\"txt_link\" target=\"_blank\" crlink=\"a=rea_doc*n.comment&r=&i=9015809d_00000004000000007B419C6D&ps=&nd=&u=\" >통화스왑이 아니라 <strong class=\"hl\">환율</strong>스왑이라는데, 정부발표에 개돼지들 다 속음</a></dd> <dd class=\"rt_sub _rt_time _time_1585455747\"> <div class=\"sub_area\"> <span class=\"sub_time _timeinfo\">16분 전</span> <span class=\"bar\"></span> <span class=\"sub_reply\">답글 0</span> <span class=\"bar\"></span> <span class=\"sub_like \">공감 8</span> <span class=\"bar\"></span> <span class=\"sub_dis\">비공감 2</span> </div> </dd> <dd class=\"rt_org\"> <div class=\"org_area\"> <a href=\"http://news.naver.com/main/pass.nhn?type=commentService&amp;id=news011,0003716384\" class=\"org_thumb\" target=\"_blank\" crlink=\"a=rea_doc*n.source&r=&i=9015809d_00000004000000007B419C6D&ps=&nd=&u=\" ><img src=\"https://search.pstatic.net/common/?src=https%3A%2F%2Fimgnews.pstatic.net%2Fimage%2Forigin%2F011%2F2020%2F03%2F29%2F3716384.jpg&type=n66_66_re2\" width=\"30\" height=\"30\" alt=\"한은, 한미 통화스와프 자금 120억달러 경쟁입찰방식 대출\" onerror=\"this.parentNode.style.display='none';\"> <span class=\"mask\"></span> <span class=\"valign\"></span></a> <div class=\"org_info\"> <a href=\"http://news.naver.com/main/pass.nhn?type=commentService&amp;id=news011,0003716384\" class=\"info_tit\" target=\"_blank\" crlink=\"a=rea_doc*n.source&r=&i=9015809d_00000004000000007B419C6D&ps=&nd=&u=\" >한은, 한미 통화스와프 자금 120억달러 경쟁입찰방식 대출</a> <a href=\"http://news.naver.com/main/pass.nhn?type=commentService&amp;id=news011,0003716384\" class=\"info_cite\" target=\"_blank\" crlink=\"a=rea_doc*n.source&r=&i=9015809d_00000004000000007B419C6D&ps=&nd=&u=\" ><cite>news.naver.com</cite></a> </div> </div> </dd></dl> </li> <li class=\"\"> <div class=\"thumb\"> <a href=\"https://cafe.naver.com/vilab/153292\" target=\"_blank\" crlink=\"a=rea_doc*z.img&r=&i=9018b4cf_afdf20256cc3e67cc8&ps=&nd=&u=\" ><img src=\"https://ssl.pstatic.net/sstatic/search/pc/2016/img/ico_rt_cafe.png\" width=\"50\" height=\"50\" alt=\"카페 댓글\"> <span class=\"mask\"></span> <span class=\"valign\"></span> </a> </div> <dl> <dd> <a href=\"https://cafe.naver.com/vilab/153292\" class=\"rt_user\" target=\"_blank\" crlink=\"a=rea_doc*z.id&r=&i=9018b4cf_afdf20256cc3e67cc8&ps=&nd=&u=\" ><span class=\"user_name\">come****</span></a> </dd> <dd> <a href=\"https://cafe.naver.com/vilab/153292\" class=\"txt_link\" target=\"_blank\" crlink=\"a=rea_doc*z.comment&r=&i=9018b4cf_afdf20256cc3e67cc8&ps=&nd=&u=\" >14만명 규모의 주식카페에서 하루 반나절정도 되서야 겨우 <strong class=\"hl\">환율</strong>이야기가 나오네요.</a> </dd> <dd class=\"rt_sub _rt_time _time_1585455658\"> <div class=\"sub_area\"> <span class=\"sub_time _timeinfo\">18분 전</span> </div> </dd> <dd class=\"rt_org\"> <div class=\"org_area\"> <div class=\"org_info\"> <a href=\"https://cafe.naver.com/vilab/153292\" class=\"info_tit\" target=\"_blank\" crlink=\"a=rea_doc*z.source&r=&i=9018b4cf_afdf20256cc3e67cc8&ps=&nd=&u=\" >이번 주식시장은 <strong class=\"hl\">환율</strong>이 좌우할수도 있다.</a> <a href=\"https://cafe.naver.com/vilab/153292\" class=\"info_cite\" target=\"_blank\" crlink=\"a=rea_doc*z.source&r=&i=9018b4cf_afdf20256cc3e67cc8&ps=&nd=&u=\" ><cite>cafe.naver.com</cite></a> </div> </div> </dd></dl> </li> <li class=\"\"> <div class=\"thumb\"> <a href=\"https://cafe.naver.com/h1speaker/11619\" target=\"_blank\" crlink=\"a=rea_doc*z.img&r=&i=9018b4cf_18b245b2d632d3ca44&ps=&nd=&u=\" ><img src=\"https://ssl.pstatic.net/sstatic/search/pc/2016/img/ico_rt_cafe.png\" width=\"50\" height=\"50\" alt=\"카페 댓글\"> <span class=\"mask\"></span> <span class=\"valign\"></span> </a> </div> <dl> <dd> <a href=\"https://cafe.naver.com/h1speaker/11619\" class=\"rt_user\" target=\"_blank\" crlink=\"a=rea_doc*z.id&r=&i=9018b4cf_18b245b2d632d3ca44&ps=&nd=&u=\" ><span class=\"user_name\">daff****</span></a> </dd> <dd> <a href=\"https://cafe.naver.com/h1speaker/11619\" class=\"txt_link\" target=\"_blank\" crlink=\"a=rea_doc*z.comment&r=&i=9018b4cf_18b245b2d632d3ca44&ps=&nd=&u=\" ><strong class=\"hl\">환율</strong> 문제도 있지만 중국 부품 단가가 난리도 아닙니다.</a> </dd> <dd class=\"rt_sub _rt_time _time_1585454931\"> <div class=\"sub_area\"> <span class=\"sub_time _timeinfo\">30분 전</span> </div> </dd> <dd class=\"rt_org\"> <div class=\"org_area\"> <div class=\"org_info\"> <a href=\"https://cafe.naver.com/h1speaker/11619\" class=\"info_tit\" target=\"_blank\" crlink=\"a=rea_doc*z.source&r=&i=9018b4cf_18b245b2d632d3ca44&ps=&nd=&u=\" >(YouTube)조립 PC 딱! 289만원 - 극강의 RGB 예쁨PC</a> <a href=\"https://cafe.naver.com/h1speaker/11619\" class=\"info_cite\" target=\"_blank\" crlink=\"a=rea_doc*z.source&r=&i=9018b4cf_18b245b2d632d3ca44&ps=&nd=&u=\" ><cite>cafe.naver.com</cite></a> </div> </div> </dd></dl> </li> <li class=\"\"> <div class=\"thumb\"> <a href=\"https://cafe.naver.com/mesemfarmer/48740\" target=\"_blank\" crlink=\"a=rea_doc*z.img&r=&i=9018b4cf_1b495f2be6439b2328&ps=&nd=&u=\" ><img src=\"https://ssl.pstatic.net/sstatic/search/pc/2016/img/ico_rt_cafe.png\" width=\"50\" height=\"50\" alt=\"카페 댓글\"> <span class=\"mask\"></span> <span class=\"valign\"></span> </a> </div> <dl> <dd> <a href=\"https://cafe.naver.com/mesemfarmer/48740\" class=\"rt_user\" target=\"_blank\" crlink=\"a=rea_doc*z.id&r=&i=9018b4cf_1b495f2be6439b2328&ps=&nd=&u=\" ><span class=\"user_name\">gusr******</span></a> </dd> <dd> <a href=\"https://cafe.naver.com/mesemfarmer/48740\" class=\"txt_link\" target=\"_blank\" crlink=\"a=rea_doc*z.comment&r=&i=9018b4cf_1b495f2be6439b2328&ps=&nd=&u=\" >저도 <strong class=\"hl\">환율</strong> 지켜 보면서 장바구니 넣고 있는데..... 코로나19 종식 되야 받을꺼 같아서 고민만 하고 있습니다^^ 4월에나 결제 해야겠어요~</a> </dd> <dd class=\"rt_sub _rt_time _time_1585454258\"> <div class=\"sub_area\"> <span class=\"sub_time _timeinfo\">41분 전</span> </div> </dd> <dd class=\"rt_org\"> <div class=\"org_area\"> <div class=\"org_info\"> <a href=\"https://cafe.naver.com/mesemfarmer/48740\" class=\"info_tit\" target=\"_blank\" crlink=\"a=rea_doc*z.source&r=&i=9018b4cf_1b495f2be6439b2328&ps=&nd=&u=\" >수강초 실생들 밭떼기~</a> <a href=\"https://cafe.naver.com/mesemfarmer/48740\" class=\"info_cite\" target=\"_blank\" crlink=\"a=rea_doc*z.source&r=&i=9018b4cf_1b495f2be6439b2328&ps=&nd=&u=\" ><cite>cafe.naver.com</cite></a> </div> </div> </dd></dl> </li> </ul></div> </div><div class=\"section_more\"><a href=\"?where=realtime&sm=tab_nmr&query=%ED%99%98%EC%9C%A8&ie=utf8\" class=\"go_more\" onclick=\"return goOtherCR(this, 'a=rea.more&r=0&i=0&u='+urlencode(this.href))\" >실시간검색 더보기</a></div> </div><script type=\"text/javascript\"> var realtimAjaxMoreUrl_domain = \"https://s.search.naver.com/p/srealtime/search.naver\"; var realtimAjaxMoreUrl_parameter = \"where=nx&rev=31&m=0&query=%ED%99%98%EC%9C%A8&b1=&start=1&ro=0&rt_tag=0&ssc=tab.nx.all&t=0&dkey=0\"; var realtimeListCount = 20; var realtimeRollingInterval = 5000; var realtimeSlidingInterval = 10; var a1_realtime = \"1585456094\"; var a1_pastwriting = \"1585454258\"; var realtimeAjaxTime = 1585456759; var nRealtimeProfile = 0; var sRealTimeJS = \"https://ssl.pstatic.net/sstatic/au/pc/realtime_search/nhn.search.realtime_search_170410_1.js\"; nx_js_defer_load(sRealTimeJS, function() { var oRealTimeSearch = new RealTimeSearchLoad(\"realTimeSearchBody\", { nRealtimeProfile: window.nRealtimeProfile, maxApiCallCount: 6, newUpdateInterval: 5000, userMotionCaptureTime: 180000, noticeType : 0, noticeInterval: 20000, noticeMaxCalls: 10, noticeMaxTotal: 50, pastLoad: false, pastType: 2, pastMaxCount: 10 }); }, 150); </script> <script type=\"text/javascript\"> var cafe_terms = [\"%ED%99%98%EC%9C%A8\"]; </script> <div class=\"cafe section _cafeBase _prs_caf\"> <div class=\"section_head\"> <h2>카페</h2> </div> <ul class=\"type01\"> <li class=\"sh_cafe_top\"> <div class=\"thumb\"><a href=\"https://cafe.naver.com/jaegebal/1705034\" target=\"_blank\" class=\"sp_thmb thmb80\" onClick=\"return goOtherCR(this, 'a=caf_bas*a.img&r=1&i=90000004_00C24027001A044A00000000&u='+urlencode(urlexpand(this.href)));\"><img src=\"https://search.pstatic.net/common/?src=http%3A%2F%2Fcafefiles.naver.net%2FMjAyMDAzMjVfMzIg%2FMDAxNTg1MTE1MTUxMzQ3.9nFORuEs5qe4jXRgNSflvVt-4POl9HizvvRBD4h0bl4g.TJ4mW-ICOPbvXJJ9UJrJAtqeR-nUP-RNpCWWdxjH4jog.JPEG%2FexternalFile.jpg%23960x1166&type=n82_82\" width=\"82\" height=\"82\" alt=\"원 달러 환율 증가 할까요?\" onError=\"this.parentNode.style.display='none';\"><span class=\"thmb_v\"></span><span class=\"thmb_bd\"></span></a></div> <dl> <dt><a href=\"https://cafe.naver.com/jaegebal/1705034\" target=\"_blank\" class=\"sh_cafe_title\" title=\"\" onclick=\"return goOtherCR(this, 'a=caf_bas*a.tit&r=1&i=90000004_00C24027001A044A00000000&u='+urlencode(urlexpand(this.href)));\">원 달러 <strong class=\"hl\">환율</strong> 증가 할까요?</a></dt> <dd class=\"txt_inline\">4일 전 </dd> <dd class=\"sh_cafe_passage\">IMF와 라먼 사태때 <strong class=\"hl\">환율</strong>이 올랐던 것을 보시고 이번에도 <strong class=\"hl\">환율</strong>이 오를 수도 있을 것이라 예상 하셨던 분들이 계셨을텐데... 미국(트럼프)의 달러 약세 선호, QE...</dd> <dd class=\"txt_block\"><span class=\"inline\"><a href=\"https://cafe.naver.com/jaegebal\" target=\"_blank\" class=\"txt84\" onclick=\"return goOtherCR(this, 'a=caf_bas*a.cafename&r=1&i=90000004_00C24027001A044A00000000&u='+urlencode(urlexpand(this.href)));\">부동산 스터디'</a> <span class=\"spcm ico_total ico_represent\">대표</span><a href=\"https://cafe.naver.com/jaegebal/1705034\" target=\"_blank\" class=\"url\" onclick=\"return goOtherCR(this, 'a=caf_bas*a.cafeurl&r=1&i=90000004_00C24027001A044A00000000&u='+urlencode(urlexpand(this.href)));\">cafe.naver.com/jaegebal/1705034</a><span class=\"bar\"></span> <a href=\"?where=article&query=%ED%99%98%EC%9C%A8&cafe_url=jaegebal&sm=tab_crs&ie=utf8\" class=\"txt84\" onclick=\"return goOtherCR(this, 'a=caf_bas*a.similar&r=1&i=90000004_00C24027001A044A00000000&u='+urlencode(urlexpand(this.href)));\">카페 내 검색</a> </span></dd> </dl> </li> <li class=\"sh_cafe_top\"> <div class=\"thumb\"><a href=\"https://cafe.naver.com/kmhking/682723\" target=\"_blank\" class=\"sp_thmb thmb80\" onClick=\"return goOtherCR(this, 'a=caf_bas*a.img&r=2&i=90000004_013116E8000A6AE300000000&u='+urlencode(urlexpand(this.href)));\"><img src=\"https://search.pstatic.net/common/?src=http%3A%2F%2Fcafefiles.naver.net%2FMjAyMDAzMjNfMjQ5%2FMDAxNTg0OTQyMTU5MTA2.qVTL6ARDon0FXni_yN1aqViydz-wOMmKSHmDG4UkiIog.Abkun0-HvnRt3nNjZ-OpxsTFZbX6EXiQWNVENWpYYZgg.PNG%2Fcases.PNG%23480x348&type=n82_82\" width=\"82\" height=\"82\" alt=\"이번주 환율 전망은?\" onError=\"this.parentNode.style.display='none';\"><span class=\"thmb_v\"></span><span class=\"thmb_bd\"></span></a></div> <dl> <dt><a href=\"https://cafe.naver.com/kmhking/682723\" target=\"_blank\" class=\"sh_cafe_title\" title=\"\" onclick=\"return goOtherCR(this, 'a=caf_bas*a.tit&r=2&i=90000004_013116E8000A6AE300000000&u='+urlencode(urlexpand(this.href)));\">이번주 <strong class=\"hl\">환율</strong> 전망은?</a></dt> <dd class=\"txt_inline\">6일 전 </dd> <dd class=\"sh_cafe_passage\">결국 달러지수는 원달러<strong class=\"hl\">환율</strong>에 영향을 주니 <strong class=\"hl\">환율</strong>이 올라가는데 힘을 넣습니다. 현재 <strong class=\"hl\">환율</strong> 관련뉴스를 참고해봅시다. <strong class=\"hl\">환율</strong> 상승 모멘텀코로나 불안코스피 매도한국채권 매도...</dd> <dd class=\"txt_block\"><span class=\"inline\"><a href=\"https://cafe.naver.com/kmhking\" target=\"_blank\" class=\"txt84\" onclick=\"return goOtherCR(this, 'a=caf_bas*a.cafename&r=2&i=90000004_013116E8000A6AE300000000&u='+urlencode(urlexpand(this.href)));\">실전 분양권투자 지원센터</a> <span class=\"spcm ico_total ico_represent\">대표</span><a href=\"https://cafe.naver.com/kmhking/682723\" target=\"_blank\" class=\"url\" onclick=\"return goOtherCR(this, 'a=caf_bas*a.cafeurl&r=2&i=90000004_013116E8000A6AE300000000&u='+urlencode(urlexpand(this.href)));\">cafe.naver.com/kmhki...</a><span class=\"bar\"></span> <a href=\"?where=article&query=%ED%99%98%EC%9C%A8&cafe_url=kmhking&sm=tab_crs&ie=utf8\" class=\"txt84\" onclick=\"return goOtherCR(this, 'a=caf_bas*a.similar&r=2&i=90000004_013116E8000A6AE300000000&u='+urlencode(urlexpand(this.href)));\">카페 내 검색</a> </span></dd> </dl> </li> <li class=\"sh_cafe_top\"> <dl> <dt><a href=\"https://cafe.naver.com/jina7/97104\" target=\"_blank\" class=\"sh_cafe_title\" title=\"\" onclick=\"return goOtherCR(this, 'a=caf_bas*a.tit&r=3&i=90000004_00CFB43400017B5000000000&u='+urlencode(urlexpand(this.href)));\"><strong class=\"hl\">환율</strong>..725..헐..</a></dt> <dd class=\"txt_inline\">2020.03.19. </dd> <dd class=\"sh_cafe_passage\">한국 가서 집팔고 송금해야 하나요.. <strong class=\"hl\">환율</strong> 정말 대박이네요.. 이렇게 낮은 <strong class=\"hl\">환율</strong>이 얼마나 갈까요?? 2000년 초반에 600대 였던거 같은데.. 오늘 보니 725네요..헐.. 한국행 비행기가 있을려나..</dd> <dd class=\"txt_block\"><span class=\"inline\"><a href=\"https://cafe.naver.com/jina7\" target=\"_blank\" class=\"txt84\" onclick=\"return goOtherCR(this, 'a=caf_bas*a.cafename&r=3&i=90000004_00CFB43400017B5000000000&u='+urlencode(urlexpand(this.href)));\">지금 함께하는 호주이야기</a> <a href=\"https://cafe.naver.com/jina7/97104\" target=\"_blank\" class=\"url\" onclick=\"return goOtherCR(this, 'a=caf_bas*a.cafeurl&r=3&i=90000004_00CFB43400017B5000000000&u='+urlencode(urlexpand(this.href)));\">cafe.naver.com/jina7/97104</a><span class=\"bar\"></span> <a href=\"?where=article&query=%ED%99%98%EC%9C%A8&cafe_url=jina7&sm=tab_crs&ie=utf8\" class=\"txt84\" onclick=\"return goOtherCR(this, 'a=caf_bas*a.similar&r=3&i=90000004_00CFB43400017B5000000000&u='+urlencode(urlexpand(this.href)));\">카페 내 검색</a> </span></dd> </dl> </li> <li class=\"sh_cafe_top\"> <dl> <dt><a href=\"https://cafe.naver.com/gototheusa/459435\" target=\"_blank\" class=\"sh_cafe_title\" title=\"\" onclick=\"return goOtherCR(this, 'a=caf_bas*a.tit&r=4&i=90000004_00A5A077000702AB00000000&u='+urlencode(urlexpand(this.href)));\"><strong class=\"hl\">환율</strong>이 내리면 내리는대로 오르면 오르는대로</a></dt> <dd class=\"txt_inline\">4일 전 </dd> <dd class=\"sh_cafe_passage\">그동안 <strong class=\"hl\">환율</strong>이 넘 올라 <strong class=\"hl\">환율</strong> 칸을 쳐다보지를 못했는데 (심약성 새가슴 ㅜㅜ) 오늘 <strong class=\"hl\">환율</strong> 1225원 선으로 내려간다 라는 미준모 글을 보며 마음이 싱숭생숭… 하루 종일 <strong class=\"hl\">환율</strong>만 클릭해 봤건만 결국 아무런...</dd> <dd class=\"txt_block\"><span class=\"inline\"><a href=\"https://cafe.naver.com/gototheusa\" target=\"_blank\" class=\"txt84\" onclick=\"return goOtherCR(this, 'a=caf_bas*a.cafename&r=4&i=90000004_00A5A077000702AB00000000&u='+urlencode(urlexpand(this.href)));\">미준모(미국여행,유학,취업,이민,영주권,시...</a> <span class=\"spcm ico_total ico_represent\">대표</span><a href=\"https://cafe.naver.com/gototheusa/459435\" target=\"_blank\" class=\"url\" onclick=\"return goOtherCR(this, 'a=caf_bas*a.cafeurl&r=4&i=90000004_00A5A077000702AB00000000&u='+urlencode(urlexpand(this.href)));\">cafe.naver.com/gototheusa...</a><span class=\"bar\"></span> <a href=\"?where=article&query=%ED%99%98%EC%9C%A8&cafe_url=gototheusa&sm=tab_crs&ie=utf8\" class=\"txt84\" onclick=\"return goOtherCR(this, 'a=caf_bas*a.similar&r=4&i=90000004_00A5A077000702AB00000000&u='+urlencode(urlexpand(this.href)));\">카페 내 검색</a> </span></dd> </dl> </li> <li class=\"sh_cafe_top\"> <div class=\"thumb\"><a href=\"https://cafe.naver.com/vilab/152013\" target=\"_blank\" class=\"sp_thmb thmb80\" onClick=\"return goOtherCR(this, 'a=caf_bas*a.img&r=5&i=90000004_00AFDF20000251CD00000000&u='+urlencode(urlexpand(this.href)));\"><img src=\"https://search.pstatic.net/common/?src=http%3A%2F%2Fcafefiles.naver.net%2FMjAyMDAzMjBfOTcg%2FMDAxNTg0NjMyNTY3Mzgy.DjvnhsB39Yp1W-Sjo73veMnCcnoEadXP8dCctAEr1dMg.VLXzVY1TwOLIjl_poNHoDbYCKWWAcl04K91Dz6vzBuIg.JPEG%2FexternalFile.jpg%23960x314&type=n82_82\" width=\"82\" height=\"82\" alt=\"앞으로 환율은 어떻게 될까요? 아니 어떻게 돼야 할까요?\" onError=\"this.parentNode.style.display='none';\"><span class=\"thmb_v\"></span><span class=\"thmb_bd\"></span></a></div> <dl> <dt><a href=\"https://cafe.naver.com/vilab/152013\" target=\"_blank\" class=\"sh_cafe_title\" title=\"\" onclick=\"return goOtherCR(this, 'a=caf_bas*a.tit&r=5&i=90000004_00AFDF20000251CD00000000&u='+urlencode(urlexpand(this.href)));\">앞으로 <strong class=\"hl\">환율</strong>은 어떻게 될까요? 아니 어떻게 돼야 할까요?</a></dt> <dd class=\"txt_inline\">2020.03.20. </dd> <dd class=\"sh_cafe_passage\">앞으로 <strong class=\"hl\">환율</strong>은 어떻게 될까요? 아니 어떻게 돼야 할까요? 질문의 답을 2008년 금융위기에서 찾아... 통화스와프 체결 이후 <strong class=\"hl\">환율</strong>은 어떻게 변해갔을까요? 일시적으...</dd> <dd class=\"txt_block\"><span class=\"inline\"><a href=\"https://cafe.naver.com/vilab\" target=\"_blank\" class=\"txt84\" onclick=\"return goOtherCR(this, 'a=caf_bas*a.cafename&r=5&i=90000004_00AFDF20000251CD00000000&u='+urlencode(urlexpand(this.href)));\">가치투자연구소</a> <a href=\"https://cafe.naver.com/vilab/152013\" target=\"_blank\" class=\"url\" onclick=\"return goOtherCR(this, 'a=caf_bas*a.cafeurl&r=5&i=90000004_00AFDF20000251CD00000000&u='+urlencode(urlexpand(this.href)));\">cafe.naver.com/vilab/152013</a><span class=\"bar\"></span> <a href=\"?where=article&query=%ED%99%98%EC%9C%A8&cafe_url=vilab&sm=tab_crs&ie=utf8\" class=\"txt84\" onclick=\"return goOtherCR(this, 'a=caf_bas*a.similar&r=5&i=90000004_00AFDF20000251CD00000000&u='+urlencode(urlexpand(this.href)));\">카페 내 검색</a> </span></dd> </dl> </li> </ul> <div class=\"section_more\"> <a href=\"?where=article&query=%ED%99%98%EC%9C%A8&ie=utf8&sm=tab_nmr\" class=\"go_more\" onclick=\"return goOtherCR(this, 'a=caf_bas.more&r=0&i=&u='+urlencode(urlexpand(this.href)));\">카페 더보기</a> </div> <script> var aSlidingThumbnailData = [ ]; </script> <script> function onThumbnailErrorCafePR(img) { if(img) img.parentNode.parentNode.style.display='none'; } </script> </div> <script type=\"text/javascript\" src=\"https://ssl.pstatic.net/sstatic/search/js/nhn.open_map_20130305.js\" charset=\"UTF-8\"></script> <script type=\"text/javascript\"> function make_cr(cr, url, area) { var cr_str = cr.split(\",\"); var cr_suffix = cr_str[0]; var rank = cr_str[1]; var gdid = cr_str[2]; var url = (url != \"\") ? urlencode(urlexpand(url)) : \"javascript\"; tCR(\"a=\" + cr_suffix + \".\" + area + \"&r=\" + rank + \"&i=\" + gdid + \"&u=\" + url); } (function(){ var elBase = $$.getSingle(\"._cafeBase\",$(\"content\")); var oFnCallBack = { closeMap : function(mapId, cr, sUrl, sClassName) { make_cr(cr, sUrl, \"maplayerclose\"); }, clickTitle : function(mapId, cr, sUrl, sClassName) { make_cr(cr, sUrl, \"mapaddress\"); }, viewLarge : function(mapId, cr, sUrl, sClassName) { make_cr(cr, sUrl, \"bigmap\"); }, searchRoute : function(mapId, cr, sUrl, sClassName) { make_cr(cr, sUrl, \"findmap\"); } }; var oOpenUrl = { }; var oFnOpenClose = { clickBtnOpen : function(mapId, cr, sUrl, sClassName) { make_cr(cr, sUrl, \"mapopen\"); }, clickBtnClose: function(mapId, cr, sUrl, sClassName) { make_cr(cr, sUrl, \"mapclose\"); } }; oTotalSearch.oBCKOpenMap.addArea(\"cafe\", { \"base\" : elBase, \"prefix\" : \"cafe_\", \"url\" : \"http://mashup.map.naver.com/view.nhn\", \"type\" : \"nexearch\", \"oFnCallBack\" : oFnCallBack, \"oFnOpenClose\" : oFnOpenClose, \"oOpenUrl\" : oOpenUrl }); })(); </script> <script type=\"text/javascript\"> var blog_terms = [\"%ED%99%98%EC%9C%A8\"]; </script>  <div class=\"blog section _blogBase _prs_blg\"> <div class=\"section_head\"> <h2>블로그</h2> </div> <ul class=\"type01\"> <li class=\"sh_blog_top\" id=\"sp_blog_1\"> <div class=\"thumb\"> <a href=\"https://blog.naver.com/hug387?Redirect=Log&logNo=221858321557\" class=\"sp_thmb thmb80\" target=\"_blank\" onclick=\"return goOtherCR(this,'a=blg_1st*i.img&r=1&i=90000003_0000000000000033A7C95495&u='+urlencode(urlexpand(this.href)));\"> <img src=\"https://search.pstatic.net/common/?src=http%3A%2F%2Fblogfiles.naver.net%2FMjAyMDAzMTdfMjY5%2FMDAxNTg0NDIzNDQyMjIx.IoBepaYxcUxKm8bgoIVeGUa4QEVhEKFCEa4OVxnfdEcg.2zKDclJxg24jFOOEIcjF6IVcrW6jOM5ezH6rDwdkwuEg.JPEG.hug387%2F1584423441242.jpg%23900x922&type=n82_82\" width=\"82\" height=\"82\" alt=\"발리 코로나19 현지상\" class=\"sh_blog_thumbnail\" onerror=\"this.parentNode.parentNode.style.display='none';\"> <span class=\"thmb_v\"></span> <span class=\"thmb_bd\"></span> </a> </div> <dl> <dt> <a class=\"sh_blog_title _sp_each_url _sp_each_title\" href=\"https://blog.naver.com/hug387?Redirect=Log&logNo=221858321557\" target=\"_blank\" title=\"발리 코로나19 현지상황 (열검사), 환율 환전 물가 팁 +음식 조심하세욤,\" onclick=\"return goOtherCR(this,'a=blg_1st*i.tit&r=1&i=90000003_0000000000000033A7C95495&u='+urlencode(urlexpand(this.href)));\">발리 코로나19 현지상황 (열검사), <strong class=\"hl\">환율</strong> 환전 물가 팁 +음식...</a> </dt> <dd class=\"txt_inline\">2020.03.17. </dd> <dd class=\"sh_blog_passage\">현지상황 적으면서 발리 물가, 얼만큼 환전 해야할지 <strong class=\"hl\">환율</strong> 어떠한지 이런것도... 그리고 발리 물가, 환전 <strong class=\"hl\">환율</strong> 관련 말해보자면요. 인도네시아 <strong class=\"hl\">환율</strong> 단위는 루피....</dd> <dd class=\"txt_block\"> <span class=\"inline\"> <a href=\"https://blog.naver.com/hug387\" onclick=\"return goOtherCR(this,'a=blg_1st*i.blogname&r=1&i=90000003_0000000000000033A7C95495&u='+urlencode(urlexpand(this.href)));\" target=_blank class=\"txt84\">어여쁜 유지니아</a> <a href=\"https://blog.naver.com/hug387?Redirect=Log&logNo=221858321557\" target=\"_blank\" onclick=\"return goOtherCR(this,'a=blg_1st*i.url&r=1&i=90000003_0000000000000033A7C95495&u='+urlencode(urlexpand(this.href)));\" class=\"url\">blog.naver.com/hug387/221858321557</a> <span class=\"bar\"></span><a href=\"?query=%ED%99%98%EC%9C%A8&where=post&sm=tab_brs&post_blogurl=blog.naver.com%2Fhug387\" onClick=\"return goOtherCR(this,'a=blg_1st*i.similar&r=1&i=90000003_0000000000000033A7C95495&u='+urlencode(urlexpand(this.href)));\" class=\"txt84\">블로그 내 검색</a> </span> </dd> </dl> </li> <li class=\"sh_blog_top\" id=\"sp_blog_2\"> <div class=\"thumb\"> <a href=\"https://blog.naver.com/nrsla?Redirect=Log&logNo=221812999344\" class=\"sp_thmb thmb80\" target=\"_blank\" onclick=\"return goOtherCR(this,'a=blg_1st*i.img&r=2&i=90000003_0000000000000033A515C4B0&u='+urlencode(urlexpand(this.href)));\"> <img src=\"https://search.pstatic.net/common/?src=http%3A%2F%2Fblogfiles.naver.net%2FMjAyMDAyMTVfMTk5%2FMDAxNTgxNzY1OTgyMTU5.83j-nOjffDkpZqWlndbUrLRcVZW7KmzozzbwHVITtogg.E4ZWY4tF9PBgCEEHMTc4w9NRWHpyr96UvWxKo-DvP_0g.JPEG.nrsla%2F1155.JPG%233000x3000&type=n82_82\" width=\"82\" height=\"82\" alt=\"체코 여행 환전은? 화\" class=\"sh_blog_thumbnail\" onerror=\"this.parentNode.parentNode.style.display='none';\"> <span class=\"thmb_v\"></span> <span class=\"thmb_bd\"></span> </a> </div> <dl> <dt> <a class=\"sh_blog_title _sp_each_url _sp_each_title\" href=\"https://blog.naver.com/nrsla?Redirect=Log&logNo=221812999344\" target=\"_blank\" title=\"체코 여행 환전은? 화폐 환율 물가 정리\" onclick=\"return goOtherCR(this,'a=blg_1st*i.tit&r=2&i=90000003_0000000000000033A515C4B0&u='+urlencode(urlexpand(this.href)));\">체코 여행 환전은? 화폐 <strong class=\"hl\">환율</strong> 물가 정리</a> </dt> <dd class=\"txt_inline\">2020.02.21. </dd> <dd class=\"sh_blog_passage\">화폐 <strong class=\"hl\">환율</strong> 물가 정리 체코 여행 환전 체코는 유로를 사용하지 않고 전용 화폐인 코루나 (코룬)을 사용한다. 유료를 받기도 하지만 <strong class=\"hl\">환율</strong>이 좋지 않으니 되도록이면...</dd> <dd class=\"txt_block\"> <span class=\"inline\"> <a href=\"https://blog.naver.com/nrsla\" onclick=\"return goOtherCR(this,'a=blg_1st*i.blogname&r=2&i=90000003_0000000000000033A515C4B0&u='+urlencode(urlexpand(this.href)));\" target=_blank class=\"txt84\">나리와 함께한 화요...</a> <a href=\"https://blog.naver.com/nrsla?Redirect=Log&logNo=221812999344\" target=\"_blank\" onclick=\"return goOtherCR(this,'a=blg_1st*i.url&r=2&i=90000003_0000000000000033A515C4B0&u='+urlencode(urlexpand(this.href)));\" class=\"url\">blog.naver.com/nrsla/221812999344</a> <span class=\"bar\"></span><a href=\"?query=%ED%99%98%EC%9C%A8&where=post&sm=tab_brs&post_blogurl=blog.naver.com%2Fnrsla\" onClick=\"return goOtherCR(this,'a=blg_1st*i.similar&r=2&i=90000003_0000000000000033A515C4B0&u='+urlencode(urlexpand(this.href)));\" class=\"txt84\">블로그 내 검색</a> </span> </dd> </dl> </li> <li class=\"sh_blog_top\" id=\"sp_blog_3\"> <div class=\"thumb\"> <a href=\"https://blog.naver.com/piersn?Redirect=Log&logNo=221797683506\" class=\"sp_thmb thmb80\" target=\"_blank\" onclick=\"return goOtherCR(this,'a=blg_1st*i.img&r=3&i=90000003_0000000000000033A42C1132&u='+urlencode(urlexpand(this.href)));\"> <img src=\"https://search.pstatic.net/common/?src=http%3A%2F%2Fblogfiles.naver.net%2FMjAyMDAyMDVfMTQ2%2FMDAxNTgwOTAyMzY1NDc4.S25NzVEOzrZhxt4DC2de7UY6LPnU50EpDvdW9pKM6DQg.qVMPA20WsFQ3F4dwkI5tR6IrBEIbjPxPaJUYSbAmqhAg.JPEG.piersn%2F1580902364937.jpg%23900x675&type=n82_82\" width=\"82\" height=\"82\" alt=\"환율 증시 흐름 정리-\" class=\"sh_blog_thumbnail\" onerror=\"this.parentNode.parentNode.style.display='none';\"> <span class=\"thmb_v\"></span> <span class=\"thmb_bd\"></span> </a> </div> <dl> <dt> <a class=\"sh_blog_title _sp_each_url _sp_each_title\" href=\"https://blog.naver.com/piersn?Redirect=Log&logNo=221797683506\" target=\"_blank\" title=\"환율 증시 흐름 정리-레포, 역레포 의미(dskim의 경제이야기)\" onclick=\"return goOtherCR(this,'a=blg_1st*i.tit&r=3&i=90000003_0000000000000033A42C1132&u='+urlencode(urlexpand(this.href)));\"><strong class=\"hl\">환율</strong> 증시 흐름 정리-레포, 역레포 의미(dskim의 경제이야기)</a> </dt> <dd class=\"txt_inline\">2020.02.05. </dd> <dd class=\"sh_blog_passage\">그리고(2월 5일 오늘은 전 거래일 대비 상승 마감했지만) 어제는 달러 원 <strong class=\"hl\">환율</strong>도... 원 <strong class=\"hl\">환율</strong>도 하락 압력을 받았던 하루(어제)였습니다. (즉각적인 동조화를 보이는...</dd> <dd class=\"txt_block\"> <span class=\"inline\"> <a href=\"https://blog.naver.com/piersn\" onclick=\"return goOtherCR(this,'a=blg_1st*i.blogname&r=3&i=90000003_0000000000000033A42C1132&u='+urlencode(urlexpand(this.href)));\" target=_blank class=\"txt84\">피어슨's</a> <a href=\"https://blog.naver.com/piersn?Redirect=Log&logNo=221797683506\" target=\"_blank\" onclick=\"return goOtherCR(this,'a=blg_1st*i.url&r=3&i=90000003_0000000000000033A42C1132&u='+urlencode(urlexpand(this.href)));\" class=\"url\">blog.naver.com/piersn/221797683506</a> <span class=\"bar\"></span><a href=\"?query=%ED%99%98%EC%9C%A8&where=post&sm=tab_brs&post_blogurl=blog.naver.com%2Fpiersn\" onClick=\"return goOtherCR(this,'a=blg_1st*i.similar&r=3&i=90000003_0000000000000033A42C1132&u='+urlencode(urlexpand(this.href)));\" class=\"txt84\">블로그 내 검색</a> </span> </dd> </dl> </li> <li class=\"sh_blog_top\" id=\"sp_blog_4\"> <div class=\"thumb\"> <a href=\"https://blog.naver.com/sirabon?Redirect=Log&logNo=221839355322\" class=\"sp_thmb thmb80\" target=\"_blank\" onclick=\"return goOtherCR(this,'a=blg_1st*i.img&r=4&i=90000003_0000000000000033A6A7EDBA&u='+urlencode(urlexpand(this.href)));\"> <img src=\"https://search.pstatic.net/common/?src=http%3A%2F%2Fblogfiles.naver.net%2FMjAyMDAzMDVfMTY4%2FMDAxNTgzMzY2ODE3NTA0.I7lpD5kZQEo0hOPjkVfJ_YDKQDG67OzcYqvbfudjFUAg.Pr6mmak8jXz7onSgjkP3OmDii_O-l-iVld0IgZgaeUcg.PNG.sirabon%2Fimage.png%23364x342&type=n82_82\" width=\"82\" height=\"82\" alt=\"엔화 환율 전망, 안전\" class=\"sh_blog_thumbnail\" onerror=\"this.parentNode.parentNode.style.display='none';\"> <span class=\"thmb_v\"></span> <span class=\"thmb_bd\"></span> </a> </div> <dl> <dt> <a class=\"sh_blog_title _sp_each_url _sp_each_title\" href=\"https://blog.naver.com/sirabon?Redirect=Log&logNo=221839355322\" target=\"_blank\" title=\"엔화 환율 전망, 안전자산의 시대가 온다\" onclick=\"return goOtherCR(this,'a=blg_1st*i.tit&r=4&i=90000003_0000000000000033A6A7EDBA&u='+urlencode(urlexpand(this.href)));\">엔화 <strong class=\"hl\">환율</strong> 전망, 안전자산의 시대가 온다</a> </dt> <dd class=\"txt_inline\">2020.03.05. </dd> <dd class=\"sh_blog_passage\">엔화 <strong class=\"hl\">환율</strong>을 폭등시키고 있다. 도쿄 외환시장에서 엔화 <strong class=\"hl\">환율</strong>은 오전 8시 시점에 1달러=108.22~108.23엔으로 전일 대비 0.22엔 상승함. 전날 뉴욕 증시에서 다우 존스...</dd> <dd class=\"txt_block\"> <span class=\"inline\"> <a href=\"https://blog.naver.com/sirabon\" onclick=\"return goOtherCR(this,'a=blg_1st*i.blogname&r=4&i=90000003_0000000000000033A6A7EDBA&u='+urlencode(urlexpand(this.href)));\" target=_blank class=\"txt84\">투자와 플러스흐름</a> <a href=\"https://blog.naver.com/sirabon?Redirect=Log&logNo=221839355322\" target=\"_blank\" onclick=\"return goOtherCR(this,'a=blg_1st*i.url&r=4&i=90000003_0000000000000033A6A7EDBA&u='+urlencode(urlexpand(this.href)));\" class=\"url\">blog.naver.com/sirabon/221839355322</a> <span class=\"bar\"></span><a href=\"?query=%ED%99%98%EC%9C%A8&where=post&sm=tab_brs&post_blogurl=blog.naver.com%2Fsirabon\" onClick=\"return goOtherCR(this,'a=blg_1st*i.similar&r=4&i=90000003_0000000000000033A6A7EDBA&u='+urlencode(urlexpand(this.href)));\" class=\"txt84\">블로그 내 검색</a> </span> </dd> </dl> </li> <li class=\"sh_blog_top\" id=\"sp_blog_5\"> <div class=\"thumb\"> <a href=\"https://dongi0508.blog.me/221845469060\" class=\"sp_thmb thmb80\" target=\"_blank\" onclick=\"return goOtherCR(this,'a=blg_1st*i.img&r=5&i=90000003_0000000000000033A7053784&u='+urlencode(urlexpand(this.href)));\"> <img src=\"https://search.pstatic.net/common/?src=http%3A%2F%2Fblogfiles.naver.net%2FMjAyMDAzMDlfMjYw%2FMDAxNTgzNzUyNzk2MDY2._1i4W_Z6FbAictppgItf8we3o_W-VpCgrgLFr9jF_0Mg.Zm6_-5DVNBwvPf9fdHpyQBJ7xsTGhEKl7gPeAULWhwsg.JPEG.dongi0508%2FDSC_2821.JPG%23966x645&type=n82_82\" width=\"82\" height=\"82\" alt=\"원달러 환율 12원 급등\" class=\"sh_blog_thumbnail\" onerror=\"this.parentNode.parentNode.style.display='none';\"> <span class=\"thmb_v\"></span> <span class=\"thmb_bd\"></span> </a> </div> <dl> <dt> <a class=\"sh_blog_title _sp_each_url _sp_each_title\" href=\"https://dongi0508.blog.me/221845469060\" target=\"_blank\" title=\"원달러 환율 12원 급등하여 1200원 돌파 엔화도\" onclick=\"return goOtherCR(this,'a=blg_1st*i.tit&r=5&i=90000003_0000000000000033A7053784&u='+urlencode(urlexpand(this.href)));\">원달러 <strong class=\"hl\">환율</strong> 12원 급등하여 1200원 돌파 엔화도</a> </dt> <dd class=\"txt_inline\">2020.03.09. </dd> <dd class=\"sh_blog_passage\">원달러 <strong class=\"hl\">환율</strong> 12원 급등하여 1200원 돌파 엔화도 미국을 비롯한 전세계가... 이런 상황속에서 미 원달러 <strong class=\"hl\">환율</strong>은 1,201.50원을 기록하고 있다. 천이백원이 넘은 것이다. 9일...</dd> <dd class=\"txt_block\"> <span class=\"inline\"> <a href=\"https://dongi0508.blog.me\" onclick=\"return goOtherCR(this,'a=blg_1st*i.blogname&r=5&i=90000003_0000000000000033A7053784&u='+urlencode(urlexpand(this.href)));\" target=_blank class=\"txt84\">Der Sinn des Leben...</a> <a href=\"https://dongi0508.blog.me/221845469060\" target=\"_blank\" onclick=\"return goOtherCR(this,'a=blg_1st*i.url&r=5&i=90000003_0000000000000033A7053784&u='+urlencode(urlexpand(this.href)));\" class=\"url\">dongi0508.blog.me/221845469060</a> <span class=\"bar\"></span><a href=\"?query=%ED%99%98%EC%9C%A8&where=post&sm=tab_brs&post_blogurl=dongi0508.blog.me\" onClick=\"return goOtherCR(this,'a=blg_1st*i.similar&r=5&i=90000003_0000000000000033A7053784&u='+urlencode(urlexpand(this.href)));\" class=\"txt84\">블로그 내 검색</a> </span> </dd> </dl> </li> </ul> <div class=\"section_more\"> <a href=\"?query=%ED%99%98%EC%9C%A8&where=post&sm=tab_nmr&nso=\" onClick=\"return goOtherCR(this,'a=blg_1st.more&r=&i=&u='+urlencode(urlexpand(this.href)));\" class=\"go_more\">블로그 더보기</a> </div> </div> <script type=\"text/javascript\" src=\"https://ssl.pstatic.net/sstatic/search/js/nhn.open_map_20130305.js\" charset=\"UTF-8\"></script> <script type=\"text/javascript\"> (function(){ var elBase = $$.getSingle(\"._blogBase\",$(\"content\")); var oFnCallBack = { closeMap : function(mapId,cr,sUrl,sClassName){ tCR(cr.replace(\"area\",\"maplayerclose\")); }, clickTitle : function(mapId,cr,sUrl,sClassName){ tCR(cr.replace(\"area\",\"mapaddress\") + \"&u=\" + urlencode(sUrl)); }, viewLarge : function(mapId,cr,sUrl,sClassName){ tCR(cr.replace(\"area\",\"bigmap\") + \"&u=\" + urlencode(sUrl)); }, searchRoute : function(mapId,cr,sUrl,sClassName){ tCR(cr.replace(\"area\",\"findmap\") + \"&u=\" + urlencode(sUrl)); } }; var oFnOpenClose = { clickBtnOpen : function(mapId,cr,sUrl,sClassName){ tCR(cr.replace(\"area\",\"mapopen\")); }, clickBtnClose: function(mapId,cr,sUrl,sClassName){ tCR(cr.replace(\"area\",\"mapclose\")); } }; var oOpenUrl = { }; oTotalSearch.oBCKOpenMap.addArea(\"blog\",{ \"base\" : elBase, \"prefix\" : \"blog_\", \"url\" : \"https://mashup.map.naver.com/view.nhn\", \"type\" : \"nexearch\", \"oFnCallBack\" : oFnCallBack, \"oFnOpenClose\" : oFnOpenClose, \"oOpenUrl\" : oOpenUrl }); })(); </script> <link rel=\"stylesheet\" type=\"text/css\" href=\"https://ssl.pstatic.net/sstatic/search/pc/css/sp_kindic_180830.css\"> <script type=\"text/javascript\"> function wiki_escape(url) { if (navigator.appName.charAt(0) == \"M\" && navigator.appVersion.indexOf(\"MSIE 6\") != -1) { tmp = escape(url); ret = tmp.replace(\"http\\%3A\", \"http:\"); } else if (navigator.appName.indexOf(\"Opera\") != -1) { len = url.length; last_pos = url.lastIndexOf(\"/\"); url_prefix = url.substr(0, last_pos + 1); url_item = url.substr(last_pos + 1, len - last_pos); ret = url_prefix + (encodeURIComponent(url_item)); } else ret = url; return ret; } </script> <div class=\"sp_kindic sc _sp_kindic\"> <div class=\"sc_head\"> <h2>지식백과</h2> <div class=\"head_source\"><span class=\"source\"><a href=\"?where=kdic&query=%ED%99%98%EC%9C%A8&ie=utf8&dictype=1&sm=tab_opt&msg=1\" onclick=\"return goOtherCR(this,'a=kdc_gng.child&r=&i=&u='+urlencode(this.href));\">어린이백과</a></span><span class=\"source\"><a href=\"?where=kdic&query=%ED%99%98%EC%9C%A8&ie=utf8&dictype=2&sm=tab_opt&msg=1\" onclick=\"return goOtherCR(this,'a=kdc_gng.student&r=&i=&u='+urlencode(this.href));\">학생백과</a></span></div> </div> <div class=\"api_subject_bx\"> <div class=\"api_title_area\"> <h3 class=\"api_title\"> <a class=\"kindic_title\" target=\"_blank\" href=\"http://terms.naver.com/alikeMeaning.nhn?query=00004221\" onclikc=\"return goOtherCR(this,'a=kdc_gng.title&r=1&i=0813A297_0006248c4179&u='+urlencode(this.href));\"> <strong class=\"title\">환율</strong> <p class=\"dsc\">1국 통화와 타국 통화와의 교환비율</p> </a> </h3> </div> <div class=\"group_kindic\"> <div class=\"kindic\"> <div class=\"thumb_area \" id=\"kdic_thumb_1\"> <a target=\"_blank\" href=\"https://terms.naver.com/entry.nhn?docId=3353475&cid=47305&categoryId=47305\" class=\"link_thumb\" onclick=\"return goOtherCR(this,'a=kdc_gng*c.thumb&r=1&i=0813A297_0006248c4179&u='+urlencode(this.href));\"> <img src=\"https://search.pstatic.net/common/?src=https%3A%2F%2Fdbscthumb-phinf.pstatic.net%2F2831_000_1%2F20160308134623347_MLB7CU5Q7.jpg%2Fs_gn19_17_i1.jpg%3Ftype%3Dw450_fst_n%23450x491%23c450&type=n_mfullfill160_160\" onload=\"this.parentNode.className='link_thumb';\" onerror=\"this.parentNode.style.display='none';\" width=\"80\" height=\"80\" class=\"thumb\" alt=\"\"><span class=\"thumb_bd\"></span></a> </div> <div class=\"info_area\"> <div class=\"tit_box\"> <a target=\"_blank\" href=\"https://terms.naver.com/entry.nhn?docId=3353475&cid=47305&categoryId=47305\" class=\"tit \" onclick=\"return goOtherCR(this,'a=kdc_gng*c.title&r=1&i=0813A297_0006248c4179&u='+urlencode(this.href));\"> <strong>환율</strong>이 무엇인가요 </a> </div> <p class=\"txt_box\">이렇게 한 나라의 화폐와 외국 화폐와의 교환 비율을 '<strong>환율</strong>'이라고 해요. <strong>환율</strong>은 각 나라의 경제 사정에 따라, 국제 경제의 흐름에 따라 매일 조금씩 바뀌어요. 외국과... </p> <div class=\"source_box\"><span class=\"source\">재미있는 지구촌 경제 이야기</span><span class=\"source\"><a href=\"https://terms.naver.com/list.nhn?cid=44625&categoryId=44625\" target=\"_blank\" title=\"지식백과 색인 목록\" onclick=\"return goOtherCR(this,'a=kdc_gng*c.category&r=1&i=0813A297_0006248c4179&u='+urlencode(this.href));\">어린이백과</a> &gt; <a href=\"https://terms.naver.com/list.nhn?cid=47305&categoryId=47305\" target=\"_blank\" title=\"지식백과 색인 목록\" onclick=\"return goOtherCR(this,'a=kdc_gng*c.category&r=1&i=0813A297_0006248c4179&u='+urlencode(this.href));\">사회</a></span> </div> </div> </div> <div class=\"kindic\"> <div class=\"thumb_area \" id=\"kdic_thumb_2\"> <a target=\"_blank\" href=\"https://terms.naver.com/entry.nhn?docId=1526713&cid=47332&categoryId=47332\" class=\"link_thumb\" onclick=\"return goOtherCR(this,'a=kdc_gng*s.thumb&r=2&i=08124FEC_000035158a88&u='+urlencode(this.href));\"> <img src=\"https://search.pstatic.net/common/?src=https%3A%2F%2Fdbscthumb-phinf.pstatic.net%2F1260_000_1%2F20120702001258744_JN4TOBF0Z.jpg%2Fba3_053_i1.jpg%3Ftype%3Dw450_fst_n%23450x352%23c352&type=n_mfullfill160_160\" onload=\"this.parentNode.className='link_thumb';\" onerror=\"this.parentNode.style.display='none';\" width=\"80\" height=\"80\" class=\"thumb\" alt=\"\"><span class=\"thumb_bd\"></span></a> </div> <div class=\"info_area\"> <div class=\"tit_box\"> <a target=\"_blank\" href=\"https://terms.naver.com/entry.nhn?docId=1526713&cid=47332&categoryId=47332\" class=\"tit \" onclick=\"return goOtherCR(this,'a=kdc_gng*s.title&r=2&i=08124FEC_000035158a88&u='+urlencode(this.href));\"> <strong>환율</strong>은 은행에서 정하나요? </a> </div> <p class=\"txt_box\">오늘은 어머니와 환전을 하러 은행에 갔는데 은행 전광판에 오늘의 <strong>환율</strong>이 표시되어 있더라고요. 요즘 <strong>환율</strong>이 좋아서 다행이라고 어머니께서 말씀하시던데, <strong>환율</strong>은 누가... </p> <div class=\"source_box\"><span class=\"source\">사회선생님도 궁금한 101가지 사회질문사전</span><span class=\"source\"><a href=\"https://terms.naver.com/list.nhn?cid=44626&categoryId=44626\" target=\"_blank\" title=\"지식백과 색인 목록\" onclick=\"return goOtherCR(this,'a=kdc_gng*s.category&r=2&i=08124FEC_000035158a88&u='+urlencode(this.href));\">학생백과</a> &gt; <a href=\"https://terms.naver.com/list.nhn?cid=47321&categoryId=47321\" target=\"_blank\" title=\"지식백과 색인 목록\" onclick=\"return goOtherCR(this,'a=kdc_gng*s.category&r=2&i=08124FEC_000035158a88&u='+urlencode(this.href));\">사회</a></span> </div> <div class=\"dsc_box\"> <em class=\"tit\">분야</em><span class=\"txt\">경제</span> </div> </div> </div> <div class=\"kindic\"> <div class=\"thumb_area \" id=\"kdic_thumb_3\"> <a target=\"_blank\" href=\"https://terms.naver.com/entry.nhn?docId=3431570&cid=58438&categoryId=58438\" class=\"link_thumb\" onclick=\"return goOtherCR(this,'a=kdc_gng*K.thumb&r=3&i=88167634_00000000000d01560cc87e09&u='+urlencode(this.href));\"> <img src=\"https://search.pstatic.net/common/?src=https%3A%2F%2Fdbscthumb-phinf.pstatic.net%2F4522_000_1%2F20160721182803595_1CO40TZQA.jpg%2Fbg19_13_i1.jpg%3Ftype%3Dw450_fst_n%23449x204&type=mfullfill160_160\" onload=\"this.parentNode.className='link_thumb';\" onerror=\"this.parentNode.style.display='none';\" width=\"80\" height=\"80\" class=\"thumb\" alt=\"\"><span class=\"thumb_bd\"></span></a> </div> <div class=\"info_area\"> <div class=\"tit_box\"> <a target=\"_blank\" href=\"https://terms.naver.com/entry.nhn?docId=3431570&cid=58438&categoryId=58438\" class=\"tit \" onclick=\"return goOtherCR(this,'a=kdc_gng*K.title&r=3&i=88167634_00000000000d01560cc87e09&u='+urlencode(this.href));\"> <strong>환율</strong> </a> </div> <p class=\"txt_box\">외국 돈을 살 때 지불하는 외국 돈의 가격을 <strong>환율</strong>이라 한다. 달러당 <strong>환율</strong>이 1,000원이라는 것은 1달러를 살 때 지불하는 가격이 1,000원이라는 것이고 유로(euro) <strong>환율</strong>이 1... </p> <div class=\"source_box\"><span class=\"source\">대학생을 위한 실용 금융</span><span class=\"source\"><a href=\"https://terms.naver.com/list.nhn?cid=41698&categoryId=41698\" target=\"_blank\" title=\"지식백과 색인 목록\" onclick=\"return goOtherCR(this,'a=kdc_gng*K.category&r=3&i=88167634_00000000000d01560cc87e09&u='+urlencode(this.href));\">사회과학</a> &gt; <a href=\"https://terms.naver.com/list.nhn?cid=42084&categoryId=42084\" target=\"_blank\" title=\"지식백과 색인 목록\" onclick=\"return goOtherCR(this,'a=kdc_gng*K.category&r=3&i=88167634_00000000000d01560cc87e09&u='+urlencode(this.href));\">경제/경영</a></span> </div> </div> </div> </div> </div> <div class=\"sc_kindic\"> </div> <div class=\"section_more\"> <a href=\"?where=kdic&query=%ED%99%98%EC%9C%A8&ie=utf8&sm=tab_nmr\" class=\"go_more\" onclick=\"return goOtherCR(this,'a=kdc_gng.more&r=&i=&u='+urlencode(this.href));\">지식백과 더보기</a> </div> </div><link rel=\"stylesheet\" type=\"text/css\" href=\"https://ssl.pstatic.net/sstatic/search/pc/css/sp_post_180426.css\"> <div class=\"sp_post section\"> <div class=\"section_head\"> <h2>포스트</h2> </div> <ul class=\"type01\"> <li> <div class=\"thumb\"> <a href=\"https://m.post.naver.com/viewer/postView.nhn?volumeNo=27779832&memberNo=6309856&vType=VERTICAL\" target=\"_blank\" onclick=\"return goOtherCR(this, 'a=pst_bas.img&r=1&i=00055f7ca0_0001a7e2f8&u='+urlencode(this.href));\"> <img src=\"https://search.pstatic.net/common/?src=https%3A%2F%2Fpost-phinf.pstatic.net%2FMjAyMDAzMjBfOTIg%2FMDAxNTg0NjYyNjgyNzIx.AE86gT5j4-bp_2Z3Aq5aJFySPPnPjqcQ82j53XugRKsg.lCWXZKkh9Nf-4poN2Tt3Iw5FGVEleJheQZbiOp9X2dQg.JPEG%2FIugnkbDkRxxQZ3Ocp-qIhHuBhj4s.jpg&type=f164_164\" width=\"82\" height=\"82\" alt=\"한미통화스와프가 뭐길\" onerror=\"loadPostNoImg(this)\"><span class=\"thumb_bg border\"></span> </a> </div> <dl> <dt><a href=\"https://m.post.naver.com/viewer/postView.nhn?volumeNo=27779832&memberNo=6309856&vType=VERTICAL\" target=\"_blank\" onclick=\"return goOtherCR(this, 'a=pst_bas.link&r=1&i=00055f7ca0_0001a7e2f8&u='+urlencode(this.href));\">한미통화스와프가 뭐길래, <strong class=\"hl\">환율</strong> 곧 안정될까</a></dt> <dd class=\"txt_inline\">2020.03.20.</dd> <dd>서로 통화를 교환할 때 <strong class=\"hl\">환율</strong>은 바꾸는 시점의 시장 <strong class=\"hl\">환율</strong>을 기준으로 하며, 서로의 돈을 다시 되돌려 받을 때의 <strong class=\"hl\">환율</strong>은 계약 때 미리 정해둡니다. ... </dd> <dd class=\"post_info\"> <a href=\"https://m.post.naver.com/my.nhn?memberNo=6309856\" target=\"_blank\" class=\"editor\" onclick=\"return goOtherCR(this, 'a=pst_bas.writer&r=1&i=00055f7ca0_0001a7e2f8&u='+urlencode(this.href));\"><img src=\"https://search.pstatic.net/common/?src=https%3A%2F%2Fpost-phinf.pstatic.net%2FMjAxOTA2MDJfNjMg%2FMDAxNTU5NDU1Mjk4NjY0.emP2aVhMaJaj9j1BEEGUAel5yUeiZf8-AOwWH8sL7Log.nUE8rLgU-Oo3pz8SkTqq0cLzzeJjBi69K5PZb_IjR0Qg.JPEG%2Fpost_7263543565039917617.jpg%3Ftype%3Df200_200&type=f48_48\" width=\"24\" height=\"24\" alt=\"프로필 사진\" onerror=\"loadPostNoImg2(this)\"><span class=\"sppt mask\"></span>콘텐츠 컴퍼니 </a> <span class=\"bar\"></span> <a href=\"https://m.post.naver.com/my/series/detail.nhn?seriesNo=176454&memberNo=6309856\" target=\"_blank\" onclick=\"return goOtherCR(this, 'a=pst_bas.srs&r=1&i=00055f7ca0_0001a7e2f8&u='+urlencode(this.href));\" title=\"경제 이야기\">경제 이야기</a> </dd> <dd class=\"post_react\"> <span class=\"u_likeit_list_module\"> <a href=\"#\" class=\"u_likeit_list_btn u_type_bright u_none_border u_none_txt\" data-sid=\"POST\" data-did=\"NXPOST\" data-cid=\"27779832_6309856\" data-likeit=\"0\" onclick=\"return onLikeClick(this);\"></a> </span><span>명이 추천했습니다.</span> <span class=\"bar\"></span> <a href=\"https://m.post.naver.com/viewer/commentsView.nhn?volumeNo=27779832&memberNo=6309856\" target=\"_blank\" onclick=\"return goOtherCR(this, 'a=pst_bas.cmt&r=1&i=00055f7ca0_0001a7e2f8&u='+urlencode(this.href));\"><span class=\"sppt ico_reply\"></span>13</a> </dd> </dl> </li> <li> <div class=\"thumb\"> <a href=\"https://m.post.naver.com/viewer/postView.nhn?volumeNo=27760739&memberNo=7322715&vType=VERTICAL\" target=\"_blank\" onclick=\"return goOtherCR(this, 'a=pst_bas.img&r=2&i=00055f7ca0_0001a79863&u='+urlencode(this.href));\"> <img src=\"https://search.pstatic.net/common/?src=https%3A%2F%2Fpost-phinf.pstatic.net%2FMjAyMDAzMThfMTAy%2FMDAxNTg0NDk4OTU4OTU5.1oB4Tg05a7RB9XNRy6Amk0AL8phXgLV9jW3pvkxyiqsg.xyVI609cAHyKxn6E2d7LbXCl_lmYYbJzI4Y95I_4iQEg.JPEG%2FIwvF3UHx_LyFcmBh_A9De76w3zS4.jpg&type=f164_164\" width=\"82\" height=\"82\" alt=\"무섭게 치솟는 환율…\" onerror=\"loadPostNoImg(this)\"><span class=\"thumb_bg border\"></span> </a> </div> <dl> <dt><a href=\"https://m.post.naver.com/viewer/postView.nhn?volumeNo=27760739&memberNo=7322715&vType=VERTICAL\" target=\"_blank\" onclick=\"return goOtherCR(this, 'a=pst_bas.link&r=2&i=00055f7ca0_0001a79863&u='+urlencode(this.href));\">무섭게 치솟는 <strong class=\"hl\">환율</strong>… “어찌해야 하나” 은행에 문의 빗발</a></dt> <dd class=\"txt_inline\">2020.03.18.</dd> <dd>투자자도 추가매수 고민전문가 “섣부른 투자 말아야” 17일 17.5원 급등 17일 서울 여의도 KB국민은행 딜링룸 전광판에 이날 원-달러 <strong class=\"hl\">환율</strong> 종가가 표시되고 있다. </dd> <dd class=\"post_info\"> <a href=\"https://m.post.naver.com/my.nhn?memberNo=7322715\" target=\"_blank\" class=\"editor\" onclick=\"return goOtherCR(this, 'a=pst_bas.writer&r=2&i=00055f7ca0_0001a79863&u='+urlencode(this.href));\"><img src=\"https://search.pstatic.net/common/?src=https%3A%2F%2Fpost-phinf.pstatic.net%2FMjAxODAzMTRfMTQx%2FMDAxNTIxMDA5MzM3OTQ5.o58Dc8MNfgn1avXJiQBWA6IYkSijow6jfojrOe_QYXog.jpZeK0Qan0vTfz23cf81OCzYRWZpSuVhgOA52rQpzE4g.JPEG%2Fpost_104775216118749027.jpg%3Ftype%3Df200_200&type=f48_48\" width=\"24\" height=\"24\" alt=\"프로필 사진\" onerror=\"loadPostNoImg2(this)\"><span class=\"sppt mask\"></span>부자동 </a> <span class=\"spcm ico_total ico_official\">공식</span> <span class=\"bar\"></span> <a href=\"https://m.post.naver.com/my/series/detail.nhn?seriesNo=440354&memberNo=7322715\" target=\"_blank\" onclick=\"return goOtherCR(this, 'a=pst_bas.srs&r=2&i=00055f7ca0_0001a79863&u='+urlencode(this.href));\" title=\"경제뉴스\">경제뉴스</a> </dd> <dd class=\"post_react\"> <span class=\"u_likeit_list_module\"> <a href=\"#\" class=\"u_likeit_list_btn u_type_bright u_none_border u_none_txt\" data-sid=\"POST\" data-did=\"NXPOST\" data-cid=\"27760739_7322715\" data-likeit=\"0\" onclick=\"return onLikeClick(this);\"></a> </span><span>명이 추천했습니다.</span> <span class=\"bar\"></span> <a href=\"https://m.post.naver.com/viewer/commentsView.nhn?volumeNo=27760739&memberNo=7322715\" target=\"_blank\" onclick=\"return goOtherCR(this, 'a=pst_bas.cmt&r=2&i=00055f7ca0_0001a79863&u='+urlencode(this.href));\"><span class=\"sppt ico_reply\"></span>27</a> </dd> </dl> </li> <li> <div class=\"thumb\"> <a href=\"https://m.post.naver.com/viewer/postView.nhn?volumeNo=27785469&memberNo=11919328&vType=VERTICAL\" target=\"_blank\" onclick=\"return goOtherCR(this, 'a=pst_bas.img&r=3&i=00055f7ca0_0001a7f8fd&u='+urlencode(this.href));\"> <img src=\"https://search.pstatic.net/common/?src=https%3A%2F%2Fpost-phinf.pstatic.net%2FMjAyMDAzMjBfMTUg%2FMDAxNTg0NjkxNzEyOTc3.Yq9ZaO3hIOckKVHszG2CZL-iFSAUeQ3jYwh0ER6-7vsg.0_OD61jrnfTE19EMfX21SvzKcdDAHSgrZyLYE0rANKYg.JPEG%2FIWXoUXF-ewDtwESy8RQ-SiRuy1lI.jpg&type=f164_164\" width=\"82\" height=\"82\" alt=\"[아주 쉬운 뉴스 Q&amp;A]\" onerror=\"loadPostNoImg(this)\"><span class=\"thumb_bg border\"></span> </a> </div> <dl> <dt><a href=\"https://m.post.naver.com/viewer/postView.nhn?volumeNo=27785469&memberNo=11919328&vType=VERTICAL\" target=\"_blank\" onclick=\"return goOtherCR(this, 'a=pst_bas.link&r=3&i=00055f7ca0_0001a7f8fd&u='+urlencode(this.href));\">[아주 쉬운 뉴스 Q&amp;A] <strong class=\"hl\">환율</strong>은 왜 오르나요.</a></dt> <dd class=\"txt_inline\">2020.03.21.</dd> <dd><strong class=\"hl\">환율</strong> 종가가 1280원 선에 오른 것은 글로벌 금융위기 충격이 가시지 않았던 2009년 7월 14일(1293.0원) 이후 처음으로 <strong class=\"hl\">환율</strong>은 경제의 바로미터라고 할 수 있습니다.... </dd> <dd class=\"post_info\"> <a href=\"https://m.post.naver.com/my.nhn?memberNo=11919328\" target=\"_blank\" class=\"editor\" onclick=\"return goOtherCR(this, 'a=pst_bas.writer&r=3&i=00055f7ca0_0001a7f8fd&u='+urlencode(this.href));\"><img src=\"https://search.pstatic.net/common/?src=https%3A%2F%2Fpost-phinf.pstatic.net%2FMjAxOTA2MTlfMTEy%2FMDAxNTYwOTI2MTE0NjY4.MZtwRS90DKCgVceMsCfeN2DX8JTOa-MeAMwY7cTVp0Eg.8lq0tFarMCxj-B9J52aHMy0IePx-TKAVcgaNCgVBZQwg.PNG%2Fpost_7320653055605016226.png%3Ftype%3Df200_200&type=f48_48\" width=\"24\" height=\"24\" alt=\"프로필 사진\" onerror=\"loadPostNoImg2(this)\"><span class=\"sppt mask\"></span>아주경제 </a> <span class=\"spcm ico_total ico_official\">공식</span> <span class=\"bar\"></span> <a href=\"https://m.post.naver.com/my/series/detail.nhn?seriesNo=312159&memberNo=11919328\" target=\"_blank\" onclick=\"return goOtherCR(this, 'a=pst_bas.srs&r=3&i=00055f7ca0_0001a7f8fd&u='+urlencode(this.href));\" title=\"아주 쉬운 뉴스 Q&amp;A\">아주 쉬운 뉴스 Q&amp;A</a> </dd> <dd class=\"post_react\"> <span class=\"u_likeit_list_module\"> <a href=\"#\" class=\"u_likeit_list_btn u_type_bright u_none_border u_none_txt\" data-sid=\"POST\" data-did=\"NXPOST\" data-cid=\"27785469_11919328\" data-likeit=\"0\" onclick=\"return onLikeClick(this);\"></a> </span><span>명이 추천했습니다.</span> <span class=\"bar\"></span> <a href=\"https://m.post.naver.com/viewer/commentsView.nhn?volumeNo=27785469&memberNo=11919328\" target=\"_blank\" onclick=\"return goOtherCR(this, 'a=pst_bas.cmt&r=3&i=00055f7ca0_0001a7f8fd&u='+urlencode(this.href));\"><span class=\"sppt ico_reply\"></span>2</a> </dd> </dl> </li> </ul> <div class=\"section_more\"> <a href=\"http://m.post.naver.com/search/post.nhn?keyword=%ED%99%98%EC%9C%A8\" target=\"_blank\" class=\"go_site\" onclick=\"return goOtherCR(this, 'a=pst_bas.more&r=&i=&u='+urlencode(this.href));\">포스트 더보기</a> </div> </div> <script type=\"text/javascript\"> function loadPostNoImg(o) { o.src = 'https://ssl.pstatic.net/sstatic/search/images11/blank.gif'; o.alt = '이미지준비중'; o.className = 'bg_nimg2'; } function loadPostNoImg2(o) { o.src = 'https://ssl.pstatic.net/sstatic/search/2015/pf_noimg.png'; o.alt = '프로필 사진 없음'; } function onLikeClick(o) { var wel = $Element(o); if (!wel.hasClass('on')) { return tCR('pst_bas.rku', '', ''); } else { return tCR('pst_bas.rkuc', '', ''); } } </script> <script type=\"text/javascript\"> (function($) { var fnCallback = function() { var value = $(\".sp_website .ly_area ._btn_open\"); if (typeof value === \"undefined\") { return; } value.on(\"click\",function(e){ var self=$(this); /* $('.ly_option').hide(); value.attr('aria-selected','false'); */ if(self.attr('aria-selected') == 'true'){ self.attr('aria-selected','false'); self.siblings('.ly_option').hide(); }else{ value.attr('aria-selected','false'); value.siblings('.ly_option').hide(); self.attr('aria-selected','true'); self.siblings('.ly_option').show(); } e.preventDefault(); }); }; nhn.common.load_js(null, fnCallback, true, 150); }(jQuery)); </script> <script type=\"text/javascript\"> if(window.nhn===undefined){nhn={};}if(nhn.search===undefined){nhn.search={};}nhn.search.tooltip=$Class({$init:function(a,b){this._sClassSignature=a;this._welTarget=$Element(b);},show:function(a){this._welTarget.addClass(this._sClassSignature);},hide:function(){this._welTarget.removeClass(this._sClassSignature);},toggle:function(){this._welTarget.toggleClass(this._sClassSignature);}});nhn.search.tooltip.query=$Class({$init:function(a,b){this._welTarget=null;this._sQuery=b;},showByQuery:function(a){$Element($$.getSingle(this._sQuery,a)).addClass(this._sClassSignature);},hideByQuery:function(a){$Element($$.getSingle(this._sQuery,a)).removeClass(this._sClassSignature);},toggleByQuery:function(a){$Element($$.getSingle(this._sQuery,a)).toggleClass(this._sClassSignature);}}).extend(nhn.search.tooltip); var siteTooltip = new nhn.search.tooltip.query(\"drcton\",\"! div.drct_ico\"); </script> <a style=\"display:none;\" href=\"#\" id=\"dummy\"></a> <div class=\"sp_website section\"> <div class=\"section_head\"> <h2>웹사이트</h2> <a target=\"_blank\" href=\"https://help.naver.com/support/alias/website/website_1.naver\" class=\"go_write space\" onclick=\"goOtherCR(this,'a=web_all.help&amp;r=&amp;i=&amp;u='+urlencode(this.href));\">도움말</a> </div> <ul class=\"type01\"> <li id=\"web_layer_0\" class=\"sh_web_top\"> <dl> <dt> <a href=\"https://namu.wiki/w/%ED%99%98%EC%9C%A8\" target=_blank onclick=\"return goOtherCR(this, 'a=web_all*w.tit&r=1&i=a00000fa_ccfcd6f12f6d2bbc5156f81c&u='+urlencode(this.href ? this.href : location.href))\" class=\"title_link\"><strong class=\"hl\">환율</strong> - 나무위키</a> <span class=\"ico_area\"> </span> </dt> <dd class=\"txt_block\"> <div class=\"web_url\"> <a href=\"https://namu.wiki/w/%ED%99%98%EC%9C%A8\" target=\"_blank\" class=\"txt_url\" onclick=\"return goOtherCR(this, 'a=web_all*w.url&r=1&i=a00000fa_ccfcd6f12f6d2bbc5156f81c&u='+urlencode(this.href ? this.href : location.href))\">https://namu.wiki/w/<strong class=\"hl\">환율</strong></a> <div class=\"ly_area\"> <a href=\"#\" role=\"button\" class=\"btn_open _btn_open\" onclick=\"tCR('a=web_all*w.taskopen&amp;r=&amp;i=&amp;u=javascript');\"><span class=\"sprenew ico_arr\">열기</span></a> <div class=\"ly_option\" style=\"display: none;\"> <a class=\"item\" onclick=\"return goOtherCR(this, 'a=web_all*w.similar&r=1&i=a00000fa_ccfcd6f12f6d2bbc5156f81c&u='+urlencode(this.href ? this.href : location.href))\" href=\"?f=insite&amp;fd=2&amp;filetype=0&amp;nso=so%3Ar%2Ca%3Aall%2Cp%3Aall&amp;query=%ED%99%98%EC%9C%A8&amp;research_url=https%3A%2F%2Fnamu.wiki&amp;sm=tab_wrs&amp;start=1&amp;where=webkr\">사이트 내 검색</a> <a class=\"item\" href=\"http://210.89.172.69/search2.naver?group=web&amp;mtype=web_doc&amp;where=web_html&amp;from=web_naver_nx&amp;u=https%3A%2F%2Fnamu.wiki%2Fw%2F%25ED%2599%2598%25EC%259C%25A8&amp;r=1&amp;docid=a00000fa_ccfcd6f12f6d2bbc5156f81c&amp;rev=31&amp;tl=%ED%99%98%EC%9C%A8\" target=\"_blank\" onclick=\"return goOtherCR(this, 'a=web_all*w.cached&r=1&i=a00000fa_ccfcd6f12f6d2bbc5156f81c&u='+urlencode(this.href ? this.href : location.href));\" >저장된 페이지</a> </div> </div> </div> </dd> <dd class=\"sh_web_passage\"><strong class=\"hl\">환율</strong>과 상황, 장단점 5. 분류 6. <strong class=\"hl\">환율</strong> 결정에 대한 제도 6.1. 고정 <strong class=\"hl\">환율</strong> 6.1.1. 단일 통화 연동 제도 6.1.2. 복수 통화 연동 제도 6.2. 변동 <strong class=\"hl\">환율</strong> 7. 종류 7.1. 일반인들의 쓰임새 8. 유의 사항 9. 대한민국의 <strong class=\"hl\">환율</strong> 1. 개요 [편집] <strong class=\"hl\">환율</strong>(換率/Exchange Rate)이란 사전적 의미로...</dd> <dd class=\"txt_block\"> <span class=\"inline\"> 나무위키 </span> </dd> </dl> </li> <li id=\"web_layer_1\" class=\"sh_web_top\"> <dl> <dt> <a href=\"https://finance.naver.com/marketindex/\" target=_blank onclick=\"return goOtherCR(this, 'a=web_all*w.tit&r=2&i=a00000fa_60e021f8e843c32168c97744&u='+urlencode(this.href ? this.href : location.href))\" class=\"title_link\"><strong class=\"hl\">환율</strong> - 네이버 금융</a> <span class=\"ico_area\"> </span> </dt> <dd class=\"txt_block\"> <div class=\"web_url\"> <a href=\"https://finance.naver.com/marketindex/\" target=\"_blank\" class=\"txt_url\" onclick=\"return goOtherCR(this, 'a=web_all*w.url&r=2&i=a00000fa_60e021f8e843c32168c97744&u='+urlencode(this.href ? this.href : location.href))\">https://finance.naver.com/marketindex/</a> <div class=\"ly_area\"> <a href=\"#\" role=\"button\" class=\"btn_open _btn_open\" onclick=\"tCR('a=web_all*w.taskopen&amp;r=&amp;i=&amp;u=javascript');\"><span class=\"sprenew ico_arr\">열기</span></a> <div class=\"ly_option\" style=\"display: none;\"> <a class=\"item\" onclick=\"return goOtherCR(this, 'a=web_all*w.similar&r=2&i=a00000fa_60e021f8e843c32168c97744&u='+urlencode(this.href ? this.href : location.href))\" href=\"?f=insite&amp;fd=2&amp;filetype=0&amp;nso=so%3Ar%2Ca%3Aall%2Cp%3Aall&amp;query=%ED%99%98%EC%9C%A8&amp;research_url=https%3A%2F%2Ffinance.naver.com&amp;sm=tab_wrs&amp;start=1&amp;where=webkr\">사이트 내 검색</a> <a class=\"item\" href=\"http://210.89.172.69/search2.naver?group=web&amp;mtype=web_doc&amp;where=web_html&amp;from=web_naver_nx&amp;u=https%3A%2F%2Ffinance.naver.com%2Fmarketindex%2F&amp;r=2&amp;docid=a00000fa_60e021f8e843c32168c97744&amp;rev=31&amp;tl=%ED%99%98%EC%9C%A8\" target=\"_blank\" onclick=\"return goOtherCR(this, 'a=web_all*w.cached&r=2&i=a00000fa_60e021f8e843c32168c97744&u='+urlencode(this.href ? this.href : location.href));\" >저장된 페이지</a> </div> </div> </div> </dd> <dd class=\"sh_web_passage\">국내 해외 증시 지수, 시장지표, 펀드, 뉴스, 증권사 리서치 등 제공</dd> </dl> </li> <li id=\"web_layer_2\" class=\"sh_web_top\"> <dl> <dt> <a href=\"https://namu.wiki/w/%EB%8C%80%ED%95%9C%EB%AF%BC%EA%B5%AD/%ED%99%98%EC%9C%A8\" target=_blank onclick=\"return goOtherCR(this, 'a=web_all*w.tit&r=3&i=a00000fa_bcbb6eb1873c9c2270ded31f&u='+urlencode(this.href ? this.href : location.href))\" class=\"title_link\">대한민국/<strong class=\"hl\">환율</strong> - 나무위키</a> <span class=\"ico_area\"> </span> </dt> <dd class=\"txt_block\"> <div class=\"web_url\"> <a href=\"https://namu.wiki/w/%EB%8C%80%ED%95%9C%EB%AF%BC%EA%B5%AD/%ED%99%98%EC%9C%A8\" target=\"_blank\" class=\"txt_url\" onclick=\"return goOtherCR(this, 'a=web_all*w.url&r=3&i=a00000fa_bcbb6eb1873c9c2270ded31f&u='+urlencode(this.href ? this.href : location.href))\">https://namu.wiki/w/대한민국/<strong class=\"hl\">환율</strong></a> <div class=\"ly_area\"> <a href=\"#\" role=\"button\" class=\"btn_open _btn_open\" onclick=\"tCR('a=web_all*w.taskopen&amp;r=&amp;i=&amp;u=javascript');\"><span class=\"sprenew ico_arr\">열기</span></a> <div class=\"ly_option\" style=\"display: none;\"> <a class=\"item\" onclick=\"return goOtherCR(this, 'a=web_all*w.similar&r=3&i=a00000fa_bcbb6eb1873c9c2270ded31f&u='+urlencode(this.href ? this.href : location.href))\" href=\"?f=insite&amp;fd=2&amp;filetype=0&amp;nso=so%3Ar%2Ca%3Aall%2Cp%3Aall&amp;query=%ED%99%98%EC%9C%A8&amp;research_url=https%3A%2F%2Fnamu.wiki&amp;sm=tab_wrs&amp;start=1&amp;where=webkr\">사이트 내 검색</a> <a class=\"item\" href=\"http://210.89.172.69/search2.naver?group=web&amp;mtype=web_doc&amp;where=web_html&amp;from=web_naver_nx&amp;u=https%3A%2F%2Fnamu.wiki%2Fw%2F%25EB%258C%2580%25ED%2595%259C%25EB%25AF%25BC%25EA%25B5%25AD%2F%25ED%2599%2598%25EC%259C%25A8&amp;r=3&amp;docid=a00000fa_bcbb6eb1873c9c2270ded31f&amp;rev=31&amp;tl=%ED%99%98%EC%9C%A8\" target=\"_blank\" onclick=\"return goOtherCR(this, 'a=web_all*w.cached&r=3&i=a00000fa_bcbb6eb1873c9c2270ded31f&u='+urlencode(this.href ? this.href : location.href));\" >저장된 페이지</a> </div> </div> </div> </dd> <dd class=\"sh_web_passage\">기간별 주요통화국의 대원화 <strong class=\"hl\">환율</strong> 통계 2.1. 월별 원달러 <strong class=\"hl\">환율</strong> 통계 2.1.1. 2004년. 3월~2014년. 6월 원달러 <strong class=\"hl\">환율</strong> 통계 2.1.2. 2015년7월 30일~ 3. <strong class=\"hl\">환율</strong>과 적정<strong class=\"hl\">환율</strong> 3.1. 2014년의 <strong class=\"hl\">환율</strong>과 적정<strong class=\"hl\">환율</strong> 3.1.1. 더 상승이 적정 <strong class=\"hl\">환율</strong> 3.1.2. 더 하락이 적정 <strong class=\"hl\">환율</strong> 3.2. 적정<strong class=\"hl\">환율</strong>?...</dd> <dd class=\"txt_block\"> <span class=\"inline\"> 나무위키 </span> </dd> </dl> </li> </ul> <div class=\"section_more\"><a href=\"?f=&amp;fd=2&amp;filetype=0&amp;nso=so%3Ar%2Ca%3Aall%2Cp%3Aall&amp;query=%ED%99%98%EC%9C%A8&amp;research_url=&amp;sm=tab_nmr&amp;start=1&amp;where=webkr\" onClick=\"return goOtherCR(this, 'a=web_all*w.more&r=&i=&u='+urlencode(this.href ? this.href : location.href))\" class=\"go_more\">웹사이트 더보기</a></div> </div> <script crossorigin=\"anonymous\" src=\"https://ssl.pstatic.net/adimg3.search/adpost/js/event_tracker.js?o=search\"></script>\n",
      "  <script type=\"text/javascript\">\n",
      "    if (typeof NAVER === \"undefined\") {\n",
      "      NAVER = {};\n",
      "    }\n",
      "    if (typeof NAVER.SEARCH_AD === \"undefined\") {\n",
      "      NAVER.SEARCH_AD = {};\n",
      "    }\n",
      "    NAVER.SEARCH_AD.showTooltip = function (element) {\n",
      "      var parentElement = $Element(element).parent();\n",
      "      var timerAttribute = parentElement.attr(\"data-timer\");\n",
      "      if (timerAttribute) {\n",
      "        clearTimeout(timerAttribute);\n",
      "        parentElement.attr(\"data-timer\", \"\");\n",
      "      }\n",
      "      var tooltipElement = $Element(parentElement.query(\"._tooltip\"));\n",
      "      tooltipElement.css(\"display\", \"inline\");\n",
      "    };\n",
      "    NAVER.SEARCH_AD.hideTooltip = function (element) {\n",
      "      var parentElement = $Element(element).parent();\n",
      "      if (!parentElement.attr(\"data-timer\")) {\n",
      "        var timer = setTimeout(function () {\n",
      "          var tooltipElement = $Element(parentElement.query(\"._tooltip\"));\n",
      "          tooltipElement.css(\"display\", \"none\");\n",
      "        }, 100);\n",
      "        parentElement.attr(\"data-timer\", timer);\n",
      "      }\n",
      "    };\n",
      "\n",
      "    var _elAdIndLayerPl = null;\n",
      "    var _elAdIndLayerTimePl;\n",
      "    var _elDscNcautionPl = null;\n",
      "\n",
      "    function adInfoShowPl(el) {\n",
      "      if (_elAdIndLayerPl) {\n",
      "        adInfoHidePl();\n",
      "        return false;\n",
      "      } else {\n",
      "        if (!_elDscNcautionPl) {\n",
      "          _elDscNcautionPl = $Element(el).parent();\n",
      "        }\n",
      "        _elDscNcautionPl._element.style.zIndex = 121;\n",
      "        _elAdIndLayerPl = $Element(el).next();\n",
      "        _elAdIndLayerPl.show();\n",
      "        _elAdIndLayerTimePl = (new Date()).getTime();\n",
      "        return true;\n",
      "      }\n",
      "    }\n",
      "\n",
      "    function adInfoHidePl() {\n",
      "      if (_elAdIndLayerPl) {\n",
      "        if (_elDscNcautionPl) {\n",
      "          _elDscNcautionPl._element.style.zIndex = 0;\n",
      "        }\n",
      "        _elAdIndLayerPl.hide();\n",
      "        _elAdIndLayerPl = null;\n",
      "      }\n",
      "    }\n",
      "\n",
      "    function adInfoHideClickEventHandlerPl(e) {\n",
      "      if (_elAdIndLayerTimePl + 200 < (new Date()).getTime()) adInfoHidePl();\n",
      "    }\n",
      "\n",
      "    document.body[window.addEventListener ? 'addEventListener' : 'attachEvent'](window.addEventListener ? \"click\" : \"onclick\", adInfoHideClickEventHandlerPl, false);\n",
      "  </script>\n",
      "  <link rel=\"stylesheet\" type=\"text/css\" href=\"https://ssl.pstatic.net/sstatic/search/sa/190812/css/sa.css\">\n",
      "  <link rel=\"stylesheet\" type=\"text/css\" href=\"https://ssl.pstatic.net/sstatic/search/local/css/maps_openapi_https_150716.css\">\n",
      "  <div class=\"ad_section section _pl_section bg_type_v2\">\n",
      "    <div class=\"section_head nx_power\"><h2>파워링크</h2>\n",
      "\n",
      "      <div class=\"dsc_ncaution\">\n",
      "        <span><em class=\"dsc_ncaution_quotation\">&lsquo;</em><strong class=\"dsc_ncaution_keyword\">환율</strong><em\n",
      "                class=\"dsc_ncaution_quotation\">&rsquo;</em></span>\n",
      "        <span class=\"dsc_ncaution_text\">관련 광고입니다.</span>\n",
      "        <a href=\"javascript:void(0);\" class=\"ico_ad_dsc\"\n",
      "           title=\"이 광고가 표시된 이유\" onclick=\"if(adInfoShowPl(this)) goOtherCR(this, &#39;a=pwl_nop.adset&amp;r=0&amp;i=pwl_nopadset&amp;u=&#39;+urlencode(this.href));\">이 광고가 표시된 이유</a>\n",
      "\n",
      "        <div class=\"ly_ad_dsc\" onclick=\"adInfoHidePl();\" style=\"display:none\"><span class=\"ico_arr\">&nbsp;</span>\n",
      "\n",
      "          <p>광고 노출기준은 검색어에 대한 연관성과 광고주의 입찰가이며,\n",
      "            이미지 등 추가 링크는 등록한 경우에만 기준에 따라 노출됩니다. <a href=\"https://saedu.naver.com/help/faq/ncc/view.nhn?faqSeq=704\" class=\"link_help\">도움말</a></p>\n",
      "          <button type=\"button\" class=\"bt_ad_clse\">안내 레이어 닫기</button>\n",
      "        </div>\n",
      "      </div>\n",
      "      <a href=\"//saedu.naver.com/adbiz/searchad/intro.nhn\" class=\"go_register space\" target=\"_blank\" onclick=\"return goOtherCR(this, &#39;a=pwl_nop.registration&amp;r=0&amp;i=pwl_nopregistration&amp;u=&#39;+urlencode(this.href));\">등록\n",
      "        안내</a>\n",
      "    </div>\n",
      "    <div class=\"ad_area nx_power\" id=\"power_link_body\" impression-event-url=\"https://event.impression-neo.naver.com/api/v1/events/naver_search/impression?x=OQn4rWJzVZigv4nTmENo1yrNQilfyOtZKddE3wPPtwx7CiAgInR5cGUiIDogIklNUFJFU1NJT04iLAogICJkZXRhaWwiIDogewogICAgIkBjbGFzcyIgOiAiY29tLm5hdmVyLmltcHJlc3Npb24uZXZlbnQuY29yZS5kb21haW4uSW1wcmVzc2lvbkV2ZW50RGV0YWlsIiwKICAgICJyZXF1ZXN0X2lkIiA6ICJVb3NFQ3NwMEp5MHNzZzFZbjJoc3Nzc3N0UFItMjUwOTk0IiwKICAgICJyZXF1ZXN0X3RpbWVzdGFtcF9pbl9taWxsaXMiIDogMTU4NTQ1Njc4NDgxMSwKICAgICJjaGFubmVsX2lkIiA6IDIzNzU5NiwKICAgICJzZWFyY2hfa2V5d29yZCIgOiAi7ZmY7JyoIiwKICAgICJpbXByZXNzaW9uX2xvY2F0aW9uX2luZm8iIDogewogICAgICAiQGNsYXNzIiA6ICJjb20ubmF2ZXIuaW1wcmVzc2lvbi5ldmVudC5jb3JlLmRvbWFpbi5OYXZlclNlYXJjaENvbGxlY3Rpb25JbmZvIiwKICAgICAgInR5cGUiIDogIlBPV0VSX0xJTksiLAogICAgICAicmFua190eXBlIiA6ICJOQVRVUkFMIiwKICAgICAgImFkc19hcmVhX2hlaWdodCIgOiBudWxsLAogICAgICAieWNvb3JkaW5hdGVfaW5fcGl4ZWxzIiA6IG51bGwKICAgIH0sCiAgICAic2Vzc2lvbl9pZCIgOiBudWxsLAogICAgImJ1Y2tldF9pZCIgOiBudWxsLAogICAgInN5c3RlbV9yZXF1ZXN0X2lkIiA6ICJDbW94M1FBQUFYRWtscVdyRW13OUV3PT0iCiAgfSwKICAiaWQiIDogIjYzOWM1ZGZkLWI4ODgtNDYzYS1hOTcyLTVmMGQ0OGI4OGYzZSIsCiAgInRpbWVzdGFtcF9pbl9taWxsaXMiIDogMAp9\">\n",
      "      <ul class=\"lst_type\">\n",
      "        <li class=\"lst lst1  ext_link   type_img \"\n",
      "            onmouseover=\"jindo.$Element(this).addClass('ad_hover');\"\n",
      "            onmouseout=\"jindo.$Element(this).removeClass('ad_hover');\" num=\"0\">\n",
      "          \n",
      "          <a class=\"lnk_thumb\"\n",
      "             href=\"https://adcr.naver.com/adcr?x=FxxKSqRNLF5bXkFHNuM9V////w==kPyA7Omdas5iXzawAiswFRsSX1IrlsM6n/yJwymlYg0FHdwP+Iw3O7uY4e/A/KaGHD3x/Y6vRN6wrzVB0Qq5zbpkmiw9q6XXK6fsXcgCu3JjTVlY7qL+hxnmZra7l2RZoFcEkr1dyHQr4mzaT0aB63RLY7to7u/zOypWjLyo6ceVdcA4tfuv/MhvFhGutHdXlYAOlKSFAGAKoR9I6scSP/no06GxcGK8kJKsP0rbpFPWJa3vS4OEoWcJrQxb/8RdmyETn/Ut6mII1x/isR53mmT2ssesWBCEGr+G/KgGZFrQ1wjFlin6NL30I7A+aTuVjVkA5B+ibknvbRXrdb2rx0RO8JkK9CGE1Jx4XQqmWnLJQrVOPDI7DsBz5A2UI2ZOYXyFaaDsEFYHLZWihCMvhC+14scX4WZr6AOIZBye6extOwR/h2HDy3doGmMvZEDxlK9Qzpi2WtP18pZgJFRdY0owxYFQ6ot1fWyfTWqjBWBBHQ3y9Ci8Khp9YAmCkpOUK9t/aXc+J5QgYJNpSU4JIaBsy4cV8VimrhhnjSzYbqbJTfRaIoo6/yVAdTe5AZv/onyPWZ88NS0VTHm61whsChAeRSchkd7rHyElvhtKrbuEwu2ezAP/xjiTmXYm9zu4x8RSlQLCdwxNQS0tHMNt9ZTQnGFx8JI2RfGs4VQulB1SZDX1oa02AspFjW5YkoS8UKlPxDNUXdFw+VI1bKROdTAMo4weszMHGYDlvtv3BOjIT/QRO1sLM4Id/hbCVoVjX\"\n",
      "             target=\"_blank\" onclick=\"return goOtherCR(this,&#39;a=pwl_nop.image&amp;r=1&amp;i=nad-a001-01-000000088447148&amp;d=&#39;+urlencode(&#39;http://뱅크점.com&#39;)+&#39;&amp;u=&#39;+urlencode(this.href));\">\n",
      "            <img src=\"https://searchad-phinf.pstatic.net/MjAyMDAzMTJfMTU1/MDAxNTgzOTk0NzkwMzY3.J_MxiWftBulupU3H5dMzMekJJELq_txISfykGclz-xAg.8vAPqlBuGSqab1zoS7iEuw2szSJvb5AEA6rDPO-lw8Ag.PNG/1875996-7619ba9d-9561-4801-b972-f41ae05c57a4.png?type=f120_120\" width=\"60\" height=\"60\" alt=\"링크이미지\" class=\"img_thumb\">\n",
      "          </a>\n",
      "          <div class=\"inner\">\n",
      "            <a href=\"https://adcr.naver.com/adcr?x=cS/3RTkC9DFvp92UR+TdUf///w==kPyA7Omdas5iXzawAiswFRsSX1IrlsM6n/yJwymlYg0FHdwP+Iw3O7uY4e/A/KaGHD3x/Y6vRN6wrzVB0Qq5zbpkmiw9q6XXK6fsXcgCu3JjTVlY7qL+hxnmZra7l2RZoFcEkr1dyHQr4mzaT0aB63RLY7to7u/zOypWjLyo6ceVdcA4tfuv/MhvFhGutHdXlYAOlKSFAGAKoR9I6scSP/no06GxcGK8kJKsP0rbpFPWJa3vS4OEoWcJrQxb/8RdmyETn/Ut6mII1x/isR53mmT2ssesWBCEGr+G/KgGZFrQ1wjFlin6NL30I7A+aTuVjVkA5B+ibknvbRXrdb2rx0RO8JkK9CGE1Jx4XQqmWnLJQrVOPDI7DsBz5A2UI2ZOYXyFaaDsEFYHLZWihCMvhC+14scX4WZr6AOIZBye6extOwR/h2HDy3doGmMvZEDxlK9Qzpi2WtP18pZgJFRdY0owxYFQ6ot1fWyfTWqjBWBBHQ3y9Ci8Khp9YAmCkpOUK9t/aXc+J5QgYJNpSU4JIaBsy4cV8VimrhhnjSzYbqbJTfRaIoo6/yVAdTe5AZv/on4+lEsJEskNuH3faImmglJFAn5zInO1FzqIrPhgUX8jv2jlB3TqrH9Pp+4wHsxn5lNtp1tf+WPbJl5OAYN0sjjmAoFhzrH3oG4CmVbhpOhCIwuYRZZ13lFgPGdquGfyVx7E6Fk8vd5CdprdfsjNK2sDoMC8hXSzzrbp7/ma5+FUoF6PCTRCR32ZKTMeGjHgk&amp;p=0\"\n",
      "               target=\"_blank\"\n",
      "               class=\"lnk_tit\"\n",
      "               onclick=\"return goOtherCR(this, &#39;a=pwl_nop.tit&amp;r=1&amp;i=nad-a001-01-000000088447148&amp;d=&#39; + urlencode(&#39;http://뱅크점.com&#39;) + &#39;&amp;u=&#39;+ urlencode(this.href));\">FX시티 뱅크점 추천지점!</a>\n",
      "            \n",
      "\n",
      "            \n",
      "            <div class=\"url_area\">\n",
      "              <a href=\"https://adcr.naver.com/adcr?x=cS/3RTkC9DFvp92UR+TdUf///w==kPyA7Omdas5iXzawAiswFRsSX1IrlsM6n/yJwymlYg0FHdwP+Iw3O7uY4e/A/KaGHD3x/Y6vRN6wrzVB0Qq5zbpkmiw9q6XXK6fsXcgCu3JjTVlY7qL+hxnmZra7l2RZoFcEkr1dyHQr4mzaT0aB63RLY7to7u/zOypWjLyo6ceVdcA4tfuv/MhvFhGutHdXlYAOlKSFAGAKoR9I6scSP/no06GxcGK8kJKsP0rbpFPWJa3vS4OEoWcJrQxb/8RdmyETn/Ut6mII1x/isR53mmT2ssesWBCEGr+G/KgGZFrQ1wjFlin6NL30I7A+aTuVjVkA5B+ibknvbRXrdb2rx0RO8JkK9CGE1Jx4XQqmWnLJQrVOPDI7DsBz5A2UI2ZOYXyFaaDsEFYHLZWihCMvhC+14scX4WZr6AOIZBye6extOwR/h2HDy3doGmMvZEDxlK9Qzpi2WtP18pZgJFRdY0owxYFQ6ot1fWyfTWqjBWBBHQ3y9Ci8Khp9YAmCkpOUK9t/aXc+J5QgYJNpSU4JIaBsy4cV8VimrhhnjSzYbqbJTfRaIoo6/yVAdTe5AZv/on4+lEsJEskNuH3faImmglJFAn5zInO1FzqIrPhgUX8jv2jlB3TqrH9Pp+4wHsxn5lNtp1tf+WPbJl5OAYN0sjjmAoFhzrH3oG4CmVbhpOhCIwuYRZZ13lFgPGdquGfyVx7E6Fk8vd5CdprdfsjNK2sDoMC8hXSzzrbp7/ma5+FUoF6PCTRCR32ZKTMeGjHgk&amp;p=1\"\n",
      "                 class=\"lnk_url\" target=\"_blank\"\n",
      "                 onclick=\"return goOtherCR(this, &#39;a=pwl_nop.url&amp;r=1&amp;i=nad-a001-01-000000088447148&amp;d=&#39;+urlencode(&#39;http://뱅크점.com&#39;)+&#39;&amp;u=&#39;+urlencode(this.href));\">뱅크점.com</a>\n",
      "              \n",
      "            </div>\n",
      "            \n",
      "            <ul class=\"lst_link\">\n",
      "              \n",
      "                <li class=\"item\">\n",
      "                  <a class=\"link\" href=\"https://adcr.naver.com/adcr?x=C6yf4M/mp5xUFiZw+6QYtf///w==kJZ6pxxiEcxoMttCi7BiOG1e0o6z0yhsxvR5fTbBdIj7DGna416OLZsvtuI5E9dDZ13oxfSZzzRJWZp80WztblGOP+gbIiSi0M9uTJf4H5YFvzG7o0nloXqY91RYroGOC54JSL+mWQURHtqXkmJs2WqHCc1wV91Njt9Hgb3siGJJpCAos7020+JCHn9apvoYxzvS3acW9hvZxLxVWwzu4+G5fCqD97nP5hawC6IRPe2vDtdjO3BvPYseOUZcd/h7SxdbSQdJ/qBgof9HUClxRjqyJd9uaMWefJNsNYHVp5zhusGdOMGaIL/D6+RWP94NpBNih/EKnMT5eMN7olcWK11+TVkJlXjLlyCKRBeMcpA904UsHpCrGvrgDIJ/Z7BHDJ4ZMtzgYAez4+86SDr+bbDPuWNv6EFXbXNl2GyFUmACXcztW9yBAf34NCy7qDWeFvztwGMdA/jLqO6ZuxB3htkaUuWDTWkdEhYqAksMy9GAhTC+H+MeX5hk3P+dTyEWUpTkT4NROMisn7iuZ64ALvAE5APfHlEozbhAvbzmJPt+pmJpRRiOrUxHe117glNIvPva/RLvH30yX2goeFXGSPL9ARIcK5ofI8et4csqSLc3u/yfkJjVgx/0wSvMoSBbk3lC1MHmFLgmT5EE2+bsrZYuMyptTt9JcDBdN9w0hZPvyWqxLzbXrhRWsbgLkRnokM3fgcTXtHrhZ3l2Y/vFQjDxaqzz0ioG/oJogEEg8axryXAf3kYPjdo5pPoI5A3Tv\" target=\"_blank\" onclick=\"return goOtherCR(this,&#39;a=pwl_nop.sublink1&amp;r=1&amp;i=nad-a001-01-000000088447148&amp;d=&#39;+urlencode(&#39;http://뱅크점.com&#39;)+&#39;&amp;u=&#39;+urlencode(this.href));\">뱅크점</a>\n",
      "                </li>\n",
      "              \n",
      "                <li class=\"item\">\n",
      "                  <a class=\"link\" href=\"https://adcr.naver.com/adcr?x=DBXMfF56aymA5P2XiWj2Jf///w==k5ocWAezhI94aMAMXuNAlcZmXDpKL5xVSKBXp6L4r3HQlw9SiSST/0UkMipZiinhvuhPhQXBqPxvD+91GemU9YCfOXhcM6aT8WQCgoiYUNtv1yDwm/tZ1nRe8B4rTX6SFjJhuqrlm1NRc2v17xcxk8rg25p8OKvRRxADwDpFcZRN7qSxQPKaVCqWdeiGk888xWej2H2YLxX6YulNTLFtacWcuk2xKRIpLuOXfYXIdv0OOGz20xcKA0PCc0V1giom5Bu6n7os9LXjqiQnVMOTDCdfWSzbrFWT6y1XJXJlJUfR/j+/GXNs090M45N3xpecPKGoG/UATj6O+3x6VR/SXY2j32c4LoEN/3A22+ghLybYI9L2n04ZZBMHJ3mob/6qRaBMJEVVqAQgNJHVkAIoiwJJs4pb3t7LrVq86QqB0YQhAemfa++8l5UMntrQvL6Ao88HJ4a9uYRWKSmSubTpZxC2nr2bKuvooVv64mPtNdrAVwgrQ1meVQLOBRT2FkyPY7zar25Bbezw3hWaxb+ZA4t8JmZqmV4XNXzqMY8JAj87qpwMUyaPTANYcthNPlveuk2lAN4zHTbRfv1E5TlVsX/wY21P34dBd6gp060s6MSMYPkYVgWxvVLaJme2UznziAxhs1P3D46hDoQwYrGYeUK/CUJTHePo1qv0BT3yfHRdx3u4AY+0pyiW5dWKkh6lK5UvKulYPd0pmtEUe+FPFLnuqt3ef95PDGDsh6Fjl56N9JLreWJbNtiay30Tpz0m+Mlmf/oU9C+dbrtihK5FTUg==\" target=\"_blank\" onclick=\"return goOtherCR(this,&#39;a=pwl_nop.sublink2&amp;r=1&amp;i=nad-a001-01-000000088447148&amp;d=&#39;+urlencode(&#39;http://뱅크점.com&#39;)+&#39;&amp;u=&#39;+urlencode(this.href));\">FX마진거래</a>\n",
      "                </li>\n",
      "              \n",
      "                <li class=\"item\">\n",
      "                  <a class=\"link\" href=\"https://adcr.naver.com/adcr?x=ocbA5i49Roi6nwg/udXCTv///w==kIitO+FZkGgjXsovxTO0kqHeaK7ybuZlUEwVJ4wSh6Y+iz5ZE+cgVks7qlWValCEUZmfLhmKwypNklAncAfZbbPh+y+NnyKhkoELcMSC302ZN88Z2vP0c4VWCG03XqEwAWjJBahy6FEjtcBifDu+431lyNIQQAR1eLbT2KcIFaj2CkG7uDV/m/IOcja+C9xmjXrAB3hZx/pxhxY1bLKlJ/mjgws40yhG7OdHfQRw0kkhDnWtDY2XLkbo3YwPd0wKLksMyOqh90uIxZa1rRKMz2xwMKqk9n5gVDBoiXaC9sIZigxn2UdJ6X8uldW0oGELjIn+nG0NOKLo/CIHwquYZvdUOw19rRz2oX+5zxQ8AnTti2heGWyVQZrwCHrVdwpxA1UFxuCJfT6cAaBg2orC3TjEPf4Z32rK8FVKLUA71FCmCurt6tekBYbmw/szHmdxdT0UXe4lw8F0dXqztCeFXNKKQH4NRFjDjmM8mHUruLwq3f0x/pdIK/1ac7n2Pt1SbS/u7p+9GjQTobYL2+5GRHAoFoI4pMYj7wuxCS9GgEg3IL7xvtBZYuHKkxEUF3UDO1vQtNjVFZj6JKSgISjVdTNgAF/9M09xgy3OhDuMd2gsN28RLI0hqlypwMBgMzZz6m1pMj0jzmb3mi6FF0O8jd8fk8PW/EnQ7TjLyLfrMmiybckP7Jep1qBoEzC4RMvoOy7Z6DKxiMs0pdegBSSSdCgh42sVmc+4vhhaTg621lOWVh3M+HTNa7U1SuzEZy4CCf77fduHDNXFTfL4g6z7Y1g==\" target=\"_blank\" onclick=\"return goOtherCR(this,&#39;a=pwl_nop.sublink3&amp;r=1&amp;i=nad-a001-01-000000088447148&amp;d=&#39;+urlencode(&#39;http://뱅크점.com&#39;)+&#39;&amp;u=&#39;+urlencode(this.href));\">FX투자방법</a>\n",
      "                </li>\n",
      "              \n",
      "                <li class=\"item\">\n",
      "                  <a class=\"link\" href=\"https://adcr.naver.com/adcr?x=rDmGdKQlkq8RhPvOloz87f///w==kq97ytb21bqXV0vE5O4RDzn65ogHzaXID6ud1OFkhduj2W8Oi3hEeb+UsjD+yUN0XWDjqwTRSs20DZCBLLMKAL3k3yPt5knl+TX6pW8vppXV8ZegOd/D21Ham0ClYbQD2T8S00f1aK1JDalE0B0l3iL9xrTRgHkkMCwORVFSWi16biKOCYXYUUck+wllA3HTkiirHqNq5sR1jwgSa/Vt2eO8V3EyN/KzxYIu+Dl8i91LDU2rzdGM0M9AoQjI8LboR//AvWktnc/T6y9wMSOLtPlWCUpkIexYNbqmMTWLNznk1uHvJObtArVKSk+mHsvT6FuGspUh+9Naa3aDMdBtX6WMhtZd8G6oQHDbIC5DttTmXvwGCOUL+tYYmkGuAyMllWse8vVgYfvKnGyG4NE56JGf/w52INYNUSOIhF9ZiTwfCAEluLFDRPVlSVQlSc1Hod2XdKa9gS5CcurKBSufj3Rh74nyWuXNVQNs6lSUKy+/ACjTUQykmT9gdOe9SxIVTJnRVAMimdrikjKGvKZpbyhidnPm5NL9thsFpFe/FmJJ6U/U/KkiTRt+h1ELU8ZD2A2OPTAJuiZDuDL4F9UP/3fPPeSng+FY7GwPok1JUHCY/bKl32gm4XZenl4URqgiBfbuBZEtoqKdKKjAIXMO0El9hn4znRxmZ5Wyc+8dy5UeehtzVE8Tq4z5SmVBViv/RRzfUA7VVw38Tm80a03ySz2gc85GlNUmOoitgKXH7BBnuzEKiV1xZyHh/c/M3Zp2e\" target=\"_blank\" onclick=\"return goOtherCR(this,&#39;a=pwl_nop.sublink4&amp;r=1&amp;i=nad-a001-01-000000088447148&amp;d=&#39;+urlencode(&#39;http://뱅크점.com&#39;)+&#39;&amp;u=&#39;+urlencode(this.href));\">FX수익인증</a>\n",
      "                </li>\n",
      "              \n",
      "            </ul>\n",
      "            <div class=\"ad_dsc\"><p class=\"ad_dsc_inner\">\n",
      "              무료리딩, 2만원 가입지원 개개인 성향에 맞는 투자방식!\n",
      "              \n",
      "            </p></div>\n",
      "            \n",
      "            \n",
      "            \n",
      "          </div>\n",
      "        </li>\n",
      "        <li class=\"lst lst2      \"\n",
      "            onmouseover=\"jindo.$Element(this).addClass('ad_hover');\"\n",
      "            onmouseout=\"jindo.$Element(this).removeClass('ad_hover');\" num=\"1\">\n",
      "          \n",
      "          \n",
      "          <div class=\"inner\">\n",
      "            <a href=\"https://adcr.naver.com/adcr?x=E6CLxQeE4LqsHT9+PYcIW////w==kq3XOPueIDyt84g3waqlwNd7sCr9/FcW03XU/+12oeuAZ6Iq3QUHQUj1pTiRfP8tjQ+Um5CRiIonQB68eAeDPkNMRVSeWXDNWOgU9izLQPaHfHLdhe8R3zt/l+sVUjrEY8l3Pk/ZWnUt7BwLdKaEoVDHAxurO0yVS9isQLtj+YfxZmRrj9UbZWZXyXejamxNQ3aVWUMBMVUtXAlD4aMJrsWmHRcpiVcKJFgvctyjL2EAEuYVEbytKfPGUmCW0ZkcopUmvKro1/tgGLOzVh0jF8MNj5wFGuVuolU7cByHmYpxA7Xnsgjxz32EKf3L1+4rN9YgV6/wT+2PQYXubTytYrj3hAcn/nB2wsfvm7/aOyGJ43qvLeFHeT+T+BCpL5wDc0VM4ub1HSsqakdVhUMWVFW2tXZ6yG4j1j9II+GuQNku/63bcl2yAQGa16EawPPQooMx8DaivTsNS5G9DcjvnizRAnmEL2Zmgb78TWUEZxR+ZBRi6fUkC8Ugni016vCLfhsm1SUSa959IQ3UdUSSwyV6FyOhWvbuLw6nNQ4uaba3J0nB+yVppcoIIIj/dwqHvOIvkxTf3Nz6SIr7sm/F8UR83mg3viDO32k9xJKWrZlItlcO5K0XyMKI+nu0l3/gU&amp;p=0\"\n",
      "               target=\"_blank\"\n",
      "               class=\"lnk_tit\"\n",
      "               onclick=\"return goOtherCR(this, &#39;a=pwl_nop.tit&amp;r=2&amp;i=nad-a001-01-000000088191136&amp;d=&#39; + urlencode(&#39;http://money-b.com&#39;) + &#39;&amp;u=&#39;+ urlencode(this.href));\">머니비 로보어드바이저 투자</a>\n",
      "            \n",
      "\n",
      "            \n",
      "            <div class=\"url_area\">\n",
      "              <a href=\"https://adcr.naver.com/adcr?x=E6CLxQeE4LqsHT9+PYcIW////w==kq3XOPueIDyt84g3waqlwNd7sCr9/FcW03XU/+12oeuAZ6Iq3QUHQUj1pTiRfP8tjQ+Um5CRiIonQB68eAeDPkNMRVSeWXDNWOgU9izLQPaHfHLdhe8R3zt/l+sVUjrEY8l3Pk/ZWnUt7BwLdKaEoVDHAxurO0yVS9isQLtj+YfxZmRrj9UbZWZXyXejamxNQ3aVWUMBMVUtXAlD4aMJrsWmHRcpiVcKJFgvctyjL2EAEuYVEbytKfPGUmCW0ZkcopUmvKro1/tgGLOzVh0jF8MNj5wFGuVuolU7cByHmYpxA7Xnsgjxz32EKf3L1+4rN9YgV6/wT+2PQYXubTytYrj3hAcn/nB2wsfvm7/aOyGJ43qvLeFHeT+T+BCpL5wDc0VM4ub1HSsqakdVhUMWVFW2tXZ6yG4j1j9II+GuQNku/63bcl2yAQGa16EawPPQooMx8DaivTsNS5G9DcjvnizRAnmEL2Zmgb78TWUEZxR+ZBRi6fUkC8Ugni016vCLfhsm1SUSa959IQ3UdUSSwyV6FyOhWvbuLw6nNQ4uaba3J0nB+yVppcoIIIj/dwqHvOIvkxTf3Nz6SIr7sm/F8UR83mg3viDO32k9xJKWrZlItlcO5K0XyMKI+nu0l3/gU&amp;p=1\"\n",
      "                 class=\"lnk_url\" target=\"_blank\"\n",
      "                 onclick=\"return goOtherCR(this, &#39;a=pwl_nop.url&amp;r=2&amp;i=nad-a001-01-000000088191136&amp;d=&#39;+urlencode(&#39;http://money-b.com&#39;)+&#39;&amp;u=&#39;+urlencode(this.href));\">money-b.com</a>\n",
      "              \n",
      "            </div>\n",
      "            \n",
      "            \n",
      "            <div class=\"ad_dsc\"><p class=\"ad_dsc_inner\">\n",
      "              커피 두 잔 가격으로 시작하는<strong class='hl'>환율</strong> 투자프로그램\n",
      "              \n",
      "            </p></div>\n",
      "            \n",
      "            \n",
      "            \n",
      "          </div>\n",
      "        </li>\n",
      "        <li class=\"lst lst3   ext_desc  type_img \"\n",
      "            onmouseover=\"jindo.$Element(this).addClass('ad_hover');\"\n",
      "            onmouseout=\"jindo.$Element(this).removeClass('ad_hover');\" num=\"2\">\n",
      "          \n",
      "          <a class=\"lnk_thumb\"\n",
      "             href=\"https://adcr.naver.com/adcr?x=nQ9J3CEqq0N+urHLf861bv///w==kWldwSuxPs5maqHg2YfGR1zHtFDdZQsr411oRZ87KLg91wSlnnS/NQs/E5bi+Ufjg4vJmQVNcHpbaLIb5bhhWKQ50LOLY6AXDywQlIdWtOVSviry046cgsb9bpv0xH9HAyA4d8qJehevCRgMcdSWF9dXP0QbKV51aMyH4p1Gmoy/WWxUxxVj9Kop/S2O58ipba09K2jrfo5Oov5FmLGtzr1YXoXKfVJUEM6wzhHOJRGwmRvDfJdGUWtdqUYa2CX7pJtm22Y1qBg/vWDqfUcWQXDHZ0S2gDtG3XB3A6L1WTJTPz9pWLu4CcZeCwav304OmRhu/ebqQBXCgjUPL2DNbs1Ecd49QnIWkDChO/iaGC8/zMUT88q/g2JUMazW7ZxuyD3FfxFtILlkfNlO9sD60lF8CptOjhaTnlBq9qeCjEAwU7t6WyEbB3GQOcUr3VtKXV/ZtD5MjF+T7q924PPcg1/ekxZTsMY23979nzm/B3hh5npmTTWrnkpo8aq/xqQesX/bN8ITzIDLht7+KTnf62M0ownIdnIizahcao+kEIPGY80XfoUYcmNqlON/2JN2N2cUuq2U/2LYFz3KhtVlCdyVhv0ZMrYLxmNA5ZYjZnAc=\"\n",
      "             target=\"_blank\" onclick=\"return goOtherCR(this,&#39;a=pwl_nop.image&amp;r=3&amp;i=nad-a001-01-000000087924506&amp;d=&#39;+urlencode(&#39;http://www.fxmaxim.co.kr/&#39;)+&#39;&amp;u=&#39;+urlencode(this.href));\">\n",
      "            <img src=\"https://searchad-phinf.pstatic.net/MjAyMDAyMjhfMzUg/MDAxNTgyODQ1MzQwMzc4.eMrhRJTeGZz0JZU89S74QqoQrExdkwsUtYKJjcZfbQYg.upVq7396ZkKE_WfjLgBzz0kFzPCdhjp_C1nCUSvVwQsg.PNG/1862554-d96671b0-8519-4e20-9f21-67062e202c61.png?type=f120_120\" width=\"60\" height=\"60\" alt=\"링크이미지\" class=\"img_thumb\">\n",
      "          </a>\n",
      "          <div class=\"inner\">\n",
      "            <a href=\"https://adcr.naver.com/adcr?x=TueXG1cQ6tJzxjoQxYTLxf///w==kWldwSuxPs5maqHg2YfGR1zHtFDdZQsr411oRZ87KLg91wSlnnS/NQs/E5bi+UfjgmYNpXlWM8z9DHhmadnZ7N23Bq9sbIhnfjnKU1OcunFOTYuz/5KFidsh0iVI40L7cZ5o9e9d/Pxnd5bMz4u4i0elvus7cxHNY5t2tSohclAJVnP7qlYZUz5KN5mw9Kv9rZDHhdynGqkYbYfG5LKwkrPlT8E8Ju1j+6zbn1xpRusbQU1PpFxXwP6fBYl6aOmfVjJQb+OqAy4hiNtsVLdOcaDAWYpInOFb9wvN64SjgGnsdQtbCjxcgBDUm3v6N/hRETW4JwK/+u0QuMdj2VjgiTrBsEEvU2NzbOZaPq/UZszN1/4U9x/wk3a7iqiFrAETrm3RBbPtrzkz6emcr5yhQALb7aiyZNpF9YQgiD4kdf6LsvfD3iTmDKQy7fTUl6haaY5RBdoTWUhGXCBgtmRLv2JDk0hw/nq7TK8Klk4VLTt6sHRRDCkdjOb3/PI8VZxOMvu+cn+EkcgXKvX5qy9c+UnWSvRQvNMqKCzV6HGHYcM5G5EduQikMe5uoP8P9fOy4Rx0j0wZKPvFBg9QJHMSftj89yP7cYLunFFlo0TWkfmg=&amp;p=0\"\n",
      "               target=\"_blank\"\n",
      "               class=\"lnk_tit\"\n",
      "               onclick=\"return goOtherCR(this, &#39;a=pwl_nop.tit&amp;r=3&amp;i=nad-a001-01-000000087924506&amp;d=&#39; + urlencode(&#39;http://www.fxmaxim.co.kr/&#39;) + &#39;&amp;u=&#39;+ urlencode(this.href));\">FX시티맥심점 가입즉시2만원</a>\n",
      "            \n",
      "\n",
      "            \n",
      "            <div class=\"url_area\">\n",
      "              <a href=\"https://adcr.naver.com/adcr?x=TueXG1cQ6tJzxjoQxYTLxf///w==kWldwSuxPs5maqHg2YfGR1zHtFDdZQsr411oRZ87KLg91wSlnnS/NQs/E5bi+UfjgmYNpXlWM8z9DHhmadnZ7N23Bq9sbIhnfjnKU1OcunFOTYuz/5KFidsh0iVI40L7cZ5o9e9d/Pxnd5bMz4u4i0elvus7cxHNY5t2tSohclAJVnP7qlYZUz5KN5mw9Kv9rZDHhdynGqkYbYfG5LKwkrPlT8E8Ju1j+6zbn1xpRusbQU1PpFxXwP6fBYl6aOmfVjJQb+OqAy4hiNtsVLdOcaDAWYpInOFb9wvN64SjgGnsdQtbCjxcgBDUm3v6N/hRETW4JwK/+u0QuMdj2VjgiTrBsEEvU2NzbOZaPq/UZszN1/4U9x/wk3a7iqiFrAETrm3RBbPtrzkz6emcr5yhQALb7aiyZNpF9YQgiD4kdf6LsvfD3iTmDKQy7fTUl6haaY5RBdoTWUhGXCBgtmRLv2JDk0hw/nq7TK8Klk4VLTt6sHRRDCkdjOb3/PI8VZxOMvu+cn+EkcgXKvX5qy9c+UnWSvRQvNMqKCzV6HGHYcM5G5EduQikMe5uoP8P9fOy4Rx0j0wZKPvFBg9QJHMSftj89yP7cYLunFFlo0TWkfmg=&amp;p=1\"\n",
      "                 class=\"lnk_url\" target=\"_blank\"\n",
      "                 onclick=\"return goOtherCR(this, &#39;a=pwl_nop.url&amp;r=3&amp;i=nad-a001-01-000000087924506&amp;d=&#39;+urlencode(&#39;http://www.fxmaxim.co.kr/&#39;)+&#39;&amp;u=&#39;+urlencode(this.href));\">www.fxmaxim.co.kr/</a>\n",
      "              \n",
      "            </div>\n",
      "            <p class=\"ad_dsc promotion\">\n",
      "              \n",
      "              회원가입시 2만원 현금지급\n",
      "            </p>\n",
      "            \n",
      "            <div class=\"ad_dsc\"><p class=\"ad_dsc_inner\">\n",
      "              안전거래, 24시간상담센터, 무료리딩 진행중,가입시 2만원 현금지급, 고수익 보장\n",
      "              \n",
      "            </p></div>\n",
      "            \n",
      "            \n",
      "            \n",
      "          </div>\n",
      "        </li>\n",
      "      </ul>\n",
      "    </div>\n",
      "    \n",
      "    \n",
      "    <div class=\"section_more\">\n",
      "      <a href=\"https://ad.search.naver.com/search.naver?where=ad&amp;query=%ED%99%98%EC%9C%A8&amp;referenceId=UosECsp0Jy0ssg1Yn2hssssstPR-250994\"\n",
      "         target=\"_blank\" class=\"go_site\" onclick=\"return goOtherCR(this, &#39;a=pwl_nop.more&amp;r=1&amp;i=pwl_nopmore&amp;u=&#39;+urlencode(this.href));\">더보기</a>\n",
      "    </div>\n",
      "  </div>\n",
      "\n",
      "  \n",
      "\n",
      "  <script>g_crt+=\"&bt=15\";</script>\n",
      "<div class='result_more section' id='nx_result_more'> <div class='section_head'> <h2>검색결과 더보기</h2> </div> <div class='rsltmr_area'> <ul> <li><a target=_blank onclick=\"return goOtherCR(this, 'a=ldc_mre.spl&amp;i=00123FD5_0000000000000000000000000&amp;r=1&amp;u='+urlencode(this.href));\" href='https://dict.naver.com/search.nhn?query=%ED%99%98%EC%9C%A8&ie=utf8&sm=tab_mre'><strong>어학사전</strong><span class='site_more'></span></a></li><li><a onclick=\"return goOtherCR(this, 'a=vdo_mre.spl&amp;i=00123FD5_0000000000000000000000000&amp;r=1&amp;u='+urlencode(this.href));\" href='?where=video&ie=utf8&nso=&sm=tab_mre&query=%ED%99%98%EC%9C%A8'><strong>동영상</strong><span class='more'></span></a></li><li><a onclick=\"return goOtherCR(this, 'a=kin_mre.spl&amp;i=00123FD5_0000000000000000000000000&amp;r=1&amp;u='+urlencode(this.href));\" href='https://search.naver.com/search.naver?where=kin&query=%ED%99%98%EC%9C%A8&nso=so:r,a:all,p:all&sm=tab_mre'><strong>지식iN</strong><span class='more'></span></a></li><li><a onclick=\"return goOtherCR(this, 'a=img_mre.spl&amp;i=00123FD5_0000000000000000000000000&amp;r=1&amp;u='+urlencode(this.href));\" href='?where=image&query=%ED%99%98%EC%9C%A8&nso=so%3Ar%2Ca%3Aall%2Cp%3Aall&sm=tab_mre'><strong>이미지</strong><span class='more'></span></a></li><li><a target=_blank onclick=\"return goOtherCR(this, 'a=app_mre.spl&amp;i=00123FD5_0000000000000000000000000&amp;r=1&amp;u='+urlencode(this.href));\" href='https://s.search.naver.com/p/mobileapp/search.naver?where=svc&query=%ED%99%98%EC%9C%A8'><strong>앱정보</strong><span class='site_more'></span></a></li><li><a target=_blank onclick=\"return goOtherCR(this, 'a=loc_mre.spl&amp;i=00123FD5_0000000000000000000000000&amp;r=1&amp;u='+urlencode(this.href));\" href='https://map.naver.com/?query=%ED%99%98%EC%9C%A8&type=SITE_1&queryRank=0'><strong>지도</strong><span class='site_more'></span></a></li><li><a target=_blank onclick=\"return goOtherCR(this, 'a=bok_mre.spl&amp;i=00123FD5_0000000000000000000000000&amp;r=1&amp;u='+urlencode(this.href));\" href='http://book.naver.com/search/search.nhn?query=%ED%99%98%EC%9C%A8'><strong>책</strong><span class='site_more'></span></a></li><li><a target=_blank onclick=\"return goOtherCR(this, 'a=shp_mre.spl&amp;i=00123FD5_0000000000000000000000000&amp;r=1&amp;u='+urlencode(this.href));\" href='https://search.shopping.naver.com/search/all.nhn?query=%ED%99%98%EC%9C%A8&frm=NVSCPRO&bt=0'><strong>쇼핑</strong><span class='site_more'></span></a></li> <li><div><span></span></div></li> <li><div><span></span></div></li> <li><div><span></span></div></li> <li><div><span></span></div></li> </ul> </div> </div> <script> nhn = window.nhn || {}; nhn.search = nhn.search || {}; nhn.search.ResultTabToggler = jindo.$Class({ _welWrapper: null, _welUl: null, _nLength: 0, _nWidth: 0, _nItemHeight: 0, _htConfig: {}, $init: function(b) { this._htConfig = this._validate(b); if (!$(this._htConfig.sId)) { return false; } this._welWrapper = jindo.$Element(this._htConfig.sId); this._welUl = jindo.$Element($$.getSingle(\"ul\", this._welWrapper._element)); var a = $$(\"a\", this._welWrapper._element); this._nLength = a.length; this._nItemHeight = jindo.$Element(a[0]).parent().height(); this._switchClass(); this._attachEvent(); }, _validate: function(b) { var c = { nMaxWidth: 795 }; for (var a in b) { if (b[a]) { c[a] = b[a]; } } return c; }, _attachEvent: function() { jindo.$Fn(this._switchClass, this).attach(window, \"resize\"); }, _getRow: function(c, a) { var b = 1; if (c % a > 0) { b = Math.ceil(c / a); } else { b = c / a; } return b; }, _switchClass: function() { var b = 4, c = 0, a = this._welWrapper.width(); if (a >= this._htConfig.nMaxWidth) { b = 5; this._welWrapper.addClass(\"result_more2\"); } else { this._welWrapper.removeClass(\"result_more2\"); } c = this._getRow(this._nLength, b); this._welUl.css(\"height\", c * this._nItemHeight + \"px\"); } }); </script> <script type=\"text/javascript\"> (function() { new nhn.search.ResultTabToggler({ sId : 'nx_result_more' }); }()); </script></div><div id=\"sub_pack\" class=\"sub_pack\"><div id=\"nxfr_htp\" class=\"z_aside section\"> <div class=\"section_head\"><h2>뉴스토픽</h2></div> <div class=\"realtime_srch _aside_news_tab\"> <div class=\"hotkwd\"> <ul class=\"api_realtime_tab _tab\"> <li class=\"selected\" data-blind-text=\"뉴스토픽 뉴스\" data-index=\"0\"><a href=\"#\" onclick=\"return tCR('htk.nws', 1, '');\">뉴스</a></li> <li data-blind-text=\"뉴스토픽 연예·스포츠\" data-index=\"1\"><a href=\"#\" onclick=\"return tCR('htk.ents', 1, '');\">연예·스포츠</a></li> </ul> </div> <h6 class=\"blind _blind\">뉴스토픽 뉴스</h6> <ol class=\"lst_realtime_srch _tab_area\"><li><a href=\"?where=nexearch&sm=tab_htk.nws&ie=utf8&query=%EC%B4%9D+9583%EB%AA%85\" class=\"bx bx_item\" onclick=\"return goOtherCR(this, 'a=htk.nwslist&r=1&i=&u='+urlencode(urlexpand(this.href)));\"><span class=\"keyword\"><em class=\"num\">1</em><span class=\"tit\">총 9583명</span></span><em class=\"rank new\"><span class=\"spim\"></span><span>NEW</span></em></a></li><li><a href=\"?where=nexearch&sm=tab_htk.nws&ie=utf8&query=%ED%99%95%EC%A7%84%EC%9E%90+%EB%B0%9C%EC%83%9D\" class=\"bx bx_item\" onclick=\"return goOtherCR(this, 'a=htk.nwslist&r=2&i=&u='+urlencode(urlexpand(this.href)));\"><span class=\"keyword\"><em class=\"num\">2</em><span class=\"tit\">확진자 발생</span></span><em class=\"rank new\"><span class=\"spim\"></span><span>NEW</span></em></a></li><li><a href=\"?where=nexearch&sm=tab_htk.nws&ie=utf8&query=%EC%BD%94%EB%A1%9C%EB%82%9819+%ED%99%95%EC%82%B0\" class=\"bx bx_item\" onclick=\"return goOtherCR(this, 'a=htk.nwslist&r=3&i=&u='+urlencode(urlexpand(this.href)));\"><span class=\"keyword\"><em class=\"num\">3</em><span class=\"tit\">코로나19 확산</span></span><em class=\"rank new\"><span class=\"spim\"></span><span>NEW</span></em></a></li><li><a href=\"?where=nexearch&sm=tab_htk.nws&ie=utf8&query=%EC%A1%B0%EC%9B%90%ED%83%9C+%ED%9A%8C%EC%9E%A5\" class=\"bx bx_item\" onclick=\"return goOtherCR(this, 'a=htk.nwslist&r=4&i=&u='+urlencode(urlexpand(this.href)));\"><span class=\"keyword\"><em class=\"num\">4</em><span class=\"tit\">조원태 회장</span></span><em class=\"rank new\"><span class=\"spim\"></span><span>NEW</span></em></a></li><li><a href=\"?where=nexearch&sm=tab_htk.nws&ie=utf8&query=%EC%BD%94%EB%A1%9C%EB%82%9819+%ED%99%95%EC%A7%84%EC%9E%90\" class=\"bx\" onclick=\"return goOtherCR(this, 'a=htk.nwslist&r=5&i=&u='+urlencode(urlexpand(this.href)));\"><span class=\"keyword\"><em class=\"num\">5</em><span class=\"tit\">코로나19 확진자</span></span></a></li><li><a href=\"?where=nexearch&sm=tab_htk.nws&ie=utf8&query=%EC%BD%94%EB%A1%9C%EB%82%98+%EC%9C%84%EA%B8%B0\" class=\"bx\" onclick=\"return goOtherCR(this, 'a=htk.nwslist&r=6&i=&u='+urlencode(urlexpand(this.href)));\"><span class=\"keyword\"><em class=\"num\">6</em><span class=\"tit\">코로나 위기</span></span></a></li><li><a href=\"?where=nexearch&sm=tab_htk.nws&ie=utf8&query=%EC%BD%94%EB%A1%9C%EB%82%9819%EB%A1%9C+%EC%82%AC%EB%A7%9D\" class=\"bx bx_item\" onclick=\"return goOtherCR(this, 'a=htk.nwslist&r=7&i=&u='+urlencode(urlexpand(this.href)));\"><span class=\"keyword\"><em class=\"num\">7</em><span class=\"tit\">코로나19로 사망</span></span><em class=\"rank new\"><span class=\"spim\"></span><span>NEW</span></em></a></li><li><a href=\"?where=nexearch&sm=tab_htk.nws&ie=utf8&query=%EC%8B%A0%EC%B2%9C%EC%A7%80+%EB%8C%80%EA%B5%AC%EA%B5%90%ED%9A%8C\" class=\"bx bx_item\" onclick=\"return goOtherCR(this, 'a=htk.nwslist&r=8&i=&u='+urlencode(urlexpand(this.href)));\"><span class=\"keyword\"><em class=\"num\">8</em><span class=\"tit\">신천지 대구교회</span></span><em class=\"rank new\"><span class=\"spim\"></span><span>NEW</span></em></a></li><li><a href=\"?where=nexearch&sm=tab_htk.nws&ie=utf8&query=%ED%8A%B8%EB%9F%BC%ED%94%84+%EB%89%B4%EC%9A%95+%EB%93%B1+%EA%B0%95%EC%A0%9C%EA%B2%A9%EB%A6%AC+%EA%B2%80%ED%86%A0\" class=\"bx bx_item\" onclick=\"return goOtherCR(this, 'a=htk.nwslist&r=9&i=&u='+urlencode(urlexpand(this.href)));\"><span class=\"keyword\"><em class=\"num\">9</em><span class=\"tit\">트럼프 뉴욕 등 강제격리 검토</span></span><em class=\"rank new\"><span class=\"spim\"></span><span>NEW</span></em></a></li><li><a href=\"?where=nexearch&sm=tab_htk.nws&ie=utf8&query=%EB%8F%99%EC%84%A0+%EA%B3%B5%EA%B0%9C\" class=\"bx bx_item\" onclick=\"return goOtherCR(this, 'a=htk.nwslist&r=10&i=&u='+urlencode(urlexpand(this.href)));\"><span class=\"keyword\"><em class=\"num\">10</em><span class=\"tit\">동선 공개</span></span><em class=\"rank new\"><span class=\"spim\"></span><span>NEW</span></em></a></li></ol> <ol class=\"lst_realtime_srch _tab_area\" style=\"display:none;\"><li><a href=\"?where=nexearch&sm=tab_htk.ent&ie=utf8&query=%EB%A7%88%EC%8A%A4%ED%81%AC+%EC%A0%9C%EC%9E%91\" class=\"bx bx_item\" onclick=\"return goOtherCR(this, 'a=htk.entslist&r=1&i=&u='+urlencode(urlexpand(this.href)));\"><span class=\"keyword\"><em class=\"num\">1</em><span class=\"tit\">마스크 제작</span></span><em class=\"rank new\"><span class=\"spim\"></span><span>NEW</span></em></a></li><li><a href=\"?where=nexearch&sm=tab_htk.ent&ie=utf8&query=%EB%B0%A5%EB%B8%94%EB%A0%88%EC%8A%A4%EC%9C%A02+PD\" class=\"bx\" onclick=\"return goOtherCR(this, 'a=htk.entslist&r=2&i=&u='+urlencode(urlexpand(this.href)));\"><span class=\"keyword\"><em class=\"num\">2</em><span class=\"tit\">밥블레스유2 PD</span></span></a></li><li><a href=\"?where=nexearch&sm=tab_htk.ent&ie=utf8&query=77%EC%96%B5%EC%9D%98+%EC%82%AC%EB%9E%91+%EA%B9%80%EB%B3%B4%EC%84%B1\" class=\"bx bx_item\" onclick=\"return goOtherCR(this, 'a=htk.entslist&r=3&i=&u='+urlencode(urlexpand(this.href)));\"><span class=\"keyword\"><em class=\"num\">3</em><span class=\"tit\">77억의 사랑 김보성</span></span><em class=\"rank new\"><span class=\"spim\"></span><span>NEW</span></em></a></li><li><a href=\"?where=nexearch&sm=tab_htk.ent&ie=utf8&query=%EB%A3%A8%EA%B0%88+%EB%B0%95%EC%84%B1%EC%9B%85\" class=\"bx bx_item\" onclick=\"return goOtherCR(this, 'a=htk.entslist&r=4&i=&u='+urlencode(urlexpand(this.href)));\"><span class=\"keyword\"><em class=\"num\">4</em><span class=\"tit\">루갈 박성웅</span></span><em class=\"rank new\"><span class=\"spim\"></span><span>NEW</span></em></a></li><li><a href=\"?where=nexearch&sm=tab_htk.ent&ie=utf8&query=%EC%A0%84%EC%B0%B8%EC%8B%9C+%EC%A1%B0%EB%AA%85%EC%84%AD\" class=\"bx\" onclick=\"return goOtherCR(this, 'a=htk.entslist&r=5&i=&u='+urlencode(urlexpand(this.href)));\"><span class=\"keyword\"><em class=\"num\">5</em><span class=\"tit\">전참시 조명섭</span></span></a></li><li><a href=\"?where=nexearch&sm=tab_htk.ent&ie=utf8&query=%EB%B6%80%EB%9F%BD%EC%A7%80+%EC%9D%B4%EC%9B%90%EC%9D%BC%E2%99%A5%EA%B9%80%EC%9C%A0%EC%A7%84+PD\" class=\"bx bx_item\" onclick=\"return goOtherCR(this, 'a=htk.entslist&r=6&i=&u='+urlencode(urlexpand(this.href)));\"><span class=\"keyword\"><em class=\"num\">6</em><span class=\"tit\">부럽지 이원일♥김유진 PD</span></span><em class=\"rank new\"><span class=\"spim\"></span><span>NEW</span></em></a></li><li><a href=\"?where=nexearch&sm=tab_htk.ent&ie=utf8&query=%EB%8D%94+%EB%A1%9C%EB%A7%A8%EC%8A%A4+%EC%9C%A0%EC%9D%B8%EC%98%81\" class=\"bx bx_item\" onclick=\"return goOtherCR(this, 'a=htk.entslist&r=7&i=&u='+urlencode(urlexpand(this.href)));\"><span class=\"keyword\"><em class=\"num\">7</em><span class=\"tit\">더 로맨스 유인영</span></span><em class=\"rank new\"><span class=\"spim\"></span><span>NEW</span></em></a></li><li><a href=\"?where=nexearch&sm=tab_htk.ent&ie=utf8&query=%EC%9E%90%EC%97%B0%EC%8A%A4%EB%9F%BD%EA%B2%8C+%EA%B9%80%EC%9A%94%ED%95%9C\" class=\"bx\" onclick=\"return goOtherCR(this, 'a=htk.entslist&r=8&i=&u='+urlencode(urlexpand(this.href)));\"><span class=\"keyword\"><em class=\"num\">8</em><span class=\"tit\">자연스럽게 김요한</span></span></a></li><li><a href=\"?where=nexearch&sm=tab_htk.ent&ie=utf8&query=%EB%B6%88%ED%9B%84+%ED%8D%BC%ED%94%8C%EB%A0%88%EC%9D%B8\" class=\"bx bx_item\" onclick=\"return goOtherCR(this, 'a=htk.entslist&r=9&i=&u='+urlencode(urlexpand(this.href)));\"><span class=\"keyword\"><em class=\"num\">9</em><span class=\"tit\">불후 퍼플레인</span></span><em class=\"rank new\"><span class=\"spim\"></span><span>NEW</span></em></a></li><li><a href=\"?where=nexearch&sm=tab_htk.ent&ie=utf8&query=%EC%B2%AB+%EC%B6%9C%EC%97%B0%EC%97%90+%EC%9A%B0%EC%8A%B9%EA%B9%8C%EC%A7%80\" class=\"bx bx_item\" onclick=\"return goOtherCR(this, 'a=htk.entslist&r=10&i=&u='+urlencode(urlexpand(this.href)));\"><span class=\"keyword\"><em class=\"num\">10</em><span class=\"tit\">첫 출연에 우승까지</span></span><em class=\"rank new\"><span class=\"spim\"></span><span>NEW</span></em></a></li></ol><div class=\"realtime_srch_area\"><p class=\"dsc\"><time>2020.03.29. 08:30 ~ 11:30</time> 기준 <a href=\"https://help.naver.com/support/alias/search/word/word_3.naver\" target=\"_blank\" class=\"link_rts_help\" onclick=\"return goOtherCR(this, 'a=htk.guide&r=&i=&u='+urlencode(this.href));\"><i class=\"sprenew api_ico_help2\">도움말</i></a></p></div> </div> </div> <script type=\"text/javascript\"> (function() { var sJavascriptFile = \"https://ssl.pstatic.net/sstatic/au/pc/realtime_keyword/nhn.AsideKeywordTab_200115.js\"; var fnCallback = function() { new nhn.AsideKeywordTab(jQuery(\"._aside_news_tab\"), { \"tab\": \"._tab li\", \"content\": \"._tab_area\", \"blind\": \"._blind\" }); }; nhn.common.load_js(sJavascriptFile, fnCallback, true, 150); }()); </script> </div><div class=\"ly_dimmed\"></div> </div> </div><div id=\"footer\"> <div class=\"footer_group\"> <div class=\"sub_pack_btm\"> <a href=\"#\" class=\"top\" onclick=\"window.scrollTo(0,0); document.querySelector('#wrap a').focus(); return false;\"><span class=\"spim\"></span>맨위로</a> </div> <div class=\"search_area\"><div id=\"_nx_footer_realtime\" class=\"realtime_srch_rolling\"> <h3 class=\"tit_rts\">급상승 검색어 <a href=\"https://help.naver.com/support/alias/search/word/word_5.naver\" target=\"_blank\" class=\"link_rts_help\" onclick=\"return goOtherCR(this, 'a=fkc_def.guide&r=&i=&u='+urlencode(this.href));\"><i class=\"sprenew api_ico_help2\">도움말</i></a></h3> <div class=\"realtime_srch _roling_realtime\"> <ol class=\"lst_realtime_srch\"> <li> <span class=\"bx bx_item _link\" title=\"신과 나: 100일간의 거래\"> <a href=\"?where=nexearch&sm=tab_lvf.agallgrpmamsi0en0sp0&ie=utf8&query=%EC%8B%A0%EA%B3%BC+%EB%82%98%3A+100%EC%9D%BC%EA%B0%84%EC%9D%98+%EA%B1%B0%EB%9E%98\" class=\"keyword\" onclick=\"return goOtherCR(this, 'a=fkc_def.list&r=1&i=&u='+urlencode(urlexpand(this.href)));\"> <em class=\"num\">1</em> <span class=\"tit _text\">신과 나: 100일간의 거래</span> </a> </span> </li> <li> <span class=\"bx bx_item _link\" title=\"라비\"> <a href=\"?where=nexearch&sm=tab_lvf.agallgrpmamsi0en0sp0&ie=utf8&query=%EB%9D%BC%EB%B9%84\" class=\"keyword\" onclick=\"return goOtherCR(this, 'a=fkc_def.list&r=2&i=&u='+urlencode(urlexpand(this.href)));\"> <em class=\"num\">2</em> <span class=\"tit _text\">라비</span> </a> </span> </li> <li> <span class=\"bx bx_item _link\" title=\"부부의세계 2회\"> <a href=\"?where=nexearch&sm=tab_lvf.agallgrpmamsi0en0sp0&ie=utf8&query=%EB%B6%80%EB%B6%80%EC%9D%98%EC%84%B8%EA%B3%84+2%ED%9A%8C\" class=\"keyword\" onclick=\"return goOtherCR(this, 'a=fkc_def.list&r=3&i=&u='+urlencode(urlexpand(this.href)));\"> <em class=\"num\">3</em> <span class=\"tit _text\">부부의세계 2회</span> </a> </span> </li> <li> <span class=\"bx bx_item _link\" title=\"논산시청\"> <a href=\"?where=nexearch&sm=tab_lvf.agallgrpmamsi0en0sp0&ie=utf8&query=%EB%85%BC%EC%82%B0%EC%8B%9C%EC%B2%AD\" class=\"keyword\" onclick=\"return goOtherCR(this, 'a=fkc_def.list&r=4&i=&u='+urlencode(urlexpand(this.href)));\"> <em class=\"num\">4</em> <span class=\"tit _text\">논산시청</span> </a> </span> </li> <li> <span class=\"bx bx_item _link\" title=\"루갈\"> <a href=\"?where=nexearch&sm=tab_lvf.agallgrpmamsi0en0sp0&ie=utf8&query=%EB%A3%A8%EA%B0%88\" class=\"keyword\" onclick=\"return goOtherCR(this, 'a=fkc_def.list&r=5&i=&u='+urlencode(urlexpand(this.href)));\"> <em class=\"num\">5</em> <span class=\"tit _text\">루갈</span> </a> </span> </li> <li> <span class=\"bx bx_item _link\" title=\"김영민\"> <a href=\"?where=nexearch&sm=tab_lvf.agallgrpmamsi0en0sp0&ie=utf8&query=%EA%B9%80%EC%98%81%EB%AF%BC\" class=\"keyword\" onclick=\"return goOtherCR(this, 'a=fkc_def.list&r=6&i=&u='+urlencode(urlexpand(this.href)));\"> <em class=\"num\">6</em> <span class=\"tit _text\">김영민</span> </a> </span> </li> <li> <span class=\"bx bx_item _link\" title=\"신데렐라법\"> <a href=\"?where=nexearch&sm=tab_lvf.agallgrpmamsi0en0sp0&ie=utf8&query=%EC%8B%A0%EB%8D%B0%EB%A0%90%EB%9D%BC%EB%B2%95\" class=\"keyword\" onclick=\"return goOtherCR(this, 'a=fkc_def.list&r=7&i=&u='+urlencode(urlexpand(this.href)));\"> <em class=\"num\">7</em> <span class=\"tit _text\">신데렐라법</span> </a> </span> </li> <li> <span class=\"bx bx_item _link\" title=\"맛남의 광장 대파국\"> <a href=\"?where=nexearch&sm=tab_lvf.agallgrpmamsi0en0sp0&ie=utf8&query=%EB%A7%9B%EB%82%A8%EC%9D%98+%EA%B4%91%EC%9E%A5+%EB%8C%80%ED%8C%8C%EA%B5%AD\" class=\"keyword\" onclick=\"return goOtherCR(this, 'a=fkc_def.list&r=8&i=&u='+urlencode(urlexpand(this.href)));\"> <em class=\"num\">8</em> <span class=\"tit _text\">맛남의 광장 대파국</span> </a> </span> </li> <li> <span class=\"bx bx_item _link\" title=\"타이밍\"> <a href=\"?where=nexearch&sm=tab_lvf.agallgrpmamsi0en0sp0&ie=utf8&query=%ED%83%80%EC%9D%B4%EB%B0%8D\" class=\"keyword\" onclick=\"return goOtherCR(this, 'a=fkc_def.list&r=9&i=&u='+urlencode(urlexpand(this.href)));\"> <em class=\"num\">9</em> <span class=\"tit _text\">타이밍</span> </a> </span> </li> <li> <span class=\"bx bx_item _link\" title=\"엠마\"> <a href=\"?where=nexearch&sm=tab_lvf.agallgrpmamsi0en0sp0&ie=utf8&query=%EC%97%A0%EB%A7%88\" class=\"keyword\" onclick=\"return goOtherCR(this, 'a=fkc_def.list&r=10&i=&u='+urlencode(urlexpand(this.href)));\"> <em class=\"num\">10</em> <span class=\"tit _text\">엠마</span> </a> </span> </li> <li> <span class=\"bx bx_item _link\" title=\"진주 코로나\"> <a href=\"?where=nexearch&sm=tab_lvf.agallgrpmamsi0en0sp0&ie=utf8&query=%EC%A7%84%EC%A3%BC+%EC%BD%94%EB%A1%9C%EB%82%98\" class=\"keyword\" onclick=\"return goOtherCR(this, 'a=fkc_def.list&r=11&i=&u='+urlencode(urlexpand(this.href)));\"> <em class=\"num\">11</em> <span class=\"tit _text\">진주 코로나</span> </a> </span> </li> <li> <span class=\"bx bx_item _link\" title=\"한 번 다녀왔습니다\"> <a href=\"?where=nexearch&sm=tab_lvf.agallgrpmamsi0en0sp0&ie=utf8&query=%ED%95%9C+%EB%B2%88+%EB%8B%A4%EB%85%80%EC%99%94%EC%8A%B5%EB%8B%88%EB%8B%A4\" class=\"keyword\" onclick=\"return goOtherCR(this, 'a=fkc_def.list&r=12&i=&u='+urlencode(urlexpand(this.href)));\"> <em class=\"num\">12</em> <span class=\"tit _text\">한 번 다녀왔습니다</span> </a> </span> </li> <li> <span class=\"bx bx_item _link\" title=\"스물\"> <a href=\"?where=nexearch&sm=tab_lvf.agallgrpmamsi0en0sp0&ie=utf8&query=%EC%8A%A4%EB%AC%BC\" class=\"keyword\" onclick=\"return goOtherCR(this, 'a=fkc_def.list&r=13&i=&u='+urlencode(urlexpand(this.href)));\"> <em class=\"num\">13</em> <span class=\"tit _text\">스물</span> </a> </span> </li> <li> <span class=\"bx bx_item _link\" title=\"송해\"> <a href=\"?where=nexearch&sm=tab_lvf.agallgrpmamsi0en0sp0&ie=utf8&query=%EC%86%A1%ED%95%B4\" class=\"keyword\" onclick=\"return goOtherCR(this, 'a=fkc_def.list&r=14&i=&u='+urlencode(urlexpand(this.href)));\"> <em class=\"num\">14</em> <span class=\"tit _text\">송해</span> </a> </span> </li> <li> <span class=\"bx bx_item _link\" title=\"신과 나: 100일간의 거래 결말\"> <a href=\"?where=nexearch&sm=tab_lvf.agallgrpmamsi0en0sp0&ie=utf8&query=%EC%8B%A0%EA%B3%BC+%EB%82%98%3A+100%EC%9D%BC%EA%B0%84%EC%9D%98+%EA%B1%B0%EB%9E%98+%EA%B2%B0%EB%A7%90\" class=\"keyword\" onclick=\"return goOtherCR(this, 'a=fkc_def.list&r=15&i=&u='+urlencode(urlexpand(this.href)));\"> <em class=\"num\">15</em> <span class=\"tit _text\">신과 나: 100일간의 거래 결말</span> </a> </span> </li> <li> <span class=\"bx bx_item _link\" title=\"잔나비\"> <a href=\"?where=nexearch&sm=tab_lvf.agallgrpmamsi0en0sp0&ie=utf8&query=%EC%9E%94%EB%82%98%EB%B9%84\" class=\"keyword\" onclick=\"return goOtherCR(this, 'a=fkc_def.list&r=16&i=&u='+urlencode(urlexpand(this.href)));\"> <em class=\"num\">16</em> <span class=\"tit _text\">잔나비</span> </a> </span> </li> <li> <span class=\"bx bx_item _link\" title=\"돈\"> <a href=\"?where=nexearch&sm=tab_lvf.agallgrpmamsi0en0sp0&ie=utf8&query=%EB%8F%88\" class=\"keyword\" onclick=\"return goOtherCR(this, 'a=fkc_def.list&r=17&i=&u='+urlencode(urlexpand(this.href)));\"> <em class=\"num\">17</em> <span class=\"tit _text\">돈</span> </a> </span> </li> <li> <span class=\"bx bx_item _link\" title=\"소냐 헤니\"> <a href=\"?where=nexearch&sm=tab_lvf.agallgrpmamsi0en0sp0&ie=utf8&query=%EC%86%8C%EB%83%90+%ED%97%A4%EB%8B%88\" class=\"keyword\" onclick=\"return goOtherCR(this, 'a=fkc_def.list&r=18&i=&u='+urlencode(urlexpand(this.href)));\"> <em class=\"num\">18</em> <span class=\"tit _text\">소냐 헤니</span> </a> </span> </li> <li> <span class=\"bx bx_item _link\" title=\"전국노래자랑\"> <a href=\"?where=nexearch&sm=tab_lvf.agallgrpmamsi0en0sp0&ie=utf8&query=%EC%A0%84%EA%B5%AD%EB%85%B8%EB%9E%98%EC%9E%90%EB%9E%91\" class=\"keyword\" onclick=\"return goOtherCR(this, 'a=fkc_def.list&r=19&i=&u='+urlencode(urlexpand(this.href)));\"> <em class=\"num\">19</em> <span class=\"tit _text\">전국노래자랑</span> </a> </span> </li> <li> <span class=\"bx bx_item _link\" title=\"더 시그널\"> <a href=\"?where=nexearch&sm=tab_lvf.agallgrpmamsi0en0sp0&ie=utf8&query=%EB%8D%94+%EC%8B%9C%EA%B7%B8%EB%84%90\" class=\"keyword\" onclick=\"return goOtherCR(this, 'a=fkc_def.list&r=20&i=&u='+urlencode(urlexpand(this.href)));\"> <em class=\"num\">20</em> <span class=\"tit _text\">더 시그널</span> </a> </span> </li> <li class=\"_dummy_first\"> <span class=\"bx bx_item _link\" title=\"신과 나: 100일간의 거래\"> <a href=\"?where=nexearch&sm=tab_lvf.agallgrpmamsi0en0sp0&ie=utf8&query=%EC%8B%A0%EA%B3%BC+%EB%82%98%3A+100%EC%9D%BC%EA%B0%84%EC%9D%98+%EA%B1%B0%EB%9E%98\" class=\"keyword\" onclick=\"return goOtherCR(this, 'a=fkc_def.list&r=20&i=&u='+urlencode(urlexpand(this.href)));\"> <em class=\"num\">1</em> <span class=\"tit _text\">신과 나: 100일간의 거래</span> </a> </span> </li> </ol> </div> <div class=\"error_txt _roling_error\">오류로 표시할 정보가 없습니다</div> <div class=\"ly_realtime_srch v2 _tab_chart\" id=\"nxfr_brlayer\" style=\"height:385px\"> <div class=\"tab_realtime_srch _tab\"> <ul role=\"tablist\"> <li class=\"selected\" data-index=\"0\"><a href=\"#\" onclick=\"return tCR('fkc.tabrkl', 1, '');\" role=\"tab\">급상승 검색어</a></li> <li data-index=\"1\"><a href=\"#\" onclick=\"return tCR('fkc.tabhtk', 1, '');\" role=\"tab\">뉴스토픽</a></li> </ul> </div> <div class=\"tab_area _tab_area _tabRealtime\" style=\"display: block;\"> <h3 class=\"blind\">급상승 검색어</h3> <div class=\"group_ranking\"> <div class=\"hotkwd\"> <ul class=\"api_realtime_tab _realtime_tab\"> <li class=\"selected\" data-index=\"0\" data-blind-text=\"급상승 검색어 1~10위\"><a href=\"#\" onclick=\"return tCR('fkc_rkl.lefttab', 1, '');\">1~10위</a></li> <li data-index=\"1\" data-blind-text=\"급상승 검색어 11~20위\"><a href=\"#\" onclick=\"return tCR('fkc_rkl.righttab', 1, '');\">11~20위</a></li> </ul> </div> <h6 class=\"blind _blind_realtime\">급상승 검색어 1~10위</h6> <ol class=\"lst_realtime_srch _realtime_tab_area\"> <li > <span class=\"bx bx_item _link\" title=\"신과 나: 100일간의 거래\"> <a href=\"?where=nexearch&sm=tab_lvf.agallgrpmamsi0en0sp0&ie=utf8&query=%EC%8B%A0%EA%B3%BC+%EB%82%98%3A+100%EC%9D%BC%EA%B0%84%EC%9D%98+%EA%B1%B0%EB%9E%98\" class=\"keyword\" onclick=\"return goOtherCR(this, 'a=fkc_rkl.list&r=1&i=&u='+urlencode(urlexpand(this.href)));\"> <em class=\"num\">1</em> <span class=\"tit _text\">신과 나: 100일간의 거래</span> </a> </span> </li> <li > <span class=\"bx bx_item _link\" title=\"라비\"> <a href=\"?where=nexearch&sm=tab_lvf.agallgrpmamsi0en0sp0&ie=utf8&query=%EB%9D%BC%EB%B9%84\" class=\"keyword\" onclick=\"return goOtherCR(this, 'a=fkc_rkl.list&r=2&i=&u='+urlencode(urlexpand(this.href)));\"> <em class=\"num\">2</em> <span class=\"tit _text\">라비</span> </a> </span> </li> <li > <span class=\"bx bx_item _link\" title=\"부부의세계 2회\"> <a href=\"?where=nexearch&sm=tab_lvf.agallgrpmamsi0en0sp0&ie=utf8&query=%EB%B6%80%EB%B6%80%EC%9D%98%EC%84%B8%EA%B3%84+2%ED%9A%8C\" class=\"keyword\" onclick=\"return goOtherCR(this, 'a=fkc_rkl.list&r=3&i=&u='+urlencode(urlexpand(this.href)));\"> <em class=\"num\">3</em> <span class=\"tit _text\">부부의세계 2회</span> </a> </span> </li> <li > <span class=\"bx bx_item _link\" title=\"논산시청\"> <a href=\"?where=nexearch&sm=tab_lvf.agallgrpmamsi0en0sp0&ie=utf8&query=%EB%85%BC%EC%82%B0%EC%8B%9C%EC%B2%AD\" class=\"keyword\" onclick=\"return goOtherCR(this, 'a=fkc_rkl.list&r=4&i=&u='+urlencode(urlexpand(this.href)));\"> <em class=\"num\">4</em> <span class=\"tit _text\">논산시청</span> </a> </span> </li> <li > <span class=\"bx bx_item _link\" title=\"루갈\"> <a href=\"?where=nexearch&sm=tab_lvf.agallgrpmamsi0en0sp0&ie=utf8&query=%EB%A3%A8%EA%B0%88\" class=\"keyword\" onclick=\"return goOtherCR(this, 'a=fkc_rkl.list&r=5&i=&u='+urlencode(urlexpand(this.href)));\"> <em class=\"num\">5</em> <span class=\"tit _text\">루갈</span> </a> </span> </li> <li > <span class=\"bx bx_item _link\" title=\"김영민\"> <a href=\"?where=nexearch&sm=tab_lvf.agallgrpmamsi0en0sp0&ie=utf8&query=%EA%B9%80%EC%98%81%EB%AF%BC\" class=\"keyword\" onclick=\"return goOtherCR(this, 'a=fkc_rkl.list&r=6&i=&u='+urlencode(urlexpand(this.href)));\"> <em class=\"num\">6</em> <span class=\"tit _text\">김영민</span> </a> </span> </li> <li > <span class=\"bx bx_item _link\" title=\"신데렐라법\"> <a href=\"?where=nexearch&sm=tab_lvf.agallgrpmamsi0en0sp0&ie=utf8&query=%EC%8B%A0%EB%8D%B0%EB%A0%90%EB%9D%BC%EB%B2%95\" class=\"keyword\" onclick=\"return goOtherCR(this, 'a=fkc_rkl.list&r=7&i=&u='+urlencode(urlexpand(this.href)));\"> <em class=\"num\">7</em> <span class=\"tit _text\">신데렐라법</span> </a> </span> </li> <li > <span class=\"bx bx_item _link\" title=\"맛남의 광장 대파국\"> <a href=\"?where=nexearch&sm=tab_lvf.agallgrpmamsi0en0sp0&ie=utf8&query=%EB%A7%9B%EB%82%A8%EC%9D%98+%EA%B4%91%EC%9E%A5+%EB%8C%80%ED%8C%8C%EA%B5%AD\" class=\"keyword\" onclick=\"return goOtherCR(this, 'a=fkc_rkl.list&r=8&i=&u='+urlencode(urlexpand(this.href)));\"> <em class=\"num\">8</em> <span class=\"tit _text\">맛남의 광장 대파국</span> </a> </span> </li> <li > <span class=\"bx bx_item _link\" title=\"타이밍\"> <a href=\"?where=nexearch&sm=tab_lvf.agallgrpmamsi0en0sp0&ie=utf8&query=%ED%83%80%EC%9D%B4%EB%B0%8D\" class=\"keyword\" onclick=\"return goOtherCR(this, 'a=fkc_rkl.list&r=9&i=&u='+urlencode(urlexpand(this.href)));\"> <em class=\"num\">9</em> <span class=\"tit _text\">타이밍</span> </a> </span> </li> <li > <span class=\"bx bx_item _link\" title=\"엠마\"> <a href=\"?where=nexearch&sm=tab_lvf.agallgrpmamsi0en0sp0&ie=utf8&query=%EC%97%A0%EB%A7%88\" class=\"keyword\" onclick=\"return goOtherCR(this, 'a=fkc_rkl.list&r=10&i=&u='+urlencode(urlexpand(this.href)));\"> <em class=\"num\">10</em> <span class=\"tit _text\">엠마</span> </a> </span> </li> </ol> <ol start=\"11\" class=\"lst_realtime_srch _realtime_tab_area\" style=\"display:none;\"> <li > <span class=\"bx bx_item _link\" title=\"진주 코로나\"> <a href=\"?where=nexearch&sm=tab_lvf.agallgrpmamsi0en0sp0&ie=utf8&query=%EC%A7%84%EC%A3%BC+%EC%BD%94%EB%A1%9C%EB%82%98\" class=\"keyword\" onclick=\"return goOtherCR(this, 'a=fkc_rkl.list&r=11&i=&u='+urlencode(urlexpand(this.href)));\"> <em class=\"num\">11</em> <span class=\"tit _text\">진주 코로나</span> </a> </span> </li> <li > <span class=\"bx bx_item _link\" title=\"한 번 다녀왔습니다\"> <a href=\"?where=nexearch&sm=tab_lvf.agallgrpmamsi0en0sp0&ie=utf8&query=%ED%95%9C+%EB%B2%88+%EB%8B%A4%EB%85%80%EC%99%94%EC%8A%B5%EB%8B%88%EB%8B%A4\" class=\"keyword\" onclick=\"return goOtherCR(this, 'a=fkc_rkl.list&r=12&i=&u='+urlencode(urlexpand(this.href)));\"> <em class=\"num\">12</em> <span class=\"tit _text\">한 번 다녀왔습니다</span> </a> </span> </li> <li > <span class=\"bx bx_item _link\" title=\"스물\"> <a href=\"?where=nexearch&sm=tab_lvf.agallgrpmamsi0en0sp0&ie=utf8&query=%EC%8A%A4%EB%AC%BC\" class=\"keyword\" onclick=\"return goOtherCR(this, 'a=fkc_rkl.list&r=13&i=&u='+urlencode(urlexpand(this.href)));\"> <em class=\"num\">13</em> <span class=\"tit _text\">스물</span> </a> </span> </li> <li > <span class=\"bx bx_item _link\" title=\"송해\"> <a href=\"?where=nexearch&sm=tab_lvf.agallgrpmamsi0en0sp0&ie=utf8&query=%EC%86%A1%ED%95%B4\" class=\"keyword\" onclick=\"return goOtherCR(this, 'a=fkc_rkl.list&r=14&i=&u='+urlencode(urlexpand(this.href)));\"> <em class=\"num\">14</em> <span class=\"tit _text\">송해</span> </a> </span> </li> <li > <span class=\"bx bx_item _link\" title=\"신과 나: 100일간의 거래 결말\"> <a href=\"?where=nexearch&sm=tab_lvf.agallgrpmamsi0en0sp0&ie=utf8&query=%EC%8B%A0%EA%B3%BC+%EB%82%98%3A+100%EC%9D%BC%EA%B0%84%EC%9D%98+%EA%B1%B0%EB%9E%98+%EA%B2%B0%EB%A7%90\" class=\"keyword\" onclick=\"return goOtherCR(this, 'a=fkc_rkl.list&r=15&i=&u='+urlencode(urlexpand(this.href)));\"> <em class=\"num\">15</em> <span class=\"tit _text\">신과 나: 100일간의 거래 결말</span> </a> </span> </li> <li > <span class=\"bx bx_item _link\" title=\"잔나비\"> <a href=\"?where=nexearch&sm=tab_lvf.agallgrpmamsi0en0sp0&ie=utf8&query=%EC%9E%94%EB%82%98%EB%B9%84\" class=\"keyword\" onclick=\"return goOtherCR(this, 'a=fkc_rkl.list&r=16&i=&u='+urlencode(urlexpand(this.href)));\"> <em class=\"num\">16</em> <span class=\"tit _text\">잔나비</span> </a> </span> </li> <li > <span class=\"bx bx_item _link\" title=\"돈\"> <a href=\"?where=nexearch&sm=tab_lvf.agallgrpmamsi0en0sp0&ie=utf8&query=%EB%8F%88\" class=\"keyword\" onclick=\"return goOtherCR(this, 'a=fkc_rkl.list&r=17&i=&u='+urlencode(urlexpand(this.href)));\"> <em class=\"num\">17</em> <span class=\"tit _text\">돈</span> </a> </span> </li> <li > <span class=\"bx bx_item _link\" title=\"소냐 헤니\"> <a href=\"?where=nexearch&sm=tab_lvf.agallgrpmamsi0en0sp0&ie=utf8&query=%EC%86%8C%EB%83%90+%ED%97%A4%EB%8B%88\" class=\"keyword\" onclick=\"return goOtherCR(this, 'a=fkc_rkl.list&r=18&i=&u='+urlencode(urlexpand(this.href)));\"> <em class=\"num\">18</em> <span class=\"tit _text\">소냐 헤니</span> </a> </span> </li> <li > <span class=\"bx bx_item _link\" title=\"전국노래자랑\"> <a href=\"?where=nexearch&sm=tab_lvf.agallgrpmamsi0en0sp0&ie=utf8&query=%EC%A0%84%EA%B5%AD%EB%85%B8%EB%9E%98%EC%9E%90%EB%9E%91\" class=\"keyword\" onclick=\"return goOtherCR(this, 'a=fkc_rkl.list&r=19&i=&u='+urlencode(urlexpand(this.href)));\"> <em class=\"num\">19</em> <span class=\"tit _text\">전국노래자랑</span> </a> </span> </li> <li > <span class=\"bx bx_item _link\" title=\"더 시그널\"> <a href=\"?where=nexearch&sm=tab_lvf.agallgrpmamsi0en0sp0&ie=utf8&query=%EB%8D%94+%EC%8B%9C%EA%B7%B8%EB%84%90\" class=\"keyword\" onclick=\"return goOtherCR(this, 'a=fkc_rkl.list&r=20&i=&u='+urlencode(urlexpand(this.href)));\"> <em class=\"num\">20</em> <span class=\"tit _text\">더 시그널</span> </a> </span> </li> </ol> </div> <div class=\"realtime_srch_area\"> <p class=\"dsc\"> <time>2020.03.29. 13:39</time> 기준 <a href=\"https://help.naver.com/support/alias/search/word/word_5.naver\" target=\"_blank\" class=\"link_rts_help\" onclick=\"return goOtherCR(this, 'a=fkc_rkl.guide&r=&i=&u='+urlencode(this.href))\"><i class=\"sprenew api_ico_help2\">도움말</i></a> <span class=\"age_info_area\"> <span class=\"age_info\">전체연령</span> <span class=\"age_info\"> <a href=\"https://www.naver.com/?rtkview=1\" class=\"setting_link\" onclick=\"return goOtherCR(this, 'a=fkc_rkl.main&r=&i=&u='+urlencode(this.href))\">설정<i class=\"spim ico_arr\"></i></a> </span> </span> </p> <a href=\"https://datalab.naver.com/keyword/realtimeList.naver?where=search\" class=\"link_history\" target=\"_blank\" onclick=\"return goOtherCR(this, 'a=fkc_rkl.trmore&r=&i=&u='+urlencode(this.href));\"><i class=\"spim ico_datalab\">DataLab</i><i class=\"spim ico_arr\"></i></a> </div> </div> <div class=\"tab_area _tab_area\" style=\"display: none;\"> <h3 class=\"blind\">뉴스토픽</h3> <div class=\"hotkwd\"> <ul class=\"api_realtime_tab _news_tab\"> <li class=\"selected\" data-index=\"0\" data-blind-text=\"뉴스토픽 뉴스\"><a href=\"#\" onclick=\"return tCR('fkc_htk.nws', 1, '');\">뉴스</a></li> <li data-index=\"1\" data-blind-text=\"뉴스토픽 연예·스포츠\"><a href=\"#\" onclick=\"return tCR('fkc_htk.ents', 1, '');\">연예·스포츠</a></li> </ul> </div> <h6 class=\"blind _blind_news\">뉴스토픽 뉴스</h6> <ol class=\"lst_realtime_srch _news_tab_area\"> <li > <a href=\"?where=nexearch&sm=tab_htf.nws&ie=utf8&query=%EC%B4%9D+9583%EB%AA%85\" class=\"bx bx_item\" onclick=\"return goOtherCR(this, 'a=fkc_htk.nwslist&r=20&i=&u='+urlencode(urlexpand(this.href)));\"> <span class=\"keyword\"> <em class=\"num\">1</em> <span class=\"tit _text\">총 9583명</span> </span> <em class=\"rank new\"><span class=\"spim\"></span><span>NEW</span></em> </a> </li> <li > <a href=\"?where=nexearch&sm=tab_htf.nws&ie=utf8&query=%ED%99%95%EC%A7%84%EC%9E%90+%EB%B0%9C%EC%83%9D\" class=\"bx bx_item\" onclick=\"return goOtherCR(this, 'a=fkc_htk.nwslist&r=20&i=&u='+urlencode(urlexpand(this.href)));\"> <span class=\"keyword\"> <em class=\"num\">2</em> <span class=\"tit _text\">확진자 발생</span> </span> <em class=\"rank new\"><span class=\"spim\"></span><span>NEW</span></em> </a> </li> <li > <a href=\"?where=nexearch&sm=tab_htf.nws&ie=utf8&query=%EC%BD%94%EB%A1%9C%EB%82%9819+%ED%99%95%EC%82%B0\" class=\"bx bx_item\" onclick=\"return goOtherCR(this, 'a=fkc_htk.nwslist&r=20&i=&u='+urlencode(urlexpand(this.href)));\"> <span class=\"keyword\"> <em class=\"num\">3</em> <span class=\"tit _text\">코로나19 확산</span> </span> <em class=\"rank new\"><span class=\"spim\"></span><span>NEW</span></em> </a> </li> <li > <a href=\"?where=nexearch&sm=tab_htf.nws&ie=utf8&query=%EC%A1%B0%EC%9B%90%ED%83%9C+%ED%9A%8C%EC%9E%A5\" class=\"bx bx_item\" onclick=\"return goOtherCR(this, 'a=fkc_htk.nwslist&r=20&i=&u='+urlencode(urlexpand(this.href)));\"> <span class=\"keyword\"> <em class=\"num\">4</em> <span class=\"tit _text\">조원태 회장</span> </span> <em class=\"rank new\"><span class=\"spim\"></span><span>NEW</span></em> </a> </li> <li > <a href=\"?where=nexearch&sm=tab_htf.nws&ie=utf8&query=%EC%BD%94%EB%A1%9C%EB%82%9819+%ED%99%95%EC%A7%84%EC%9E%90\" class=\"bx\" onclick=\"return goOtherCR(this, 'a=fkc_htk.nwslist&r=20&i=&u='+urlencode(urlexpand(this.href)));\"> <span class=\"keyword\"> <em class=\"num\">5</em> <span class=\"tit _text\">코로나19 확진자</span> </span> </a> </li> <li > <a href=\"?where=nexearch&sm=tab_htf.nws&ie=utf8&query=%EC%BD%94%EB%A1%9C%EB%82%98+%EC%9C%84%EA%B8%B0\" class=\"bx\" onclick=\"return goOtherCR(this, 'a=fkc_htk.nwslist&r=20&i=&u='+urlencode(urlexpand(this.href)));\"> <span class=\"keyword\"> <em class=\"num\">6</em> <span class=\"tit _text\">코로나 위기</span> </span> </a> </li> <li > <a href=\"?where=nexearch&sm=tab_htf.nws&ie=utf8&query=%EC%BD%94%EB%A1%9C%EB%82%9819%EB%A1%9C+%EC%82%AC%EB%A7%9D\" class=\"bx bx_item\" onclick=\"return goOtherCR(this, 'a=fkc_htk.nwslist&r=20&i=&u='+urlencode(urlexpand(this.href)));\"> <span class=\"keyword\"> <em class=\"num\">7</em> <span class=\"tit _text\">코로나19로 사망</span> </span> <em class=\"rank new\"><span class=\"spim\"></span><span>NEW</span></em> </a> </li> <li > <a href=\"?where=nexearch&sm=tab_htf.nws&ie=utf8&query=%EC%8B%A0%EC%B2%9C%EC%A7%80+%EB%8C%80%EA%B5%AC%EA%B5%90%ED%9A%8C\" class=\"bx bx_item\" onclick=\"return goOtherCR(this, 'a=fkc_htk.nwslist&r=20&i=&u='+urlencode(urlexpand(this.href)));\"> <span class=\"keyword\"> <em class=\"num\">8</em> <span class=\"tit _text\">신천지 대구교회</span> </span> <em class=\"rank new\"><span class=\"spim\"></span><span>NEW</span></em> </a> </li> <li > <a href=\"?where=nexearch&sm=tab_htf.nws&ie=utf8&query=%ED%8A%B8%EB%9F%BC%ED%94%84+%EB%89%B4%EC%9A%95+%EB%93%B1+%EA%B0%95%EC%A0%9C%EA%B2%A9%EB%A6%AC+%EA%B2%80%ED%86%A0\" class=\"bx bx_item\" onclick=\"return goOtherCR(this, 'a=fkc_htk.nwslist&r=20&i=&u='+urlencode(urlexpand(this.href)));\"> <span class=\"keyword\"> <em class=\"num\">9</em> <span class=\"tit _text\">트럼프 뉴욕 등 강제격리 검토</span> </span> <em class=\"rank new\"><span class=\"spim\"></span><span>NEW</span></em> </a> </li> <li > <a href=\"?where=nexearch&sm=tab_htf.nws&ie=utf8&query=%EB%8F%99%EC%84%A0+%EA%B3%B5%EA%B0%9C\" class=\"bx bx_item\" onclick=\"return goOtherCR(this, 'a=fkc_htk.nwslist&r=20&i=&u='+urlencode(urlexpand(this.href)));\"> <span class=\"keyword\"> <em class=\"num\">10</em> <span class=\"tit _text\">동선 공개</span> </span> <em class=\"rank new\"><span class=\"spim\"></span><span>NEW</span></em> </a> </li> </ol> <ol class=\"lst_realtime_srch _news_tab_area\" style=\"display:none;\"> <li > <a href=\"?where=nexearch&sm=tab_htf.ent&ie=utf8&query=%EB%A7%88%EC%8A%A4%ED%81%AC+%EC%A0%9C%EC%9E%91\" class=\"bx bx_item\" onclick=\"return goOtherCR(this, 'a=fkc_htk.entslist&r=20&i=&u='+urlencode(urlexpand(this.href)));\"> <span class=\"keyword\"> <em class=\"num\">1</em> <span class=\"tit _text\">마스크 제작</span> </span> <em class=\"rank new\"><span class=\"spim\"></span><span>NEW</span></em> </a> </li> <li > <a href=\"?where=nexearch&sm=tab_htf.ent&ie=utf8&query=%EB%B0%A5%EB%B8%94%EB%A0%88%EC%8A%A4%EC%9C%A02+PD\" class=\"bx\" onclick=\"return goOtherCR(this, 'a=fkc_htk.entslist&r=20&i=&u='+urlencode(urlexpand(this.href)));\"> <span class=\"keyword\"> <em class=\"num\">2</em> <span class=\"tit _text\">밥블레스유2 PD</span> </span> </a> </li> <li > <a href=\"?where=nexearch&sm=tab_htf.ent&ie=utf8&query=77%EC%96%B5%EC%9D%98+%EC%82%AC%EB%9E%91+%EA%B9%80%EB%B3%B4%EC%84%B1\" class=\"bx bx_item\" onclick=\"return goOtherCR(this, 'a=fkc_htk.entslist&r=20&i=&u='+urlencode(urlexpand(this.href)));\"> <span class=\"keyword\"> <em class=\"num\">3</em> <span class=\"tit _text\">77억의 사랑 김보성</span> </span> <em class=\"rank new\"><span class=\"spim\"></span><span>NEW</span></em> </a> </li> <li > <a href=\"?where=nexearch&sm=tab_htf.ent&ie=utf8&query=%EB%A3%A8%EA%B0%88+%EB%B0%95%EC%84%B1%EC%9B%85\" class=\"bx bx_item\" onclick=\"return goOtherCR(this, 'a=fkc_htk.entslist&r=20&i=&u='+urlencode(urlexpand(this.href)));\"> <span class=\"keyword\"> <em class=\"num\">4</em> <span class=\"tit _text\">루갈 박성웅</span> </span> <em class=\"rank new\"><span class=\"spim\"></span><span>NEW</span></em> </a> </li> <li > <a href=\"?where=nexearch&sm=tab_htf.ent&ie=utf8&query=%EC%A0%84%EC%B0%B8%EC%8B%9C+%EC%A1%B0%EB%AA%85%EC%84%AD\" class=\"bx\" onclick=\"return goOtherCR(this, 'a=fkc_htk.entslist&r=20&i=&u='+urlencode(urlexpand(this.href)));\"> <span class=\"keyword\"> <em class=\"num\">5</em> <span class=\"tit _text\">전참시 조명섭</span> </span> </a> </li> <li > <a href=\"?where=nexearch&sm=tab_htf.ent&ie=utf8&query=%EB%B6%80%EB%9F%BD%EC%A7%80+%EC%9D%B4%EC%9B%90%EC%9D%BC%E2%99%A5%EA%B9%80%EC%9C%A0%EC%A7%84+PD\" class=\"bx bx_item\" onclick=\"return goOtherCR(this, 'a=fkc_htk.entslist&r=20&i=&u='+urlencode(urlexpand(this.href)));\"> <span class=\"keyword\"> <em class=\"num\">6</em> <span class=\"tit _text\">부럽지 이원일♥김유진 PD</span> </span> <em class=\"rank new\"><span class=\"spim\"></span><span>NEW</span></em> </a> </li> <li > <a href=\"?where=nexearch&sm=tab_htf.ent&ie=utf8&query=%EB%8D%94+%EB%A1%9C%EB%A7%A8%EC%8A%A4+%EC%9C%A0%EC%9D%B8%EC%98%81\" class=\"bx bx_item\" onclick=\"return goOtherCR(this, 'a=fkc_htk.entslist&r=20&i=&u='+urlencode(urlexpand(this.href)));\"> <span class=\"keyword\"> <em class=\"num\">7</em> <span class=\"tit _text\">더 로맨스 유인영</span> </span> <em class=\"rank new\"><span class=\"spim\"></span><span>NEW</span></em> </a> </li> <li > <a href=\"?where=nexearch&sm=tab_htf.ent&ie=utf8&query=%EC%9E%90%EC%97%B0%EC%8A%A4%EB%9F%BD%EA%B2%8C+%EA%B9%80%EC%9A%94%ED%95%9C\" class=\"bx\" onclick=\"return goOtherCR(this, 'a=fkc_htk.entslist&r=20&i=&u='+urlencode(urlexpand(this.href)));\"> <span class=\"keyword\"> <em class=\"num\">8</em> <span class=\"tit _text\">자연스럽게 김요한</span> </span> </a> </li> <li > <a href=\"?where=nexearch&sm=tab_htf.ent&ie=utf8&query=%EB%B6%88%ED%9B%84+%ED%8D%BC%ED%94%8C%EB%A0%88%EC%9D%B8\" class=\"bx bx_item\" onclick=\"return goOtherCR(this, 'a=fkc_htk.entslist&r=20&i=&u='+urlencode(urlexpand(this.href)));\"> <span class=\"keyword\"> <em class=\"num\">9</em> <span class=\"tit _text\">불후 퍼플레인</span> </span> <em class=\"rank new\"><span class=\"spim\"></span><span>NEW</span></em> </a> </li> <li > <a href=\"?where=nexearch&sm=tab_htf.ent&ie=utf8&query=%EC%B2%AB+%EC%B6%9C%EC%97%B0%EC%97%90+%EC%9A%B0%EC%8A%B9%EA%B9%8C%EC%A7%80\" class=\"bx bx_item\" onclick=\"return goOtherCR(this, 'a=fkc_htk.entslist&r=20&i=&u='+urlencode(urlexpand(this.href)));\"> <span class=\"keyword\"> <em class=\"num\">10</em> <span class=\"tit _text\">첫 출연에 우승까지</span> </span> <em class=\"rank new\"><span class=\"spim\"></span><span>NEW</span></em> </a> </li> </ol> <div class=\"realtime_srch_area\"> <p class=\"dsc\"><time>2020.03.29. 08:30 ~ 11:30</time> 기준 <a href=\"https://help.naver.com/support/alias/search/word/word_3.naver\" target=\"_blank\" class=\"link_rts_help\" onclick=\"return goOtherCR(this, 'a=fkc_htk.guide&r=&i=&u='+urlencode(this.href))\"><i class=\"sprenew api_ico_help2\">도움말</i></a></p> </div> </div> <iframe frameborder=\"0\" title=\"빈프레임\" style=\"display:block;position:absolute;top:0;left:0;z-index:-1;width:100%;height:100%\"></iframe> </div> </div> <script type=\"text/javascript\"> (function() { /* 추후에 실경로 받아야함 */ var sJavascriptFile = \"https://ssl.pstatic.net/sstatic/au/pc/realtime_keyword/nhn.FooterRealtimeKeyword_200115.js\"; var fnCallback = function() { new nhn.FooterRealtimeKeyword(jQuery(\"#_nx_footer_realtime\"), { \"selectors\": { \"rolling\": \"._roling_realtime\", \"error\": \"._roling_error\", \"layer\": \"._tab_chart\" }, \"tabSelectors\": { \"tab\": \"._tab li\", \"content\": \"._tab_area\", \"realtime\": { \"tab\": \"._realtime_tab li\", \"content\": \"._realtime_tab_area\", \"blind\": \"._blind_realtime\" }, \"news\": { \"tab\": \"._news_tab li\", \"content\": \"._news_tab_area\", \"blind\": \"._blind_news\" } } }); }; nhn.common.load_js(sJavascriptFile, fnCallback, true, 150); }) (); </script> <form id=\"nx_search_form_btm\" name=\"searchu\" method=\"get\" action=\"?\" onsubmit=\"return nx_form_submit(this);\"> <fieldset class=\"greenwindow\"> <legend>검색</legend> <div class=\"greenbox\"> <span class=\"keyword\"> <input type=\"hidden\" name=\"sm\" value=\"tab_hty.btm\"> <input type=\"hidden\" name=\"where\" value=\"nexearch\"> <input type=\"text\" title=\"검색어 입력\" name=\"query\" id=\"nx_query_btm\" maxlength='255' class=\"box_window\" autocomplete=\"off\" value=\"환율\"> <input type=\"hidden\" name=\"oquery\" value=\"환율\"> <input type=\"hidden\" name=\"tqi\" value=\"UosECsp0Jy0ssg1Yn2hssssstPR-250994\"> <input type=\"hidden\" value=\"\" name=\"acq\" disabled> <input type=\"hidden\" value=\"\" name=\"acr\" disabled> <input type=\"hidden\" value=\"\" name=\"qdt\" disabled> <input type=\"hidden\" value=\"\" name=\"acir\" disabled> <input type=\"hidden\" value=\"\" name=\"os\" disabled> <input type=\"hidden\" value=\"\" name=\"bid\" disabled> <input type=\"hidden\" value=\"\" name=\"pkid\" disabled> <input type=\"hidden\" value=\"\" name=\"eid\" disabled> <input type=\"hidden\" value=\"\" name=\"mra\" disabled>    </span> </div> <div id=\"nautocomplete_btm\" class=\"autocomplete\"> <a href=\"#\" class=\"bt_atcp _btn_arw fold\" onclick=\"return false;\"><span class=\"blind _text\">자동완성 펼치기</span><span class=\"ico_arrow spnew\"></span></a> </div> <button type=\"submit\" class=\"bt_search\" onmouseover=\"$Element(this).addClass('over');\" onmouseout=\"$Element(this).removeClass('over down');\" onmousedown=\"$Element(this).removeClass('over');$Element(this).addClass('down');\"><span class=\"spnew ico_search\">검색</span></button> <div class=\"ly_atcmp ly_atcmp_v1\" id=\"nx_autoframe_btm\" style=\"display:none;\"> <iframe frameborder=\"0\" title=\"빈프레임\" style=\"display:none;display:block\\9;display:block\\0/;position:absolute;top:-1px;left:-1px;z-index:-1;width:100%;height:100%;padding:1px;filter:alpha(opacity=0);opacity:0\"></iframe> <div class=\"api_atcmp_wrap api_atcmp_wrap_v1 _atcmp\" style=\"display:none;\"> <p class=\"func _atcmpBtnGroup\"><span class=\"fl\"><a class=\"_help\" onclick=\"__atcmpCR(event, this, 'help', '','','');\" href=\"https://help.naver.com/support/alias/search/word/word_17.naver\" target=\"_blank\">도움말</a><span class=\"atcmp_bar\"></span><a onclick=\"__atcmpCR(event, this, 'report', '','','');\" href=\"https://help.naver.com/support/alias/search/word/word_18.naver\" target=\"_blank\" class=\"report\">신고</a></span><span><em><a class=\"hisoff\" href=\"javascript:;\">검색어저장 켜기</a><span class=\"atcmp_bar\"></span></em><a class=\"funoff\" href=\"javascript:;\">자동완성 끄기</a></span></p> <div class=\"atcmp_plus _plus\"> <span class=\"desc\"> <span class=\"plus_txt\">시간대와 관심사에 맞춘 <em class='txt'>컨텍스트 자동완성</em></span> <a onclick=\"__atcmpCR(event, this, 'plus.help', '','','');\" href=\"https://help.naver.com/support/alias/search/word/word_16.naver\" target=\"_blank\" class=\"spat ico_info\"><span class=\"blind\">도움말 보기</span></a> </span> <span class=\"switch _plus_btn\"> <a href=\"#\" class=\"btn_turnon active\" onclick=\"__atcmpCR(event, this, 'plus.use', '','','');\">ON<span class=\"blind\">선택됨</span></a> <a href=\"#\" class=\"btn_turnoff\" onclick=\"__atcmpCR(event, this, 'plus.unuse', '','','');\">OFF</a> </span> <div class=\"layer_plus _plusAlert\"> <strong class=\"tit\">컨텍스트 자동완성</strong> <div class=\"_logout\" style=\"display:block;\"> <p class=\"dsc\"><em class=\"txt\">동일한 시간대/연령/남녀별</em> 사용자 그룹의<br>관심사에 맞춰 자동완성을 제공합니다.</p> <div class=\"btn_area\"> <a onclick=\"__atcmpCR(event, this, 'plus.login', '','','');\" href=\"https://nid.naver.com/nidlogin.login?url=https%3A%2F%2Fsearch.naver.com%2Fsearch.naver%3Fsm%3Dtop_hty%26fbm%3D0%26ie%3Dutf8%26query%3D%25ED%2599%2598%25EC%259C%25A8\" class=\"btn btn_login\">로그인</a> <a onclick=\"__atcmpCR(event, this, 'plus.detail', '','','');\" href=\"https://help.naver.com/support/alias/search/word/word_16.naver\" target=\"_blank\" class=\"btn btn_view\">자세히</a> </div> </div> <div class=\"_login\" style=\"display:none;\"> <p class=\"dsc\">ON/OFF설정은<br>해당 기기(브라우저)에 저장됩니다.</p> <div class=\"btn_area\"> <a onclick=\"__atcmpCR(event, this, 'plus.detail', '','','');\" href=\"https://help.naver.com/support/alias/search/word/word_21.naver\" target=\"_blank\" class=\"btn btn_view\">자세히</a> </div> </div> <button type=\"button\" class=\"btn_close _close\" onclick=\"__atcmpCR(event, this, 'plus.close', '','','');\"><i class=\"spat ico_close\">컨텍스트 자동완성 레이어 닫기</i></button> </div> </div> <div class=\"words _words\"> <div class=\"_atcmp_result_wrap\"> <ul class=\"_resultBox\"></ul> <ul class=\"_resultBox\"></ul> <ul class=\"_resultBox\"></ul> <ul class=\"_resultBox\"></ul> </div> <div class=\"add_group _atcmp_answer_wrap\"></div> </div> <span class=\"atcmp_helper _help_tooltip1\">기능을 다시 켤 때는 <em class=\"ico_search spat\">검색창 오른쪽 화살표 버튼</em>을 클릭하세요</span> </div> <div class=\"api_atcmp_wrap api_atcmp_wrap_v1 _atcmpIng\" style=\"display:none;\"> <p class=\"func _atcmpBtnGroup\"><span class=\"fl\"><a class=\"_help\" onclick=\"__atcmpCR(event, this, 'help', '','','');\" href=\"https://help.naver.com/support/alias/search/word/word_17.naver\" target=\"_blank\">도움말</a><span class=\"atcmp_bar\"></span><a onclick=\"__atcmpCR(event, this, 'report', '','','');\" href=\"https://help.naver.com/support/alias/search/word/word_18.naver\" target=\"_blank\" class=\"report\">신고</a></span><span><em><a class=\"hisoff\" href=\"javascript:;\">검색어저장 켜기</a><span class=\"atcmp_bar\"></span></em><a class=\"funoff\" href=\"javascript:;\">자동완성 끄기</a></span></p> <div class=\"words\"><p class=\"info_words\">현재 자동완성 기능을 사용하고 계십니다.</p></div> <span class=\"atcmp_helper _help_tooltip2\">기능을 다시 켤 때는 <em class=\"ico_search spat\">검색창 오른쪽 화살표 버튼</em>을 클릭하세요</span> </div> <div class=\"api_atcmp_wrap api_atcmp_wrap_v1 _atcmpStart\" style=\"display:none;\"> <p class=\"func _atcmpBtnGroup\"><span class=\"fl\"><a class=\"_help\" onclick=\"__atcmpCR(event, this, 'help', '','','');\" href=\"https://help.naver.com/support/alias/search/word/word_17.naver\" target=\"_blank\">도움말</a><span class=\"atcmp_bar\"></span><a onclick=\"__atcmpCR(event, this, 'report', '','','');\" href=\"https://help.naver.com/support/alias/search/word/word_18.naver\" target=\"_blank\" class=\"report\">신고</a></span><span><em><a class=\"hisoff\" href=\"javascript:;\">검색어저장 켜기</a><span class=\"atcmp_bar\"></span></em><a class=\"funoff\" href=\"javascript:;\">자동완성 끄기</a></span></p> <div class=\"words\"><p class=\"info_words\">자동완성 기능이 활성화되었습니다.</p></div> <span class=\"atcmp_helper _help_tooltip3\">기능을 다시 켤 때는 <em class=\"ico_search spat\">검색창 오른쪽 화살표 버튼</em>을 클릭하세요</span> </div> <div class=\"api_atcmp_wrap api_atcmp_wrap_v1 _atcmpOff\" style=\"display:none;\"> <p class=\"func _atcmpBtnGroup\"><span class=\"fl\"><a class=\"_help\" onclick=\"__atcmpCR(event, this, 'help', '','','');\" href=\"https://help.naver.com/support/alias/search/word/word_17.naver\" target=\"_blank\">도움말</a><span class=\"atcmp_bar\"></span><a onclick=\"__atcmpCR(event, this, 'report', '','','');\" href=\"https://help.naver.com/support/alias/search/word/word_18.naver\" target=\"_blank\" class=\"report\">신고</a></span><span><em><a class=\"hisoff\" href=\"javascript:;\">검색어저장 켜기</a><span class=\"atcmp_bar\"></span></em><a class=\"funoff\" href=\"javascript:;\">자동완성 켜기</a></span></p> <div class=\"words\"><p class=\"info_words\">자동완성 기능이 꺼져 있습니다.</p></div> </div> <div class=\"api_atcmp_wrap api_atcmp_wrap_v1 _keywords\" id=\"keyword\" style=\"display:none;\"> <div class=\"my_words\"> <p class=\"func _recentBtnGroup\"><span class=\"fl\"><a class=\"_delMode\" href=\"javascript:;\">기록 삭제</a></span><span><a class=\"_keywordOff\" href=\"javascript:;\">검색어저장 끄기</a><span class=\"atcmp_bar\"></span><a class=\"_acOff\" href=\"javascript:;\">자동완성 끄기</a></span></p> <p class=\"func _recentDelBtnGroup\" style=\"display:none\"><span class=\"fl\"><a class=\"_delAll\" href=\"javascript:;\" title=\"최근 검색어 기록을 모두 삭제합니다.\">기록 전체 삭제</a></span><span><a class=\"_delDone\" href=\"javascript:;\">완료</a></span></p> <p class=\"func _myBtnGroup\" style=\"display:none\"><span class=\"fl\"><a class=\"_delAll\" href=\"javascript:;\" title=\"설정된 내 검색어를 모두 삭제합니다.\">기록 전체 삭제</a></span><span><a class=\"_keywordOff\" href=\"javascript:;\">검색어저장 끄기</a><span class=\"atcmp_bar\"></span><a class=\"_acOff\" href=\"javascript:;\">자동완성 끄기</a></span></p> <span class=\"atcmp_helper _help2\">기능을 다시 켤 때는 <em class=\"ico_search spat\">검색창 오른쪽 화살표 버튼</em>을 클릭하세요</span> <p class=\"noti _noti\" style=\"display:none\"><em class=\"ico_noti spat\"><span class=\"blind\">알림</span></em>공용 PC에서는 개인정보 보호를 위하여 반드시 로그아웃을 해 주세요.</p> <div class=\"words _recent\"> <ul><li data-rank=\"@rank@\"><a class=\"t@my@ _star _myBtn\" title=\"내 검색어 등록\" href=\"javascript:;\"><em class=\"spat\">내 검색어 등록</em></a><a href=\"javascript:;\" class=\"keyword\">@txt@</a><em class=\"keyword_date\">@date@.</em><a href=\"javascript:;\" class=\"btn_delete spat _del\" title=\"검색어삭제\">삭제</a><span style=\"display:none\">@in_txt@</span></li></ul> <div class=\"info_words _recentNone\" style=\"display:none\">최근검색어 내역이 없습니다.</div> <p class=\"info_words _offMsg\" style=\"display:none\">검색어 저장 기능이 꺼져 있습니다.</p> </div> <div class=\"words _my\" style=\"display:none\"> <ul><li data-rank=\"@rank@\"><a class=\"ton _star _myBtn\" title=\"내 검색어 해제\" href=\"javascript:;\"><em class=\"spat\">내 검색어 해제</em></a><a href=\"javascript:;\" class=\"keyword\">@txt@</a></li></ul> <div class=\"info_words _myNone\" style=\"display:none\">설정된 내 검색어가 없습니다.<br>최근검색어에서 <span class=\"star spat\">내 검색어 등록</span>를 선택하여 자주 찾는 검색어를<br />내 검색어로 저장해 보세요.</div> <p class=\"info_words _offMsg\" style=\"display:none\">검색어 저장 기능이 꺼져 있습니다.</p> </div> <div class=\"lst_tab\"> <ul> <li class=\"on _recentTab\"><a href=\"javascript:;\">최근검색어</a></li> <li class=\"_myTab\"><a href=\"javascript:;\">내 검색어</a></li> </ul> </div> <div class=\"ly_noti _maxLayer\" style=\"display:none\"> <span class=\"mask\"></span> <p><span class=\"ico_alert spat\"></span>내 검색어는 <em>최대 10</em>개 까지 저장할 수 있습니다.<br />추가하시려면 기존 내 검색어를 지워주세요. <a href=\"javascript:;\" class=\"btn_close _close\"><i class=\"spat ico_close\">닫기</i></a></p> </div> </div> </div> <div class=\"api_atcmp_wrap _alert\" style=\"display:none;\"> <div class=\"api_atcmp_alert\"> <p class=\"dsc_txt\"> <span class=\"ico_alert spat\"></span><span class=\"_passage\"></span> <span class=\"term\"><span class=\"_term\"></span><a href=\"#\" class=\"link _link\" target=\"_blank\" nocr onclick=\"return goOtherCR(this,'a=sug.vote&r=&i=&u='+urlencode(this.href));\">자세히보기</a></span> </p> </div> </div> </div> </fieldset> </form> </div> <ul class=\"lst_foot\"> <li class=\"first\"><a href=\"https://help.naver.com/support/alias/search/footer/policy.naver\" target=\"_blank\" onclick=\"return goOtherCR(this, 'a=fot.web&amp;r=&amp;i=&amp;u='+urlencode(this.href));\">웹문서 수집 및 삭제 정책</a><span class=\"bar\"></span></li> <li><a href=\"https://smartplace.naver.com/\" target=\"_blank\" onclick=\"return goOtherCR(this, 'a=fot.submit&amp;r=&amp;i=&amp;u='+urlencode(this.href));\">플레이스업체 등록</a><span class=\"bar\"></span></li> <li><a href=\"https://searchad.naver.com/\" target=\"_blank\" onclick=\"return goOtherCR(this, 'a=fot.searchad&amp;r=&amp;i=&amp;u='+urlencode(this.href));\">검색광고 안내</a><span class=\"bar\"></span></li>  <li><a href=\"https://help.naver.com/support/alias/search/integration/integration_1.naver\" target=\"_blank\" onclick=\"return goOtherCR(this, 'u='+urlencode(this.href)+'&amp;a=fot.help&amp;r=&amp;i=');\">통합검색 고객센터</a><span class=\"bar\"></span></li> <li><a href=\"https://help.naver.com/support/alias/report/unsound.naver\" target=\"_blank\" onclick=\"return goOtherCR(this, 'u='+urlencode(this.href)+'&amp;a=fot.inform&amp;r=&amp;i=');\">유해게시물신고</a><span class=\"bar\"></span></li> </ul> <address><em>©</em> <a href=\"https://www.navercorp.com/\" target=\"_blank\" onclick=\"return goOtherCR(this, 'u='+urlencode(this.href)+'&amp;a=fot.nhn&amp;r=&amp;i=');\">NAVER Corp.</a></address>  </div>  </div> <div id=\"bck_layer_map\" class=\"layer_map\" style=\"left:440px; top:284px; display:none\"> <div class=\"layer_bd\"> <iframe title=\"약도 보기\" name=\"map\" frameborder=\"0\" width=\"440\" height=\"373\" marginwidth=\"0\" marginheight=\"0\" scrolling=\"no\"></iframe> </div> <!--[if IE 6]><iframe title=\"약도 보기\" frameborder=\"0\" width=\"444\" height=\"377\" style=\"position:absolute; left:0; top:0; z-index:10\"></iframe><![endif]--> </div> <script type=\"text/template\" id=\"_atcmp_answer_0\"> <div class=\"add_opt _item\" data-sm=\"@2@\" data-keyword=\"@1@\" data-template_id=\"@0@\" data-acir=\"@rank@\" data-os=\"@8@\" data-bid=\"@9@\" data-eid=\"@3@\" data-pkid=\"@10@\" data-mra=\"@11@\" > <a href=\"#\" class=\"opt_dsc\"> <span class=\"dsc_thmb\" style=\"@style7@\">@image7@</span> <span class=\"dsc_group\"> <span class=\"dsc_cate\">@6@</span> <strong class=\"dsc_word\">@1@</strong> <span class=\"dsc_sub\" style=\"@style12@\">@12@</span> </span> </a> </div> </script> <script type=\"text/template\" id=\"_atcmp_answer_3\"> <div class=\"add_opt _item\" data-sm=\"@2@\" data-keyword=\"@1@\" data-template_id=\"@0@\" data-acir=\"@rank@\"> <a href=\"javascript:;\" class=\"opt_lotto\"> <span class=\"lotto_num_area\"> <span class=\"spat lotto_num lotto_num@6@\">@6@</span><span class=\"spat lotto_num lotto_num@7@\">@7@</span><span class=\"spat lotto_num lotto_num@8@\">@8@</span><span class=\"spat lotto_num lotto_num@9@\">@9@</span><span class=\"spat lotto_num lotto_num@10@\">@10@</span><span class=\"spat lotto_num lotto_num@11@\">@11@</span><span class=\"spat lotto_bonus\">+</span><span class=\"spat lotto_num lotto_num@12@\">@12@</span> </span> <span class=\"lotto_sub\">@5@회차<em class=\"lotto_date\">(@13@.)</em></span> </a> </div> </script> <script type=\"text/template\" id=\"_atcmp_answer_9\"> <div class=\"add_opt _item\" data-sm=\"@2@\" data-keyword=\"@1@\" data-template_id=\"@0@\" data-acir=\"@rank@\"> <a href=\"javascript:;\" class=\"opt_exchange opt_exchange_@11@\"> <span class=\"opt_nation\"> <img src=\"https://ssl.pstatic.net/sstatic/keypage/lifesrch/exchange/ico_@12@1.gif\" alt=\"\" /> @14@ <span class=\"tx_nation\">@money@</span> </span> <span class=\"opt_amount\"> <span class=\"amount\"><strong>@6@</strong>원</span><span class=\"changes\"><i class=\"bullet\">@10@</i> @8@ (@9@%)<span class=\"opt_time\"><time datetime=\"@fulldate@\">@7@</time></span></span> </span> </a> </div> </script> <script type=\"text/template\" id=\"_atcmp_answer_10\"> <div class=\"add_opt _item\" data-sm=\"@2@\" data-keyword=\"@1@\" data-template_id=\"@0@\" data-acir=\"@rank@\"> <a href=\"javascript:;\" class=\"opt_weather\"> <span class=\"opt_weather_thmb\"> <img src=\"https://ssl.pstatic.net/sstatic/search/pc/img/wt_@6@.png\" width=\"56\" height=\"56\" alt=\"@7@\"> </span> <span class=\"opt_weather_group\"> <span class=\"opt_weather_state\">@7@</span> <span class=\"opt_weather_state\">기온 <em class=\"opt_deg\">@8@</em><span class=\"opt_unit\">℃</span></span> <span class=\"opt_weather_state\">@9@ <em>@10@</em><span class=\"opt_unit\">@11@</span></span> <span class=\"opt_weather_state\"><span class=\"opt_time\"><time datetime=\"@fulldate@\">@5@</time></span></span> </span> </a> </div> </script> <script type=\"text/template\" id=\"_atcmp_answer_11\"> <div class=\"add_opt _item\" data-sm=\"@2@\" data-keyword=\"@1@\" data-template_id=\"@0@\" data-acir=\"@rank@\"> <a href=\"javascript:;\" class=\"opt_weather\"> <span class=\"opt_weather_thmb\"> <img src=\"https://ssl.pstatic.net/sstatic/search/pc/img/wt_@6@.png\" width=\"56\" height=\"56\" alt=\"@7@\"> </span> <span class=\"opt_weather_group\"> <span class=\"opt_weather_state\">@7@</span> <span class=\"opt_weather_state\">기온 <em class=\"opt_deg\">@8@</em><span class=\"opt_unit\">℃</span></span> <span class=\"opt_weather_state\">@9@ <em>@10@</em><span class=\"opt_unit\">@11@</span></span> <span class=\"opt_weather_state\"><span class=\"opt_time\"><time datetime=\"@fulldate@\">@5@</time></span></span> </span> </a> </div> </script> <script type=\"text/template\" id=\"_atcmp_answer_17\"> <div class=\"add_opt _item\" data-sm=\"@2@\" data-keyword=\"@1@\" data-template_id=\"@0@\" data-acir=\"@rank@\"> <a href=\"@5@\" target=\"_blank\" class=\"opt_shortcut\"> <span class=\"opt_url\">@display_link@</span> <span class=\"opt_txt\">사이트로 바로 이동</span> </a> </div> </script> <script type=\"text/template\" id=\"_atcmp_answer_20\"></script> <script type=\"text/template\" id=\"_atcmp_intend\"> <div class=\"add_opt type_context _item\" data-sm=\"asct\" data-keyword=\"@transquery@\" data-acir=\"@rank@\"> <a href=\"#\" class=\"opt_context\"> <span class=\"opt_tit\"><strong>@query@</strong></span> <span class=\"opt_sub\">@intend@</span> </a> </div> </script> <script type=\"text/template\" id=\"_atcmp_result_item_tpl\"> <li class=\"_item @url_class@\" data-acr=\"@rank@\"> <a href=\"#\" class=\"atcmp_keyword\" onclick=\"return false;\" title=\"\"><span class=\"atcmp_keyword_txt\">@txt@<span class=\"spat ic_expand\"></span></span></a> <a href=\"@url@\" target=\"_blank\" class=\"mquick\">바로이동</a> <span style=\"display:none\">@in_txt@</span> </li> </script> <script type=\"text/template\" id=\"_atcmp_keyword_highlight_tpl\"> @mismatch_before@<strong>@match@</strong>@mismatch_after@ </script> <script type=\"text/template\" id=\"_atcmp_keyword_partial_match_highlight_tpl\"> @mismatch_before@<strong>@match@</strong>@mismatch_after@ </script> <script type=\"text/javascript\"> /* [PR] 서비스에서 사용하는 클릭로그함수 설정 */ window.__atcmpCR = function(we, el, name, order, areaCode, rank) { var htAreaCode = __ghtAutoCompleteConfig[\"htAreaCode\"]; if(typeof htAreaCode[name] !== 'undefined') { var areaCode = htAreaCode[name][0]; var rank = htAreaCode[name][1]; if(areaCode !== '') { tCR('a='+areaCode+'&u='+urlencode(el.href)); /* clickcr(el, areaCode, rank, '', we); */ /* console.log(areaCode + rank); */ } } return false; }; /* [PR] 서비스별로 form submit 전에 처리해야하는 내용은 이곳에 작성해주세요. */ window.__atcmpSubmitBefore = function(elForm) { try { top.nx_form_submit(elForm); } catch (e) { try { nx_form_submit(elForm); } catch (e) {} } }; /* [PR] 각 서비스별 옵션 : 로그인여부는 pr에서 정의필요합니다. */ window.__ghtAutoCompleteConfig = { /* 자동완성 설정 (Top&Bottom) */ \"bLogin\" : false, /* 로그인 여부 */ \"sFromWhere\" : 'nx', /* 검색 출처 (폼전송시 함께 전송) */ \"nStrMax\" : 55, /* 최대 말줄임 길이 */ \"sCookie\" : 'NaverSuggestUse', /* 사용 쿠키명 */ \"htApiUrl\" : { /* 자동완성 API 정보 */ \"sMyKeyword\" : 'https://s.search.naver.com/n/mykeyword/search', \"sAcKeyword\" : '//ac.search.naver.com/nx/ac', \"sAcAnsType\" : '2' /* 1 : 기존정답형만 lookup (탭검인 경우 1로 설정) */ }, \"ahtOption\" : [ { \"sOrder\" : \"asc\", /* 정렬방식 (asc/desc) */ \"sFormId\" : 'nx_search_form', /* 폼엘리먼트 ID */ \"sInputId\" : 'nx_query', /* 입력창 엘리먼트 ID */ \"sViewId\" : 'nx_autoframe_top', /* 자동완성 레이어 ID */ \"sViewToggleButtonId\" : 'nautocomplete' /* 레이어토글 버튼 ID */ } ,{ \"sOrder\" : \"desc\", /* 정렬방식 (asc/desc) */ \"sFormId\" : 'nx_search_form_btm', /* 폼엘리먼트 ID */ \"sInputId\" : 'nx_query_btm', /* 입력창 엘리먼트 ID */ \"sViewId\" : 'nx_autoframe_btm', /* 자동완성 레이어 ID */ \"sViewToggleButtonId\" : 'nautocomplete_btm' /* 레이어토글 버튼 ID */ } ], \"htButtonImg\" : { \"show\" : \"https://ssl.pstatic.net/sstatic/search/2015/btn_atcmp_up.gif\", \"unuseShow\" : \"https://ssl.pstatic.net/sstatic/search/images11/btn_atcmp_up_off.gif\", \"hide\" : \"https://ssl.pstatic.net/sstatic/search/2015/btn_atcmp_down.gif\", \"unuse\" : \"https://ssl.pstatic.net/sstatic/search/images11/btn_atcmp_down_off2.gif\" }, /* 서비스별 클릭영역코드 매핑정보 (sch.xxx: 검색창영역, sug.xxx: 자동완성 영역, sly.xxx: 최근/내검색어 영역) */ \"htAreaCode\": { \"expand\": ['sch.expand', '0'], /* 우측 역삼각형 펼침 */ \"close\": ['sch.close', '0'], /* 우측 역삼각형 접힘 */ \"autokeyword\": ['', ''], /* 자동완성키워드 클릭 (종료: 폼액션으로 넘어가므로 클릭로그 대신 SM파라미터로 수집함) */ \"ansdirect\": ['sug.ansdirect', ''], /* 정답형 바로가기 (엔터/클릭) */ \"go1\": ['sug.go1', ''], /* 바로이동 클릭 */ \"go2\": ['sug.go2', ''], /* 바로이동 클릭 (하단영역이 있는 통검 및 SE통검 에서만 유효함) */ \"help\": ['sug.help', ''], /* 도움말 클릭 */ \"report\": ['sug.report', ''], /* 신고 클릭 */ \"sugoff\": ['sug.sugoff', ''], /* 자동완성 끄기 클릭 */ \"sugon\": ['sug.sugon', ''], /* 자동완성 켜기 클릭 */ \"plus.close\": ['sug.cxhide', ''], /* 자동완성 플러스 닫기버튼 */ \"plus.login\": ['sug.cxlogin', ''], /* 자동완성 플러스 로그인 버튼 */ \"plus.detail\": ['sug.cxlink', ''], /* 자동완성 플러스 자세히 버튼 */ \"plus.help\": ['sug.cxhelp', ''], /* 자동완성 플러스 도움말 */ \"plus.use\": ['sug.cxon', ''], /* 자동완성 플러스 사용 */ \"plus.unuse\": ['sug.cxoff', ''], /* 자동완성 플러스 사용안함 */ \"saveoff\": ['sug.saveoff', ''], /* 검색어저장 끄기 클릭 */ \"saveon\": ['sug.saveon', ''], /* 검색어저장 켜기 클릭 */ \"rtab\": ['sly.rtab', ''], /* 최근검색어 탭 클릭 */ \"mytab\": ['sly.mytab', ''], /* 내검색어 탭 클릭 */ \"rx\": ['sly.rx', ''], /* 최근검색어 개별삭제 클릭 */ \"rdel\": ['sly.rdel', ''], /* 최근검색어 기록삭제 클릭 */ \"rdelend\": ['sly.rdelend', ''], /* 최근검색어 완료 클릭 */ \"ralldel\": ['sly.ralldel', ''], /* 최근검색어 전체삭제 클릭 */ \"myalldel\": ['sly.myalldel', ''], /* 내검색어 전체삭제 */ \"mydel\": ['sly.mydel', ''], /* 내검색어 삭제 */ \"myadd\": ['sly.myadd', ''] /* 내검색어 등록 */ }, /* 서비스별 SM파라미터 매핑정보 * sm파라미터 추가시 https://oss.navercorp.com/sau-pc/naver_autocomplete/issues/19 확인 필요 */ \"htSmParam\" : { \"hty\" : 'tab_hty.top', /* sm 파라미터 초기값 */ \"htyb\" : 'tab_hty.btm', /* sm 파라미터 초기값(검색창 하단) */ \"hst\" : 'tab_sly.hst', /* 최근검색키워드 */ \"my\" : 'tab_sly.my', /* 내검색키워드 */ \"prefix\" : 'tab_sug', /* sm 파라미터 서비스별 prefix */ \"top\" : 'tab_sug.top', /* 자동완성키워드 */ \"btm\" : 'tab_sug.btm', /* 자동완성키워드 (역순) */ \"pat\" : 'tab_sug.pat', /* 자동완성키워드 (부분자동완성) */ \"mbk\" : 'tab_sug.mbk', /* 자동완성키워드 (오타교정자동완성) */ \"nlq\" : 'tab_sug.nlq', /* 자연어검색 */ \"asgl\" : 'tab_sug.asgl', /* 1국가번호 (한국 국가번호) */ \"asga\" : 'tab_sug.asga', /* 1국가번호 다른중복지역 */ \"aslt\" : 'tab_sug.aslt', /* 3로또당첨번호 */ \"aspl\" : 'tab_sug.aspl', /* 6연금복권당첨번호 */ \"astm\" : 'tab_sug.astm', /* 7영업시간 (신한은행 영업시간) */ \"ast\" : 'tab_sug.ast', /* 8전화번호 (국세청 전화번호) */ \"ase\" : 'tab_sug.ase', /* 9환율 (엔화환율) */ \"aswt\" : 'tab_sug.aswt', /* 10해외날씨 (일본날씨) */ \"asis\" : 'tab_sug.asis', /* 12올림픽순위 */ \"extension\" : 'tab_sug.search' /* 검색기반 자동완성 */ } }; </script> <script type=\"text/javascript\"> /* 자동완성 객체 생성 (Top & Bottom) */ new nhn.common.atcmp.naver_web.Controller(__ghtAutoCompleteConfig).attach({ onSelect : function(oCustomEvent) {__atcmpSubmitBefore(oCustomEvent.elForm);}, onClickLog : function(oCustomEvent) {__atcmpCR(oCustomEvent.event, oCustomEvent.element, oCustomEvent.name, oCustomEvent.order, '', '');} }); </script> </div> <script type=\"text/javascript\"> (function() { var needFix = navigator.userAgent.toLowerCase().indexOf('webkit') > -1; d = document; if (!needFix || !d.querySelectorAll) return; var toArray = function(list){ var armap=[]; i=0; for(;i<list.length;++i){ armap.push(list[i]); } return Array.prototype.slice.call(armap, 0); } ; window.addEventListener('load', function() { toArray(d.querySelectorAll('#u_skip a')).forEach(function(el) { el.addEventListener('click', function() { var target = d.getElementById(this.href.split('#')[1]); oldTabIndex = target.getAttribute('tabindex'); oldOutlineWidth = d.defaultView.getComputedStyle(target, null).getPropertyValue('outline-width'); target.setAttribute('tabindex', 0); target.style.outlineWidth = 0; target.focus(); if (oldTabIndex === null) target.removeAttribute('tabindex'); else target.setAttribute('tabindex', oldTabIndex); }, false); }); }, false); })(); </script><script type=\"text/javascript\"> if(typeof nx_usain_beacon !== 'undefined') { nx_usain_beacon.add_tag(\"conn_._TLSv1.3_.\") ;nx_usain_beacon.add_tag(\"nqx_theme.currency\") ; $Fn(function () { nx_usain_beacon.send(); }).attach(window, \"load\") ; } </script></body> </html>\n"
     ]
    }
   ],
   "source": []
  },
  {
   "cell_type": "code",
   "execution_count": null,
   "metadata": {},
   "outputs": [],
   "source": []
  }
 ],
 "metadata": {
  "kernelspec": {
   "display_name": "Python 3",
   "language": "python",
   "name": "python3"
  },
  "language_info": {
   "codemirror_mode": {
    "name": "ipython",
    "version": 3
   },
   "file_extension": ".py",
   "mimetype": "text/x-python",
   "name": "python",
   "nbconvert_exporter": "python",
   "pygments_lexer": "ipython3",
   "version": "3.7.4"
  }
 },
 "nbformat": 4,
 "nbformat_minor": 4
}
