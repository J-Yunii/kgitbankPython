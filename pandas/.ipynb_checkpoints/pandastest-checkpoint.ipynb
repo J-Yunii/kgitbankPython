{
 "cells": [
  {
   "cell_type": "markdown",
   "metadata": {},
   "source": [
    "컨트롤 엔터: 실행+다음 줄 쉬프트+엔터: 실행\n",
    "컨트롤 + 더블클릭: 편집모드\n",
    "단축키 code Y, Mode M Raw R\n",
    "Code mode: 파이썬 코드\n",
    "Markdown mode: 설명(Md 파일 - 마크다운 문법 존재, 깃헙에서도 쓰임)\n",
    "# 샵 한 개는 제목\n",
    "# >는 막대모양이 나옴\n",
    "> !pip show pandas\n",
    "# 링크는 대괄호, 주소값 소괄호\n",
    ".[pandas cheat sheet](https://pandas.pydata.org/Pandas_Cheat_Sheet.pdf)\n",
    "Raw mode: 텍스트 그대로 쓰는 것"
   ]
  },
  {
   "cell_type": "code",
   "execution_count": 2,
   "metadata": {},
   "outputs": [
    {
     "name": "stdout",
     "output_type": "stream",
     "text": [
      "Name: pandas\n",
      "Version: 0.25.1\n",
      "Summary: Powerful data structures for data analysis, time series, and statistics\n",
      "Home-page: http://pandas.pydata.org\n",
      "Author: None\n",
      "Author-email: None\n",
      "License: BSD\n",
      "Location: /opt/conda/lib/python3.7/site-packages\n",
      "Requires: numpy, pytz, python-dateutil\n",
      "Required-by: vincent, statsmodels, seaborn, plotnine, mizani\n"
     ]
    }
   ],
   "source": [
    "# pandas의 설치 여부를 확인한다.\n",
    "!pip show pandas"
   ]
  },
  {
   "cell_type": "markdown",
   "metadata": {},
   "source": [
    "# 2. pandas를 import한다.\n",
    "> import pandas as pd"
   ]
  },
  {
   "cell_type": "code",
   "execution_count": 4,
   "metadata": {},
   "outputs": [],
   "source": [
    "# pandas 업데이트는 신중하게\n",
    "# 라이브러리 numpy를 불러온다. 라이브러리 별칭은 np로 임의로 설정\n",
    "import numpy as np\n",
    "import pandas as pd"
   ]
  },
  {
   "cell_type": "code",
   "execution_count": 9,
   "metadata": {},
   "outputs": [
    {
     "data": {
      "text/plain": [
       "0      1\n",
       "1      3\n",
       "2      5\n",
       "3    NaN\n",
       "4      6\n",
       "5      8\n",
       "dtype: object"
      ]
     },
     "execution_count": 9,
     "metadata": {},
     "output_type": "execute_result"
    }
   ],
   "source": [
    "# 시리즈는 클래스!, 개체생성하기\n",
    "# numpy의 nan은 \n",
    "# 시리즈 인자는 하나, 여러개 넣어줄 때는 리스트, 딕셔너리, 튜플등으로 넣기\n",
    "# 시리즈는 같은 종류의 자료형으로 묶인 것\n",
    "# 리스트 안의 자료형이 여러개면 datatype이 object로 잡힘\n",
    "pd.Series([1,3,'5', np.nan,6,8])"
   ]
  },
  {
   "cell_type": "code",
   "execution_count": 10,
   "metadata": {},
   "outputs": [
    {
     "data": {
      "text/plain": [
       "DatetimeIndex(['2013-01-01', '2013-01-02', '2013-01-03', '2013-01-04',\n",
       "               '2013-01-05', '2013-01-06'],\n",
       "              dtype='datetime64[ns]', freq='D')"
      ]
     },
     "execution_count": 10,
     "metadata": {},
     "output_type": "execute_result"
    }
   ],
   "source": [
    "# dataframe은 표로 이해하면 된다.\n",
    "# 시리즈가 여러개 합쳐진 표.\n",
    "# date_range: 파이썬의 range와 같은 기능\n",
    "dates = pd.date_range('20130101',periods=6)\n",
    "dates"
   ]
  },
  {
   "cell_type": "code",
   "execution_count": 11,
   "metadata": {},
   "outputs": [
    {
     "data": {
      "text/html": [
       "<div>\n",
       "<style scoped>\n",
       "    .dataframe tbody tr th:only-of-type {\n",
       "        vertical-align: middle;\n",
       "    }\n",
       "\n",
       "    .dataframe tbody tr th {\n",
       "        vertical-align: top;\n",
       "    }\n",
       "\n",
       "    .dataframe thead th {\n",
       "        text-align: right;\n",
       "    }\n",
       "</style>\n",
       "<table border=\"1\" class=\"dataframe\">\n",
       "  <thead>\n",
       "    <tr style=\"text-align: right;\">\n",
       "      <th></th>\n",
       "      <th>A</th>\n",
       "      <th>B</th>\n",
       "      <th>C</th>\n",
       "      <th>D</th>\n",
       "    </tr>\n",
       "  </thead>\n",
       "  <tbody>\n",
       "    <tr>\n",
       "      <td>2013-01-01</td>\n",
       "      <td>-0.435571</td>\n",
       "      <td>0.116686</td>\n",
       "      <td>0.414054</td>\n",
       "      <td>-0.696546</td>\n",
       "    </tr>\n",
       "    <tr>\n",
       "      <td>2013-01-02</td>\n",
       "      <td>1.557891</td>\n",
       "      <td>0.043704</td>\n",
       "      <td>1.250088</td>\n",
       "      <td>-0.169691</td>\n",
       "    </tr>\n",
       "    <tr>\n",
       "      <td>2013-01-03</td>\n",
       "      <td>1.205867</td>\n",
       "      <td>0.136809</td>\n",
       "      <td>1.125442</td>\n",
       "      <td>-1.530207</td>\n",
       "    </tr>\n",
       "    <tr>\n",
       "      <td>2013-01-04</td>\n",
       "      <td>0.198191</td>\n",
       "      <td>1.046273</td>\n",
       "      <td>-0.067392</td>\n",
       "      <td>0.808591</td>\n",
       "    </tr>\n",
       "    <tr>\n",
       "      <td>2013-01-05</td>\n",
       "      <td>1.429235</td>\n",
       "      <td>-1.690102</td>\n",
       "      <td>0.887965</td>\n",
       "      <td>-0.199856</td>\n",
       "    </tr>\n",
       "    <tr>\n",
       "      <td>2013-01-06</td>\n",
       "      <td>1.722446</td>\n",
       "      <td>-0.275181</td>\n",
       "      <td>0.085287</td>\n",
       "      <td>-0.440648</td>\n",
       "    </tr>\n",
       "  </tbody>\n",
       "</table>\n",
       "</div>"
      ],
      "text/plain": [
       "                   A         B         C         D\n",
       "2013-01-01 -0.435571  0.116686  0.414054 -0.696546\n",
       "2013-01-02  1.557891  0.043704  1.250088 -0.169691\n",
       "2013-01-03  1.205867  0.136809  1.125442 -1.530207\n",
       "2013-01-04  0.198191  1.046273 -0.067392  0.808591\n",
       "2013-01-05  1.429235 -1.690102  0.887965 -0.199856\n",
       "2013-01-06  1.722446 -0.275181  0.085287 -0.440648"
      ]
     },
     "execution_count": 11,
     "metadata": {},
     "output_type": "execute_result"
    }
   ],
   "source": [
    "# randn: 6행 4열짜리로 랜덤으로 정규분포로 숫자생성, columns는 행이름, index는 열이름\n",
    "df = pd.DataFrame(np.random.randn(6,4),index=dates, columns=list('ABCD'))\n",
    "df"
   ]
  },
  {
   "cell_type": "code",
   "execution_count": 12,
   "metadata": {},
   "outputs": [],
   "source": [
    "df2 = pd.DataFrame({'A': 1.,\n",
    "   ...:                     'B': pd.Timestamp('20130102'),\n",
    "   ...:                     'C': pd.Series(1, index=list(range(4)), dtype='float32'),\n",
    "   ...:                     'D': np.array([3] * 4, dtype='int32'),\n",
    "   ...:                     'E': pd.Categorical([\"test\", \"train\", \"test\", \"train\"]),\n",
    "   ...:                     'F': 'foo'})"
   ]
  },
  {
   "cell_type": "code",
   "execution_count": 17,
   "metadata": {},
   "outputs": [
    {
     "data": {
      "text/plain": [
       "A           float64\n",
       "B    datetime64[ns]\n",
       "C           float32\n",
       "D             int32\n",
       "E          category\n",
       "F            object\n",
       "dtype: object"
      ]
     },
     "execution_count": 17,
     "metadata": {},
     "output_type": "execute_result"
    }
   ],
   "source": [
    "df2"
   ]
  },
  {
   "cell_type": "code",
   "execution_count": 18,
   "metadata": {},
   "outputs": [
    {
     "data": {
      "text/plain": [
       "A           float64\n",
       "B    datetime64[ns]\n",
       "C           float32\n",
       "D             int32\n",
       "E          category\n",
       "F            object\n",
       "dtype: object"
      ]
     },
     "execution_count": 18,
     "metadata": {},
     "output_type": "execute_result"
    }
   ],
   "source": [
    "df2.dtypes"
   ]
  },
  {
   "cell_type": "code",
   "execution_count": 19,
   "metadata": {},
   "outputs": [
    {
     "data": {
      "text/html": [
       "<div>\n",
       "<style scoped>\n",
       "    .dataframe tbody tr th:only-of-type {\n",
       "        vertical-align: middle;\n",
       "    }\n",
       "\n",
       "    .dataframe tbody tr th {\n",
       "        vertical-align: top;\n",
       "    }\n",
       "\n",
       "    .dataframe thead th {\n",
       "        text-align: right;\n",
       "    }\n",
       "</style>\n",
       "<table border=\"1\" class=\"dataframe\">\n",
       "  <thead>\n",
       "    <tr style=\"text-align: right;\">\n",
       "      <th></th>\n",
       "      <th>A</th>\n",
       "      <th>B</th>\n",
       "      <th>C</th>\n",
       "      <th>D</th>\n",
       "    </tr>\n",
       "  </thead>\n",
       "  <tbody>\n",
       "    <tr>\n",
       "      <td>2013-01-01</td>\n",
       "      <td>-0.435571</td>\n",
       "      <td>0.116686</td>\n",
       "      <td>0.414054</td>\n",
       "      <td>-0.696546</td>\n",
       "    </tr>\n",
       "    <tr>\n",
       "      <td>2013-01-02</td>\n",
       "      <td>1.557891</td>\n",
       "      <td>0.043704</td>\n",
       "      <td>1.250088</td>\n",
       "      <td>-0.169691</td>\n",
       "    </tr>\n",
       "    <tr>\n",
       "      <td>2013-01-03</td>\n",
       "      <td>1.205867</td>\n",
       "      <td>0.136809</td>\n",
       "      <td>1.125442</td>\n",
       "      <td>-1.530207</td>\n",
       "    </tr>\n",
       "    <tr>\n",
       "      <td>2013-01-04</td>\n",
       "      <td>0.198191</td>\n",
       "      <td>1.046273</td>\n",
       "      <td>-0.067392</td>\n",
       "      <td>0.808591</td>\n",
       "    </tr>\n",
       "    <tr>\n",
       "      <td>2013-01-05</td>\n",
       "      <td>1.429235</td>\n",
       "      <td>-1.690102</td>\n",
       "      <td>0.887965</td>\n",
       "      <td>-0.199856</td>\n",
       "    </tr>\n",
       "  </tbody>\n",
       "</table>\n",
       "</div>"
      ],
      "text/plain": [
       "                   A         B         C         D\n",
       "2013-01-01 -0.435571  0.116686  0.414054 -0.696546\n",
       "2013-01-02  1.557891  0.043704  1.250088 -0.169691\n",
       "2013-01-03  1.205867  0.136809  1.125442 -1.530207\n",
       "2013-01-04  0.198191  1.046273 -0.067392  0.808591\n",
       "2013-01-05  1.429235 -1.690102  0.887965 -0.199856"
      ]
     },
     "execution_count": 19,
     "metadata": {},
     "output_type": "execute_result"
    }
   ],
   "source": [
    "# 자료 디폴트=5개 출력 (앞에서)\n",
    "# 출력 갯수 임의로  설정가능\n",
    "df.head()"
   ]
  },
  {
   "cell_type": "code",
   "execution_count": 20,
   "metadata": {},
   "outputs": [
    {
     "data": {
      "text/html": [
       "<div>\n",
       "<style scoped>\n",
       "    .dataframe tbody tr th:only-of-type {\n",
       "        vertical-align: middle;\n",
       "    }\n",
       "\n",
       "    .dataframe tbody tr th {\n",
       "        vertical-align: top;\n",
       "    }\n",
       "\n",
       "    .dataframe thead th {\n",
       "        text-align: right;\n",
       "    }\n",
       "</style>\n",
       "<table border=\"1\" class=\"dataframe\">\n",
       "  <thead>\n",
       "    <tr style=\"text-align: right;\">\n",
       "      <th></th>\n",
       "      <th>A</th>\n",
       "      <th>B</th>\n",
       "      <th>C</th>\n",
       "      <th>D</th>\n",
       "    </tr>\n",
       "  </thead>\n",
       "  <tbody>\n",
       "    <tr>\n",
       "      <td>2013-01-02</td>\n",
       "      <td>1.557891</td>\n",
       "      <td>0.043704</td>\n",
       "      <td>1.250088</td>\n",
       "      <td>-0.169691</td>\n",
       "    </tr>\n",
       "    <tr>\n",
       "      <td>2013-01-03</td>\n",
       "      <td>1.205867</td>\n",
       "      <td>0.136809</td>\n",
       "      <td>1.125442</td>\n",
       "      <td>-1.530207</td>\n",
       "    </tr>\n",
       "    <tr>\n",
       "      <td>2013-01-04</td>\n",
       "      <td>0.198191</td>\n",
       "      <td>1.046273</td>\n",
       "      <td>-0.067392</td>\n",
       "      <td>0.808591</td>\n",
       "    </tr>\n",
       "    <tr>\n",
       "      <td>2013-01-05</td>\n",
       "      <td>1.429235</td>\n",
       "      <td>-1.690102</td>\n",
       "      <td>0.887965</td>\n",
       "      <td>-0.199856</td>\n",
       "    </tr>\n",
       "    <tr>\n",
       "      <td>2013-01-06</td>\n",
       "      <td>1.722446</td>\n",
       "      <td>-0.275181</td>\n",
       "      <td>0.085287</td>\n",
       "      <td>-0.440648</td>\n",
       "    </tr>\n",
       "  </tbody>\n",
       "</table>\n",
       "</div>"
      ],
      "text/plain": [
       "                   A         B         C         D\n",
       "2013-01-02  1.557891  0.043704  1.250088 -0.169691\n",
       "2013-01-03  1.205867  0.136809  1.125442 -1.530207\n",
       "2013-01-04  0.198191  1.046273 -0.067392  0.808591\n",
       "2013-01-05  1.429235 -1.690102  0.887965 -0.199856\n",
       "2013-01-06  1.722446 -0.275181  0.085287 -0.440648"
      ]
     },
     "execution_count": 20,
     "metadata": {},
     "output_type": "execute_result"
    }
   ],
   "source": [
    "# 출력 갯수 임의로  설정가능\n",
    "df.tail()"
   ]
  },
  {
   "cell_type": "code",
   "execution_count": 27,
   "metadata": {},
   "outputs": [
    {
     "data": {
      "text/html": [
       "<div>\n",
       "<style scoped>\n",
       "    .dataframe tbody tr th:only-of-type {\n",
       "        vertical-align: middle;\n",
       "    }\n",
       "\n",
       "    .dataframe tbody tr th {\n",
       "        vertical-align: top;\n",
       "    }\n",
       "\n",
       "    .dataframe thead th {\n",
       "        text-align: right;\n",
       "    }\n",
       "</style>\n",
       "<table border=\"1\" class=\"dataframe\">\n",
       "  <thead>\n",
       "    <tr style=\"text-align: right;\">\n",
       "      <th></th>\n",
       "      <th>A</th>\n",
       "      <th>B</th>\n",
       "      <th>C</th>\n",
       "      <th>D</th>\n",
       "    </tr>\n",
       "  </thead>\n",
       "  <tbody>\n",
       "    <tr>\n",
       "      <td>2013-01-04</td>\n",
       "      <td>0.198191</td>\n",
       "      <td>1.046273</td>\n",
       "      <td>-0.067392</td>\n",
       "      <td>0.808591</td>\n",
       "    </tr>\n",
       "  </tbody>\n",
       "</table>\n",
       "</div>"
      ],
      "text/plain": [
       "                   A         B         C         D\n",
       "2013-01-04  0.198191  1.046273 -0.067392  0.808591"
      ]
     },
     "execution_count": 27,
     "metadata": {},
     "output_type": "execute_result"
    }
   ],
   "source": [
    "# 샘플 하나 랜덤 출력\n",
    "# 출력 갯수 임의로  설정가능\n",
    "df.sample()"
   ]
  },
  {
   "cell_type": "code",
   "execution_count": 32,
   "metadata": {},
   "outputs": [
    {
     "data": {
      "text/plain": [
       "DatetimeIndex(['2013-01-01', '2013-01-02', '2013-01-03', '2013-01-04',\n",
       "               '2013-01-05', '2013-01-06'],\n",
       "              dtype='datetime64[ns]', freq='D')"
      ]
     },
     "execution_count": 32,
     "metadata": {},
     "output_type": "execute_result"
    }
   ],
   "source": [
    "# 열 이름\n",
    "df.index"
   ]
  },
  {
   "cell_type": "code",
   "execution_count": 33,
   "metadata": {},
   "outputs": [
    {
     "data": {
      "text/plain": [
       "Index(['A', 'B', 'C', 'D'], dtype='object')"
      ]
     },
     "execution_count": 33,
     "metadata": {},
     "output_type": "execute_result"
    }
   ],
   "source": [
    "# 행 이름\n",
    "df.columns"
   ]
  },
  {
   "cell_type": "code",
   "execution_count": 34,
   "metadata": {},
   "outputs": [
    {
     "data": {
      "text/plain": [
       "array([[1.0, Timestamp('2013-01-02 00:00:00'), 1.0, 3, 'test', 'foo'],\n",
       "       [1.0, Timestamp('2013-01-02 00:00:00'), 1.0, 3, 'train', 'foo'],\n",
       "       [1.0, Timestamp('2013-01-02 00:00:00'), 1.0, 3, 'test', 'foo'],\n",
       "       [1.0, Timestamp('2013-01-02 00:00:00'), 1.0, 3, 'train', 'foo']],\n",
       "      dtype=object)"
      ]
     },
     "execution_count": 34,
     "metadata": {},
     "output_type": "execute_result"
    }
   ],
   "source": [
    "# to_numpy: 데이터 프레임을 넘파이 형태로 바꿈\n",
    "# 배열 형태로 바뀜(이때, 자료형은 맞춰주는 것을 권장)\n",
    "df2.to_numpy()"
   ]
  },
  {
   "cell_type": "code",
   "execution_count": 35,
   "metadata": {},
   "outputs": [
    {
     "data": {
      "text/plain": [
       "array([[-0.43557061,  0.11668643,  0.41405365, -0.69654555],\n",
       "       [ 1.55789122,  0.04370352,  1.25008794, -0.1696913 ],\n",
       "       [ 1.20586673,  0.13680933,  1.12544196, -1.53020746],\n",
       "       [ 0.19819056,  1.04627261, -0.06739211,  0.80859077],\n",
       "       [ 1.42923503, -1.69010158,  0.88796523, -0.19985649],\n",
       "       [ 1.7224455 , -0.27518113,  0.08528671, -0.44064784]])"
      ]
     },
     "execution_count": 35,
     "metadata": {},
     "output_type": "execute_result"
    }
   ],
   "source": [
    "df.to_numpy()"
   ]
  },
  {
   "cell_type": "code",
   "execution_count": 37,
   "metadata": {},
   "outputs": [
    {
     "data": {
      "text/html": [
       "<div>\n",
       "<style scoped>\n",
       "    .dataframe tbody tr th:only-of-type {\n",
       "        vertical-align: middle;\n",
       "    }\n",
       "\n",
       "    .dataframe tbody tr th {\n",
       "        vertical-align: top;\n",
       "    }\n",
       "\n",
       "    .dataframe thead th {\n",
       "        text-align: right;\n",
       "    }\n",
       "</style>\n",
       "<table border=\"1\" class=\"dataframe\">\n",
       "  <thead>\n",
       "    <tr style=\"text-align: right;\">\n",
       "      <th></th>\n",
       "      <th>A</th>\n",
       "      <th>B</th>\n",
       "      <th>C</th>\n",
       "      <th>D</th>\n",
       "    </tr>\n",
       "  </thead>\n",
       "  <tbody>\n",
       "    <tr>\n",
       "      <td>count</td>\n",
       "      <td>6.000000</td>\n",
       "      <td>6.000000</td>\n",
       "      <td>6.000000</td>\n",
       "      <td>6.000000</td>\n",
       "    </tr>\n",
       "    <tr>\n",
       "      <td>mean</td>\n",
       "      <td>0.946343</td>\n",
       "      <td>-0.103635</td>\n",
       "      <td>0.615907</td>\n",
       "      <td>-0.371393</td>\n",
       "    </tr>\n",
       "    <tr>\n",
       "      <td>std</td>\n",
       "      <td>0.865596</td>\n",
       "      <td>0.894053</td>\n",
       "      <td>0.552273</td>\n",
       "      <td>0.763655</td>\n",
       "    </tr>\n",
       "    <tr>\n",
       "      <td>min</td>\n",
       "      <td>-0.435571</td>\n",
       "      <td>-1.690102</td>\n",
       "      <td>-0.067392</td>\n",
       "      <td>-1.530207</td>\n",
       "    </tr>\n",
       "    <tr>\n",
       "      <td>25%</td>\n",
       "      <td>0.450110</td>\n",
       "      <td>-0.195460</td>\n",
       "      <td>0.167478</td>\n",
       "      <td>-0.632571</td>\n",
       "    </tr>\n",
       "    <tr>\n",
       "      <td>50%</td>\n",
       "      <td>1.317551</td>\n",
       "      <td>0.080195</td>\n",
       "      <td>0.651009</td>\n",
       "      <td>-0.320252</td>\n",
       "    </tr>\n",
       "    <tr>\n",
       "      <td>75%</td>\n",
       "      <td>1.525727</td>\n",
       "      <td>0.131779</td>\n",
       "      <td>1.066073</td>\n",
       "      <td>-0.177233</td>\n",
       "    </tr>\n",
       "    <tr>\n",
       "      <td>max</td>\n",
       "      <td>1.722446</td>\n",
       "      <td>1.046273</td>\n",
       "      <td>1.250088</td>\n",
       "      <td>0.808591</td>\n",
       "    </tr>\n",
       "  </tbody>\n",
       "</table>\n",
       "</div>"
      ],
      "text/plain": [
       "              A         B         C         D\n",
       "count  6.000000  6.000000  6.000000  6.000000\n",
       "mean   0.946343 -0.103635  0.615907 -0.371393\n",
       "std    0.865596  0.894053  0.552273  0.763655\n",
       "min   -0.435571 -1.690102 -0.067392 -1.530207\n",
       "25%    0.450110 -0.195460  0.167478 -0.632571\n",
       "50%    1.317551  0.080195  0.651009 -0.320252\n",
       "75%    1.525727  0.131779  1.066073 -0.177233\n",
       "max    1.722446  1.046273  1.250088  0.808591"
      ]
     },
     "execution_count": 37,
     "metadata": {},
     "output_type": "execute_result"
    }
   ],
   "source": [
    "# 행별로 count:갯수, mean:평균, std: 표준편차, min:최소값, 25%:4분위수, 50%: 중위값\n",
    "df.describe()"
   ]
  },
  {
   "cell_type": "code",
   "execution_count": 38,
   "metadata": {},
   "outputs": [
    {
     "data": {
      "text/html": [
       "<div>\n",
       "<style scoped>\n",
       "    .dataframe tbody tr th:only-of-type {\n",
       "        vertical-align: middle;\n",
       "    }\n",
       "\n",
       "    .dataframe tbody tr th {\n",
       "        vertical-align: top;\n",
       "    }\n",
       "\n",
       "    .dataframe thead th {\n",
       "        text-align: right;\n",
       "    }\n",
       "</style>\n",
       "<table border=\"1\" class=\"dataframe\">\n",
       "  <thead>\n",
       "    <tr style=\"text-align: right;\">\n",
       "      <th></th>\n",
       "      <th>2013-01-01</th>\n",
       "      <th>2013-01-02</th>\n",
       "      <th>2013-01-03</th>\n",
       "      <th>2013-01-04</th>\n",
       "      <th>2013-01-05</th>\n",
       "      <th>2013-01-06</th>\n",
       "    </tr>\n",
       "  </thead>\n",
       "  <tbody>\n",
       "    <tr>\n",
       "      <td>A</td>\n",
       "      <td>-0.435571</td>\n",
       "      <td>1.557891</td>\n",
       "      <td>1.205867</td>\n",
       "      <td>0.198191</td>\n",
       "      <td>1.429235</td>\n",
       "      <td>1.722446</td>\n",
       "    </tr>\n",
       "    <tr>\n",
       "      <td>B</td>\n",
       "      <td>0.116686</td>\n",
       "      <td>0.043704</td>\n",
       "      <td>0.136809</td>\n",
       "      <td>1.046273</td>\n",
       "      <td>-1.690102</td>\n",
       "      <td>-0.275181</td>\n",
       "    </tr>\n",
       "    <tr>\n",
       "      <td>C</td>\n",
       "      <td>0.414054</td>\n",
       "      <td>1.250088</td>\n",
       "      <td>1.125442</td>\n",
       "      <td>-0.067392</td>\n",
       "      <td>0.887965</td>\n",
       "      <td>0.085287</td>\n",
       "    </tr>\n",
       "    <tr>\n",
       "      <td>D</td>\n",
       "      <td>-0.696546</td>\n",
       "      <td>-0.169691</td>\n",
       "      <td>-1.530207</td>\n",
       "      <td>0.808591</td>\n",
       "      <td>-0.199856</td>\n",
       "      <td>-0.440648</td>\n",
       "    </tr>\n",
       "  </tbody>\n",
       "</table>\n",
       "</div>"
      ],
      "text/plain": [
       "   2013-01-01  2013-01-02  2013-01-03  2013-01-04  2013-01-05  2013-01-06\n",
       "A   -0.435571    1.557891    1.205867    0.198191    1.429235    1.722446\n",
       "B    0.116686    0.043704    0.136809    1.046273   -1.690102   -0.275181\n",
       "C    0.414054    1.250088    1.125442   -0.067392    0.887965    0.085287\n",
       "D   -0.696546   -0.169691   -1.530207    0.808591   -0.199856   -0.440648"
      ]
     },
     "execution_count": 38,
     "metadata": {},
     "output_type": "execute_result"
    }
   ],
   "source": [
    "# 행/열 전환\n",
    "df.T"
   ]
  },
  {
   "cell_type": "code",
   "execution_count": 40,
   "metadata": {},
   "outputs": [
    {
     "data": {
      "text/html": [
       "<div>\n",
       "<style scoped>\n",
       "    .dataframe tbody tr th:only-of-type {\n",
       "        vertical-align: middle;\n",
       "    }\n",
       "\n",
       "    .dataframe tbody tr th {\n",
       "        vertical-align: top;\n",
       "    }\n",
       "\n",
       "    .dataframe thead th {\n",
       "        text-align: right;\n",
       "    }\n",
       "</style>\n",
       "<table border=\"1\" class=\"dataframe\">\n",
       "  <thead>\n",
       "    <tr style=\"text-align: right;\">\n",
       "      <th></th>\n",
       "      <th>D</th>\n",
       "      <th>C</th>\n",
       "      <th>B</th>\n",
       "      <th>A</th>\n",
       "    </tr>\n",
       "  </thead>\n",
       "  <tbody>\n",
       "    <tr>\n",
       "      <td>2013-01-01</td>\n",
       "      <td>-0.696546</td>\n",
       "      <td>0.414054</td>\n",
       "      <td>0.116686</td>\n",
       "      <td>-0.435571</td>\n",
       "    </tr>\n",
       "    <tr>\n",
       "      <td>2013-01-02</td>\n",
       "      <td>-0.169691</td>\n",
       "      <td>1.250088</td>\n",
       "      <td>0.043704</td>\n",
       "      <td>1.557891</td>\n",
       "    </tr>\n",
       "    <tr>\n",
       "      <td>2013-01-03</td>\n",
       "      <td>-1.530207</td>\n",
       "      <td>1.125442</td>\n",
       "      <td>0.136809</td>\n",
       "      <td>1.205867</td>\n",
       "    </tr>\n",
       "    <tr>\n",
       "      <td>2013-01-04</td>\n",
       "      <td>0.808591</td>\n",
       "      <td>-0.067392</td>\n",
       "      <td>1.046273</td>\n",
       "      <td>0.198191</td>\n",
       "    </tr>\n",
       "    <tr>\n",
       "      <td>2013-01-05</td>\n",
       "      <td>-0.199856</td>\n",
       "      <td>0.887965</td>\n",
       "      <td>-1.690102</td>\n",
       "      <td>1.429235</td>\n",
       "    </tr>\n",
       "    <tr>\n",
       "      <td>2013-01-06</td>\n",
       "      <td>-0.440648</td>\n",
       "      <td>0.085287</td>\n",
       "      <td>-0.275181</td>\n",
       "      <td>1.722446</td>\n",
       "    </tr>\n",
       "  </tbody>\n",
       "</table>\n",
       "</div>"
      ],
      "text/plain": [
       "                   D         C         B         A\n",
       "2013-01-01 -0.696546  0.414054  0.116686 -0.435571\n",
       "2013-01-02 -0.169691  1.250088  0.043704  1.557891\n",
       "2013-01-03 -1.530207  1.125442  0.136809  1.205867\n",
       "2013-01-04  0.808591 -0.067392  1.046273  0.198191\n",
       "2013-01-05 -0.199856  0.887965 -1.690102  1.429235\n",
       "2013-01-06 -0.440648  0.085287 -0.275181  1.722446"
      ]
     },
     "execution_count": 40,
     "metadata": {},
     "output_type": "execute_result"
    }
   ],
   "source": [
    "# axis: 행렬중 기준으로 할 것을 설정, default=0(index)\n",
    "# ascending: defalut=True(오름차순), False(내림차순)\n",
    "# sort_values(axis=0,ascending=True)\n",
    "df.sort_index(axis=1, ascending=False)"
   ]
  },
  {
   "cell_type": "code",
   "execution_count": 42,
   "metadata": {},
   "outputs": [
    {
     "data": {
      "text/html": [
       "<div>\n",
       "<style scoped>\n",
       "    .dataframe tbody tr th:only-of-type {\n",
       "        vertical-align: middle;\n",
       "    }\n",
       "\n",
       "    .dataframe tbody tr th {\n",
       "        vertical-align: top;\n",
       "    }\n",
       "\n",
       "    .dataframe thead th {\n",
       "        text-align: right;\n",
       "    }\n",
       "</style>\n",
       "<table border=\"1\" class=\"dataframe\">\n",
       "  <thead>\n",
       "    <tr style=\"text-align: right;\">\n",
       "      <th></th>\n",
       "      <th>B</th>\n",
       "      <th>D</th>\n",
       "      <th>C</th>\n",
       "      <th>A</th>\n",
       "    </tr>\n",
       "  </thead>\n",
       "  <tbody>\n",
       "    <tr>\n",
       "      <td>2013-01-01</td>\n",
       "      <td>0.116686</td>\n",
       "      <td>-0.696546</td>\n",
       "      <td>0.414054</td>\n",
       "      <td>-0.435571</td>\n",
       "    </tr>\n",
       "    <tr>\n",
       "      <td>2013-01-02</td>\n",
       "      <td>0.043704</td>\n",
       "      <td>-0.169691</td>\n",
       "      <td>1.250088</td>\n",
       "      <td>1.557891</td>\n",
       "    </tr>\n",
       "    <tr>\n",
       "      <td>2013-01-03</td>\n",
       "      <td>0.136809</td>\n",
       "      <td>-1.530207</td>\n",
       "      <td>1.125442</td>\n",
       "      <td>1.205867</td>\n",
       "    </tr>\n",
       "    <tr>\n",
       "      <td>2013-01-04</td>\n",
       "      <td>1.046273</td>\n",
       "      <td>0.808591</td>\n",
       "      <td>-0.067392</td>\n",
       "      <td>0.198191</td>\n",
       "    </tr>\n",
       "    <tr>\n",
       "      <td>2013-01-05</td>\n",
       "      <td>-1.690102</td>\n",
       "      <td>-0.199856</td>\n",
       "      <td>0.887965</td>\n",
       "      <td>1.429235</td>\n",
       "    </tr>\n",
       "    <tr>\n",
       "      <td>2013-01-06</td>\n",
       "      <td>-0.275181</td>\n",
       "      <td>-0.440648</td>\n",
       "      <td>0.085287</td>\n",
       "      <td>1.722446</td>\n",
       "    </tr>\n",
       "  </tbody>\n",
       "</table>\n",
       "</div>"
      ],
      "text/plain": [
       "                   B         D         C         A\n",
       "2013-01-01  0.116686 -0.696546  0.414054 -0.435571\n",
       "2013-01-02  0.043704 -0.169691  1.250088  1.557891\n",
       "2013-01-03  0.136809 -1.530207  1.125442  1.205867\n",
       "2013-01-04  1.046273  0.808591 -0.067392  0.198191\n",
       "2013-01-05 -1.690102 -0.199856  0.887965  1.429235\n",
       "2013-01-06 -0.275181 -0.440648  0.085287  1.722446"
      ]
     },
     "execution_count": 42,
     "metadata": {},
     "output_type": "execute_result"
    }
   ],
   "source": [
    "# 열 'B'의 값을 기준으로 테이블 정렬\n",
    "# df.sort_values(by='B')\n",
    "# axis: 정렬 대상이 되는 축(행/열) default=0(index)\n",
    "df.sort_values(axis=1,by='20130105')"
   ]
  },
  {
   "cell_type": "markdown",
   "metadata": {},
   "source": [
    "# -특정 값만 행,열 지정해서 가지고 올 때\n",
    ">df.컬럼명\n",
    ">df.['컬럼명']\n",
    ">df.[['컬럼명','컬럼명']]\n",
    ">df.loc[행]\n",
    ">df.loc[행,열]"
   ]
  },
  {
   "cell_type": "code",
   "execution_count": 43,
   "metadata": {},
   "outputs": [
    {
     "data": {
      "text/plain": [
       "2013-01-01   -0.435571\n",
       "2013-01-02    1.557891\n",
       "2013-01-03    1.205867\n",
       "2013-01-04    0.198191\n",
       "2013-01-05    1.429235\n",
       "2013-01-06    1.722446\n",
       "Freq: D, Name: A, dtype: float64"
      ]
     },
     "execution_count": 43,
     "metadata": {},
     "output_type": "execute_result"
    }
   ],
   "source": [
    "# 특수문자가 이름안에 포함되어 있는 경우 못 씀\n",
    "df.A"
   ]
  },
  {
   "cell_type": "code",
   "execution_count": 44,
   "metadata": {},
   "outputs": [
    {
     "data": {
      "text/plain": [
       "2013-01-01   -0.435571\n",
       "2013-01-02    1.557891\n",
       "2013-01-03    1.205867\n",
       "2013-01-04    0.198191\n",
       "2013-01-05    1.429235\n",
       "2013-01-06    1.722446\n",
       "Freq: D, Name: A, dtype: float64"
      ]
     },
     "execution_count": 44,
     "metadata": {},
     "output_type": "execute_result"
    }
   ],
   "source": [
    "df['A']"
   ]
  },
  {
   "cell_type": "code",
   "execution_count": 45,
   "metadata": {},
   "outputs": [
    {
     "data": {
      "text/html": [
       "<div>\n",
       "<style scoped>\n",
       "    .dataframe tbody tr th:only-of-type {\n",
       "        vertical-align: middle;\n",
       "    }\n",
       "\n",
       "    .dataframe tbody tr th {\n",
       "        vertical-align: top;\n",
       "    }\n",
       "\n",
       "    .dataframe thead th {\n",
       "        text-align: right;\n",
       "    }\n",
       "</style>\n",
       "<table border=\"1\" class=\"dataframe\">\n",
       "  <thead>\n",
       "    <tr style=\"text-align: right;\">\n",
       "      <th></th>\n",
       "      <th>A</th>\n",
       "      <th>B</th>\n",
       "    </tr>\n",
       "  </thead>\n",
       "  <tbody>\n",
       "    <tr>\n",
       "      <td>2013-01-01</td>\n",
       "      <td>-0.435571</td>\n",
       "      <td>0.116686</td>\n",
       "    </tr>\n",
       "    <tr>\n",
       "      <td>2013-01-02</td>\n",
       "      <td>1.557891</td>\n",
       "      <td>0.043704</td>\n",
       "    </tr>\n",
       "    <tr>\n",
       "      <td>2013-01-03</td>\n",
       "      <td>1.205867</td>\n",
       "      <td>0.136809</td>\n",
       "    </tr>\n",
       "    <tr>\n",
       "      <td>2013-01-04</td>\n",
       "      <td>0.198191</td>\n",
       "      <td>1.046273</td>\n",
       "    </tr>\n",
       "    <tr>\n",
       "      <td>2013-01-05</td>\n",
       "      <td>1.429235</td>\n",
       "      <td>-1.690102</td>\n",
       "    </tr>\n",
       "    <tr>\n",
       "      <td>2013-01-06</td>\n",
       "      <td>1.722446</td>\n",
       "      <td>-0.275181</td>\n",
       "    </tr>\n",
       "  </tbody>\n",
       "</table>\n",
       "</div>"
      ],
      "text/plain": [
       "                   A         B\n",
       "2013-01-01 -0.435571  0.116686\n",
       "2013-01-02  1.557891  0.043704\n",
       "2013-01-03  1.205867  0.136809\n",
       "2013-01-04  0.198191  1.046273\n",
       "2013-01-05  1.429235 -1.690102\n",
       "2013-01-06  1.722446 -0.275181"
      ]
     },
     "execution_count": 45,
     "metadata": {},
     "output_type": "execute_result"
    }
   ],
   "source": [
    "# 여러 행렬을 가져올 땐 리스트로 묶어서\n",
    "df[['A','B']]"
   ]
  },
  {
   "cell_type": "code",
   "execution_count": 50,
   "metadata": {},
   "outputs": [
    {
     "data": {
      "text/plain": [
       "A    1.557891\n",
       "B    0.043704\n",
       "C    1.250088\n",
       "D   -0.169691\n",
       "Name: 2013-01-02 00:00:00, dtype: float64"
      ]
     },
     "execution_count": 50,
     "metadata": {},
     "output_type": "execute_result"
    }
   ],
   "source": [
    "# 행은 loc함수로 꺼낼 수 있음\n",
    "df.loc['20130102']"
   ]
  },
  {
   "cell_type": "code",
   "execution_count": 51,
   "metadata": {},
   "outputs": [
    {
     "data": {
      "text/html": [
       "<div>\n",
       "<style scoped>\n",
       "    .dataframe tbody tr th:only-of-type {\n",
       "        vertical-align: middle;\n",
       "    }\n",
       "\n",
       "    .dataframe tbody tr th {\n",
       "        vertical-align: top;\n",
       "    }\n",
       "\n",
       "    .dataframe thead th {\n",
       "        text-align: right;\n",
       "    }\n",
       "</style>\n",
       "<table border=\"1\" class=\"dataframe\">\n",
       "  <thead>\n",
       "    <tr style=\"text-align: right;\">\n",
       "      <th></th>\n",
       "      <th>A</th>\n",
       "      <th>B</th>\n",
       "      <th>C</th>\n",
       "      <th>D</th>\n",
       "    </tr>\n",
       "  </thead>\n",
       "  <tbody>\n",
       "    <tr>\n",
       "      <td>2013-01-01</td>\n",
       "      <td>-0.435571</td>\n",
       "      <td>0.116686</td>\n",
       "      <td>0.414054</td>\n",
       "      <td>-0.696546</td>\n",
       "    </tr>\n",
       "    <tr>\n",
       "      <td>2013-01-02</td>\n",
       "      <td>1.557891</td>\n",
       "      <td>0.043704</td>\n",
       "      <td>1.250088</td>\n",
       "      <td>-0.169691</td>\n",
       "    </tr>\n",
       "    <tr>\n",
       "      <td>2013-01-03</td>\n",
       "      <td>1.205867</td>\n",
       "      <td>0.136809</td>\n",
       "      <td>1.125442</td>\n",
       "      <td>-1.530207</td>\n",
       "    </tr>\n",
       "  </tbody>\n",
       "</table>\n",
       "</div>"
      ],
      "text/plain": [
       "                   A         B         C         D\n",
       "2013-01-01 -0.435571  0.116686  0.414054 -0.696546\n",
       "2013-01-02  1.557891  0.043704  1.250088 -0.169691\n",
       "2013-01-03  1.205867  0.136809  1.125442 -1.530207"
      ]
     },
     "execution_count": 51,
     "metadata": {},
     "output_type": "execute_result"
    }
   ],
   "source": [
    "# 또는 인덱스 범위를 넣어주면 행단위로 꺼내오기 가능\n",
    "df[0:3]"
   ]
  },
  {
   "cell_type": "code",
   "execution_count": 52,
   "metadata": {},
   "outputs": [
    {
     "data": {
      "text/plain": [
       "A   -0.435571\n",
       "B    0.116686\n",
       "C    0.414054\n",
       "D   -0.696546\n",
       "Name: 2013-01-01 00:00:00, dtype: float64"
      ]
     },
     "execution_count": 52,
     "metadata": {},
     "output_type": "execute_result"
    }
   ],
   "source": [
    "df.loc[dates[0]]"
   ]
  },
  {
   "cell_type": "code",
   "execution_count": 57,
   "metadata": {},
   "outputs": [
    {
     "data": {
      "text/html": [
       "<div>\n",
       "<style scoped>\n",
       "    .dataframe tbody tr th:only-of-type {\n",
       "        vertical-align: middle;\n",
       "    }\n",
       "\n",
       "    .dataframe tbody tr th {\n",
       "        vertical-align: top;\n",
       "    }\n",
       "\n",
       "    .dataframe thead th {\n",
       "        text-align: right;\n",
       "    }\n",
       "</style>\n",
       "<table border=\"1\" class=\"dataframe\">\n",
       "  <thead>\n",
       "    <tr style=\"text-align: right;\">\n",
       "      <th></th>\n",
       "      <th>A</th>\n",
       "      <th>B</th>\n",
       "    </tr>\n",
       "  </thead>\n",
       "  <tbody>\n",
       "    <tr>\n",
       "      <td>2013-01-02</td>\n",
       "      <td>1.557891</td>\n",
       "      <td>0.043704</td>\n",
       "    </tr>\n",
       "    <tr>\n",
       "      <td>2013-01-03</td>\n",
       "      <td>1.205867</td>\n",
       "      <td>0.136809</td>\n",
       "    </tr>\n",
       "    <tr>\n",
       "      <td>2013-01-04</td>\n",
       "      <td>0.198191</td>\n",
       "      <td>1.046273</td>\n",
       "    </tr>\n",
       "    <tr>\n",
       "      <td>2013-01-05</td>\n",
       "      <td>1.429235</td>\n",
       "      <td>-1.690102</td>\n",
       "    </tr>\n",
       "  </tbody>\n",
       "</table>\n",
       "</div>"
      ],
      "text/plain": [
       "                   A         B\n",
       "2013-01-02  1.557891  0.043704\n",
       "2013-01-03  1.205867  0.136809\n",
       "2013-01-04  0.198191  1.046273\n",
       "2013-01-05  1.429235 -1.690102"
      ]
     },
     "execution_count": 57,
     "metadata": {},
     "output_type": "execute_result"
    }
   ],
   "source": [
    "df.loc['20130102':'20130105',['A','B']]"
   ]
  },
  {
   "cell_type": "code",
   "execution_count": 54,
   "metadata": {},
   "outputs": [
    {
     "data": {
      "text/html": [
       "<div>\n",
       "<style scoped>\n",
       "    .dataframe tbody tr th:only-of-type {\n",
       "        vertical-align: middle;\n",
       "    }\n",
       "\n",
       "    .dataframe tbody tr th {\n",
       "        vertical-align: top;\n",
       "    }\n",
       "\n",
       "    .dataframe thead th {\n",
       "        text-align: right;\n",
       "    }\n",
       "</style>\n",
       "<table border=\"1\" class=\"dataframe\">\n",
       "  <thead>\n",
       "    <tr style=\"text-align: right;\">\n",
       "      <th></th>\n",
       "      <th>A</th>\n",
       "      <th>B</th>\n",
       "    </tr>\n",
       "  </thead>\n",
       "  <tbody>\n",
       "    <tr>\n",
       "      <td>2013-01-01</td>\n",
       "      <td>-0.435571</td>\n",
       "      <td>0.116686</td>\n",
       "    </tr>\n",
       "    <tr>\n",
       "      <td>2013-01-02</td>\n",
       "      <td>1.557891</td>\n",
       "      <td>0.043704</td>\n",
       "    </tr>\n",
       "    <tr>\n",
       "      <td>2013-01-03</td>\n",
       "      <td>1.205867</td>\n",
       "      <td>0.136809</td>\n",
       "    </tr>\n",
       "    <tr>\n",
       "      <td>2013-01-04</td>\n",
       "      <td>0.198191</td>\n",
       "      <td>1.046273</td>\n",
       "    </tr>\n",
       "    <tr>\n",
       "      <td>2013-01-05</td>\n",
       "      <td>1.429235</td>\n",
       "      <td>-1.690102</td>\n",
       "    </tr>\n",
       "    <tr>\n",
       "      <td>2013-01-06</td>\n",
       "      <td>1.722446</td>\n",
       "      <td>-0.275181</td>\n",
       "    </tr>\n",
       "  </tbody>\n",
       "</table>\n",
       "</div>"
      ],
      "text/plain": [
       "                   A         B\n",
       "2013-01-01 -0.435571  0.116686\n",
       "2013-01-02  1.557891  0.043704\n",
       "2013-01-03  1.205867  0.136809\n",
       "2013-01-04  0.198191  1.046273\n",
       "2013-01-05  1.429235 -1.690102\n",
       "2013-01-06  1.722446 -0.275181"
      ]
     },
     "execution_count": 54,
     "metadata": {},
     "output_type": "execute_result"
    }
   ],
   "source": [
    "# 앞은 행의 범위, 뒤는 열의 범위\n",
    "df.loc[:,['A','B']]"
   ]
  },
  {
   "cell_type": "code",
   "execution_count": 58,
   "metadata": {},
   "outputs": [
    {
     "data": {
      "text/plain": [
       "A    0.198191\n",
       "B    1.046273\n",
       "C   -0.067392\n",
       "D    0.808591\n",
       "Name: 2013-01-04 00:00:00, dtype: float64"
      ]
     },
     "execution_count": 58,
     "metadata": {},
     "output_type": "execute_result"
    }
   ],
   "source": [
    "# iloc: 인덱스로 가져오기\n",
    "df.iloc[3]"
   ]
  },
  {
   "cell_type": "code",
   "execution_count": 59,
   "metadata": {},
   "outputs": [
    {
     "data": {
      "text/html": [
       "<div>\n",
       "<style scoped>\n",
       "    .dataframe tbody tr th:only-of-type {\n",
       "        vertical-align: middle;\n",
       "    }\n",
       "\n",
       "    .dataframe tbody tr th {\n",
       "        vertical-align: top;\n",
       "    }\n",
       "\n",
       "    .dataframe thead th {\n",
       "        text-align: right;\n",
       "    }\n",
       "</style>\n",
       "<table border=\"1\" class=\"dataframe\">\n",
       "  <thead>\n",
       "    <tr style=\"text-align: right;\">\n",
       "      <th></th>\n",
       "      <th>B</th>\n",
       "      <th>C</th>\n",
       "    </tr>\n",
       "  </thead>\n",
       "  <tbody>\n",
       "    <tr>\n",
       "      <td>2013-01-01</td>\n",
       "      <td>0.116686</td>\n",
       "      <td>0.414054</td>\n",
       "    </tr>\n",
       "    <tr>\n",
       "      <td>2013-01-02</td>\n",
       "      <td>0.043704</td>\n",
       "      <td>1.250088</td>\n",
       "    </tr>\n",
       "    <tr>\n",
       "      <td>2013-01-03</td>\n",
       "      <td>0.136809</td>\n",
       "      <td>1.125442</td>\n",
       "    </tr>\n",
       "    <tr>\n",
       "      <td>2013-01-04</td>\n",
       "      <td>1.046273</td>\n",
       "      <td>-0.067392</td>\n",
       "    </tr>\n",
       "    <tr>\n",
       "      <td>2013-01-05</td>\n",
       "      <td>-1.690102</td>\n",
       "      <td>0.887965</td>\n",
       "    </tr>\n",
       "    <tr>\n",
       "      <td>2013-01-06</td>\n",
       "      <td>-0.275181</td>\n",
       "      <td>0.085287</td>\n",
       "    </tr>\n",
       "  </tbody>\n",
       "</table>\n",
       "</div>"
      ],
      "text/plain": [
       "                   B         C\n",
       "2013-01-01  0.116686  0.414054\n",
       "2013-01-02  0.043704  1.250088\n",
       "2013-01-03  0.136809  1.125442\n",
       "2013-01-04  1.046273 -0.067392\n",
       "2013-01-05 -1.690102  0.887965\n",
       "2013-01-06 -0.275181  0.085287"
      ]
     },
     "execution_count": 59,
     "metadata": {},
     "output_type": "execute_result"
    }
   ],
   "source": [
    "df.iloc[:,1:3]"
   ]
  },
  {
   "cell_type": "code",
   "execution_count": 60,
   "metadata": {},
   "outputs": [
    {
     "data": {
      "text/plain": [
       "0.04370352403531505"
      ]
     },
     "execution_count": 60,
     "metadata": {},
     "output_type": "execute_result"
    }
   ],
   "source": [
    "df.iloc[1,1]"
   ]
  },
  {
   "cell_type": "code",
   "execution_count": 68,
   "metadata": {},
   "outputs": [
    {
     "data": {
      "text/html": [
       "<div>\n",
       "<style scoped>\n",
       "    .dataframe tbody tr th:only-of-type {\n",
       "        vertical-align: middle;\n",
       "    }\n",
       "\n",
       "    .dataframe tbody tr th {\n",
       "        vertical-align: top;\n",
       "    }\n",
       "\n",
       "    .dataframe thead th {\n",
       "        text-align: right;\n",
       "    }\n",
       "</style>\n",
       "<table border=\"1\" class=\"dataframe\">\n",
       "  <thead>\n",
       "    <tr style=\"text-align: right;\">\n",
       "      <th></th>\n",
       "      <th>A</th>\n",
       "      <th>B</th>\n",
       "      <th>C</th>\n",
       "      <th>D</th>\n",
       "    </tr>\n",
       "  </thead>\n",
       "  <tbody>\n",
       "    <tr>\n",
       "      <td>2013-01-01</td>\n",
       "      <td>-0.435571</td>\n",
       "      <td>0.116686</td>\n",
       "      <td>0.414054</td>\n",
       "      <td>-0.696546</td>\n",
       "    </tr>\n",
       "    <tr>\n",
       "      <td>2013-01-02</td>\n",
       "      <td>1.557891</td>\n",
       "      <td>0.043704</td>\n",
       "      <td>1.250088</td>\n",
       "      <td>-0.169691</td>\n",
       "    </tr>\n",
       "    <tr>\n",
       "      <td>2013-01-03</td>\n",
       "      <td>1.205867</td>\n",
       "      <td>0.136809</td>\n",
       "      <td>1.125442</td>\n",
       "      <td>-1.530207</td>\n",
       "    </tr>\n",
       "    <tr>\n",
       "      <td>2013-01-04</td>\n",
       "      <td>0.198191</td>\n",
       "      <td>1.046273</td>\n",
       "      <td>-0.067392</td>\n",
       "      <td>0.808591</td>\n",
       "    </tr>\n",
       "  </tbody>\n",
       "</table>\n",
       "</div>"
      ],
      "text/plain": [
       "                   A         B         C         D\n",
       "2013-01-01 -0.435571  0.116686  0.414054 -0.696546\n",
       "2013-01-02  1.557891  0.043704  1.250088 -0.169691\n",
       "2013-01-03  1.205867  0.136809  1.125442 -1.530207\n",
       "2013-01-04  0.198191  1.046273 -0.067392  0.808591"
      ]
     },
     "execution_count": 68,
     "metadata": {},
     "output_type": "execute_result"
    }
   ],
   "source": [
    "# B열 값 중 양수인 열만 뽑아서 출력한다.\n",
    "df[df['B']>0]"
   ]
  },
  {
   "cell_type": "code",
   "execution_count": 69,
   "metadata": {},
   "outputs": [
    {
     "data": {
      "text/html": [
       "<div>\n",
       "<style scoped>\n",
       "    .dataframe tbody tr th:only-of-type {\n",
       "        vertical-align: middle;\n",
       "    }\n",
       "\n",
       "    .dataframe tbody tr th {\n",
       "        vertical-align: top;\n",
       "    }\n",
       "\n",
       "    .dataframe thead th {\n",
       "        text-align: right;\n",
       "    }\n",
       "</style>\n",
       "<table border=\"1\" class=\"dataframe\">\n",
       "  <thead>\n",
       "    <tr style=\"text-align: right;\">\n",
       "      <th></th>\n",
       "      <th>A</th>\n",
       "      <th>B</th>\n",
       "      <th>C</th>\n",
       "      <th>D</th>\n",
       "    </tr>\n",
       "  </thead>\n",
       "  <tbody>\n",
       "    <tr>\n",
       "      <td>2013-01-01</td>\n",
       "      <td>NaN</td>\n",
       "      <td>0.116686</td>\n",
       "      <td>0.414054</td>\n",
       "      <td>NaN</td>\n",
       "    </tr>\n",
       "    <tr>\n",
       "      <td>2013-01-02</td>\n",
       "      <td>1.557891</td>\n",
       "      <td>0.043704</td>\n",
       "      <td>1.250088</td>\n",
       "      <td>NaN</td>\n",
       "    </tr>\n",
       "    <tr>\n",
       "      <td>2013-01-03</td>\n",
       "      <td>1.205867</td>\n",
       "      <td>0.136809</td>\n",
       "      <td>1.125442</td>\n",
       "      <td>NaN</td>\n",
       "    </tr>\n",
       "    <tr>\n",
       "      <td>2013-01-04</td>\n",
       "      <td>0.198191</td>\n",
       "      <td>1.046273</td>\n",
       "      <td>NaN</td>\n",
       "      <td>0.808591</td>\n",
       "    </tr>\n",
       "    <tr>\n",
       "      <td>2013-01-05</td>\n",
       "      <td>1.429235</td>\n",
       "      <td>NaN</td>\n",
       "      <td>0.887965</td>\n",
       "      <td>NaN</td>\n",
       "    </tr>\n",
       "    <tr>\n",
       "      <td>2013-01-06</td>\n",
       "      <td>1.722446</td>\n",
       "      <td>NaN</td>\n",
       "      <td>0.085287</td>\n",
       "      <td>NaN</td>\n",
       "    </tr>\n",
       "  </tbody>\n",
       "</table>\n",
       "</div>"
      ],
      "text/plain": [
       "                   A         B         C         D\n",
       "2013-01-01       NaN  0.116686  0.414054       NaN\n",
       "2013-01-02  1.557891  0.043704  1.250088       NaN\n",
       "2013-01-03  1.205867  0.136809  1.125442       NaN\n",
       "2013-01-04  0.198191  1.046273       NaN  0.808591\n",
       "2013-01-05  1.429235       NaN  0.887965       NaN\n",
       "2013-01-06  1.722446       NaN  0.085287       NaN"
      ]
     },
     "execution_count": 69,
     "metadata": {},
     "output_type": "execute_result"
    }
   ],
   "source": [
    "# 조건에 만족하는 값만 원래 값을 리턴, 만족하지 않으면 nan을 리턴\n",
    "df[df>0]"
   ]
  },
  {
   "cell_type": "code",
   "execution_count": 71,
   "metadata": {},
   "outputs": [
    {
     "data": {
      "text/html": [
       "<div>\n",
       "<style scoped>\n",
       "    .dataframe tbody tr th:only-of-type {\n",
       "        vertical-align: middle;\n",
       "    }\n",
       "\n",
       "    .dataframe tbody tr th {\n",
       "        vertical-align: top;\n",
       "    }\n",
       "\n",
       "    .dataframe thead th {\n",
       "        text-align: right;\n",
       "    }\n",
       "</style>\n",
       "<table border=\"1\" class=\"dataframe\">\n",
       "  <thead>\n",
       "    <tr style=\"text-align: right;\">\n",
       "      <th></th>\n",
       "      <th>A</th>\n",
       "      <th>B</th>\n",
       "      <th>C</th>\n",
       "      <th>D</th>\n",
       "    </tr>\n",
       "  </thead>\n",
       "  <tbody>\n",
       "    <tr>\n",
       "      <td>2013-01-01</td>\n",
       "      <td>-0.435571</td>\n",
       "      <td>0.116686</td>\n",
       "      <td>0.414054</td>\n",
       "      <td>-0.696546</td>\n",
       "    </tr>\n",
       "    <tr>\n",
       "      <td>2013-01-02</td>\n",
       "      <td>1.557891</td>\n",
       "      <td>0.043704</td>\n",
       "      <td>1.250088</td>\n",
       "      <td>-0.169691</td>\n",
       "    </tr>\n",
       "    <tr>\n",
       "      <td>2013-01-03</td>\n",
       "      <td>1.205867</td>\n",
       "      <td>0.136809</td>\n",
       "      <td>1.125442</td>\n",
       "      <td>-1.530207</td>\n",
       "    </tr>\n",
       "    <tr>\n",
       "      <td>2013-01-04</td>\n",
       "      <td>0.198191</td>\n",
       "      <td>1.046273</td>\n",
       "      <td>-0.067392</td>\n",
       "      <td>0.808591</td>\n",
       "    </tr>\n",
       "    <tr>\n",
       "      <td>2013-01-05</td>\n",
       "      <td>1.429235</td>\n",
       "      <td>-1.690102</td>\n",
       "      <td>0.887965</td>\n",
       "      <td>-0.199856</td>\n",
       "    </tr>\n",
       "    <tr>\n",
       "      <td>2013-01-06</td>\n",
       "      <td>1.722446</td>\n",
       "      <td>-0.275181</td>\n",
       "      <td>0.085287</td>\n",
       "      <td>-0.440648</td>\n",
       "    </tr>\n",
       "  </tbody>\n",
       "</table>\n",
       "</div>"
      ],
      "text/plain": [
       "                   A         B         C         D\n",
       "2013-01-01 -0.435571  0.116686  0.414054 -0.696546\n",
       "2013-01-02  1.557891  0.043704  1.250088 -0.169691\n",
       "2013-01-03  1.205867  0.136809  1.125442 -1.530207\n",
       "2013-01-04  0.198191  1.046273 -0.067392  0.808591\n",
       "2013-01-05  1.429235 -1.690102  0.887965 -0.199856\n",
       "2013-01-06  1.722446 -0.275181  0.085287 -0.440648"
      ]
     },
     "execution_count": 71,
     "metadata": {},
     "output_type": "execute_result"
    }
   ],
   "source": [
    "df2 = df.copy()\n",
    "df2"
   ]
  },
  {
   "cell_type": "code",
   "execution_count": 78,
   "metadata": {},
   "outputs": [
    {
     "data": {
      "text/plain": [
       "True"
      ]
     },
     "execution_count": 78,
     "metadata": {},
     "output_type": "execute_result"
    }
   ],
   "source": [
    "# 주소값이 같으므로 df3를 편집하면 df도 같이 편집됨\n",
    "df3=df\n",
    "id(df) == id(df3)"
   ]
  },
  {
   "cell_type": "code",
   "execution_count": 73,
   "metadata": {},
   "outputs": [
    {
     "data": {
      "text/plain": [
       "140446731942928"
      ]
     },
     "execution_count": 73,
     "metadata": {},
     "output_type": "execute_result"
    }
   ],
   "source": [
    "id(df3)"
   ]
  },
  {
   "cell_type": "code",
   "execution_count": 74,
   "metadata": {},
   "outputs": [
    {
     "data": {
      "text/plain": [
       "140446731942928"
      ]
     },
     "execution_count": 74,
     "metadata": {},
     "output_type": "execute_result"
    }
   ],
   "source": [
    "id(df)"
   ]
  },
  {
   "cell_type": "code",
   "execution_count": 75,
   "metadata": {},
   "outputs": [
    {
     "data": {
      "text/plain": [
       "140446726989328"
      ]
     },
     "execution_count": 75,
     "metadata": {},
     "output_type": "execute_result"
    }
   ],
   "source": [
    "id(df2)"
   ]
  },
  {
   "cell_type": "code",
   "execution_count": 79,
   "metadata": {},
   "outputs": [
    {
     "data": {
      "text/plain": [
       "False"
      ]
     },
     "execution_count": 79,
     "metadata": {},
     "output_type": "execute_result"
    }
   ],
   "source": [
    "id(df) == id(df2)"
   ]
  },
  {
   "cell_type": "code",
   "execution_count": 82,
   "metadata": {},
   "outputs": [],
   "source": [
    "# 자료 추가할 때 갯수 맞춰줘야 함\n",
    "df2['E'] = ['one','one','two','three','four','five']"
   ]
  },
  {
   "cell_type": "code",
   "execution_count": 84,
   "metadata": {},
   "outputs": [
    {
     "data": {
      "text/plain": [
       "2013-01-01    False\n",
       "2013-01-02    False\n",
       "2013-01-03     True\n",
       "2013-01-04    False\n",
       "2013-01-05     True\n",
       "2013-01-06    False\n",
       "Freq: D, Name: E, dtype: bool"
      ]
     },
     "execution_count": 84,
     "metadata": {},
     "output_type": "execute_result"
    }
   ],
   "source": [
    "# 해당 열에 값이 있는지 검사, T/F로 리턴\n",
    "df2.E.isin(['two','four'])"
   ]
  },
  {
   "cell_type": "code",
   "execution_count": 85,
   "metadata": {},
   "outputs": [
    {
     "data": {
      "text/html": [
       "<div>\n",
       "<style scoped>\n",
       "    .dataframe tbody tr th:only-of-type {\n",
       "        vertical-align: middle;\n",
       "    }\n",
       "\n",
       "    .dataframe tbody tr th {\n",
       "        vertical-align: top;\n",
       "    }\n",
       "\n",
       "    .dataframe thead th {\n",
       "        text-align: right;\n",
       "    }\n",
       "</style>\n",
       "<table border=\"1\" class=\"dataframe\">\n",
       "  <thead>\n",
       "    <tr style=\"text-align: right;\">\n",
       "      <th></th>\n",
       "      <th>A</th>\n",
       "      <th>B</th>\n",
       "      <th>C</th>\n",
       "      <th>D</th>\n",
       "      <th>E</th>\n",
       "    </tr>\n",
       "  </thead>\n",
       "  <tbody>\n",
       "    <tr>\n",
       "      <td>2013-01-03</td>\n",
       "      <td>1.205867</td>\n",
       "      <td>0.136809</td>\n",
       "      <td>1.125442</td>\n",
       "      <td>-1.530207</td>\n",
       "      <td>two</td>\n",
       "    </tr>\n",
       "    <tr>\n",
       "      <td>2013-01-05</td>\n",
       "      <td>1.429235</td>\n",
       "      <td>-1.690102</td>\n",
       "      <td>0.887965</td>\n",
       "      <td>-0.199856</td>\n",
       "      <td>four</td>\n",
       "    </tr>\n",
       "  </tbody>\n",
       "</table>\n",
       "</div>"
      ],
      "text/plain": [
       "                   A         B         C         D     E\n",
       "2013-01-03  1.205867  0.136809  1.125442 -1.530207   two\n",
       "2013-01-05  1.429235 -1.690102  0.887965 -0.199856  four"
      ]
     },
     "execution_count": 85,
     "metadata": {},
     "output_type": "execute_result"
    }
   ],
   "source": [
    "# 조건에 맞는 행을 테이블에서 가져온다.\n",
    "df2[df2.E.isin(['two','four'])]"
   ]
  },
  {
   "cell_type": "code",
   "execution_count": 91,
   "metadata": {},
   "outputs": [
    {
     "data": {
      "text/plain": [
       "2013-01-02    1\n",
       "2013-01-03    2\n",
       "2013-01-04    3\n",
       "2013-01-05    4\n",
       "2013-01-06    5\n",
       "2013-01-07    6\n",
       "Freq: D, dtype: int64"
      ]
     },
     "execution_count": 91,
     "metadata": {},
     "output_type": "execute_result"
    }
   ],
   "source": [
    "s1=pd.Series([1,2,3,4,5,6],index=pd.date_range('20130102',periods=6))\n",
    "s1"
   ]
  },
  {
   "cell_type": "code",
   "execution_count": 92,
   "metadata": {},
   "outputs": [
    {
     "data": {
      "text/html": [
       "<div>\n",
       "<style scoped>\n",
       "    .dataframe tbody tr th:only-of-type {\n",
       "        vertical-align: middle;\n",
       "    }\n",
       "\n",
       "    .dataframe tbody tr th {\n",
       "        vertical-align: top;\n",
       "    }\n",
       "\n",
       "    .dataframe thead th {\n",
       "        text-align: right;\n",
       "    }\n",
       "</style>\n",
       "<table border=\"1\" class=\"dataframe\">\n",
       "  <thead>\n",
       "    <tr style=\"text-align: right;\">\n",
       "      <th></th>\n",
       "      <th>A</th>\n",
       "      <th>B</th>\n",
       "      <th>C</th>\n",
       "      <th>D</th>\n",
       "      <th>E</th>\n",
       "      <th>F</th>\n",
       "    </tr>\n",
       "  </thead>\n",
       "  <tbody>\n",
       "    <tr>\n",
       "      <td>2013-01-01</td>\n",
       "      <td>-0.435571</td>\n",
       "      <td>0.116686</td>\n",
       "      <td>0.414054</td>\n",
       "      <td>-0.696546</td>\n",
       "      <td>one</td>\n",
       "      <td>NaN</td>\n",
       "    </tr>\n",
       "    <tr>\n",
       "      <td>2013-01-02</td>\n",
       "      <td>1.557891</td>\n",
       "      <td>0.043704</td>\n",
       "      <td>1.250088</td>\n",
       "      <td>-0.169691</td>\n",
       "      <td>one</td>\n",
       "      <td>1.0</td>\n",
       "    </tr>\n",
       "    <tr>\n",
       "      <td>2013-01-03</td>\n",
       "      <td>1.205867</td>\n",
       "      <td>0.136809</td>\n",
       "      <td>1.125442</td>\n",
       "      <td>-1.530207</td>\n",
       "      <td>two</td>\n",
       "      <td>2.0</td>\n",
       "    </tr>\n",
       "    <tr>\n",
       "      <td>2013-01-04</td>\n",
       "      <td>0.198191</td>\n",
       "      <td>1.046273</td>\n",
       "      <td>-0.067392</td>\n",
       "      <td>0.808591</td>\n",
       "      <td>three</td>\n",
       "      <td>3.0</td>\n",
       "    </tr>\n",
       "    <tr>\n",
       "      <td>2013-01-05</td>\n",
       "      <td>1.429235</td>\n",
       "      <td>-1.690102</td>\n",
       "      <td>0.887965</td>\n",
       "      <td>-0.199856</td>\n",
       "      <td>four</td>\n",
       "      <td>4.0</td>\n",
       "    </tr>\n",
       "    <tr>\n",
       "      <td>2013-01-06</td>\n",
       "      <td>1.722446</td>\n",
       "      <td>-0.275181</td>\n",
       "      <td>0.085287</td>\n",
       "      <td>-0.440648</td>\n",
       "      <td>five</td>\n",
       "      <td>5.0</td>\n",
       "    </tr>\n",
       "  </tbody>\n",
       "</table>\n",
       "</div>"
      ],
      "text/plain": [
       "                   A         B         C         D      E    F\n",
       "2013-01-01 -0.435571  0.116686  0.414054 -0.696546    one  NaN\n",
       "2013-01-02  1.557891  0.043704  1.250088 -0.169691    one  1.0\n",
       "2013-01-03  1.205867  0.136809  1.125442 -1.530207    two  2.0\n",
       "2013-01-04  0.198191  1.046273 -0.067392  0.808591  three  3.0\n",
       "2013-01-05  1.429235 -1.690102  0.887965 -0.199856   four  4.0\n",
       "2013-01-06  1.722446 -0.275181  0.085287 -0.440648   five  5.0"
      ]
     },
     "execution_count": 92,
     "metadata": {},
     "output_type": "execute_result"
    }
   ],
   "source": [
    "# 인덱스(행)을 맞춰서 삽입됨\n",
    "df2['F']=s1\n",
    "df2"
   ]
  },
  {
   "cell_type": "code",
   "execution_count": 94,
   "metadata": {},
   "outputs": [
    {
     "data": {
      "text/html": [
       "<div>\n",
       "<style scoped>\n",
       "    .dataframe tbody tr th:only-of-type {\n",
       "        vertical-align: middle;\n",
       "    }\n",
       "\n",
       "    .dataframe tbody tr th {\n",
       "        vertical-align: top;\n",
       "    }\n",
       "\n",
       "    .dataframe thead th {\n",
       "        text-align: right;\n",
       "    }\n",
       "</style>\n",
       "<table border=\"1\" class=\"dataframe\">\n",
       "  <thead>\n",
       "    <tr style=\"text-align: right;\">\n",
       "      <th></th>\n",
       "      <th>A</th>\n",
       "      <th>B</th>\n",
       "      <th>C</th>\n",
       "      <th>D</th>\n",
       "      <th>F</th>\n",
       "    </tr>\n",
       "  </thead>\n",
       "  <tbody>\n",
       "    <tr>\n",
       "      <td>2013-01-01</td>\n",
       "      <td>0.000000</td>\n",
       "      <td>0.116686</td>\n",
       "      <td>0.414054</td>\n",
       "      <td>-0.696546</td>\n",
       "      <td>NaN</td>\n",
       "    </tr>\n",
       "    <tr>\n",
       "      <td>2013-01-02</td>\n",
       "      <td>1.557891</td>\n",
       "      <td>0.043704</td>\n",
       "      <td>1.250088</td>\n",
       "      <td>-0.169691</td>\n",
       "      <td>NaN</td>\n",
       "    </tr>\n",
       "    <tr>\n",
       "      <td>2013-01-03</td>\n",
       "      <td>1.205867</td>\n",
       "      <td>0.136809</td>\n",
       "      <td>1.125442</td>\n",
       "      <td>-1.530207</td>\n",
       "      <td>NaN</td>\n",
       "    </tr>\n",
       "    <tr>\n",
       "      <td>2013-01-04</td>\n",
       "      <td>0.198191</td>\n",
       "      <td>1.046273</td>\n",
       "      <td>-0.067392</td>\n",
       "      <td>0.808591</td>\n",
       "      <td>NaN</td>\n",
       "    </tr>\n",
       "    <tr>\n",
       "      <td>2013-01-05</td>\n",
       "      <td>1.429235</td>\n",
       "      <td>-1.690102</td>\n",
       "      <td>0.887965</td>\n",
       "      <td>-0.199856</td>\n",
       "      <td>NaN</td>\n",
       "    </tr>\n",
       "    <tr>\n",
       "      <td>2013-01-06</td>\n",
       "      <td>1.722446</td>\n",
       "      <td>-0.275181</td>\n",
       "      <td>0.085287</td>\n",
       "      <td>-0.440648</td>\n",
       "      <td>NaN</td>\n",
       "    </tr>\n",
       "  </tbody>\n",
       "</table>\n",
       "</div>"
      ],
      "text/plain": [
       "                   A         B         C         D   F\n",
       "2013-01-01  0.000000  0.116686  0.414054 -0.696546 NaN\n",
       "2013-01-02  1.557891  0.043704  1.250088 -0.169691 NaN\n",
       "2013-01-03  1.205867  0.136809  1.125442 -1.530207 NaN\n",
       "2013-01-04  0.198191  1.046273 -0.067392  0.808591 NaN\n",
       "2013-01-05  1.429235 -1.690102  0.887965 -0.199856 NaN\n",
       "2013-01-06  1.722446 -0.275181  0.085287 -0.440648 NaN"
      ]
     },
     "execution_count": 94,
     "metadata": {},
     "output_type": "execute_result"
    }
   ],
   "source": [
    "#위치값으로 값 갱신 가능\n",
    "df.at[dates[0],'A'] = 0\n",
    "df"
   ]
  },
  {
   "cell_type": "code",
   "execution_count": 95,
   "metadata": {},
   "outputs": [
    {
     "data": {
      "text/plain": [
       "0.11668642929956402"
      ]
     },
     "execution_count": 95,
     "metadata": {},
     "output_type": "execute_result"
    }
   ],
   "source": [
    "df.iat[0,1]"
   ]
  },
  {
   "cell_type": "code",
   "execution_count": 97,
   "metadata": {},
   "outputs": [
    {
     "data": {
      "text/html": [
       "<div>\n",
       "<style scoped>\n",
       "    .dataframe tbody tr th:only-of-type {\n",
       "        vertical-align: middle;\n",
       "    }\n",
       "\n",
       "    .dataframe tbody tr th {\n",
       "        vertical-align: top;\n",
       "    }\n",
       "\n",
       "    .dataframe thead th {\n",
       "        text-align: right;\n",
       "    }\n",
       "</style>\n",
       "<table border=\"1\" class=\"dataframe\">\n",
       "  <thead>\n",
       "    <tr style=\"text-align: right;\">\n",
       "      <th></th>\n",
       "      <th>A</th>\n",
       "      <th>B</th>\n",
       "      <th>C</th>\n",
       "      <th>D</th>\n",
       "      <th>F</th>\n",
       "    </tr>\n",
       "  </thead>\n",
       "  <tbody>\n",
       "    <tr>\n",
       "      <td>2013-01-01</td>\n",
       "      <td>0.000000</td>\n",
       "      <td>0.116686</td>\n",
       "      <td>0.414054</td>\n",
       "      <td>5</td>\n",
       "      <td>NaN</td>\n",
       "    </tr>\n",
       "    <tr>\n",
       "      <td>2013-01-02</td>\n",
       "      <td>1.557891</td>\n",
       "      <td>0.043704</td>\n",
       "      <td>1.250088</td>\n",
       "      <td>5</td>\n",
       "      <td>NaN</td>\n",
       "    </tr>\n",
       "    <tr>\n",
       "      <td>2013-01-03</td>\n",
       "      <td>1.205867</td>\n",
       "      <td>0.136809</td>\n",
       "      <td>1.125442</td>\n",
       "      <td>5</td>\n",
       "      <td>NaN</td>\n",
       "    </tr>\n",
       "    <tr>\n",
       "      <td>2013-01-04</td>\n",
       "      <td>0.198191</td>\n",
       "      <td>1.046273</td>\n",
       "      <td>-0.067392</td>\n",
       "      <td>5</td>\n",
       "      <td>NaN</td>\n",
       "    </tr>\n",
       "    <tr>\n",
       "      <td>2013-01-05</td>\n",
       "      <td>1.429235</td>\n",
       "      <td>-1.690102</td>\n",
       "      <td>0.887965</td>\n",
       "      <td>5</td>\n",
       "      <td>NaN</td>\n",
       "    </tr>\n",
       "    <tr>\n",
       "      <td>2013-01-06</td>\n",
       "      <td>1.722446</td>\n",
       "      <td>-0.275181</td>\n",
       "      <td>0.085287</td>\n",
       "      <td>5</td>\n",
       "      <td>NaN</td>\n",
       "    </tr>\n",
       "  </tbody>\n",
       "</table>\n",
       "</div>"
      ],
      "text/plain": [
       "                   A         B         C  D   F\n",
       "2013-01-01  0.000000  0.116686  0.414054  5 NaN\n",
       "2013-01-02  1.557891  0.043704  1.250088  5 NaN\n",
       "2013-01-03  1.205867  0.136809  1.125442  5 NaN\n",
       "2013-01-04  0.198191  1.046273 -0.067392  5 NaN\n",
       "2013-01-05  1.429235 -1.690102  0.887965  5 NaN\n",
       "2013-01-06  1.722446 -0.275181  0.085287  5 NaN"
      ]
     },
     "execution_count": 97,
     "metadata": {},
     "output_type": "execute_result"
    }
   ],
   "source": [
    "df.loc[:,'D'] = np.array([5] * len(df))\n",
    "df"
   ]
  },
  {
   "cell_type": "code",
   "execution_count": 99,
   "metadata": {},
   "outputs": [
    {
     "data": {
      "text/html": [
       "<div>\n",
       "<style scoped>\n",
       "    .dataframe tbody tr th:only-of-type {\n",
       "        vertical-align: middle;\n",
       "    }\n",
       "\n",
       "    .dataframe tbody tr th {\n",
       "        vertical-align: top;\n",
       "    }\n",
       "\n",
       "    .dataframe thead th {\n",
       "        text-align: right;\n",
       "    }\n",
       "</style>\n",
       "<table border=\"1\" class=\"dataframe\">\n",
       "  <thead>\n",
       "    <tr style=\"text-align: right;\">\n",
       "      <th></th>\n",
       "      <th>A</th>\n",
       "      <th>B</th>\n",
       "      <th>C</th>\n",
       "      <th>D</th>\n",
       "      <th>F</th>\n",
       "    </tr>\n",
       "  </thead>\n",
       "  <tbody>\n",
       "    <tr>\n",
       "      <td>2013-01-01</td>\n",
       "      <td>0.000000</td>\n",
       "      <td>0.116686</td>\n",
       "      <td>0.414054</td>\n",
       "      <td>-0.696546</td>\n",
       "      <td>NaN</td>\n",
       "    </tr>\n",
       "    <tr>\n",
       "      <td>2013-01-02</td>\n",
       "      <td>1.557891</td>\n",
       "      <td>0.043704</td>\n",
       "      <td>1.250088</td>\n",
       "      <td>-0.169691</td>\n",
       "      <td>NaN</td>\n",
       "    </tr>\n",
       "    <tr>\n",
       "      <td>2013-01-03</td>\n",
       "      <td>1.205867</td>\n",
       "      <td>0.136809</td>\n",
       "      <td>1.125442</td>\n",
       "      <td>-1.530207</td>\n",
       "      <td>NaN</td>\n",
       "    </tr>\n",
       "    <tr>\n",
       "      <td>2013-01-04</td>\n",
       "      <td>0.198191</td>\n",
       "      <td>1.046273</td>\n",
       "      <td>-0.067392</td>\n",
       "      <td>0.808591</td>\n",
       "      <td>NaN</td>\n",
       "    </tr>\n",
       "    <tr>\n",
       "      <td>2013-01-05</td>\n",
       "      <td>1.429235</td>\n",
       "      <td>-1.690102</td>\n",
       "      <td>0.887965</td>\n",
       "      <td>-0.199856</td>\n",
       "      <td>NaN</td>\n",
       "    </tr>\n",
       "    <tr>\n",
       "      <td>2013-01-06</td>\n",
       "      <td>1.722446</td>\n",
       "      <td>-0.275181</td>\n",
       "      <td>0.085287</td>\n",
       "      <td>-0.440648</td>\n",
       "      <td>NaN</td>\n",
       "    </tr>\n",
       "  </tbody>\n",
       "</table>\n",
       "</div>"
      ],
      "text/plain": [
       "                   A         B         C         D   F\n",
       "2013-01-01  0.000000  0.116686  0.414054 -0.696546 NaN\n",
       "2013-01-02  1.557891  0.043704  1.250088 -0.169691 NaN\n",
       "2013-01-03  1.205867  0.136809  1.125442 -1.530207 NaN\n",
       "2013-01-04  0.198191  1.046273 -0.067392  0.808591 NaN\n",
       "2013-01-05  1.429235 -1.690102  0.887965 -0.199856 NaN\n",
       "2013-01-06  1.722446 -0.275181  0.085287 -0.440648 NaN"
      ]
     },
     "execution_count": 99,
     "metadata": {},
     "output_type": "execute_result"
    }
   ],
   "source": [
    "df.loc[:,'D'] = df2.loc[:,\"D\"]\n",
    "df"
   ]
  },
  {
   "cell_type": "code",
   "execution_count": 101,
   "metadata": {},
   "outputs": [
    {
     "data": {
      "text/html": [
       "<div>\n",
       "<style scoped>\n",
       "    .dataframe tbody tr th:only-of-type {\n",
       "        vertical-align: middle;\n",
       "    }\n",
       "\n",
       "    .dataframe tbody tr th {\n",
       "        vertical-align: top;\n",
       "    }\n",
       "\n",
       "    .dataframe thead th {\n",
       "        text-align: right;\n",
       "    }\n",
       "</style>\n",
       "<table border=\"1\" class=\"dataframe\">\n",
       "  <thead>\n",
       "    <tr style=\"text-align: right;\">\n",
       "      <th></th>\n",
       "      <th>A</th>\n",
       "      <th>B</th>\n",
       "      <th>C</th>\n",
       "      <th>D</th>\n",
       "      <th>F</th>\n",
       "    </tr>\n",
       "  </thead>\n",
       "  <tbody>\n",
       "    <tr>\n",
       "      <td>2013-01-01</td>\n",
       "      <td>0.000000</td>\n",
       "      <td>0.116686</td>\n",
       "      <td>0.414054</td>\n",
       "      <td>-0.696546</td>\n",
       "      <td>NaN</td>\n",
       "    </tr>\n",
       "    <tr>\n",
       "      <td>2013-01-02</td>\n",
       "      <td>1.557891</td>\n",
       "      <td>0.043704</td>\n",
       "      <td>1.250088</td>\n",
       "      <td>-0.169691</td>\n",
       "      <td>NaN</td>\n",
       "    </tr>\n",
       "    <tr>\n",
       "      <td>2013-01-03</td>\n",
       "      <td>1.205867</td>\n",
       "      <td>0.136809</td>\n",
       "      <td>1.125442</td>\n",
       "      <td>-1.530207</td>\n",
       "      <td>NaN</td>\n",
       "    </tr>\n",
       "    <tr>\n",
       "      <td>2013-01-04</td>\n",
       "      <td>0.198191</td>\n",
       "      <td>1.046273</td>\n",
       "      <td>-0.067392</td>\n",
       "      <td>0.808591</td>\n",
       "      <td>NaN</td>\n",
       "    </tr>\n",
       "    <tr>\n",
       "      <td>2013-01-05</td>\n",
       "      <td>1.429235</td>\n",
       "      <td>-1.690102</td>\n",
       "      <td>0.887965</td>\n",
       "      <td>-0.199856</td>\n",
       "      <td>NaN</td>\n",
       "    </tr>\n",
       "    <tr>\n",
       "      <td>2013-01-06</td>\n",
       "      <td>1.722446</td>\n",
       "      <td>-0.275181</td>\n",
       "      <td>0.085287</td>\n",
       "      <td>-0.440648</td>\n",
       "      <td>NaN</td>\n",
       "    </tr>\n",
       "  </tbody>\n",
       "</table>\n",
       "</div>"
      ],
      "text/plain": [
       "                   A         B         C         D   F\n",
       "2013-01-01  0.000000  0.116686  0.414054 -0.696546 NaN\n",
       "2013-01-02  1.557891  0.043704  1.250088 -0.169691 NaN\n",
       "2013-01-03  1.205867  0.136809  1.125442 -1.530207 NaN\n",
       "2013-01-04  0.198191  1.046273 -0.067392  0.808591 NaN\n",
       "2013-01-05  1.429235 -1.690102  0.887965 -0.199856 NaN\n",
       "2013-01-06  1.722446 -0.275181  0.085287 -0.440648 NaN"
      ]
     },
     "execution_count": 101,
     "metadata": {},
     "output_type": "execute_result"
    }
   ],
   "source": [
    "df4 = df.copy()\n",
    "df4"
   ]
  },
  {
   "cell_type": "code",
   "execution_count": 103,
   "metadata": {},
   "outputs": [],
   "source": [
    "df4.loc[:,'D'] = np.array([5] * len(df))"
   ]
  },
  {
   "cell_type": "code",
   "execution_count": 104,
   "metadata": {},
   "outputs": [
    {
     "data": {
      "text/html": [
       "<div>\n",
       "<style scoped>\n",
       "    .dataframe tbody tr th:only-of-type {\n",
       "        vertical-align: middle;\n",
       "    }\n",
       "\n",
       "    .dataframe tbody tr th {\n",
       "        vertical-align: top;\n",
       "    }\n",
       "\n",
       "    .dataframe thead th {\n",
       "        text-align: right;\n",
       "    }\n",
       "</style>\n",
       "<table border=\"1\" class=\"dataframe\">\n",
       "  <thead>\n",
       "    <tr style=\"text-align: right;\">\n",
       "      <th></th>\n",
       "      <th>A</th>\n",
       "      <th>B</th>\n",
       "      <th>C</th>\n",
       "      <th>D</th>\n",
       "      <th>F</th>\n",
       "    </tr>\n",
       "  </thead>\n",
       "  <tbody>\n",
       "    <tr>\n",
       "      <td>2013-01-01</td>\n",
       "      <td>NaN</td>\n",
       "      <td>0.116686</td>\n",
       "      <td>0.414054</td>\n",
       "      <td>5</td>\n",
       "      <td>NaN</td>\n",
       "    </tr>\n",
       "    <tr>\n",
       "      <td>2013-01-02</td>\n",
       "      <td>1.557891</td>\n",
       "      <td>0.043704</td>\n",
       "      <td>1.250088</td>\n",
       "      <td>5</td>\n",
       "      <td>NaN</td>\n",
       "    </tr>\n",
       "    <tr>\n",
       "      <td>2013-01-03</td>\n",
       "      <td>1.205867</td>\n",
       "      <td>0.136809</td>\n",
       "      <td>1.125442</td>\n",
       "      <td>5</td>\n",
       "      <td>NaN</td>\n",
       "    </tr>\n",
       "    <tr>\n",
       "      <td>2013-01-04</td>\n",
       "      <td>0.198191</td>\n",
       "      <td>1.046273</td>\n",
       "      <td>NaN</td>\n",
       "      <td>5</td>\n",
       "      <td>NaN</td>\n",
       "    </tr>\n",
       "    <tr>\n",
       "      <td>2013-01-05</td>\n",
       "      <td>1.429235</td>\n",
       "      <td>NaN</td>\n",
       "      <td>0.887965</td>\n",
       "      <td>5</td>\n",
       "      <td>NaN</td>\n",
       "    </tr>\n",
       "    <tr>\n",
       "      <td>2013-01-06</td>\n",
       "      <td>1.722446</td>\n",
       "      <td>NaN</td>\n",
       "      <td>0.085287</td>\n",
       "      <td>5</td>\n",
       "      <td>NaN</td>\n",
       "    </tr>\n",
       "  </tbody>\n",
       "</table>\n",
       "</div>"
      ],
      "text/plain": [
       "                   A         B         C  D   F\n",
       "2013-01-01       NaN  0.116686  0.414054  5 NaN\n",
       "2013-01-02  1.557891  0.043704  1.250088  5 NaN\n",
       "2013-01-03  1.205867  0.136809  1.125442  5 NaN\n",
       "2013-01-04  0.198191  1.046273       NaN  5 NaN\n",
       "2013-01-05  1.429235       NaN  0.887965  5 NaN\n",
       "2013-01-06  1.722446       NaN  0.085287  5 NaN"
      ]
     },
     "execution_count": 104,
     "metadata": {},
     "output_type": "execute_result"
    }
   ],
   "source": [
    "df4[df4>0]"
   ]
  },
  {
   "cell_type": "code",
   "execution_count": 105,
   "metadata": {},
   "outputs": [
    {
     "data": {
      "text/html": [
       "<div>\n",
       "<style scoped>\n",
       "    .dataframe tbody tr th:only-of-type {\n",
       "        vertical-align: middle;\n",
       "    }\n",
       "\n",
       "    .dataframe tbody tr th {\n",
       "        vertical-align: top;\n",
       "    }\n",
       "\n",
       "    .dataframe thead th {\n",
       "        text-align: right;\n",
       "    }\n",
       "</style>\n",
       "<table border=\"1\" class=\"dataframe\">\n",
       "  <thead>\n",
       "    <tr style=\"text-align: right;\">\n",
       "      <th></th>\n",
       "      <th>A</th>\n",
       "      <th>B</th>\n",
       "      <th>C</th>\n",
       "      <th>D</th>\n",
       "      <th>F</th>\n",
       "    </tr>\n",
       "  </thead>\n",
       "  <tbody>\n",
       "    <tr>\n",
       "      <td>2013-01-01</td>\n",
       "      <td>0.000000</td>\n",
       "      <td>-0.116686</td>\n",
       "      <td>-0.414054</td>\n",
       "      <td>-5</td>\n",
       "      <td>NaN</td>\n",
       "    </tr>\n",
       "    <tr>\n",
       "      <td>2013-01-02</td>\n",
       "      <td>-1.557891</td>\n",
       "      <td>-0.043704</td>\n",
       "      <td>-1.250088</td>\n",
       "      <td>-5</td>\n",
       "      <td>NaN</td>\n",
       "    </tr>\n",
       "    <tr>\n",
       "      <td>2013-01-03</td>\n",
       "      <td>-1.205867</td>\n",
       "      <td>-0.136809</td>\n",
       "      <td>-1.125442</td>\n",
       "      <td>-5</td>\n",
       "      <td>NaN</td>\n",
       "    </tr>\n",
       "    <tr>\n",
       "      <td>2013-01-04</td>\n",
       "      <td>-0.198191</td>\n",
       "      <td>-1.046273</td>\n",
       "      <td>-0.067392</td>\n",
       "      <td>-5</td>\n",
       "      <td>NaN</td>\n",
       "    </tr>\n",
       "    <tr>\n",
       "      <td>2013-01-05</td>\n",
       "      <td>-1.429235</td>\n",
       "      <td>-1.690102</td>\n",
       "      <td>-0.887965</td>\n",
       "      <td>-5</td>\n",
       "      <td>NaN</td>\n",
       "    </tr>\n",
       "    <tr>\n",
       "      <td>2013-01-06</td>\n",
       "      <td>-1.722446</td>\n",
       "      <td>-0.275181</td>\n",
       "      <td>-0.085287</td>\n",
       "      <td>-5</td>\n",
       "      <td>NaN</td>\n",
       "    </tr>\n",
       "  </tbody>\n",
       "</table>\n",
       "</div>"
      ],
      "text/plain": [
       "                   A         B         C  D   F\n",
       "2013-01-01  0.000000 -0.116686 -0.414054 -5 NaN\n",
       "2013-01-02 -1.557891 -0.043704 -1.250088 -5 NaN\n",
       "2013-01-03 -1.205867 -0.136809 -1.125442 -5 NaN\n",
       "2013-01-04 -0.198191 -1.046273 -0.067392 -5 NaN\n",
       "2013-01-05 -1.429235 -1.690102 -0.887965 -5 NaN\n",
       "2013-01-06 -1.722446 -0.275181 -0.085287 -5 NaN"
      ]
     },
     "execution_count": 105,
     "metadata": {},
     "output_type": "execute_result"
    }
   ],
   "source": [
    "# 조건에 만족하는 값만 마이너스 부호가 붙는다.\n",
    "df4[df4>0] = -df4\n",
    "df4"
   ]
  },
  {
   "cell_type": "code",
   "execution_count": 107,
   "metadata": {},
   "outputs": [
    {
     "data": {
      "text/html": [
       "<div>\n",
       "<style scoped>\n",
       "    .dataframe tbody tr th:only-of-type {\n",
       "        vertical-align: middle;\n",
       "    }\n",
       "\n",
       "    .dataframe tbody tr th {\n",
       "        vertical-align: top;\n",
       "    }\n",
       "\n",
       "    .dataframe thead th {\n",
       "        text-align: right;\n",
       "    }\n",
       "</style>\n",
       "<table border=\"1\" class=\"dataframe\">\n",
       "  <thead>\n",
       "    <tr style=\"text-align: right;\">\n",
       "      <th></th>\n",
       "      <th>A</th>\n",
       "      <th>B</th>\n",
       "      <th>C</th>\n",
       "      <th>D</th>\n",
       "      <th>F</th>\n",
       "      <th>E</th>\n",
       "    </tr>\n",
       "  </thead>\n",
       "  <tbody>\n",
       "    <tr>\n",
       "      <td>2013-01-01</td>\n",
       "      <td>0.000000</td>\n",
       "      <td>0.116686</td>\n",
       "      <td>0.414054</td>\n",
       "      <td>-0.696546</td>\n",
       "      <td>NaN</td>\n",
       "      <td>NaN</td>\n",
       "    </tr>\n",
       "    <tr>\n",
       "      <td>2013-01-02</td>\n",
       "      <td>1.557891</td>\n",
       "      <td>0.043704</td>\n",
       "      <td>1.250088</td>\n",
       "      <td>-0.169691</td>\n",
       "      <td>NaN</td>\n",
       "      <td>NaN</td>\n",
       "    </tr>\n",
       "    <tr>\n",
       "      <td>2013-01-03</td>\n",
       "      <td>1.205867</td>\n",
       "      <td>0.136809</td>\n",
       "      <td>1.125442</td>\n",
       "      <td>-1.530207</td>\n",
       "      <td>NaN</td>\n",
       "      <td>NaN</td>\n",
       "    </tr>\n",
       "    <tr>\n",
       "      <td>2013-01-04</td>\n",
       "      <td>0.198191</td>\n",
       "      <td>1.046273</td>\n",
       "      <td>-0.067392</td>\n",
       "      <td>0.808591</td>\n",
       "      <td>NaN</td>\n",
       "      <td>NaN</td>\n",
       "    </tr>\n",
       "  </tbody>\n",
       "</table>\n",
       "</div>"
      ],
      "text/plain": [
       "                   A         B         C         D   F   E\n",
       "2013-01-01  0.000000  0.116686  0.414054 -0.696546 NaN NaN\n",
       "2013-01-02  1.557891  0.043704  1.250088 -0.169691 NaN NaN\n",
       "2013-01-03  1.205867  0.136809  1.125442 -1.530207 NaN NaN\n",
       "2013-01-04  0.198191  1.046273 -0.067392  0.808591 NaN NaN"
      ]
     },
     "execution_count": 107,
     "metadata": {},
     "output_type": "execute_result"
    }
   ],
   "source": [
    "# reindex: 인덱스 새로 고침\n",
    "# 원래 컬럼에 + E 컬럼을 추가\n",
    "df1 = df.reindex(index=dates[0:4], columns=list(df.columns)+['E'])\n",
    "df1"
   ]
  },
  {
   "cell_type": "code",
   "execution_count": null,
   "metadata": {},
   "outputs": [],
   "source": [
    "# loc: 라벨로 접근\n",
    "df1.loc[dates[0]:dates[1],'E'] = 1\n",
    "df1.loc[:,'F'] = 5\n",
    "df1"
   ]
  },
  {
   "cell_type": "code",
   "execution_count": 112,
   "metadata": {},
   "outputs": [
    {
     "data": {
      "text/html": [
       "<div>\n",
       "<style scoped>\n",
       "    .dataframe tbody tr th:only-of-type {\n",
       "        vertical-align: middle;\n",
       "    }\n",
       "\n",
       "    .dataframe tbody tr th {\n",
       "        vertical-align: top;\n",
       "    }\n",
       "\n",
       "    .dataframe thead th {\n",
       "        text-align: right;\n",
       "    }\n",
       "</style>\n",
       "<table border=\"1\" class=\"dataframe\">\n",
       "  <thead>\n",
       "    <tr style=\"text-align: right;\">\n",
       "      <th></th>\n",
       "      <th>A</th>\n",
       "      <th>B</th>\n",
       "      <th>C</th>\n",
       "      <th>D</th>\n",
       "      <th>F</th>\n",
       "      <th>E</th>\n",
       "    </tr>\n",
       "  </thead>\n",
       "  <tbody>\n",
       "    <tr>\n",
       "      <td>2013-01-01</td>\n",
       "      <td>0.000000</td>\n",
       "      <td>0.116686</td>\n",
       "      <td>0.414054</td>\n",
       "      <td>-0.696546</td>\n",
       "      <td>5</td>\n",
       "      <td>1.0</td>\n",
       "    </tr>\n",
       "    <tr>\n",
       "      <td>2013-01-02</td>\n",
       "      <td>1.557891</td>\n",
       "      <td>0.043704</td>\n",
       "      <td>1.250088</td>\n",
       "      <td>-0.169691</td>\n",
       "      <td>5</td>\n",
       "      <td>1.0</td>\n",
       "    </tr>\n",
       "  </tbody>\n",
       "</table>\n",
       "</div>"
      ],
      "text/plain": [
       "                   A         B         C         D  F    E\n",
       "2013-01-01  0.000000  0.116686  0.414054 -0.696546  5  1.0\n",
       "2013-01-02  1.557891  0.043704  1.250088 -0.169691  5  1.0"
      ]
     },
     "execution_count": 112,
     "metadata": {},
     "output_type": "execute_result"
    }
   ],
   "source": [
    "# nan인 데이터 삭제\n",
    "# axis: 제거되는 축 default=0(인텍스),1(컬럼)\n",
    "# implace: 원본 반영여부, default=False\n",
    "df1.dropna(how='any')"
   ]
  },
  {
   "cell_type": "code",
   "execution_count": 120,
   "metadata": {},
   "outputs": [
    {
     "data": {
      "text/html": [
       "<div>\n",
       "<style scoped>\n",
       "    .dataframe tbody tr th:only-of-type {\n",
       "        vertical-align: middle;\n",
       "    }\n",
       "\n",
       "    .dataframe tbody tr th {\n",
       "        vertical-align: top;\n",
       "    }\n",
       "\n",
       "    .dataframe thead th {\n",
       "        text-align: right;\n",
       "    }\n",
       "</style>\n",
       "<table border=\"1\" class=\"dataframe\">\n",
       "  <thead>\n",
       "    <tr style=\"text-align: right;\">\n",
       "      <th></th>\n",
       "      <th>A</th>\n",
       "      <th>B</th>\n",
       "      <th>C</th>\n",
       "      <th>D</th>\n",
       "      <th>F</th>\n",
       "      <th>E</th>\n",
       "    </tr>\n",
       "  </thead>\n",
       "  <tbody>\n",
       "    <tr>\n",
       "      <td>2013-01-01</td>\n",
       "      <td>0.000000</td>\n",
       "      <td>0.116686</td>\n",
       "      <td>0.414054</td>\n",
       "      <td>-0.696546</td>\n",
       "      <td>5</td>\n",
       "      <td>1.0</td>\n",
       "    </tr>\n",
       "    <tr>\n",
       "      <td>2013-01-02</td>\n",
       "      <td>1.557891</td>\n",
       "      <td>0.043704</td>\n",
       "      <td>1.250088</td>\n",
       "      <td>-0.169691</td>\n",
       "      <td>5</td>\n",
       "      <td>1.0</td>\n",
       "    </tr>\n",
       "    <tr>\n",
       "      <td>2013-01-03</td>\n",
       "      <td>1.205867</td>\n",
       "      <td>0.136809</td>\n",
       "      <td>1.125442</td>\n",
       "      <td>-1.530207</td>\n",
       "      <td>5</td>\n",
       "      <td>3.0</td>\n",
       "    </tr>\n",
       "    <tr>\n",
       "      <td>2013-01-04</td>\n",
       "      <td>0.198191</td>\n",
       "      <td>1.046273</td>\n",
       "      <td>-0.067392</td>\n",
       "      <td>0.808591</td>\n",
       "      <td>5</td>\n",
       "      <td>3.0</td>\n",
       "    </tr>\n",
       "  </tbody>\n",
       "</table>\n",
       "</div>"
      ],
      "text/plain": [
       "                   A         B         C         D  F    E\n",
       "2013-01-01  0.000000  0.116686  0.414054 -0.696546  5  1.0\n",
       "2013-01-02  1.557891  0.043704  1.250088 -0.169691  5  1.0\n",
       "2013-01-03  1.205867  0.136809  1.125442 -1.530207  5  3.0\n",
       "2013-01-04  0.198191  1.046273 -0.067392  0.808591  5  3.0"
      ]
     },
     "execution_count": 120,
     "metadata": {},
     "output_type": "execute_result"
    }
   ],
   "source": [
    "# 비어있는 값을 채우는 함수\n",
    "df1.fillna(value=3)"
   ]
  },
  {
   "cell_type": "code",
   "execution_count": 122,
   "metadata": {},
   "outputs": [
    {
     "data": {
      "text/plain": [
       "2013-01-01    NaN\n",
       "2013-01-02    NaN\n",
       "2013-01-03    1.0\n",
       "2013-01-04    3.0\n",
       "2013-01-05    5.0\n",
       "2013-01-06    7.0\n",
       "Freq: D, dtype: float64"
      ]
     },
     "execution_count": 122,
     "metadata": {},
     "output_type": "execute_result"
    }
   ],
   "source": [
    "s = pd.Series([1,3,5,7,6,8], index=dates).shift(2)\n",
    "s"
   ]
  },
  {
   "cell_type": "code",
   "execution_count": 123,
   "metadata": {},
   "outputs": [
    {
     "data": {
      "text/html": [
       "<div>\n",
       "<style scoped>\n",
       "    .dataframe tbody tr th:only-of-type {\n",
       "        vertical-align: middle;\n",
       "    }\n",
       "\n",
       "    .dataframe tbody tr th {\n",
       "        vertical-align: top;\n",
       "    }\n",
       "\n",
       "    .dataframe thead th {\n",
       "        text-align: right;\n",
       "    }\n",
       "</style>\n",
       "<table border=\"1\" class=\"dataframe\">\n",
       "  <thead>\n",
       "    <tr style=\"text-align: right;\">\n",
       "      <th></th>\n",
       "      <th>A</th>\n",
       "      <th>B</th>\n",
       "      <th>C</th>\n",
       "      <th>D</th>\n",
       "      <th>F</th>\n",
       "    </tr>\n",
       "  </thead>\n",
       "  <tbody>\n",
       "    <tr>\n",
       "      <td>2013-01-01</td>\n",
       "      <td>NaN</td>\n",
       "      <td>NaN</td>\n",
       "      <td>NaN</td>\n",
       "      <td>NaN</td>\n",
       "      <td>NaN</td>\n",
       "    </tr>\n",
       "    <tr>\n",
       "      <td>2013-01-02</td>\n",
       "      <td>NaN</td>\n",
       "      <td>NaN</td>\n",
       "      <td>NaN</td>\n",
       "      <td>NaN</td>\n",
       "      <td>NaN</td>\n",
       "    </tr>\n",
       "    <tr>\n",
       "      <td>2013-01-03</td>\n",
       "      <td>0.205867</td>\n",
       "      <td>-0.863191</td>\n",
       "      <td>0.125442</td>\n",
       "      <td>-2.530207</td>\n",
       "      <td>NaN</td>\n",
       "    </tr>\n",
       "    <tr>\n",
       "      <td>2013-01-04</td>\n",
       "      <td>-2.801809</td>\n",
       "      <td>-1.953727</td>\n",
       "      <td>-3.067392</td>\n",
       "      <td>-2.191409</td>\n",
       "      <td>NaN</td>\n",
       "    </tr>\n",
       "    <tr>\n",
       "      <td>2013-01-05</td>\n",
       "      <td>-3.570765</td>\n",
       "      <td>-6.690102</td>\n",
       "      <td>-4.112035</td>\n",
       "      <td>-5.199856</td>\n",
       "      <td>NaN</td>\n",
       "    </tr>\n",
       "    <tr>\n",
       "      <td>2013-01-06</td>\n",
       "      <td>-5.277554</td>\n",
       "      <td>-7.275181</td>\n",
       "      <td>-6.914713</td>\n",
       "      <td>-7.440648</td>\n",
       "      <td>NaN</td>\n",
       "    </tr>\n",
       "  </tbody>\n",
       "</table>\n",
       "</div>"
      ],
      "text/plain": [
       "                   A         B         C         D   F\n",
       "2013-01-01       NaN       NaN       NaN       NaN NaN\n",
       "2013-01-02       NaN       NaN       NaN       NaN NaN\n",
       "2013-01-03  0.205867 -0.863191  0.125442 -2.530207 NaN\n",
       "2013-01-04 -2.801809 -1.953727 -3.067392 -2.191409 NaN\n",
       "2013-01-05 -3.570765 -6.690102 -4.112035 -5.199856 NaN\n",
       "2013-01-06 -5.277554 -7.275181 -6.914713 -7.440648 NaN"
      ]
     },
     "execution_count": 123,
     "metadata": {},
     "output_type": "execute_result"
    }
   ],
   "source": [
    "# df에서 s를 뺀다.\n",
    "# 이때, NaN값이 있으면 게산이 안됨\n",
    "df.sub(s,axis='index')"
   ]
  },
  {
   "cell_type": "code",
   "execution_count": 125,
   "metadata": {},
   "outputs": [
    {
     "data": {
      "text/html": [
       "<div>\n",
       "<style scoped>\n",
       "    .dataframe tbody tr th:only-of-type {\n",
       "        vertical-align: middle;\n",
       "    }\n",
       "\n",
       "    .dataframe tbody tr th {\n",
       "        vertical-align: top;\n",
       "    }\n",
       "\n",
       "    .dataframe thead th {\n",
       "        text-align: right;\n",
       "    }\n",
       "</style>\n",
       "<table border=\"1\" class=\"dataframe\">\n",
       "  <thead>\n",
       "    <tr style=\"text-align: right;\">\n",
       "      <th></th>\n",
       "      <th>A</th>\n",
       "      <th>B</th>\n",
       "      <th>C</th>\n",
       "      <th>D</th>\n",
       "      <th>F</th>\n",
       "    </tr>\n",
       "  </thead>\n",
       "  <tbody>\n",
       "    <tr>\n",
       "      <td>2013-01-01</td>\n",
       "      <td>0.000000</td>\n",
       "      <td>0.116686</td>\n",
       "      <td>0.414054</td>\n",
       "      <td>-0.696546</td>\n",
       "      <td>NaN</td>\n",
       "    </tr>\n",
       "    <tr>\n",
       "      <td>2013-01-02</td>\n",
       "      <td>1.557891</td>\n",
       "      <td>0.043704</td>\n",
       "      <td>1.250088</td>\n",
       "      <td>-0.169691</td>\n",
       "      <td>NaN</td>\n",
       "    </tr>\n",
       "    <tr>\n",
       "      <td>2013-01-03</td>\n",
       "      <td>1.205867</td>\n",
       "      <td>0.136809</td>\n",
       "      <td>1.125442</td>\n",
       "      <td>-1.530207</td>\n",
       "      <td>NaN</td>\n",
       "    </tr>\n",
       "    <tr>\n",
       "      <td>2013-01-04</td>\n",
       "      <td>0.198191</td>\n",
       "      <td>1.046273</td>\n",
       "      <td>-0.067392</td>\n",
       "      <td>0.808591</td>\n",
       "      <td>NaN</td>\n",
       "    </tr>\n",
       "    <tr>\n",
       "      <td>2013-01-05</td>\n",
       "      <td>1.429235</td>\n",
       "      <td>-1.690102</td>\n",
       "      <td>0.887965</td>\n",
       "      <td>-0.199856</td>\n",
       "      <td>NaN</td>\n",
       "    </tr>\n",
       "    <tr>\n",
       "      <td>2013-01-06</td>\n",
       "      <td>1.722446</td>\n",
       "      <td>-0.275181</td>\n",
       "      <td>0.085287</td>\n",
       "      <td>-0.440648</td>\n",
       "      <td>NaN</td>\n",
       "    </tr>\n",
       "  </tbody>\n",
       "</table>\n",
       "</div>"
      ],
      "text/plain": [
       "                   A         B         C         D   F\n",
       "2013-01-01  0.000000  0.116686  0.414054 -0.696546 NaN\n",
       "2013-01-02  1.557891  0.043704  1.250088 -0.169691 NaN\n",
       "2013-01-03  1.205867  0.136809  1.125442 -1.530207 NaN\n",
       "2013-01-04  0.198191  1.046273 -0.067392  0.808591 NaN\n",
       "2013-01-05  1.429235 -1.690102  0.887965 -0.199856 NaN\n",
       "2013-01-06  1.722446 -0.275181  0.085287 -0.440648 NaN"
      ]
     },
     "execution_count": 125,
     "metadata": {},
     "output_type": "execute_result"
    }
   ],
   "source": [
    "df"
   ]
  },
  {
   "cell_type": "code",
   "execution_count": 126,
   "metadata": {},
   "outputs": [
    {
     "data": {
      "text/html": [
       "<div>\n",
       "<style scoped>\n",
       "    .dataframe tbody tr th:only-of-type {\n",
       "        vertical-align: middle;\n",
       "    }\n",
       "\n",
       "    .dataframe tbody tr th {\n",
       "        vertical-align: top;\n",
       "    }\n",
       "\n",
       "    .dataframe thead th {\n",
       "        text-align: right;\n",
       "    }\n",
       "</style>\n",
       "<table border=\"1\" class=\"dataframe\">\n",
       "  <thead>\n",
       "    <tr style=\"text-align: right;\">\n",
       "      <th></th>\n",
       "      <th>A</th>\n",
       "      <th>B</th>\n",
       "      <th>C</th>\n",
       "      <th>D</th>\n",
       "      <th>F</th>\n",
       "    </tr>\n",
       "  </thead>\n",
       "  <tbody>\n",
       "    <tr>\n",
       "      <td>2013-01-01</td>\n",
       "      <td>0.000000</td>\n",
       "      <td>0.116686</td>\n",
       "      <td>0.414054</td>\n",
       "      <td>-0.696546</td>\n",
       "      <td>NaN</td>\n",
       "    </tr>\n",
       "    <tr>\n",
       "      <td>2013-01-02</td>\n",
       "      <td>1.557891</td>\n",
       "      <td>0.160390</td>\n",
       "      <td>1.664142</td>\n",
       "      <td>-0.866237</td>\n",
       "      <td>NaN</td>\n",
       "    </tr>\n",
       "    <tr>\n",
       "      <td>2013-01-03</td>\n",
       "      <td>2.763758</td>\n",
       "      <td>0.297199</td>\n",
       "      <td>2.789584</td>\n",
       "      <td>-2.396444</td>\n",
       "      <td>NaN</td>\n",
       "    </tr>\n",
       "    <tr>\n",
       "      <td>2013-01-04</td>\n",
       "      <td>2.961949</td>\n",
       "      <td>1.343472</td>\n",
       "      <td>2.722191</td>\n",
       "      <td>-1.587854</td>\n",
       "      <td>NaN</td>\n",
       "    </tr>\n",
       "    <tr>\n",
       "      <td>2013-01-05</td>\n",
       "      <td>4.391184</td>\n",
       "      <td>-0.346630</td>\n",
       "      <td>3.610157</td>\n",
       "      <td>-1.787710</td>\n",
       "      <td>NaN</td>\n",
       "    </tr>\n",
       "    <tr>\n",
       "      <td>2013-01-06</td>\n",
       "      <td>6.113629</td>\n",
       "      <td>-0.621811</td>\n",
       "      <td>3.695443</td>\n",
       "      <td>-2.228358</td>\n",
       "      <td>NaN</td>\n",
       "    </tr>\n",
       "  </tbody>\n",
       "</table>\n",
       "</div>"
      ],
      "text/plain": [
       "                   A         B         C         D   F\n",
       "2013-01-01  0.000000  0.116686  0.414054 -0.696546 NaN\n",
       "2013-01-02  1.557891  0.160390  1.664142 -0.866237 NaN\n",
       "2013-01-03  2.763758  0.297199  2.789584 -2.396444 NaN\n",
       "2013-01-04  2.961949  1.343472  2.722191 -1.587854 NaN\n",
       "2013-01-05  4.391184 -0.346630  3.610157 -1.787710 NaN\n",
       "2013-01-06  6.113629 -0.621811  3.695443 -2.228358 NaN"
      ]
     },
     "execution_count": 126,
     "metadata": {},
     "output_type": "execute_result"
    }
   ],
   "source": [
    "# numpy.cumsum: Return the cumulative sum of the elements along a given axis.\n",
    "df.apply(np.cumsum)"
   ]
  },
  {
   "cell_type": "code",
   "execution_count": 127,
   "metadata": {},
   "outputs": [
    {
     "data": {
      "text/plain": [
       "A    1.722446\n",
       "B    2.736374\n",
       "C    1.317480\n",
       "D    2.338798\n",
       "F         NaN\n",
       "dtype: float64"
      ]
     },
     "execution_count": 127,
     "metadata": {},
     "output_type": "execute_result"
    }
   ],
   "source": [
    "# apply: Applying functions to the data\n",
    "df.apply(lambda x: x.max()-x.min())"
   ]
  },
  {
   "cell_type": "code",
   "execution_count": 128,
   "metadata": {},
   "outputs": [
    {
     "ename": "AttributeError",
     "evalue": "'DataFrame' object has no attribute 'value_counts'",
     "output_type": "error",
     "traceback": [
      "\u001b[0;31m\u001b[0m",
      "\u001b[0;31mAttributeError\u001b[0mTraceback (most recent call last)",
      "\u001b[0;32m<ipython-input-128-986e25863b45>\u001b[0m in \u001b[0;36m<module>\u001b[0;34m\u001b[0m\n\u001b[0;32m----> 1\u001b[0;31m \u001b[0mdf\u001b[0m\u001b[0;34m.\u001b[0m\u001b[0mvalue_counts\u001b[0m\u001b[0;34m(\u001b[0m\u001b[0;34m)\u001b[0m\u001b[0;34m\u001b[0m\u001b[0;34m\u001b[0m\u001b[0m\n\u001b[0m",
      "\u001b[0;32m/opt/conda/lib/python3.7/site-packages/pandas/core/generic.py\u001b[0m in \u001b[0;36m__getattr__\u001b[0;34m(self, name)\u001b[0m\n\u001b[1;32m   5177\u001b[0m             \u001b[0;32mif\u001b[0m \u001b[0mself\u001b[0m\u001b[0;34m.\u001b[0m\u001b[0m_info_axis\u001b[0m\u001b[0;34m.\u001b[0m\u001b[0m_can_hold_identifiers_and_holds_name\u001b[0m\u001b[0;34m(\u001b[0m\u001b[0mname\u001b[0m\u001b[0;34m)\u001b[0m\u001b[0;34m:\u001b[0m\u001b[0;34m\u001b[0m\u001b[0;34m\u001b[0m\u001b[0m\n\u001b[1;32m   5178\u001b[0m                 \u001b[0;32mreturn\u001b[0m \u001b[0mself\u001b[0m\u001b[0;34m[\u001b[0m\u001b[0mname\u001b[0m\u001b[0;34m]\u001b[0m\u001b[0;34m\u001b[0m\u001b[0;34m\u001b[0m\u001b[0m\n\u001b[0;32m-> 5179\u001b[0;31m             \u001b[0;32mreturn\u001b[0m \u001b[0mobject\u001b[0m\u001b[0;34m.\u001b[0m\u001b[0m__getattribute__\u001b[0m\u001b[0;34m(\u001b[0m\u001b[0mself\u001b[0m\u001b[0;34m,\u001b[0m \u001b[0mname\u001b[0m\u001b[0;34m)\u001b[0m\u001b[0;34m\u001b[0m\u001b[0;34m\u001b[0m\u001b[0m\n\u001b[0m\u001b[1;32m   5180\u001b[0m \u001b[0;34m\u001b[0m\u001b[0m\n\u001b[1;32m   5181\u001b[0m     \u001b[0;32mdef\u001b[0m \u001b[0m__setattr__\u001b[0m\u001b[0;34m(\u001b[0m\u001b[0mself\u001b[0m\u001b[0;34m,\u001b[0m \u001b[0mname\u001b[0m\u001b[0;34m,\u001b[0m \u001b[0mvalue\u001b[0m\u001b[0;34m)\u001b[0m\u001b[0;34m:\u001b[0m\u001b[0;34m\u001b[0m\u001b[0;34m\u001b[0m\u001b[0m\n",
      "\u001b[0;31mAttributeError\u001b[0m: 'DataFrame' object has no attribute 'value_counts'"
     ]
    }
   ],
   "source": [
    "# 데이터 프레임 자체는 적용 불가\n",
    "df.value_counts()"
   ]
  },
  {
   "cell_type": "code",
   "execution_count": 129,
   "metadata": {},
   "outputs": [
    {
     "data": {
      "text/plain": [
       "1.205867    1\n",
       "0.198191    1\n",
       "1.722446    1\n",
       "1.557891    1\n",
       "1.429235    1\n",
       "0.000000    1\n",
       "Name: A, dtype: int64"
      ]
     },
     "execution_count": 129,
     "metadata": {},
     "output_type": "execute_result"
    }
   ],
   "source": [
    "# 컬럼으로 적용가능\n",
    "df['A'].value_counts()"
   ]
  },
  {
   "cell_type": "code",
   "execution_count": 130,
   "metadata": {},
   "outputs": [],
   "source": [
    "s = pd.Series(np.random.randint(0,7,size=10))"
   ]
  },
  {
   "cell_type": "code",
   "execution_count": 131,
   "metadata": {},
   "outputs": [
    {
     "data": {
      "text/plain": [
       "0    5\n",
       "1    5\n",
       "2    1\n",
       "3    4\n",
       "4    0\n",
       "5    2\n",
       "6    6\n",
       "7    0\n",
       "8    1\n",
       "9    6\n",
       "dtype: int64"
      ]
     },
     "execution_count": 131,
     "metadata": {},
     "output_type": "execute_result"
    }
   ],
   "source": [
    "s"
   ]
  },
  {
   "cell_type": "code",
   "execution_count": 134,
   "metadata": {},
   "outputs": [
    {
     "data": {
      "text/plain": [
       "0       A\n",
       "1       B\n",
       "2       C\n",
       "3    Aaba\n",
       "4    Baca\n",
       "5     NaN\n",
       "6    CABA\n",
       "7     dog\n",
       "8     cat\n",
       "dtype: object"
      ]
     },
     "execution_count": 134,
     "metadata": {},
     "output_type": "execute_result"
    }
   ],
   "source": [
    "s = pd.Series(['A', 'B', 'C', 'Aaba', 'Baca', np.nan, 'CABA', 'dog', 'cat'])\n",
    "s"
   ]
  },
  {
   "cell_type": "code",
   "execution_count": 135,
   "metadata": {},
   "outputs": [
    {
     "data": {
      "text/plain": [
       "0       a\n",
       "1       b\n",
       "2       c\n",
       "3    aaba\n",
       "4    baca\n",
       "5     NaN\n",
       "6    caba\n",
       "7     dog\n",
       "8     cat\n",
       "dtype: object"
      ]
     },
     "execution_count": 135,
     "metadata": {},
     "output_type": "execute_result"
    }
   ],
   "source": [
    "s.str.lower()"
   ]
  },
  {
   "cell_type": "code",
   "execution_count": 137,
   "metadata": {},
   "outputs": [
    {
     "data": {
      "text/html": [
       "<div>\n",
       "<style scoped>\n",
       "    .dataframe tbody tr th:only-of-type {\n",
       "        vertical-align: middle;\n",
       "    }\n",
       "\n",
       "    .dataframe tbody tr th {\n",
       "        vertical-align: top;\n",
       "    }\n",
       "\n",
       "    .dataframe thead th {\n",
       "        text-align: right;\n",
       "    }\n",
       "</style>\n",
       "<table border=\"1\" class=\"dataframe\">\n",
       "  <thead>\n",
       "    <tr style=\"text-align: right;\">\n",
       "      <th></th>\n",
       "      <th>0</th>\n",
       "      <th>1</th>\n",
       "      <th>2</th>\n",
       "      <th>3</th>\n",
       "    </tr>\n",
       "  </thead>\n",
       "  <tbody>\n",
       "    <tr>\n",
       "      <td>0</td>\n",
       "      <td>1.077092</td>\n",
       "      <td>0.293257</td>\n",
       "      <td>0.302822</td>\n",
       "      <td>-1.459592</td>\n",
       "    </tr>\n",
       "    <tr>\n",
       "      <td>1</td>\n",
       "      <td>0.075214</td>\n",
       "      <td>0.259007</td>\n",
       "      <td>-0.328493</td>\n",
       "      <td>1.156814</td>\n",
       "    </tr>\n",
       "    <tr>\n",
       "      <td>2</td>\n",
       "      <td>-0.897666</td>\n",
       "      <td>0.730278</td>\n",
       "      <td>0.602183</td>\n",
       "      <td>0.094684</td>\n",
       "    </tr>\n",
       "    <tr>\n",
       "      <td>3</td>\n",
       "      <td>-1.098949</td>\n",
       "      <td>-0.566495</td>\n",
       "      <td>-0.429195</td>\n",
       "      <td>-0.294152</td>\n",
       "    </tr>\n",
       "    <tr>\n",
       "      <td>4</td>\n",
       "      <td>0.682128</td>\n",
       "      <td>-0.239298</td>\n",
       "      <td>0.989344</td>\n",
       "      <td>-0.277133</td>\n",
       "    </tr>\n",
       "    <tr>\n",
       "      <td>5</td>\n",
       "      <td>0.666399</td>\n",
       "      <td>-1.631637</td>\n",
       "      <td>-0.039409</td>\n",
       "      <td>-0.841965</td>\n",
       "    </tr>\n",
       "    <tr>\n",
       "      <td>6</td>\n",
       "      <td>0.922834</td>\n",
       "      <td>-0.222063</td>\n",
       "      <td>2.091092</td>\n",
       "      <td>1.050856</td>\n",
       "    </tr>\n",
       "    <tr>\n",
       "      <td>7</td>\n",
       "      <td>-1.531494</td>\n",
       "      <td>-0.128673</td>\n",
       "      <td>-0.133739</td>\n",
       "      <td>1.993693</td>\n",
       "    </tr>\n",
       "    <tr>\n",
       "      <td>8</td>\n",
       "      <td>-0.078863</td>\n",
       "      <td>1.306801</td>\n",
       "      <td>0.437515</td>\n",
       "      <td>-0.361790</td>\n",
       "    </tr>\n",
       "    <tr>\n",
       "      <td>9</td>\n",
       "      <td>-0.005868</td>\n",
       "      <td>-1.104656</td>\n",
       "      <td>-1.405033</td>\n",
       "      <td>0.590185</td>\n",
       "    </tr>\n",
       "  </tbody>\n",
       "</table>\n",
       "</div>"
      ],
      "text/plain": [
       "          0         1         2         3\n",
       "0  1.077092  0.293257  0.302822 -1.459592\n",
       "1  0.075214  0.259007 -0.328493  1.156814\n",
       "2 -0.897666  0.730278  0.602183  0.094684\n",
       "3 -1.098949 -0.566495 -0.429195 -0.294152\n",
       "4  0.682128 -0.239298  0.989344 -0.277133\n",
       "5  0.666399 -1.631637 -0.039409 -0.841965\n",
       "6  0.922834 -0.222063  2.091092  1.050856\n",
       "7 -1.531494 -0.128673 -0.133739  1.993693\n",
       "8 -0.078863  1.306801  0.437515 -0.361790\n",
       "9 -0.005868 -1.104656 -1.405033  0.590185"
      ]
     },
     "execution_count": 137,
     "metadata": {},
     "output_type": "execute_result"
    }
   ],
   "source": [
    "df = pd.DataFrame(np.random.randn(10,4))\n",
    "df"
   ]
  },
  {
   "cell_type": "code",
   "execution_count": 140,
   "metadata": {},
   "outputs": [
    {
     "data": {
      "text/plain": [
       "[          0         1         2         3\n",
       " 0  1.077092  0.293257  0.302822 -1.459592\n",
       " 1  0.075214  0.259007 -0.328493  1.156814\n",
       " 2 -0.897666  0.730278  0.602183  0.094684,\n",
       "           0         1         2         3\n",
       " 3 -1.098949 -0.566495 -0.429195 -0.294152\n",
       " 4  0.682128 -0.239298  0.989344 -0.277133\n",
       " 5  0.666399 -1.631637 -0.039409 -0.841965\n",
       " 6  0.922834 -0.222063  2.091092  1.050856,\n",
       "           0         1         2         3\n",
       " 7 -1.531494 -0.128673 -0.133739  1.993693\n",
       " 8 -0.078863  1.306801  0.437515 -0.361790\n",
       " 9 -0.005868 -1.104656 -1.405033  0.590185]"
      ]
     },
     "execution_count": 140,
     "metadata": {},
     "output_type": "execute_result"
    }
   ],
   "source": [
    "pieces = [df[:3],df[3:7],df[7:]]\n",
    "pieces"
   ]
  },
  {
   "cell_type": "code",
   "execution_count": 151,
   "metadata": {},
   "outputs": [
    {
     "data": {
      "text/html": [
       "<div>\n",
       "<style scoped>\n",
       "    .dataframe tbody tr th:only-of-type {\n",
       "        vertical-align: middle;\n",
       "    }\n",
       "\n",
       "    .dataframe tbody tr th {\n",
       "        vertical-align: top;\n",
       "    }\n",
       "\n",
       "    .dataframe thead th {\n",
       "        text-align: right;\n",
       "    }\n",
       "</style>\n",
       "<table border=\"1\" class=\"dataframe\">\n",
       "  <thead>\n",
       "    <tr style=\"text-align: right;\">\n",
       "      <th></th>\n",
       "      <th>0</th>\n",
       "      <th>1</th>\n",
       "      <th>2</th>\n",
       "      <th>3</th>\n",
       "    </tr>\n",
       "  </thead>\n",
       "  <tbody>\n",
       "    <tr>\n",
       "      <td>0</td>\n",
       "      <td>1.077092</td>\n",
       "      <td>0.293257</td>\n",
       "      <td>0.302822</td>\n",
       "      <td>-1.459592</td>\n",
       "    </tr>\n",
       "    <tr>\n",
       "      <td>1</td>\n",
       "      <td>0.075214</td>\n",
       "      <td>0.259007</td>\n",
       "      <td>-0.328493</td>\n",
       "      <td>1.156814</td>\n",
       "    </tr>\n",
       "    <tr>\n",
       "      <td>2</td>\n",
       "      <td>-0.897666</td>\n",
       "      <td>0.730278</td>\n",
       "      <td>0.602183</td>\n",
       "      <td>0.094684</td>\n",
       "    </tr>\n",
       "    <tr>\n",
       "      <td>3</td>\n",
       "      <td>-1.098949</td>\n",
       "      <td>-0.566495</td>\n",
       "      <td>-0.429195</td>\n",
       "      <td>-0.294152</td>\n",
       "    </tr>\n",
       "    <tr>\n",
       "      <td>4</td>\n",
       "      <td>0.682128</td>\n",
       "      <td>-0.239298</td>\n",
       "      <td>0.989344</td>\n",
       "      <td>-0.277133</td>\n",
       "    </tr>\n",
       "    <tr>\n",
       "      <td>5</td>\n",
       "      <td>0.666399</td>\n",
       "      <td>-1.631637</td>\n",
       "      <td>-0.039409</td>\n",
       "      <td>-0.841965</td>\n",
       "    </tr>\n",
       "    <tr>\n",
       "      <td>6</td>\n",
       "      <td>0.922834</td>\n",
       "      <td>-0.222063</td>\n",
       "      <td>2.091092</td>\n",
       "      <td>1.050856</td>\n",
       "    </tr>\n",
       "    <tr>\n",
       "      <td>7</td>\n",
       "      <td>-1.531494</td>\n",
       "      <td>-0.128673</td>\n",
       "      <td>-0.133739</td>\n",
       "      <td>1.993693</td>\n",
       "    </tr>\n",
       "    <tr>\n",
       "      <td>8</td>\n",
       "      <td>-0.078863</td>\n",
       "      <td>1.306801</td>\n",
       "      <td>0.437515</td>\n",
       "      <td>-0.361790</td>\n",
       "    </tr>\n",
       "    <tr>\n",
       "      <td>9</td>\n",
       "      <td>-0.005868</td>\n",
       "      <td>-1.104656</td>\n",
       "      <td>-1.405033</td>\n",
       "      <td>0.590185</td>\n",
       "    </tr>\n",
       "  </tbody>\n",
       "</table>\n",
       "</div>"
      ],
      "text/plain": [
       "          0         1         2         3\n",
       "0  1.077092  0.293257  0.302822 -1.459592\n",
       "1  0.075214  0.259007 -0.328493  1.156814\n",
       "2 -0.897666  0.730278  0.602183  0.094684\n",
       "3 -1.098949 -0.566495 -0.429195 -0.294152\n",
       "4  0.682128 -0.239298  0.989344 -0.277133\n",
       "5  0.666399 -1.631637 -0.039409 -0.841965\n",
       "6  0.922834 -0.222063  2.091092  1.050856\n",
       "7 -1.531494 -0.128673 -0.133739  1.993693\n",
       "8 -0.078863  1.306801  0.437515 -0.361790\n",
       "9 -0.005868 -1.104656 -1.405033  0.590185"
      ]
     },
     "execution_count": 151,
     "metadata": {},
     "output_type": "execute_result"
    }
   ],
   "source": [
    "pd.concat(pieces)"
   ]
  },
  {
   "cell_type": "code",
   "execution_count": 152,
   "metadata": {},
   "outputs": [
    {
     "data": {
      "text/html": [
       "<div>\n",
       "<style scoped>\n",
       "    .dataframe tbody tr th:only-of-type {\n",
       "        vertical-align: middle;\n",
       "    }\n",
       "\n",
       "    .dataframe tbody tr th {\n",
       "        vertical-align: top;\n",
       "    }\n",
       "\n",
       "    .dataframe thead th {\n",
       "        text-align: right;\n",
       "    }\n",
       "</style>\n",
       "<table border=\"1\" class=\"dataframe\">\n",
       "  <thead>\n",
       "    <tr style=\"text-align: right;\">\n",
       "      <th></th>\n",
       "      <th>0</th>\n",
       "      <th>1</th>\n",
       "      <th>2</th>\n",
       "      <th>3</th>\n",
       "    </tr>\n",
       "  </thead>\n",
       "  <tbody>\n",
       "    <tr>\n",
       "      <td>0</td>\n",
       "      <td>1.077092</td>\n",
       "      <td>0.293257</td>\n",
       "      <td>0.302822</td>\n",
       "      <td>-1.459592</td>\n",
       "    </tr>\n",
       "    <tr>\n",
       "      <td>1</td>\n",
       "      <td>0.075214</td>\n",
       "      <td>0.259007</td>\n",
       "      <td>-0.328493</td>\n",
       "      <td>1.156814</td>\n",
       "    </tr>\n",
       "    <tr>\n",
       "      <td>2</td>\n",
       "      <td>-0.897666</td>\n",
       "      <td>0.730278</td>\n",
       "      <td>0.602183</td>\n",
       "      <td>0.094684</td>\n",
       "    </tr>\n",
       "    <tr>\n",
       "      <td>3</td>\n",
       "      <td>-1.098949</td>\n",
       "      <td>-0.566495</td>\n",
       "      <td>-0.429195</td>\n",
       "      <td>-0.294152</td>\n",
       "    </tr>\n",
       "    <tr>\n",
       "      <td>4</td>\n",
       "      <td>0.682128</td>\n",
       "      <td>-0.239298</td>\n",
       "      <td>0.989344</td>\n",
       "      <td>-0.277133</td>\n",
       "    </tr>\n",
       "    <tr>\n",
       "      <td>5</td>\n",
       "      <td>0.666399</td>\n",
       "      <td>-1.631637</td>\n",
       "      <td>-0.039409</td>\n",
       "      <td>-0.841965</td>\n",
       "    </tr>\n",
       "    <tr>\n",
       "      <td>6</td>\n",
       "      <td>0.922834</td>\n",
       "      <td>-0.222063</td>\n",
       "      <td>2.091092</td>\n",
       "      <td>1.050856</td>\n",
       "    </tr>\n",
       "    <tr>\n",
       "      <td>7</td>\n",
       "      <td>-1.531494</td>\n",
       "      <td>-0.128673</td>\n",
       "      <td>-0.133739</td>\n",
       "      <td>1.993693</td>\n",
       "    </tr>\n",
       "    <tr>\n",
       "      <td>8</td>\n",
       "      <td>-0.078863</td>\n",
       "      <td>1.306801</td>\n",
       "      <td>0.437515</td>\n",
       "      <td>-0.361790</td>\n",
       "    </tr>\n",
       "    <tr>\n",
       "      <td>9</td>\n",
       "      <td>-0.005868</td>\n",
       "      <td>-1.104656</td>\n",
       "      <td>-1.405033</td>\n",
       "      <td>0.590185</td>\n",
       "    </tr>\n",
       "    <tr>\n",
       "      <td>0</td>\n",
       "      <td>1.077092</td>\n",
       "      <td>0.293257</td>\n",
       "      <td>0.302822</td>\n",
       "      <td>-1.459592</td>\n",
       "    </tr>\n",
       "    <tr>\n",
       "      <td>1</td>\n",
       "      <td>0.075214</td>\n",
       "      <td>0.259007</td>\n",
       "      <td>-0.328493</td>\n",
       "      <td>1.156814</td>\n",
       "    </tr>\n",
       "    <tr>\n",
       "      <td>2</td>\n",
       "      <td>-0.897666</td>\n",
       "      <td>0.730278</td>\n",
       "      <td>0.602183</td>\n",
       "      <td>0.094684</td>\n",
       "    </tr>\n",
       "  </tbody>\n",
       "</table>\n",
       "</div>"
      ],
      "text/plain": [
       "          0         1         2         3\n",
       "0  1.077092  0.293257  0.302822 -1.459592\n",
       "1  0.075214  0.259007 -0.328493  1.156814\n",
       "2 -0.897666  0.730278  0.602183  0.094684\n",
       "3 -1.098949 -0.566495 -0.429195 -0.294152\n",
       "4  0.682128 -0.239298  0.989344 -0.277133\n",
       "5  0.666399 -1.631637 -0.039409 -0.841965\n",
       "6  0.922834 -0.222063  2.091092  1.050856\n",
       "7 -1.531494 -0.128673 -0.133739  1.993693\n",
       "8 -0.078863  1.306801  0.437515 -0.361790\n",
       "9 -0.005868 -1.104656 -1.405033  0.590185\n",
       "0  1.077092  0.293257  0.302822 -1.459592\n",
       "1  0.075214  0.259007 -0.328493  1.156814\n",
       "2 -0.897666  0.730278  0.602183  0.094684"
      ]
     },
     "execution_count": 152,
     "metadata": {},
     "output_type": "execute_result"
    }
   ],
   "source": [
    "pd.concat([df,pieces[0]])"
   ]
  },
  {
   "cell_type": "code",
   "execution_count": 154,
   "metadata": {},
   "outputs": [
    {
     "data": {
      "text/html": [
       "<div>\n",
       "<style scoped>\n",
       "    .dataframe tbody tr th:only-of-type {\n",
       "        vertical-align: middle;\n",
       "    }\n",
       "\n",
       "    .dataframe tbody tr th {\n",
       "        vertical-align: top;\n",
       "    }\n",
       "\n",
       "    .dataframe thead th {\n",
       "        text-align: right;\n",
       "    }\n",
       "</style>\n",
       "<table border=\"1\" class=\"dataframe\">\n",
       "  <thead>\n",
       "    <tr style=\"text-align: right;\">\n",
       "      <th></th>\n",
       "      <th>key</th>\n",
       "      <th>lval</th>\n",
       "    </tr>\n",
       "  </thead>\n",
       "  <tbody>\n",
       "    <tr>\n",
       "      <td>0</td>\n",
       "      <td>foo</td>\n",
       "      <td>1</td>\n",
       "    </tr>\n",
       "    <tr>\n",
       "      <td>1</td>\n",
       "      <td>foo</td>\n",
       "      <td>2</td>\n",
       "    </tr>\n",
       "  </tbody>\n",
       "</table>\n",
       "</div>"
      ],
      "text/plain": [
       "   key  lval\n",
       "0  foo     1\n",
       "1  foo     2"
      ]
     },
     "execution_count": 154,
     "metadata": {},
     "output_type": "execute_result"
    }
   ],
   "source": [
    "left = pd.DataFrame({'key': ['foo', 'foo'], 'lval': [1, 2]})\n",
    "right = pd.DataFrame({'key': ['foo', 'foo'], 'rval': [4, 5]})\n",
    "left"
   ]
  },
  {
   "cell_type": "code",
   "execution_count": 155,
   "metadata": {},
   "outputs": [
    {
     "data": {
      "text/html": [
       "<div>\n",
       "<style scoped>\n",
       "    .dataframe tbody tr th:only-of-type {\n",
       "        vertical-align: middle;\n",
       "    }\n",
       "\n",
       "    .dataframe tbody tr th {\n",
       "        vertical-align: top;\n",
       "    }\n",
       "\n",
       "    .dataframe thead th {\n",
       "        text-align: right;\n",
       "    }\n",
       "</style>\n",
       "<table border=\"1\" class=\"dataframe\">\n",
       "  <thead>\n",
       "    <tr style=\"text-align: right;\">\n",
       "      <th></th>\n",
       "      <th>key</th>\n",
       "      <th>rval</th>\n",
       "    </tr>\n",
       "  </thead>\n",
       "  <tbody>\n",
       "    <tr>\n",
       "      <td>0</td>\n",
       "      <td>foo</td>\n",
       "      <td>4</td>\n",
       "    </tr>\n",
       "    <tr>\n",
       "      <td>1</td>\n",
       "      <td>foo</td>\n",
       "      <td>5</td>\n",
       "    </tr>\n",
       "  </tbody>\n",
       "</table>\n",
       "</div>"
      ],
      "text/plain": [
       "   key  rval\n",
       "0  foo     4\n",
       "1  foo     5"
      ]
     },
     "execution_count": 155,
     "metadata": {},
     "output_type": "execute_result"
    }
   ],
   "source": [
    "right"
   ]
  },
  {
   "cell_type": "code",
   "execution_count": 156,
   "metadata": {},
   "outputs": [
    {
     "data": {
      "text/html": [
       "<div>\n",
       "<style scoped>\n",
       "    .dataframe tbody tr th:only-of-type {\n",
       "        vertical-align: middle;\n",
       "    }\n",
       "\n",
       "    .dataframe tbody tr th {\n",
       "        vertical-align: top;\n",
       "    }\n",
       "\n",
       "    .dataframe thead th {\n",
       "        text-align: right;\n",
       "    }\n",
       "</style>\n",
       "<table border=\"1\" class=\"dataframe\">\n",
       "  <thead>\n",
       "    <tr style=\"text-align: right;\">\n",
       "      <th></th>\n",
       "      <th>key</th>\n",
       "      <th>lval</th>\n",
       "      <th>rval</th>\n",
       "    </tr>\n",
       "  </thead>\n",
       "  <tbody>\n",
       "    <tr>\n",
       "      <td>0</td>\n",
       "      <td>foo</td>\n",
       "      <td>1</td>\n",
       "      <td>4</td>\n",
       "    </tr>\n",
       "    <tr>\n",
       "      <td>1</td>\n",
       "      <td>foo</td>\n",
       "      <td>1</td>\n",
       "      <td>5</td>\n",
       "    </tr>\n",
       "    <tr>\n",
       "      <td>2</td>\n",
       "      <td>foo</td>\n",
       "      <td>2</td>\n",
       "      <td>4</td>\n",
       "    </tr>\n",
       "    <tr>\n",
       "      <td>3</td>\n",
       "      <td>foo</td>\n",
       "      <td>2</td>\n",
       "      <td>5</td>\n",
       "    </tr>\n",
       "  </tbody>\n",
       "</table>\n",
       "</div>"
      ],
      "text/plain": [
       "   key  lval  rval\n",
       "0  foo     1     4\n",
       "1  foo     1     5\n",
       "2  foo     2     4\n",
       "3  foo     2     5"
      ]
     },
     "execution_count": 156,
     "metadata": {},
     "output_type": "execute_result"
    }
   ],
   "source": [
    "# on 뒤에다 어떤 걸로 merge시킬 것인지를 적음\n",
    "pd.merge(left,right,on='key')"
   ]
  },
  {
   "cell_type": "code",
   "execution_count": 157,
   "metadata": {},
   "outputs": [],
   "source": [
    "# df를 csv 파일로 저장\n",
    "df.to_csv('foo.csv')"
   ]
  },
  {
   "cell_type": "code",
   "execution_count": 164,
   "metadata": {},
   "outputs": [
    {
     "data": {
      "text/html": [
       "<div>\n",
       "<style scoped>\n",
       "    .dataframe tbody tr th:only-of-type {\n",
       "        vertical-align: middle;\n",
       "    }\n",
       "\n",
       "    .dataframe tbody tr th {\n",
       "        vertical-align: top;\n",
       "    }\n",
       "\n",
       "    .dataframe thead th {\n",
       "        text-align: right;\n",
       "    }\n",
       "</style>\n",
       "<table border=\"1\" class=\"dataframe\">\n",
       "  <thead>\n",
       "    <tr style=\"text-align: right;\">\n",
       "      <th></th>\n",
       "      <th>userid</th>\n",
       "      <th>username</th>\n",
       "      <th>userage</th>\n",
       "      <th>usertel</th>\n",
       "    </tr>\n",
       "  </thead>\n",
       "  <tbody>\n",
       "    <tr>\n",
       "      <td>0</td>\n",
       "      <td>hong</td>\n",
       "      <td>홍길동</td>\n",
       "      <td>23</td>\n",
       "      <td>010-1111-2222</td>\n",
       "    </tr>\n",
       "    <tr>\n",
       "      <td>1</td>\n",
       "      <td>choi</td>\n",
       "      <td>최정윤</td>\n",
       "      <td>24</td>\n",
       "      <td>010-5786-9870</td>\n",
       "    </tr>\n",
       "    <tr>\n",
       "      <td>2</td>\n",
       "      <td>hyun</td>\n",
       "      <td>김영현</td>\n",
       "      <td>25</td>\n",
       "      <td>010-5555-1110</td>\n",
       "    </tr>\n",
       "  </tbody>\n",
       "</table>\n",
       "</div>"
      ],
      "text/plain": [
       "  userid  username   userage         usertel\n",
       "0   hong       홍길동        23   010-1111-2222\n",
       "1   choi       최정윤        24   010-5786-9870\n",
       "2   hyun       김영현        25   010-5555-1110"
      ]
     },
     "execution_count": 164,
     "metadata": {},
     "output_type": "execute_result"
    }
   ],
   "source": [
    "df1=pd.read_csv('user.csv')\n",
    "df1"
   ]
  },
  {
   "cell_type": "code",
   "execution_count": 165,
   "metadata": {},
   "outputs": [],
   "source": [
    "# 엑셀파일로 저장할때는 sheet이름도 지정해야 함\n",
    "df.to_excel('foo.xlsx',sheet_name='Sheet1')"
   ]
  },
  {
   "cell_type": "code",
   "execution_count": 166,
   "metadata": {},
   "outputs": [
    {
     "name": "stdout",
     "output_type": "stream",
     "text": [
      "Name: PyMySQL\n",
      "Version: 0.9.3\n",
      "Summary: Pure Python MySQL Driver\n",
      "Home-page: https://github.com/PyMySQL/PyMySQL/\n",
      "Author: yutaka.matsubara\n",
      "Author-email: yutaka.matsubara@gmail.com\n",
      "License: \"MIT\"\n",
      "Location: /opt/conda/lib/python3.7/site-packages\n",
      "Requires: \n",
      "Required-by: \n",
      "Note: you may need to restart the kernel to use updated packages.\n"
     ]
    }
   ],
   "source": [
    "pip show pymysql"
   ]
  },
  {
   "cell_type": "code",
   "execution_count": 167,
   "metadata": {},
   "outputs": [
    {
     "name": "stdout",
     "output_type": "stream",
     "text": [
      "Name: pandas\n",
      "Version: 0.25.1\n",
      "Summary: Powerful data structures for data analysis, time series, and statistics\n",
      "Home-page: http://pandas.pydata.org\n",
      "Author: None\n",
      "Author-email: None\n",
      "License: BSD\n",
      "Location: /opt/conda/lib/python3.7/site-packages\n",
      "Requires: numpy, pytz, python-dateutil\n",
      "Required-by: vincent, statsmodels, seaborn, plotnine, mizani\n",
      "Note: you may need to restart the kernel to use updated packages.\n"
     ]
    }
   ],
   "source": [
    "pip show pandas"
   ]
  },
  {
   "cell_type": "code",
   "execution_count": 168,
   "metadata": {},
   "outputs": [
    {
     "name": "stdout",
     "output_type": "stream",
     "text": [
      "Name: SQLAlchemy\n",
      "Version: 1.3.9\n",
      "Summary: Database Abstraction Library\n",
      "Home-page: http://www.sqlalchemy.org\n",
      "Author: Mike Bayer\n",
      "Author-email: mike_mp@zzzcomputing.com\n",
      "License: MIT\n",
      "Location: /opt/conda/lib/python3.7/site-packages\n",
      "Requires: \n",
      "Required-by: Flask-SQLAlchemy\n",
      "Note: you may need to restart the kernel to use updated packages.\n"
     ]
    }
   ],
   "source": [
    "pip show sqlalchemy"
   ]
  },
  {
   "cell_type": "code",
   "execution_count": null,
   "metadata": {},
   "outputs": [],
   "source": []
  }
 ],
 "metadata": {
  "kernelspec": {
   "display_name": "Python 3",
   "language": "python",
   "name": "python3"
  },
  "language_info": {
   "codemirror_mode": {
    "name": "ipython",
    "version": 3
   },
   "file_extension": ".py",
   "mimetype": "text/x-python",
   "name": "python",
   "nbconvert_exporter": "python",
   "pygments_lexer": "ipython3",
   "version": "3.7.4"
  }
 },
 "nbformat": 4,
 "nbformat_minor": 4
}
